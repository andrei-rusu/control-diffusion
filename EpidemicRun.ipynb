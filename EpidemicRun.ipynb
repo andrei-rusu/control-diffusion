{
 "cells": [
  {
   "cell_type": "code",
   "execution_count": 2,
   "id": "fcc3f7a2-9282-4d18-92e2-313d12f05045",
   "metadata": {},
   "outputs": [
    {
     "data": {
      "text/plain": [
       "'16'"
      ]
     },
     "execution_count": 2,
     "metadata": {},
     "output_type": "execute_result"
    }
   ],
   "source": [
    "import os\n",
    "os.environ['SLURM_CPUS_PER_TASK']"
   ]
  },
  {
   "cell_type": "code",
   "execution_count": 6,
   "id": "bc8c6d95",
   "metadata": {},
   "outputs": [],
   "source": [
    "import torch\n",
    "import torch.nn.functional as F\n",
    "def loss_f(y_pred, y, data, **kwargs):\n",
    "    count = y.count_nonzero()\n",
    "    pos_weight = (len(y) - count) / count\n",
    "    weight = data.x[:, 0].detach()\n",
    "    return F.binary_cross_entropy_with_logits(y_pred, y, weight=weight, pos_weight=pos_weight)"
   ]
  },
  {
   "cell_type": "code",
   "execution_count": 7,
   "id": "83b0d235",
   "metadata": {},
   "outputs": [
    {
     "name": "stderr",
     "output_type": "stream",
     "text": [
      "Global seed set to 42\n",
      "GPU available: True, used: True\n",
      "TPU available: False, using: 0 TPU cores\n",
      "IPU available: False, using: 0 IPUs\n"
     ]
    },
    {
     "name": "stdout",
     "output_type": "stream",
     "text": [
      "No pretrained found, training...\n"
     ]
    },
    {
     "name": "stderr",
     "output_type": "stream",
     "text": [
      "LOCAL_RANK: 0 - CUDA_VISIBLE_DEVICES: [0]\n",
      "\n",
      "  | Name  | Type      | Params\n",
      "------------------------------------\n",
      "0 | model | InfoModel | 13.7 K\n",
      "------------------------------------\n",
      "13.7 K    Trainable params\n",
      "0         Non-trainable params\n",
      "13.7 K    Total params\n",
      "0.055     Total estimated model params size (MB)\n"
     ]
    },
    {
     "data": {
      "application/vnd.jupyter.widget-view+json": {
       "model_id": "",
       "version_major": 2,
       "version_minor": 0
      },
      "text/plain": [
       "HBox(children=(FloatProgress(value=1.0, bar_style='info', description='Validation sanity check', layout=Layout…"
      ]
     },
     "metadata": {},
     "output_type": "display_data"
    },
    {
     "name": "stderr",
     "output_type": "stream",
     "text": [
      "E:\\Anaconda\\envs\\graph\\lib\\site-packages\\pytorch_lightning\\trainer\\data_loading.py:105: UserWarning: The dataloader, val dataloader 0, does not have many workers which may be a bottleneck. Consider increasing the value of the `num_workers` argument` (try 8 which is the number of cpus on this machine) in the `DataLoader` init to improve performance.\n",
      "  rank_zero_warn(\n",
      "E:\\Anaconda\\envs\\graph\\lib\\site-packages\\torchmetrics\\utilities\\prints.py:36: UserWarning: No negative samples in targets, false positive value should be meaningless. Returning zero tensor in false positive score\n",
      "  warnings.warn(*args, **kwargs)\n",
      "Global seed set to 42\n",
      "E:\\Anaconda\\envs\\graph\\lib\\site-packages\\pytorch_lightning\\trainer\\data_loading.py:105: UserWarning: The dataloader, train dataloader, does not have many workers which may be a bottleneck. Consider increasing the value of the `num_workers` argument` (try 8 which is the number of cpus on this machine) in the `DataLoader` init to improve performance.\n",
      "  rank_zero_warn(\n",
      "E:\\Anaconda\\envs\\graph\\lib\\site-packages\\pytorch_lightning\\trainer\\data_loading.py:322: UserWarning: The number of training samples (21) is smaller than the logging interval Trainer(log_every_n_steps=50). Set a lower value for log_every_n_steps if you want to see logs for the training epoch.\n",
      "  rank_zero_warn(\n"
     ]
    },
    {
     "data": {
      "application/vnd.jupyter.widget-view+json": {
       "model_id": "97867cb6515a45b0b4ceb22113ca1c78",
       "version_major": 2,
       "version_minor": 0
      },
      "text/plain": [
       "HBox(children=(FloatProgress(value=1.0, bar_style='info', description='Training', layout=Layout(flex='2'), max…"
      ]
     },
     "metadata": {},
     "output_type": "display_data"
    },
    {
     "name": "stdout",
     "output_type": "stream",
     "text": [
      "\n"
     ]
    },
    {
     "name": "stderr",
     "output_type": "stream",
     "text": [
      "LOCAL_RANK: 0 - CUDA_VISIBLE_DEVICES: [0]\n",
      "LOCAL_RANK: 0 - CUDA_VISIBLE_DEVICES: [0]\n",
      "E:\\Anaconda\\envs\\graph\\lib\\site-packages\\pytorch_lightning\\trainer\\data_loading.py:105: UserWarning: The dataloader, test dataloader 0, does not have many workers which may be a bottleneck. Consider increasing the value of the `num_workers` argument` (try 8 which is the number of cpus on this machine) in the `DataLoader` init to improve performance.\n",
      "  rank_zero_warn(\n"
     ]
    },
    {
     "data": {
      "application/vnd.jupyter.widget-view+json": {
       "model_id": "7b5dca01b42e406c9e18a388b1620c3e",
       "version_major": 2,
       "version_minor": 0
      },
      "text/plain": [
       "HBox(children=(FloatProgress(value=1.0, bar_style='info', description='Testing', layout=Layout(flex='2'), max=…"
      ]
     },
     "metadata": {},
     "output_type": "display_data"
    },
    {
     "name": "stdout",
     "output_type": "stream",
     "text": [
      "\n",
      "Train accuracy: 79.59%\n",
      "Val accuracy:   92.59%\n",
      "Test accuracy:  94.07%\n"
     ]
    }
   ],
   "source": [
    "import lib.rank_model as rankers\n",
    "import lib.model as model_factory\n",
    "from lib.model import train_classifier, print_results\n",
    "rel(rankers,model_factory)\n",
    "model, result, trainer = train_classifier(ds, model_name='InfoModel', epochs=40, task='timenode', loader_workers=0, loss=loss_f, lr=1e-4,\n",
    "                                         edge_dim=0, batch_size=32)\n",
    "print_results(result)"
   ]
  },
  {
   "cell_type": "code",
   "execution_count": null,
   "id": "0cdf388c",
   "metadata": {},
   "outputs": [],
   "source": []
  },
  {
   "cell_type": "code",
   "execution_count": null,
   "id": "6bcaf91c",
   "metadata": {},
   "outputs": [],
   "source": []
  },
  {
   "cell_type": "code",
   "execution_count": null,
   "id": "71070875",
   "metadata": {},
   "outputs": [],
   "source": []
  },
  {
   "cell_type": "code",
   "execution_count": null,
   "id": "efffa21f",
   "metadata": {},
   "outputs": [
    {
     "name": "stdout",
     "output_type": "stream",
     "text": [
      "tensor([1, 2])\n"
     ]
    },
    {
     "data": {
      "text/plain": [
       "tensor([-1.0986, -0.6931], dtype=torch.float64)"
      ]
     },
     "execution_count": 159,
     "metadata": {},
     "output_type": "execute_result"
    }
   ],
   "source": [
    "from torch.distributions import Categorical\n",
    "m = Categorical(a)\n",
    "sampl = m.sample(sample_shape=(2,))\n",
    "print(sampl)\n",
    "m.log_prob(sampl)"
   ]
  },
  {
   "cell_type": "code",
   "execution_count": null,
   "id": "146b9afd",
   "metadata": {},
   "outputs": [],
   "source": [
    "import torch\n",
    "import math\n",
    "\n",
    "dtype = torch.float\n",
    "device = torch.device(\"cpu\")\n",
    "# device = torch.device(\"cuda:0\")  # Uncomment this to run on GPU\n",
    "\n",
    "# Create Tensors to hold input and outputs.\n",
    "# By default, requires_grad=False, which indicates that we do not need to\n",
    "# compute gradients with respect to these Tensors during the backward pass.\n",
    "x = torch.linspace(-math.pi, math.pi, 2000, device=device, dtype=dtype)\n",
    "y = torch.sin(x)\n",
    "\n",
    "# Create random Tensors for weights. For a third order polynomial, we need\n",
    "# 4 weights: y = a + b x + c x^2 + d x^3\n",
    "# Setting requires_grad=True indicates that we want to compute gradients with\n",
    "# respect to these Tensors during the backward pass.\n",
    "a = torch.randn((), device=device, dtype=dtype, requires_grad=True)\n",
    "b = torch.randn((), device=device, dtype=dtype, requires_grad=True)\n",
    "c = torch.randn((), device=device, dtype=dtype, requires_grad=True)\n",
    "d = torch.randn((), device=device, dtype=dtype, requires_grad=True)\n",
    "\n",
    "learning_rate = 1e-6\n",
    "for t in range(2000):\n",
    "    # Forward pass: compute predicted y using operations on Tensors.\n",
    "    y_pred = a + b * x + c * x ** 2 + d * x ** 3\n",
    "\n",
    "    # Compute and print loss using operations on Tensors.\n",
    "    # Now loss is a Tensor of shape (1,)\n",
    "    # loss.item() gets the scalar value held in the loss.\n",
    "    loss = (y_pred - y).pow(2).sum()\n",
    "    if t % 100 == 99:\n",
    "        print(t, loss.item())\n",
    "\n",
    "    # Use autograd to compute the backward pass. This call will compute the\n",
    "    # gradient of loss with respect to all Tensors with requires_grad=True.\n",
    "    # After this call a.grad, b.grad. c.grad and d.grad will be Tensors holding\n",
    "    # the gradient of the loss with respect to a, b, c, d respectively.\n",
    "    loss.backward()\n",
    "\n",
    "    # Manually update weights using gradient descent. Wrap in torch.no_grad()\n",
    "    # because weights have requires_grad=True, but we don't need to track this\n",
    "    # in autograd.\n",
    "    with torch.no_grad():\n",
    "        a -= learning_rate * a.grad\n",
    "        b -= learning_rate * b.grad\n",
    "        c -= learning_rate * c.grad\n",
    "        d -= learning_rate * d.grad\n",
    "\n",
    "        # Manually zero the gradients after updating weights\n",
    "        a.grad = None\n",
    "        b.grad = None\n",
    "        c.grad = None\n",
    "        d.grad = None\n",
    "\n",
    "print(f'Result: y = {a.item()} + {b.item()} x + {c.item()} x^2 + {d.item()} x^3')"
   ]
  },
  {
   "cell_type": "code",
   "execution_count": null,
   "id": "d1c2b0e6",
   "metadata": {},
   "outputs": [],
   "source": []
  },
  {
   "cell_type": "code",
   "execution_count": null,
   "id": "040e6a4c-dae9-4dd6-be7b-90526d40c70b",
   "metadata": {},
   "outputs": [],
   "source": []
  },
  {
   "cell_type": "code",
   "execution_count": 55,
   "id": "6f4fd30d-6365-475a-80e9-3b5b10b0e0e5",
   "metadata": {},
   "outputs": [],
   "source": [
    "from torch_geometric.data import Data, Batch\n",
    "from torch_sparse import SparseTensor\n",
    "d1 = Data(x=torch.tensor([1,2,3]), edge_index=torch.tensor([[0,2,0], [1,1,2]]), edge_attr=torch.tensor([2,2]), edge_current=SparseTensor(row=torch.tensor([1,1,0]), col=torch.tensor([2,0,2]), sparse_sizes=(3,3)))\n",
    "d2 = Data(x=torch.tensor([4,5,3]), edge_index=torch.tensor([[0,0], [1,1]]), edge_attr=torch.tensor([2,2]), edge_current=SparseTensor(row=torch.tensor([2,1]), col=torch.tensor([0,0]), sparse_sizes=(3,3)))\n",
    "b = Batch.from_data_list((d1,d2))"
   ]
  },
  {
   "cell_type": "code",
   "execution_count": 67,
   "id": "41a9346c-584c-445d-8723-a6b6339eb644",
   "metadata": {},
   "outputs": [],
   "source": [
    "from torch_geometric.data import Data, Batch\n",
    "from torch_sparse import SparseTensor\n",
    "d1 = Data(x=torch.tensor([1,2,3]), edge_index=(torch.tensor([[0,2], [1,1]]), torch.tensor([[1,1,0], [2,0,2]])), edge_current=torch.tensor([[1,1,0], [2,0,2]]).T)\n",
    "d2 = Data(x=torch.tensor([4,5,3]), edge_index=(torch.tensor([[0,0], [1,1]]), torch.tensor([[2,1], [0,0]])), edge_current=torch.tensor([[2,1], [0,0]]).T)\n",
    "b = Batch.from_data_list((d1,d2))"
   ]
  },
  {
   "cell_type": "code",
   "execution_count": 68,
   "id": "4251b534-a4d0-45da-a7ba-72459ee2e155",
   "metadata": {},
   "outputs": [
    {
     "data": {
      "text/plain": [
       "[tensor([[0, 2, 3, 3],\n",
       "         [1, 1, 4, 4]]),\n",
       " tensor([[1, 1, 0, 5, 4],\n",
       "         [2, 0, 2, 3, 3]])]"
      ]
     },
     "execution_count": 68,
     "metadata": {},
     "output_type": "execute_result"
    }
   ],
   "source": [
    "b.edge_index"
   ]
  },
  {
   "cell_type": "code",
   "execution_count": null,
   "id": "3966f384-7663-4667-990a-2e39485e19f7",
   "metadata": {},
   "outputs": [],
   "source": []
  },
  {
   "cell_type": "code",
   "execution_count": null,
   "id": "04f9adcc-adee-457d-a8d2-c2dbfa2d45dd",
   "metadata": {},
   "outputs": [],
   "source": []
  },
  {
   "cell_type": "code",
   "execution_count": null,
   "id": "691a059f-ca8f-4c91-a869-6ac70b1d6bee",
   "metadata": {},
   "outputs": [],
   "source": []
  },
  {
   "cell_type": "code",
   "execution_count": 298,
   "id": "1504a90e-264f-4c15-8981-1d5a4deaa087",
   "metadata": {},
   "outputs": [
    {
     "name": "stdout",
     "output_type": "stream",
     "text": [
      "-----------------------------------------------------------------------------------------------------------\n",
      "                Parent Layers       Layer (type)               Output Shape         Param #     Tr. Param #\n",
      "===========================================================================================================\n",
      "   EnsembleModel/RankingModel        InfoModel-1     [1000, 64], [1000, 64]           2,050           2,050\n",
      "   EnsembleModel/RankingModel        InfoModel-2     [1000, 64], [1000, 64]          35,119          35,119\n",
      "   EnsembleModel/RankingModel              MLP-3                 [1000, 64]          17,344          17,344\n",
      "   EnsembleModel/RankingModel              MLP-4                  [1000, 1]           9,153           9,153\n",
      "   EnsembleModel/RankingModel              MLP-5                     [1, 1]           9,153           9,153\n",
      "   EnsembleModel/RankingModel        InfoModel-6     [1000, 64], [1000, 64]           2,050           2,050\n",
      "   EnsembleModel/RankingModel        InfoModel-7     [1000, 64], [1000, 64]          35,119          35,119\n",
      "   EnsembleModel/RankingModel              MLP-8                 [1000, 64]          17,344          17,344\n",
      "   EnsembleModel/RankingModel              MLP-9                  [1000, 1]           9,153           9,153\n",
      "   EnsembleModel/RankingModel             MLP-10                     [1, 1]           9,153           9,153\n",
      "   EnsembleModel/RankingModel       InfoModel-11     [1000, 64], [1000, 64]           2,050           2,050\n",
      "   EnsembleModel/RankingModel       InfoModel-12     [1000, 64], [1000, 64]          35,119          35,119\n",
      "   EnsembleModel/RankingModel             MLP-13                 [1000, 64]          17,344          17,344\n",
      "   EnsembleModel/RankingModel             MLP-14                  [1000, 1]           9,153           9,153\n",
      "   EnsembleModel/RankingModel             MLP-15                     [1, 1]           9,153           9,153\n",
      "===========================================================================================================\n",
      "Total params: 218,457\n",
      "Trainable params: 218,457\n",
      "Non-trainable params: 0\n",
      "-----------------------------------------------------------------------------------------------------------\n"
     ]
    }
   ],
   "source": [
    "import copy\n",
    "x = torch.zeros(1000, input_features, device=model.device)\n",
    "edge_index = torch.zeros(2, 50, dtype=torch.long, device=model.device)\n",
    "edge_attr = torch.zeros(50, 2, device=model.device)\n",
    "batch_idx = torch.zeros(len(x), dtype=int, device=model.device)\n",
    "\n",
    "from pytorch_model_summary import summary\n",
    "s = summary(copy.deepcopy(model), x, edge_index, edge_attr, (edge_index, edge_attr), batch_idx, max_depth=2, print_summary=1, show_parent_layers=1)"
   ]
  },
  {
   "cell_type": "code",
   "execution_count": 351,
   "id": "2f146406-584e-495c-a0ea-f7968b2e90e3",
   "metadata": {},
   "outputs": [
    {
     "data": {
      "text/plain": [
       "====================================================================================================\n",
       "Layer (type:depth-idx)                             Output Shape              Param #\n",
       "====================================================================================================\n",
       "EnsembleModel                                      --                        --\n",
       "├─ModuleList: 1-1                                  --                        218,460\n",
       "====================================================================================================\n",
       "Total params: 218,460\n",
       "Trainable params: 218,460\n",
       "Non-trainable params: 0\n",
       "Total mult-adds (M): 0.00\n",
       "====================================================================================================\n",
       "Input size (MB): 0.06\n",
       "Forward/backward pass size (MB): 0.00\n",
       "Params size (MB): 0.87\n",
       "Estimated Total Size (MB): 0.94\n",
       "===================================================================================================="
      ]
     },
     "execution_count": 351,
     "metadata": {},
     "output_type": "execute_result"
    }
   ],
   "source": [
    "from torchinfo import summary\n",
    "s = summary(copy.deepcopy(model), input_data=(x, edge_index, edge_attr, (edge_index, edge_attr), batch_idx), depth=1)\n",
    "s"
   ]
  },
  {
   "cell_type": "code",
   "execution_count": null,
   "id": "b7460593-bdae-4192-834c-928506403afb",
   "metadata": {},
   "outputs": [],
   "source": []
  },
  {
   "cell_type": "code",
   "execution_count": null,
   "id": "a5da88b5-a63a-4e9d-ad80-93010255e1f5",
   "metadata": {},
   "outputs": [],
   "source": []
  },
  {
   "cell_type": "code",
   "execution_count": 374,
   "id": "9e505c46-815b-42ad-a2b7-3edac0419a14",
   "metadata": {},
   "outputs": [
    {
     "name": "stdout",
     "output_type": "stream",
     "text": [
      "---------------------------------------------------------------------------------------\n",
      "   Parent Layers       Layer (type)        Output Shape         Param #     Tr. Param #\n",
      "=======================================================================================\n",
      "           Model           Linear-1           [1000, 1]               3               3\n",
      "           Model           Inside-2           [1000, 1]               3               3\n",
      "=======================================================================================\n",
      "Total params: 6\n",
      "Trainable params: 6\n",
      "Non-trainable params: 0\n",
      "---------------------------------------------------------------------------------------\n"
     ]
    }
   ],
   "source": [
    "from pytorch_model_summary import summary\n",
    "s = summary(Model(x.shape[-1]), x, max_depth=1, print_summary=1, show_parent_layers=1)"
   ]
  },
  {
   "cell_type": "code",
   "execution_count": 387,
   "id": "5ca38bff-7bfb-457e-8197-df637dec8df7",
   "metadata": {},
   "outputs": [],
   "source": []
  },
  {
   "cell_type": "code",
   "execution_count": null,
   "id": "79835300-ab23-4bf1-afdf-c9f579d46793",
   "metadata": {},
   "outputs": [],
   "source": []
  },
  {
   "cell_type": "code",
   "execution_count": 66,
   "id": "4397966b-b154-4021-9eb8-71b84e67e444",
   "metadata": {},
   "outputs": [
    {
     "name": "stdout",
     "output_type": "stream",
     "text": [
      "Instantiating new model. Manually init weights... lr=0.0001...\n",
      "Learning with online=1: True\n",
      "                                                                     \n",
      "Running iteration 0 with eps = 0.5:\n",
      "---> Result: 712 total infected over time. %healthy = 0.288          \n",
      "Iterations simulation progress: 100%|██████████| 1/1 [00:12<00:00, 12.94s/it]\n",
      "                                                                     \n",
      "Running iteration 0 with eps = 0.495:\n",
      "---> Result: 630 total infected over time. %healthy = 0.37           \n",
      "Iterations simulation progress: 100%|██████████| 1/1 [00:15<00:00, 15.32s/it]\n",
      "                                                                     \n",
      "Running iteration 0 with eps = 0.49005:\n",
      "---> Result: 612 total infected over time. %healthy = 0.388          \n",
      "Iterations simulation progress: 100%|██████████| 1/1 [00:15<00:00, 15.36s/it]\n",
      "                                                                     \n",
      "Running iteration 0 with eps = 0.48515:\n",
      "---> Result: 588 total infected over time. %healthy = 0.412          \n",
      "Iterations simulation progress: 100%|██████████| 1/1 [00:16<00:00, 16.19s/it]\n",
      "                                                                     \n",
      "Running iteration 0 with eps = 0.4803:\n",
      "---> Result: 564 total infected over time. %healthy = 0.436          \n",
      "Iterations simulation progress: 100%|██████████| 1/1 [00:13<00:00, 13.12s/it]\n",
      "                                                                     \n",
      "Running iteration 0 with eps = 0.4755:\n",
      "Changing target model...                                             \n",
      "---> Result: 600 total infected over time. %healthy = 0.4            \n",
      "Iterations simulation progress: 100%|██████████| 1/1 [00:16<00:00, 16.29s/it]\n",
      "                                                                     \n",
      "Running iteration 0 with eps = 0.47074:\n",
      "---> Result: 540 total infected over time. %healthy = 0.46           \n",
      "Iterations simulation progress: 100%|██████████| 1/1 [00:14<00:00, 14.67s/it]\n",
      "                                                                     \n",
      "Running iteration 0 with eps = 0.46603:\n",
      "---> Result: 563 total infected over time. %healthy = 0.437          \n",
      "Iterations simulation progress: 100%|██████████| 1/1 [00:13<00:00, 13.90s/it]\n",
      "                                                                     \n",
      "Running iteration 0 with eps = 0.46137:\n",
      "---> Result: 535 total infected over time. %healthy = 0.465          \n",
      "Iterations simulation progress: 100%|██████████| 1/1 [00:12<00:00, 12.06s/it]\n",
      "                                                                     \n",
      "Running iteration 0 with eps = 0.45676:\n",
      "---> Result: 588 total infected over time. %healthy = 0.412          \n",
      "Iterations simulation progress: 100%|██████████| 1/1 [00:13<00:00, 13.84s/it]\n",
      "                                                                     \n",
      "Running iteration 0 with eps = 0.45219:\n",
      "Changing target model...                                             \n",
      "---> Result: 550 total infected over time. %healthy = 0.45           \n",
      "Iterations simulation progress: 100%|██████████| 1/1 [00:14<00:00, 14.52s/it]\n",
      "                                                                     \n",
      "Running iteration 0 with eps = 0.44767:\n",
      "---> Result: 607 total infected over time. %healthy = 0.393          \n",
      "Iterations simulation progress: 100%|██████████| 1/1 [00:14<00:00, 14.22s/it]\n",
      "                                                                     \n",
      "Running iteration 0 with eps = 0.44319:\n",
      "---> Result: 587 total infected over time. %healthy = 0.413          \n",
      "Iterations simulation progress: 100%|██████████| 1/1 [00:14<00:00, 14.86s/it]\n",
      "                                                                     \n",
      "Running iteration 0 with eps = 0.43876:\n",
      "---> Result: 580 total infected over time. %healthy = 0.42           \n",
      "Iterations simulation progress: 100%|██████████| 1/1 [00:14<00:00, 14.40s/it]\n",
      "                                                                     \n",
      "Running iteration 0 with eps = 0.43437:\n",
      "---> Result: 567 total infected over time. %healthy = 0.433          \n",
      "Iterations simulation progress: 100%|██████████| 1/1 [00:14<00:00, 14.73s/it]\n",
      "                                                                     \n",
      "Running iteration 0 with eps = 0.43003:\n",
      "Changing target model...                                             \n",
      "---> Result: 585 total infected over time. %healthy = 0.415          \n",
      "Iterations simulation progress: 100%|██████████| 1/1 [00:12<00:00, 12.91s/it]\n",
      "                                                                     \n",
      "Running iteration 0 with eps = 0.42573:\n",
      "---> Result: 580 total infected over time. %healthy = 0.42           \n",
      "Iterations simulation progress: 100%|██████████| 1/1 [00:13<00:00, 13.67s/it]\n",
      "                                                                     \n",
      "Running iteration 0 with eps = 0.42147:\n",
      "---> Result: 585 total infected over time. %healthy = 0.415          \n",
      "Iterations simulation progress: 100%|██████████| 1/1 [00:13<00:00, 13.82s/it]\n",
      "                                                                     \n",
      "Running iteration 0 with eps = 0.41726:\n",
      "---> Result: 583 total infected over time. %healthy = 0.417          \n",
      "Iterations simulation progress: 100%|██████████| 1/1 [00:14<00:00, 14.34s/it]\n",
      "                                                                     \n",
      "Running iteration 0 with eps = 0.41308:\n",
      "---> Result: 593 total infected over time. %healthy = 0.407          \n",
      "Iterations simulation progress: 100%|██████████| 1/1 [00:15<00:00, 15.65s/it]\n",
      "                                                                     \n",
      "Running iteration 0 with eps = 0.40895:\n",
      "Changing target model...                                             \n",
      "---> Result: 583 total infected over time. %healthy = 0.417          \n",
      "Iterations simulation progress: 100%|██████████| 1/1 [00:14<00:00, 14.43s/it]\n",
      "                                                                     \n",
      "Running iteration 0 with eps = 0.40486:\n",
      "---> Result: 581 total infected over time. %healthy = 0.419          \n",
      "Iterations simulation progress: 100%|██████████| 1/1 [00:14<00:00, 14.74s/it]\n",
      "                                                                     \n",
      "Running iteration 0 with eps = 0.40082:\n",
      "---> Result: 589 total infected over time. %healthy = 0.411          \n",
      "Iterations simulation progress: 100%|██████████| 1/1 [00:13<00:00, 13.49s/it]\n",
      "                                                                     \n",
      "Running iteration 0 with eps = 0.39681:\n",
      "---> Result: 571 total infected over time. %healthy = 0.429          \n",
      "Iterations simulation progress: 100%|██████████| 1/1 [00:13<00:00, 13.80s/it]\n",
      "                                                                     \n",
      "Running iteration 0 with eps = 0.39284:\n",
      "Iterations simulation progress:   0%|          | 0/1 [00:05<?, ?it/s]\n"
     ]
    },
    {
     "ename": "KeyboardInterrupt",
     "evalue": "",
     "output_type": "error",
     "traceback": [
      "\u001b[0;31m---------------------------------------------------------------------------\u001b[0m",
      "\u001b[0;31mKeyboardInterrupt\u001b[0m                         Traceback (most recent call last)",
      "Input \u001b[0;32mIn [66]\u001b[0m, in \u001b[0;36m<cell line: 172>\u001b[0;34m()\u001b[0m\n\u001b[1;32m    184\u001b[0m     \u001b[38;5;28mprint\u001b[39m(\u001b[38;5;124m'\u001b[39m\u001b[38;5;132;01m%he\u001b[39;00m\u001b[38;5;124malthy: \u001b[39m\u001b[38;5;124m'\u001b[39m, st[key][\u001b[38;5;124m'\u001b[39m\u001b[38;5;124maverage-\u001b[39m\u001b[38;5;132;01m%he\u001b[39;00m\u001b[38;5;124malthy\u001b[39m\u001b[38;5;124m'\u001b[39m][\u001b[38;5;124m'\u001b[39m\u001b[38;5;124mmean\u001b[39m\u001b[38;5;124m'\u001b[39m], \u001b[38;5;124m'\u001b[39m\u001b[38;5;124m±\u001b[39m\u001b[38;5;124m'\u001b[39m, st[key][\u001b[38;5;124m'\u001b[39m\u001b[38;5;124maverage-\u001b[39m\u001b[38;5;132;01m%he\u001b[39;00m\u001b[38;5;124malthy\u001b[39m\u001b[38;5;124m'\u001b[39m][\u001b[38;5;124m'\u001b[39m\u001b[38;5;124mstd\u001b[39m\u001b[38;5;124m'\u001b[39m])\n\u001b[1;32m    185\u001b[0m \u001b[38;5;28;01mexcept\u001b[39;00m (\u001b[38;5;167;01mException\u001b[39;00m, \u001b[38;5;167;01mBaseException\u001b[39;00m) \u001b[38;5;28;01mas\u001b[39;00m e:\n\u001b[1;32m    186\u001b[0m     \u001b[38;5;66;03m# torch.cuda.empty_cache()\u001b[39;00m\n\u001b[0;32m--> 187\u001b[0m     \u001b[38;5;28;01mraise\u001b[39;00m e\n\u001b[1;32m    188\u001b[0m \u001b[38;5;28;01mfinally\u001b[39;00m:\n\u001b[1;32m    189\u001b[0m     \u001b[38;5;28;01mif\u001b[39;00m error_del_model:\n",
      "Input \u001b[0;32mIn [66]\u001b[0m, in \u001b[0;36m<cell line: 172>\u001b[0;34m()\u001b[0m\n\u001b[1;32m    170\u001b[0m extra \u001b[38;5;241m=\u001b[39m [\u001b[38;5;241m0\u001b[39m]\n\u001b[1;32m    172\u001b[0m \u001b[38;5;28;01mtry\u001b[39;00m:\n\u001b[0;32m--> 173\u001b[0m     st, extra \u001b[38;5;241m=\u001b[39m \u001b[43mrun\u001b[49m\u001b[38;5;241;43m.\u001b[39;49m\u001b[43mrun_mock\u001b[49m\u001b[43m(\u001b[49m\u001b[43magent\u001b[49m\u001b[38;5;241;43m=\u001b[39;49m\u001b[43mag\u001b[49m\u001b[43m,\u001b[49m\u001b[43m \u001b[49m\u001b[43mcontrol_after\u001b[49m\u001b[38;5;241;43m=\u001b[39;49m\u001b[38;5;241;43m5\u001b[39;49m\u001b[43m,\u001b[49m\u001b[43m \u001b[49m\u001b[43mcontrol_after_inf\u001b[49m\u001b[38;5;241;43m=\u001b[39;49m\u001b[38;5;241;43m.05\u001b[39;49m\u001b[43m,\u001b[49m\u001b[43m \u001b[49m\u001b[43mcontrol_initial_known\u001b[49m\u001b[38;5;241;43m=\u001b[39;49m\u001b[38;5;241;43m.25\u001b[39;49m\u001b[43m,\u001b[49m\u001b[43m \u001b[49m\u001b[43mcontrol_gpu\u001b[49m\u001b[38;5;241;43m=\u001b[39;49m\u001b[38;5;241;43m1\u001b[39;49m\u001b[43m,\u001b[49m\n\u001b[1;32m    174\u001b[0m \u001b[43m                                \u001b[49m\u001b[43mfirst_inf\u001b[49m\u001b[38;5;241;43m=\u001b[39;49m\u001b[38;5;241;43m5\u001b[39;49m\u001b[43m,\u001b[49m\u001b[43m \u001b[49m\u001b[43mpresample\u001b[49m\u001b[38;5;241;43m=\u001b[39;49m\u001b[38;5;241;43m10000\u001b[39;49m\u001b[43m,\u001b[49m\u001b[43m \u001b[49m\u001b[43mpa\u001b[49m\u001b[38;5;241;43m=\u001b[39;49m\u001b[38;5;241;43m.2\u001b[39;49m\u001b[43m,\u001b[49m\u001b[43m \u001b[49m\u001b[43mtaur\u001b[49m\u001b[38;5;241;43m=\u001b[39;49m\u001b[38;5;241;43m0\u001b[39;49m\u001b[43m,\u001b[49m\u001b[43m \u001b[49m\u001b[43mtaut\u001b[49m\u001b[38;5;241;43m=\u001b[39;49m\u001b[43meps\u001b[49m\u001b[43m,\u001b[49m\u001b[43m \u001b[49m\u001b[43mupdate_after\u001b[49m\u001b[38;5;241;43m=\u001b[39;49m\u001b[38;5;241;43m1\u001b[39;49m\u001b[43m,\u001b[49m\u001b[43m \u001b[49m\u001b[43medge_sample_size\u001b[49m\u001b[38;5;241;43m=\u001b[39;49m\u001b[43m[\u001b[49m\u001b[38;5;241;43m.8\u001b[39;49m\u001b[43m]\u001b[49m\u001b[43m,\u001b[49m\u001b[43m \u001b[49m\u001b[43mreindex\u001b[49m\u001b[38;5;241;43m=\u001b[39;49m\u001b[38;5;28;43;01mFalse\u001b[39;49;00m\u001b[43m,\u001b[49m\n\u001b[1;32m    175\u001b[0m \u001b[43m                                \u001b[49m\u001b[43mnettype\u001b[49m\u001b[38;5;241;43m=\u001b[39;49m\u001b[38;5;124;43m'\u001b[39;49m\u001b[38;5;124;43mbarabasi:5:1\u001b[39;49m\u001b[38;5;124;43m'\u001b[39;49m\u001b[43m,\u001b[49m\u001b[43m \u001b[49m\u001b[43mnetsize\u001b[49m\u001b[38;5;241;43m=\u001b[39;49m\u001b[38;5;241;43m1000\u001b[39;49m\u001b[43m,\u001b[49m\u001b[43m \u001b[49m\u001b[43mk\u001b[49m\u001b[38;5;241;43m=\u001b[39;49m\u001b[38;5;241;43m2.8\u001b[39;49m\u001b[43m,\u001b[49m\u001b[43m \u001b[49m\u001b[43mp\u001b[49m\u001b[38;5;241;43m=\u001b[39;49m\u001b[38;5;241;43m.1\u001b[39;49m\u001b[43m,\u001b[49m\u001b[43m \u001b[49m\u001b[43mrem_orphans\u001b[49m\u001b[38;5;241;43m=\u001b[39;49m\u001b[38;5;28;43;01mFalse\u001b[39;49;00m\u001b[43m,\u001b[49m\u001b[43m \u001b[49m\u001b[43muse_weights\u001b[49m\u001b[38;5;241;43m=\u001b[39;49m\u001b[38;5;28;43;01mTrue\u001b[39;49;00m\u001b[43m,\u001b[49m\u001b[43m \u001b[49m\u001b[43mdual\u001b[49m\u001b[38;5;241;43m=\u001b[39;49m\u001b[38;5;241;43m0\u001b[39;49m\u001b[43m,\u001b[49m\n\u001b[1;32m    176\u001b[0m \u001b[43m                                \u001b[49m\u001b[43mseed\u001b[49m\u001b[38;5;241;43m=\u001b[39;49m\u001b[38;5;241;43m21\u001b[39;49m\u001b[43m,\u001b[49m\u001b[43m \u001b[49m\u001b[43mnetseed\u001b[49m\u001b[38;5;241;43m=\u001b[39;49m\u001b[38;5;241;43m26\u001b[39;49m\u001b[43m,\u001b[49m\u001b[43m \u001b[49m\u001b[43minfseed\u001b[49m\u001b[38;5;241;43m=\u001b[39;49m\u001b[38;5;241;43m-\u001b[39;49m\u001b[38;5;241;43m1\u001b[39;49m\u001b[43m,\u001b[49m\u001b[43m \u001b[49m\u001b[43mmodel\u001b[49m\u001b[38;5;241;43m=\u001b[39;49m\u001b[38;5;124;43m'\u001b[39;49m\u001b[38;5;124;43mseir\u001b[39;49m\u001b[38;5;124;43m'\u001b[39;49m\u001b[43m,\u001b[49m\u001b[43m \u001b[49m\u001b[43mspontan\u001b[49m\u001b[38;5;241;43m=\u001b[39;49m\u001b[38;5;28;43;01mFalse\u001b[39;49;00m\u001b[43m,\u001b[49m\u001b[43m \u001b[49m\u001b[43msampling_type\u001b[49m\u001b[38;5;241;43m=\u001b[39;49m\u001b[38;5;124;43m'\u001b[39;49m\u001b[38;5;124;43mmin\u001b[39;49m\u001b[38;5;124;43m'\u001b[39;49m\u001b[43m,\u001b[49m\n\u001b[1;32m    177\u001b[0m \u001b[43m                                \u001b[49m\u001b[43mmultip\u001b[49m\u001b[38;5;241;43m=\u001b[39;49m\u001b[38;5;241;43m0\u001b[39;49m\u001b[43m,\u001b[49m\u001b[43m \u001b[49m\u001b[43mnnets\u001b[49m\u001b[38;5;241;43m=\u001b[39;49m\u001b[38;5;241;43m1\u001b[39;49m\u001b[43m,\u001b[49m\u001b[43m \u001b[49m\u001b[43mniters\u001b[49m\u001b[38;5;241;43m=\u001b[39;49m\u001b[38;5;241;43m1\u001b[39;49m\u001b[43m,\u001b[49m\u001b[43m \u001b[49m\u001b[43mnevents\u001b[49m\u001b[38;5;241;43m=\u001b[39;49m\u001b[38;5;241;43m0\u001b[39;49m\u001b[43m,\u001b[49m\u001b[43m \u001b[49m\u001b[43mnoncomp\u001b[49m\u001b[38;5;241;43m=\u001b[39;49m\u001b[38;5;241;43m0\u001b[39;49m\u001b[43m,\u001b[49m\u001b[43m \u001b[49m\u001b[43mnoncomp_after\u001b[49m\u001b[38;5;241;43m=\u001b[39;49m\u001b[38;5;241;43m10000\u001b[39;49m\u001b[43m,\u001b[49m\n\u001b[1;32m    178\u001b[0m \u001b[43m                                \u001b[49m\u001b[43mdraw\u001b[49m\u001b[38;5;241;43m=\u001b[39;49m\u001b[38;5;241;43m0\u001b[39;49m\u001b[43m,\u001b[49m\u001b[43m \u001b[49m\u001b[43mdraw_iter\u001b[49m\u001b[38;5;241;43m=\u001b[39;49m\u001b[38;5;241;43m0\u001b[39;49m\u001b[43m,\u001b[49m\u001b[43m \u001b[49m\u001b[43manimate\u001b[49m\u001b[38;5;241;43m=\u001b[39;49m\u001b[38;5;241;43m0\u001b[39;49m\u001b[43m,\u001b[49m\u001b[43m \u001b[49m\u001b[43mdraw_fullname\u001b[49m\u001b[38;5;241;43m=\u001b[39;49m\u001b[38;5;28;43;01mTrue\u001b[39;49;00m\u001b[43m,\u001b[49m\u001b[43m \u001b[49m\u001b[43mdraw_layout\u001b[49m\u001b[38;5;241;43m=\u001b[39;49m\u001b[38;5;124;43m'\u001b[39;49m\u001b[38;5;124;43mcircular\u001b[39;49m\u001b[38;5;124;43m'\u001b[39;49m\u001b[43m,\u001b[49m\n\u001b[1;32m    179\u001b[0m \u001b[43m                                \u001b[49m\u001b[43msummary_print\u001b[49m\u001b[38;5;241;43m=\u001b[39;49m\u001b[38;5;241;43m0\u001b[39;49m\u001b[43m,\u001b[49m\u001b[43m \u001b[49m\u001b[43msummary_splits\u001b[49m\u001b[38;5;241;43m=\u001b[39;49m\u001b[38;5;241;43m20\u001b[39;49m\u001b[43m,\u001b[49m\u001b[43m \u001b[49m\u001b[43mavg_without_earlystop\u001b[49m\u001b[38;5;241;43m=\u001b[39;49m\u001b[38;5;28;43;01mTrue\u001b[39;49;00m\u001b[43m)\u001b[49m\n\u001b[1;32m    180\u001b[0m     \u001b[38;5;66;03m# here the key for inspecting results is either 'res' (For one episode) or the latest epsilon (For multiple episodes)\u001b[39;00m\n\u001b[1;32m    181\u001b[0m     key \u001b[38;5;241m=\u001b[39m \u001b[38;5;124m'\u001b[39m\u001b[38;5;124mres\u001b[39m\u001b[38;5;124m'\u001b[39m \u001b[38;5;28;01mif\u001b[39;00m \u001b[38;5;124m'\u001b[39m\u001b[38;5;124mres\u001b[39m\u001b[38;5;124m'\u001b[39m \u001b[38;5;129;01min\u001b[39;00m st \u001b[38;5;28;01melse\u001b[39;00m eps[\u001b[38;5;241m-\u001b[39m\u001b[38;5;241m1\u001b[39m \u001b[38;5;28;01mif\u001b[39;00m is_learning \u001b[38;5;28;01melse\u001b[39;00m \u001b[38;5;241m0\u001b[39m]\n",
      "File \u001b[0;32m/mainfs/home/ar5g15/control-diffusion/lib/run_tracing.py:468\u001b[0m, in \u001b[0;36mrun_mock\u001b[0;34m(**kwargs)\u001b[0m\n\u001b[1;32m    465\u001b[0m \u001b[38;5;28;01mfor\u001b[39;00m k \u001b[38;5;129;01min\u001b[39;00m PARAMETER_DEFAULTS\u001b[38;5;241m.\u001b[39mkeys():\n\u001b[1;32m    466\u001b[0m     \u001b[38;5;28mvars\u001b[39m(argmock)[k] \u001b[38;5;241m=\u001b[39m kwargs\u001b[38;5;241m.\u001b[39mget(k, PARAMETER_DEFAULTS[k])\n\u001b[0;32m--> 468\u001b[0m \u001b[38;5;28;01mreturn\u001b[39;00m \u001b[43mmain\u001b[49m\u001b[43m(\u001b[49m\u001b[43margmock\u001b[49m\u001b[43m)\u001b[49m\n",
      "File \u001b[0;32m/mainfs/home/ar5g15/control-diffusion/lib/run_tracing.py:442\u001b[0m, in \u001b[0;36mmain\u001b[0;34m(args)\u001b[0m\n\u001b[1;32m    438\u001b[0m     \u001b[38;5;28mprint\u001b[39m(\u001b[38;5;124m'\u001b[39m\u001b[38;5;124m----- Simulating network no.\u001b[39m\u001b[38;5;124m'\u001b[39m, inet, \u001b[38;5;124m'\u001b[39m\u001b[38;5;124m-----\u001b[39m\u001b[38;5;124m'\u001b[39m)\n\u001b[1;32m    440\u001b[0m \u001b[38;5;66;03m# Run simulation, and since no distribution required, return the last networks for inspection purposes\u001b[39;00m\n\u001b[1;32m    441\u001b[0m \u001b[38;5;66;03m# extra_return will be a tuple of true_net, know_net\u001b[39;00m\n\u001b[0;32m--> 442\u001b[0m net_events, true_and_know_nets \u001b[38;5;241m=\u001b[39m \u001b[43mengine\u001b[49m\u001b[43m(\u001b[49m\u001b[43minet\u001b[49m\u001b[43m,\u001b[49m\u001b[43m \u001b[49m\u001b[43mreturn_last_net\u001b[49m\u001b[38;5;241;43m=\u001b[39;49m\u001b[38;5;28;43;01mTrue\u001b[39;49;00m\u001b[43m)\u001b[49m\n\u001b[1;32m    444\u001b[0m \u001b[38;5;66;03m# Record sim results\u001b[39;00m\n\u001b[1;32m    445\u001b[0m stats\u001b[38;5;241m.\u001b[39msim_summary[inet] \u001b[38;5;241m=\u001b[39m net_events\n",
      "File \u001b[0;32m/mainfs/home/ar5g15/control-diffusion/lib/tracing/multirun_engine.py:182\u001b[0m, in \u001b[0;36mEngineNet.__call__\u001b[0;34m(self, inet, return_last_net)\u001b[0m\n\u001b[1;32m    179\u001b[0m     engine\u001b[38;5;241m.\u001b[39mreinit_net(first_inf_nodes)\n\u001b[1;32m    181\u001b[0m \u001b[38;5;66;03m# Run simulation\u001b[39;00m\n\u001b[0;32m--> 182\u001b[0m stats_events \u001b[38;5;241m=\u001b[39m \u001b[43mengine\u001b[49m\u001b[43m(\u001b[49m\u001b[43mitr\u001b[49m\u001b[43m)\u001b[49m\n\u001b[1;32m    183\u001b[0m \u001b[38;5;66;03m# Record sim results\u001b[39;00m\n\u001b[1;32m    184\u001b[0m net_events[itr] \u001b[38;5;241m=\u001b[39m stats_events\n",
      "File \u001b[0;32m/mainfs/home/ar5g15/control-diffusion/lib/tracing/multirun_engine.py:821\u001b[0m, in \u001b[0;36mEngineOne.__call__\u001b[0;34m(self, itr)\u001b[0m\n\u001b[1;32m    817\u001b[0m \u001b[38;5;28;01melse\u001b[39;00m:\n\u001b[1;32m    818\u001b[0m     \u001b[38;5;66;03m# in the first iteration, we also assume some knowledge about the infection statuses exists\u001b[39;00m\n\u001b[1;32m    819\u001b[0m     \u001b[38;5;66;03m# this knowledge is controlled by args.initial_known\u001b[39;00m\n\u001b[1;32m    820\u001b[0m     initial_known_ids \u001b[38;5;241m=\u001b[39m np\u001b[38;5;241m.\u001b[39mwhere(true_net\u001b[38;5;241m.\u001b[39mnode_infected)[\u001b[38;5;241m0\u001b[39m][:initial_known] \u001b[38;5;28;01mif\u001b[39;00m control_iter \u001b[38;5;241m==\u001b[39m \u001b[38;5;241m0\u001b[39m \u001b[38;5;28;01melse\u001b[39;00m ()\n\u001b[0;32m--> 821\u001b[0m     pos, traced \u001b[38;5;241m=\u001b[39m \u001b[43magent\u001b[49m\u001b[38;5;241;43m.\u001b[39;49m\u001b[43mcontrol\u001b[49m\u001b[43m(\u001b[49m\u001b[43mtrue_net\u001b[49m\u001b[43m,\u001b[49m\u001b[43m \u001b[49m\u001b[43mcontrol_iter\u001b[49m\u001b[43m,\u001b[49m\u001b[43m \u001b[49m\u001b[43minitial_known_ids\u001b[49m\u001b[43m,\u001b[49m\u001b[43m \u001b[49m\u001b[43mnet_changed\u001b[49m\u001b[43m)\u001b[49m\n\u001b[1;32m    822\u001b[0m     isolated \u001b[38;5;241m=\u001b[39m \u001b[38;5;28mlen\u001b[39m(pos) \u001b[38;5;241m+\u001b[39m \u001b[38;5;28mlen\u001b[39m(traced)\n\u001b[1;32m    823\u001b[0m     m[\u001b[38;5;124m'\u001b[39m\u001b[38;5;124mtotalTraced\u001b[39m\u001b[38;5;124m'\u001b[39m] \u001b[38;5;241m+\u001b[39m\u001b[38;5;241m=\u001b[39m isolated\n",
      "File \u001b[0;32m/mainfs/home/ar5g15/control-diffusion/lib/agent.py:230\u001b[0m, in \u001b[0;36mAgent.control\u001b[0;34m(self, net, control_iter, initial_known_ids, net_changed)\u001b[0m\n\u001b[1;32m    227\u001b[0m                             known_inf_neigh[k_nbr][k \u001b[38;5;241m-\u001b[39m \u001b[38;5;241m1\u001b[39m] \u001b[38;5;241m+\u001b[39m\u001b[38;5;241m=\u001b[39m \u001b[38;5;241m1\u001b[39m\n\u001b[1;32m    229\u001b[0m \u001b[38;5;66;03m# test only people that have not been tested negative recently\u001b[39;00m\n\u001b[0;32m--> 230\u001b[0m tested \u001b[38;5;241m=\u001b[39m \u001b[38;5;28;43mself\u001b[39;49m\u001b[38;5;241;43m.\u001b[39;49m\u001b[43mtester\u001b[49m\u001b[43m(\u001b[49m\u001b[43mnet\u001b[49m\u001b[43m,\u001b[49m\u001b[43m \u001b[49m\u001b[43mvalid_for_test\u001b[49m\u001b[43m,\u001b[49m\u001b[43m \u001b[49m\u001b[43msize\u001b[49m\u001b[38;5;241;43m=\u001b[39;49m\u001b[38;5;28;43mself\u001b[39;49m\u001b[38;5;241;43m.\u001b[39;49m\u001b[43mn_test\u001b[49m\u001b[43m)\u001b[49m\n\u001b[1;32m    231\u001b[0m \u001b[38;5;66;03m# print(tested)\u001b[39;00m\n\u001b[1;32m    232\u001b[0m trace_possible \u001b[38;5;241m=\u001b[39m \u001b[38;5;28;01mTrue\u001b[39;00m\n",
      "File \u001b[0;32m/mainfs/home/ar5g15/control-diffusion/lib/agent.py:111\u001b[0m, in \u001b[0;36mAgent.__init__.<locals>.<lambda>\u001b[0;34m(net, nodes, size)\u001b[0m\n\u001b[1;32m    109\u001b[0m \u001b[38;5;28mself\u001b[39m\u001b[38;5;241m.\u001b[39mseed \u001b[38;5;241m=\u001b[39m seed\n\u001b[1;32m    110\u001b[0m \u001b[38;5;28mself\u001b[39m\u001b[38;5;241m.\u001b[39mrng \u001b[38;5;241m=\u001b[39m np\u001b[38;5;241m.\u001b[39mrandom\u001b[38;5;241m.\u001b[39mdefault_rng(seed)\n\u001b[0;32m--> 111\u001b[0m \u001b[38;5;28mself\u001b[39m\u001b[38;5;241m.\u001b[39mtester \u001b[38;5;241m=\u001b[39m (\u001b[38;5;28;01mlambda\u001b[39;00m net, nodes, size: \u001b[38;5;28;43mself\u001b[39;49m\u001b[38;5;241;43m.\u001b[39;49m\u001b[43mcontrol_test\u001b[49m\u001b[43m(\u001b[49m\u001b[43mnet\u001b[49m\u001b[43m,\u001b[49m\u001b[43m \u001b[49m\u001b[43mnodes\u001b[49m\u001b[43m,\u001b[49m\u001b[43m \u001b[49m\u001b[43msize\u001b[49m\u001b[43m)\u001b[49m) \u001b[38;5;28;01mif\u001b[39;00m tester \\\n\u001b[1;32m    112\u001b[0m                 \u001b[38;5;28;01melse\u001b[39;00m (\u001b[38;5;28;01mlambda\u001b[39;00m net, nodes, size: \u001b[38;5;28mself\u001b[39m\u001b[38;5;241m.\u001b[39mrng\u001b[38;5;241m.\u001b[39mchoice(nodes, size, replace\u001b[38;5;241m=\u001b[39m\u001b[38;5;28;01mFalse\u001b[39;00m))\n\u001b[1;32m    113\u001b[0m \u001b[38;5;28mself\u001b[39m\u001b[38;5;241m.\u001b[39mtracer \u001b[38;5;241m=\u001b[39m (\u001b[38;5;28;01mlambda\u001b[39;00m net, nodes, size: \u001b[38;5;28mself\u001b[39m\u001b[38;5;241m.\u001b[39mcontrol_trace(net, nodes, size)) \u001b[38;5;28;01mif\u001b[39;00m tracer \\\n\u001b[1;32m    114\u001b[0m                 \u001b[38;5;28;01melse\u001b[39;00m (\u001b[38;5;28;01mlambda\u001b[39;00m net, nodes, size: \u001b[38;5;28mself\u001b[39m\u001b[38;5;241m.\u001b[39mrng\u001b[38;5;241m.\u001b[39mchoice(np\u001b[38;5;241m.\u001b[39munique(nodes), size, replace\u001b[38;5;241m=\u001b[39m\u001b[38;5;28;01mFalse\u001b[39;00m))\n\u001b[1;32m    115\u001b[0m \u001b[38;5;28mself\u001b[39m\u001b[38;5;241m.\u001b[39mkeep_pos_until \u001b[38;5;241m=\u001b[39m keep_pos_until \u001b[38;5;28;01mif\u001b[39;00m keep_pos_until \u001b[38;5;241m>\u001b[39m\u001b[38;5;241m=\u001b[39m \u001b[38;5;241m0\u001b[39m \u001b[38;5;28;01melse\u001b[39;00m \u001b[38;5;241m1e9\u001b[39m\n",
      "File \u001b[0;32m/mainfs/home/ar5g15/control-diffusion/lib/agent.py:303\u001b[0m, in \u001b[0;36mAgent.control_test\u001b[0;34m(self, net, nodes, size, **kwargs)\u001b[0m\n\u001b[1;32m    298\u001b[0m \u001b[38;5;28;01mdef\u001b[39;00m \u001b[38;5;21mcontrol_test\u001b[39m(\u001b[38;5;28mself\u001b[39m, net, nodes, size\u001b[38;5;241m=\u001b[39m\u001b[38;5;241m10\u001b[39m, \u001b[38;5;241m*\u001b[39m\u001b[38;5;241m*\u001b[39mkwargs):\n\u001b[1;32m    299\u001b[0m     \u001b[38;5;124;03m\"\"\"\u001b[39;00m\n\u001b[1;32m    300\u001b[0m \u001b[38;5;124;03m    By default, if a custom control strategy is selected here (tester=True), the logic will be controlled through 'control_both'\u001b[39;00m\n\u001b[1;32m    301\u001b[0m \u001b[38;5;124;03m    However, subclasses can extend this to offer special treatment for test control.\u001b[39;00m\n\u001b[1;32m    302\u001b[0m \u001b[38;5;124;03m    \"\"\"\u001b[39;00m\n\u001b[0;32m--> 303\u001b[0m     \u001b[38;5;28;01mreturn\u001b[39;00m \u001b[38;5;28;43mself\u001b[39;49m\u001b[38;5;241;43m.\u001b[39;49m\u001b[43mcontrol_both\u001b[49m\u001b[43m(\u001b[49m\u001b[43mnet\u001b[49m\u001b[43m,\u001b[49m\u001b[43m \u001b[49m\u001b[43mnodes\u001b[49m\u001b[43m,\u001b[49m\u001b[43m \u001b[49m\u001b[43msize\u001b[49m\u001b[43m,\u001b[49m\u001b[43m \u001b[49m\u001b[38;5;241;43m*\u001b[39;49m\u001b[38;5;241;43m*\u001b[39;49m\u001b[43mkwargs\u001b[49m\u001b[43m)\u001b[49m\n",
      "File \u001b[0;32m/mainfs/home/ar5g15/control-diffusion/lib/agent.py:356\u001b[0m, in \u001b[0;36mMeasureAgent.control_both\u001b[0;34m(self, net, nodes, size, **kwargs)\u001b[0m\n\u001b[1;32m    353\u001b[0m \u001b[38;5;28;01mdef\u001b[39;00m \u001b[38;5;21mcontrol_both\u001b[39m(\u001b[38;5;28mself\u001b[39m, net, nodes, size\u001b[38;5;241m=\u001b[39m\u001b[38;5;241m10\u001b[39m, \u001b[38;5;241m*\u001b[39m\u001b[38;5;241m*\u001b[39mkwargs):\n\u001b[1;32m    354\u001b[0m     \u001b[38;5;66;03m# compute new measures if needed\u001b[39;00m\n\u001b[1;32m    355\u001b[0m     \u001b[38;5;28;01mif\u001b[39;00m \u001b[38;5;28mself\u001b[39m\u001b[38;5;241m.\u001b[39mupdate_condition():\n\u001b[0;32m--> 356\u001b[0m         \u001b[38;5;28mself\u001b[39m\u001b[38;5;241m.\u001b[39mcomputed_measures \u001b[38;5;241m=\u001b[39m \u001b[38;5;28;43mself\u001b[39;49m\u001b[38;5;241;43m.\u001b[39;49m\u001b[43mcompute_measures\u001b[49m\u001b[43m(\u001b[49m\u001b[43mnet\u001b[49m\u001b[43m,\u001b[49m\u001b[43m \u001b[49m\u001b[43mnodes\u001b[49m\u001b[43m,\u001b[49m\u001b[43m \u001b[49m\u001b[43msize\u001b[49m\u001b[43m)\u001b[49m\n\u001b[1;32m    357\u001b[0m     \u001b[38;5;66;03m# allow for special behavior to occur (i.e. a RL agent in learning mode, with lr > 0 and rl_sampler not None)\u001b[39;00m\n\u001b[1;32m    358\u001b[0m     \u001b[38;5;66;03m# in this case, self.computed_measures will directly hold the nodes that should be selected by the agent in this iteration\u001b[39;00m\n\u001b[1;32m    359\u001b[0m     \u001b[38;5;28;01mif\u001b[39;00m \u001b[38;5;28mself\u001b[39m\u001b[38;5;241m.\u001b[39mscorer_type \u001b[38;5;241m==\u001b[39m \u001b[38;5;241m2\u001b[39m:\n",
      "File \u001b[0;32m/mainfs/home/ar5g15/control-diffusion/lib/agent.py:709\u001b[0m, in \u001b[0;36mSLAgent.compute_measures\u001b[0;34m(self, net, nodes, size)\u001b[0m\n\u001b[1;32m    706\u001b[0m     edge_index_current, edge_attr_current \u001b[38;5;241m=\u001b[39m \u001b[38;5;28mself\u001b[39m\u001b[38;5;241m.\u001b[39medge_current\n\u001b[1;32m    707\u001b[0m \u001b[38;5;66;03m# otherwise, edge_current tensors will need to be created from the supplied (updated) network\u001b[39;00m\n\u001b[1;32m    708\u001b[0m \u001b[38;5;28;01melse\u001b[39;00m:\n\u001b[0;32m--> 709\u001b[0m     edges_current_time \u001b[38;5;241m=\u001b[39m torch\u001b[38;5;241m.\u001b[39mtensor(\u001b[38;5;28mlist\u001b[39m(\u001b[43mnet\u001b[49m\u001b[38;5;241;43m.\u001b[39;49m\u001b[43mto_directed\u001b[49m\u001b[43m(\u001b[49m\u001b[43m)\u001b[49m\u001b[38;5;241m.\u001b[39medges\u001b[38;5;241m.\u001b[39mdata(\u001b[38;5;124m'\u001b[39m\u001b[38;5;124mweight\u001b[39m\u001b[38;5;124m'\u001b[39m, default\u001b[38;5;241m=\u001b[39m\u001b[38;5;241m1.\u001b[39m)), device\u001b[38;5;241m=\u001b[39mdevice)\n\u001b[1;32m    710\u001b[0m     \u001b[38;5;66;03m# transform list of edges into COO format for torch geometric\u001b[39;00m\n\u001b[1;32m    711\u001b[0m     edge_index_current \u001b[38;5;241m=\u001b[39m edges_current_time[:, :\u001b[38;5;241m2\u001b[39m]\u001b[38;5;241m.\u001b[39mlong()\u001b[38;5;241m.\u001b[39mt()\u001b[38;5;241m.\u001b[39mcontiguous()\n",
      "File \u001b[0;32m~/.conda/envs/graph/lib/python3.9/site-packages/networkx/classes/graph.py:1600\u001b[0m, in \u001b[0;36mGraph.to_directed\u001b[0;34m(self, as_view)\u001b[0m\n\u001b[1;32m   1598\u001b[0m G\u001b[38;5;241m.\u001b[39mgraph\u001b[38;5;241m.\u001b[39mupdate(deepcopy(\u001b[38;5;28mself\u001b[39m\u001b[38;5;241m.\u001b[39mgraph))\n\u001b[1;32m   1599\u001b[0m G\u001b[38;5;241m.\u001b[39madd_nodes_from((n, deepcopy(d)) \u001b[38;5;28;01mfor\u001b[39;00m n, d \u001b[38;5;129;01min\u001b[39;00m \u001b[38;5;28mself\u001b[39m\u001b[38;5;241m.\u001b[39m_node\u001b[38;5;241m.\u001b[39mitems())\n\u001b[0;32m-> 1600\u001b[0m \u001b[43mG\u001b[49m\u001b[38;5;241;43m.\u001b[39;49m\u001b[43madd_edges_from\u001b[49m\u001b[43m(\u001b[49m\n\u001b[1;32m   1601\u001b[0m \u001b[43m    \u001b[49m\u001b[43m(\u001b[49m\u001b[43mu\u001b[49m\u001b[43m,\u001b[49m\u001b[43m \u001b[49m\u001b[43mv\u001b[49m\u001b[43m,\u001b[49m\u001b[43m \u001b[49m\u001b[43mdeepcopy\u001b[49m\u001b[43m(\u001b[49m\u001b[43mdata\u001b[49m\u001b[43m)\u001b[49m\u001b[43m)\u001b[49m\n\u001b[1;32m   1602\u001b[0m \u001b[43m    \u001b[49m\u001b[38;5;28;43;01mfor\u001b[39;49;00m\u001b[43m \u001b[49m\u001b[43mu\u001b[49m\u001b[43m,\u001b[49m\u001b[43m \u001b[49m\u001b[43mnbrs\u001b[49m\u001b[43m \u001b[49m\u001b[38;5;129;43;01min\u001b[39;49;00m\u001b[43m \u001b[49m\u001b[38;5;28;43mself\u001b[39;49m\u001b[38;5;241;43m.\u001b[39;49m\u001b[43m_adj\u001b[49m\u001b[38;5;241;43m.\u001b[39;49m\u001b[43mitems\u001b[49m\u001b[43m(\u001b[49m\u001b[43m)\u001b[49m\n\u001b[1;32m   1603\u001b[0m \u001b[43m    \u001b[49m\u001b[38;5;28;43;01mfor\u001b[39;49;00m\u001b[43m \u001b[49m\u001b[43mv\u001b[49m\u001b[43m,\u001b[49m\u001b[43m \u001b[49m\u001b[43mdata\u001b[49m\u001b[43m \u001b[49m\u001b[38;5;129;43;01min\u001b[39;49;00m\u001b[43m \u001b[49m\u001b[43mnbrs\u001b[49m\u001b[38;5;241;43m.\u001b[39;49m\u001b[43mitems\u001b[49m\u001b[43m(\u001b[49m\u001b[43m)\u001b[49m\n\u001b[1;32m   1604\u001b[0m \u001b[43m\u001b[49m\u001b[43m)\u001b[49m\n\u001b[1;32m   1605\u001b[0m \u001b[38;5;28;01mreturn\u001b[39;00m G\n",
      "File \u001b[0;32m~/.conda/envs/graph/lib/python3.9/site-packages/networkx/classes/digraph.py:676\u001b[0m, in \u001b[0;36mDiGraph.add_edges_from\u001b[0;34m(self, ebunch_to_add, **attr)\u001b[0m\n\u001b[1;32m    638\u001b[0m \u001b[38;5;28;01mdef\u001b[39;00m \u001b[38;5;21madd_edges_from\u001b[39m(\u001b[38;5;28mself\u001b[39m, ebunch_to_add, \u001b[38;5;241m*\u001b[39m\u001b[38;5;241m*\u001b[39mattr):\n\u001b[1;32m    639\u001b[0m     \u001b[38;5;124;03m\"\"\"Add all the edges in ebunch_to_add.\u001b[39;00m\n\u001b[1;32m    640\u001b[0m \n\u001b[1;32m    641\u001b[0m \u001b[38;5;124;03m    Parameters\u001b[39;00m\n\u001b[0;32m   (...)\u001b[0m\n\u001b[1;32m    674\u001b[0m \u001b[38;5;124;03m    >>> G.add_edges_from([(3, 4), (1, 4)], label=\"WN2898\")\u001b[39;00m\n\u001b[1;32m    675\u001b[0m \u001b[38;5;124;03m    \"\"\"\u001b[39;00m\n\u001b[0;32m--> 676\u001b[0m     \u001b[38;5;28;01mfor\u001b[39;00m e \u001b[38;5;129;01min\u001b[39;00m ebunch_to_add:\n\u001b[1;32m    677\u001b[0m         ne \u001b[38;5;241m=\u001b[39m \u001b[38;5;28mlen\u001b[39m(e)\n\u001b[1;32m    678\u001b[0m         \u001b[38;5;28;01mif\u001b[39;00m ne \u001b[38;5;241m==\u001b[39m \u001b[38;5;241m3\u001b[39m:\n",
      "File \u001b[0;32m~/.conda/envs/graph/lib/python3.9/site-packages/networkx/classes/graph.py:1601\u001b[0m, in \u001b[0;36m<genexpr>\u001b[0;34m(.0)\u001b[0m\n\u001b[1;32m   1598\u001b[0m G\u001b[38;5;241m.\u001b[39mgraph\u001b[38;5;241m.\u001b[39mupdate(deepcopy(\u001b[38;5;28mself\u001b[39m\u001b[38;5;241m.\u001b[39mgraph))\n\u001b[1;32m   1599\u001b[0m G\u001b[38;5;241m.\u001b[39madd_nodes_from((n, deepcopy(d)) \u001b[38;5;28;01mfor\u001b[39;00m n, d \u001b[38;5;129;01min\u001b[39;00m \u001b[38;5;28mself\u001b[39m\u001b[38;5;241m.\u001b[39m_node\u001b[38;5;241m.\u001b[39mitems())\n\u001b[1;32m   1600\u001b[0m G\u001b[38;5;241m.\u001b[39madd_edges_from(\n\u001b[0;32m-> 1601\u001b[0m     (u, v, \u001b[43mdeepcopy\u001b[49m\u001b[43m(\u001b[49m\u001b[43mdata\u001b[49m\u001b[43m)\u001b[49m)\n\u001b[1;32m   1602\u001b[0m     \u001b[38;5;28;01mfor\u001b[39;00m u, nbrs \u001b[38;5;129;01min\u001b[39;00m \u001b[38;5;28mself\u001b[39m\u001b[38;5;241m.\u001b[39m_adj\u001b[38;5;241m.\u001b[39mitems()\n\u001b[1;32m   1603\u001b[0m     \u001b[38;5;28;01mfor\u001b[39;00m v, data \u001b[38;5;129;01min\u001b[39;00m nbrs\u001b[38;5;241m.\u001b[39mitems()\n\u001b[1;32m   1604\u001b[0m )\n\u001b[1;32m   1605\u001b[0m \u001b[38;5;28;01mreturn\u001b[39;00m G\n",
      "File \u001b[0;32m~/.conda/envs/graph/lib/python3.9/copy.py:146\u001b[0m, in \u001b[0;36mdeepcopy\u001b[0;34m(x, memo, _nil)\u001b[0m\n\u001b[1;32m    144\u001b[0m copier \u001b[38;5;241m=\u001b[39m _deepcopy_dispatch\u001b[38;5;241m.\u001b[39mget(\u001b[38;5;28mcls\u001b[39m)\n\u001b[1;32m    145\u001b[0m \u001b[38;5;28;01mif\u001b[39;00m copier \u001b[38;5;129;01mis\u001b[39;00m \u001b[38;5;129;01mnot\u001b[39;00m \u001b[38;5;28;01mNone\u001b[39;00m:\n\u001b[0;32m--> 146\u001b[0m     y \u001b[38;5;241m=\u001b[39m \u001b[43mcopier\u001b[49m\u001b[43m(\u001b[49m\u001b[43mx\u001b[49m\u001b[43m,\u001b[49m\u001b[43m \u001b[49m\u001b[43mmemo\u001b[49m\u001b[43m)\u001b[49m\n\u001b[1;32m    147\u001b[0m \u001b[38;5;28;01melse\u001b[39;00m:\n\u001b[1;32m    148\u001b[0m     \u001b[38;5;28;01mif\u001b[39;00m \u001b[38;5;28missubclass\u001b[39m(\u001b[38;5;28mcls\u001b[39m, \u001b[38;5;28mtype\u001b[39m):\n",
      "File \u001b[0;32m~/.conda/envs/graph/lib/python3.9/copy.py:230\u001b[0m, in \u001b[0;36m_deepcopy_dict\u001b[0;34m(x, memo, deepcopy)\u001b[0m\n\u001b[1;32m    228\u001b[0m memo[\u001b[38;5;28mid\u001b[39m(x)] \u001b[38;5;241m=\u001b[39m y\n\u001b[1;32m    229\u001b[0m \u001b[38;5;28;01mfor\u001b[39;00m key, value \u001b[38;5;129;01min\u001b[39;00m x\u001b[38;5;241m.\u001b[39mitems():\n\u001b[0;32m--> 230\u001b[0m     y[deepcopy(key, memo)] \u001b[38;5;241m=\u001b[39m \u001b[43mdeepcopy\u001b[49m\u001b[43m(\u001b[49m\u001b[43mvalue\u001b[49m\u001b[43m,\u001b[49m\u001b[43m \u001b[49m\u001b[43mmemo\u001b[49m\u001b[43m)\u001b[49m\n\u001b[1;32m    231\u001b[0m \u001b[38;5;28;01mreturn\u001b[39;00m y\n",
      "File \u001b[0;32m~/.conda/envs/graph/lib/python3.9/copy.py:153\u001b[0m, in \u001b[0;36mdeepcopy\u001b[0;34m(x, memo, _nil)\u001b[0m\n\u001b[1;32m    151\u001b[0m copier \u001b[38;5;241m=\u001b[39m \u001b[38;5;28mgetattr\u001b[39m(x, \u001b[38;5;124m\"\u001b[39m\u001b[38;5;124m__deepcopy__\u001b[39m\u001b[38;5;124m\"\u001b[39m, \u001b[38;5;28;01mNone\u001b[39;00m)\n\u001b[1;32m    152\u001b[0m \u001b[38;5;28;01mif\u001b[39;00m copier \u001b[38;5;129;01mis\u001b[39;00m \u001b[38;5;129;01mnot\u001b[39;00m \u001b[38;5;28;01mNone\u001b[39;00m:\n\u001b[0;32m--> 153\u001b[0m     y \u001b[38;5;241m=\u001b[39m \u001b[43mcopier\u001b[49m\u001b[43m(\u001b[49m\u001b[43mmemo\u001b[49m\u001b[43m)\u001b[49m\n\u001b[1;32m    154\u001b[0m \u001b[38;5;28;01melse\u001b[39;00m:\n\u001b[1;32m    155\u001b[0m     reductor \u001b[38;5;241m=\u001b[39m dispatch_table\u001b[38;5;241m.\u001b[39mget(\u001b[38;5;28mcls\u001b[39m)\n",
      "\u001b[0;31mKeyboardInterrupt\u001b[0m: "
     ]
    }
   ],
   "source": [
    "import copy\n",
    "import torch\n",
    "import torch.nn as nn\n",
    "import torch_geometric.nn as pyg_nn\n",
    "\n",
    "import lib.run_tracing as run\n",
    "import lib.tracing.multirun_engine as eng\n",
    "import lib.tracing.utils as utils\n",
    "import lib.tracing.network as network\n",
    "import lib.tracing.stats as stat\n",
    "import lib.tracing.simulation as sim\n",
    "from lib.tracing.utils import rel\n",
    "# from lib.general_utils import save_model, load_model\n",
    "import lib.agent as agent\n",
    "import lib.rank_model as rank\n",
    "rel(utils, stat, sim, network, agent, eng, run)\n",
    "\n",
    "def init_weights(m):\n",
    "    \"\"\"\n",
    "    recursively initializes the weights of the model\n",
    "    \"\"\"\n",
    "    # if isinstance(m, rank.EnsembleModel):\n",
    "    #     nn.init.kaiming_uniform_(m.weight, nonlinearity='relu')\n",
    "    if isinstance(m, nn.Linear):\n",
    "        nn.init.kaiming_uniform_(m.weight, nonlinearity='relu')\n",
    "    # for older versions of PYG which had a weight parameter directly within the MessagePassing class\n",
    "    elif isinstance(m, pyg_nn.MessagePassing) and hasattr(m, 'weight'):\n",
    "        nn.init.kaiming_uniform_(m.weight, nonlinearity='relu')\n",
    "    # # some modules may not have a bias or they may use the name with a bool value to trigger other behavior\n",
    "    if hasattr(m, 'bias') and isinstance(m.bias, torch.Tensor):\n",
    "        m.bias.data.fill_(0.01)\n",
    "\n",
    "# torch.manual_seed for instatiating parameters (only relevant if change_model!)\n",
    "torch_seed = 15\n",
    "# whether to load ckp parameters of the model or not\n",
    "load = 0\n",
    "# k-hops infection neighborhood to dynamically store as feature for each node\n",
    "k_hops = 2\n",
    "# static features to calculate for each node\n",
    "static_measures = ('degree', 'eigenvector_centrality_numpy', 'rand:5',)\n",
    "# global learning rate to use (0 is disabled) - this can be overwritten if change_model and NO loading of parameters from ckp\n",
    "lr = 0\n",
    "# init weights override\n",
    "is_init_weights = 1\n",
    "# ensemble number\n",
    "n_models = 1\n",
    "\n",
    "\n",
    "# whether to instantiate a new model (will be done automatically if 'model' not in globals)\n",
    "change_model = bool(1) or 'model' not in globals()\n",
    "# multiprocessing type\n",
    "multip = 0\n",
    "\n",
    "if change_model:\n",
    "    try:\n",
    "        model = model.model\n",
    "    except (NameError, AttributeError):\n",
    "        print('Instantiating new model.', end=' ')\n",
    "        input_features = 4 + k_hops\n",
    "        for measure in static_measures:\n",
    "            try:\n",
    "                input_features += int(measure.split(':')[1])\n",
    "            except IndexError:\n",
    "                input_features += 1\n",
    "        rel(rank)\n",
    "        model_class = rank.EnsembleModel if n_models > 1 else rank.RankingModel\n",
    "        model = model_class(input_features, 1,\n",
    "                              n_models=n_models,\n",
    "                              combine='avg',\n",
    "                              layer_name='GINE',\n",
    "                              # layer_kwargs=dict(num_layers=5),\n",
    "                              num_layers=4,\n",
    "                              norm_layer='LayerNorm',\n",
    "                              use_edge_attr=1, # whether to use edge_attr or not in InfoModel\n",
    "                              edge_dim=2, # edge_attr has 2 dims that need to be linearly transformed\n",
    "                              edge_attr_scaling=True, # needed for many GNN models with edge_attr\n",
    "                              last_fully_adjacent=1,\n",
    "                              add_self_loops=1,\n",
    "                              diff_add_self_loops=1,\n",
    "                              diff_layer_name='GAT2',\n",
    "                              diff_layer_kwargs=dict(edge_dim=2, add_self_loops=0, heads=1, concat=False),\n",
    "                              diff_use_edge_attr=1, # whether to use the edge_weights or not (i.e. edge_attr at index 0)\n",
    "                              nonlin='ReLU',\n",
    "                              agg='cat',\n",
    "                              reduce_h='std',\n",
    "                              dropout=0,\n",
    "                              dropout_head=0,\n",
    "                              layers_head=1,\n",
    "                              linear_head=1,\n",
    "                              nonlin_head='ReLU',\n",
    "                              state_score_method='max',\n",
    "                              last_incl_gnn_outs=0,\n",
    "                              torch_seed=torch_seed,\n",
    "                              reset_h_seed=-1,\n",
    "                              deterministic=True,\n",
    "                             )\n",
    "        if load:\n",
    "            print('Loading from pretrain...', end=' ')\n",
    "            model.load_state_dict(torch.load('saved/ranking_0.pt'))\n",
    "        else:\n",
    "            if is_init_weights:\n",
    "                print('Manually init weights...', end=' ')\n",
    "                model.apply(init_weights)\n",
    "            lr = 1e-4\n",
    "        \n",
    "    if multip:\n",
    "        model.share_memory()\n",
    "else:\n",
    "    # must make sure previous iteration's h_prev and gradietns are never distributed\n",
    "    try:\n",
    "        model.h_prev = None\n",
    "        model.zero_grad(set_to_none=True)\n",
    "    except:\n",
    "        pass\n",
    "    if multip and model.device.type != 'cpu':\n",
    "        print('Moving model to CPU due to multiprocessing...')\n",
    "        model = model.cpu()\n",
    "\n",
    "is_learning = lr > 0\n",
    "online = 1\n",
    "print(f'{lr=}...\\nLearning with {online=}: {is_learning}')\n",
    "\n",
    "predef = 1\n",
    "optimizer = torch.optim.Adam(model.parameters(), weight_decay=.1) if predef else 'Adam'\n",
    "scheduler = torch.optim.lr_scheduler.StepLR(optimizer, 50, 0.2) if predef else 'StepLR'\n",
    "ag = dict(\n",
    "    typ='sl',\n",
    "    rl_sampler='softmax',\n",
    "    # gamma, lambda, reward_scale, actor_loss, clip_ratio, value_coeff, entropy_coeff, ce_coeff, eligibility, target_update\n",
    "    rl_args=(.99, .97, 1, 'ppo', -0.2, 0.5, 0, 0, 1, 5),\n",
    "    ranking_model=model,\n",
    "    target_model=copy.deepcopy(model) if is_learning and online else None,\n",
    "    debug_print=-1,\n",
    "    index_weight=-1,\n",
    "    pos_weight=False,\n",
    "    mark_delay_same_edges=False,\n",
    "    half_cpu=0,\n",
    "    lr=lr,\n",
    "    online=online,\n",
    "    epochs=2,\n",
    "    batch_size=10,\n",
    "    grad_clip=.5,\n",
    "    optimizer=optimizer,\n",
    "    optimizer_kwargs=dict(weight_decay=.1),\n",
    "    scheduler=scheduler,\n",
    "    scheduler_args=(50, .2),\n",
    "    measure='degree',\n",
    "    record_edges=True,\n",
    "    static_measures=static_measures, \n",
    "    n_test=2,\n",
    "    n_trace=0,\n",
    "    tester=True,\n",
    "    tracer=False,\n",
    "    k_hops=k_hops,\n",
    "    seed=12,\n",
    "    dist_over_sample=1, # IF distrib is over the sample (T) OR all the nodes (F); when True, only logp = y_pred[nodes] is possible\n",
    "    logp_from_score=1, # IF logp = y_pred[nodes] (T) OR logp = pi.log_prob(nodes) (F)\n",
    "    logpold_from_score=1, # IF logp_old = y_pred[nodes] (T) OR logp_old = pi.log_prob(nodes) (F)\n",
    "    debug=0, # !!! VERY IMPORTANT TO SET TO 0 WHEN MULTIPROCESSING IS EXPECTED FROM THE SAME MODEL\n",
    ")\n",
    "\n",
    "torch.autograd.set_detect_anomaly(False)\n",
    "\n",
    "n_episodes = 50 if is_learning else 1 #n_models+1\n",
    "eps_start = .5\n",
    "eps_decay = .99\n",
    "eps = [round(eps_start * eps_decay**i, 5) for i in range(n_episodes)]\n",
    "error_del_model = 0\n",
    "# extra can hold information such as the networks and shared values among processes\n",
    "extra = [0]\n",
    "\n",
    "try:\n",
    "    st, extra = run.run_mock(agent=ag, control_after=5, control_after_inf=.05, control_initial_known=.25, control_gpu=1,\n",
    "                                first_inf=5, presample=10000, pa=.2, taur=0, taut=eps, update_after=1, edge_sample_size=[.8], reindex=False,\n",
    "                                nettype='barabasi:5:1', netsize=1000, k=2.8, p=.1, rem_orphans=False, use_weights=True, dual=0,\n",
    "                                seed=21, netseed=26, infseed=-1, model='seir', spontan=False, sampling_type='min',\n",
    "                                multip=0, nnets=1, niters=1, nevents=0, noncomp=0, noncomp_after=10000,\n",
    "                                draw=0, draw_iter=0, animate=0, draw_fullname=True, draw_layout='circular',\n",
    "                                summary_print=0, summary_splits=20, avg_without_earlystop=True)\n",
    "    # here the key for inspecting results is either 'res' (For one episode) or the latest epsilon (For multiple episodes)\n",
    "    key = 'res' if 'res' in st else eps[-1 if is_learning else 0]\n",
    "    print('Total infected: ', st[key]['average-overall-infected']['mean'])\n",
    "    print('Max infected: ', st[key]['average-max-infected']['mean'])\n",
    "    print('%healthy: ', st[key]['average-%healthy']['mean'], '±', st[key]['average-%healthy']['std'])\n",
    "except (Exception, BaseException) as e:\n",
    "    # torch.cuda.empty_cache()\n",
    "    raise e\n",
    "finally:\n",
    "    if error_del_model:\n",
    "        print('Freeing memory...')\n",
    "        del model, ag, extra[0] # first element of extra is a shared object which may be arbitrarily large\n",
    "        torch.cuda.empty_cache()\n",
    "        !nvidia-smi"
   ]
  },
  {
   "cell_type": "code",
   "execution_count": null,
   "id": "3b20a2cd-8c3f-4c45-bf1a-2314da5b260a",
   "metadata": {},
   "outputs": [],
   "source": []
  },
  {
   "cell_type": "code",
   "execution_count": null,
   "id": "f609f2f0-22a3-418e-a0ab-3f27451e1a0d",
   "metadata": {},
   "outputs": [],
   "source": []
  },
  {
   "cell_type": "code",
   "execution_count": null,
   "id": "41097f2b-0a9f-4ca6-8d97-fa3418fcb84f",
   "metadata": {},
   "outputs": [],
   "source": []
  },
  {
   "cell_type": "code",
   "execution_count": null,
   "id": "1eb41308-424c-4c20-92d2-4f91008bab8c",
   "metadata": {},
   "outputs": [],
   "source": []
  },
  {
   "cell_type": "code",
   "execution_count": null,
   "id": "24532768-2320-4170-b235-86879d2fdde2",
   "metadata": {},
   "outputs": [],
   "source": []
  },
  {
   "cell_type": "code",
   "execution_count": 14,
   "id": "ec78f659-acb0-4356-aa92-a29cdc0a8f6d",
   "metadata": {},
   "outputs": [
    {
     "data": {
      "text/plain": [
       "['0.4 ± 0.05', '0.41 ± 0.04', '0.19 ± 0.04', '0.4 ± 0.05']"
      ]
     },
     "execution_count": 14,
     "metadata": {},
     "output_type": "execute_result"
    }
   ],
   "source": [
    "nogp = [f\"{st[k]['average-%healthy']['mean']} ± {st[k]['average-%healthy']['std']}\" for k in st if k != 'args']\n",
    "nogp"
   ]
  },
  {
   "cell_type": "code",
   "execution_count": 15,
   "id": "3d879d6b-3f68-4aa7-bf74-dd0e64b0d7ff",
   "metadata": {},
   "outputs": [
    {
     "data": {
      "text/plain": [
       "['0.4 ± 0.05', '0.41 ± 0.04', '0.19 ± 0.04', '0.4 ± 0.05']"
      ]
     },
     "execution_count": 15,
     "metadata": {},
     "output_type": "execute_result"
    }
   ],
   "source": [
    "nogp = [f\"{st[k]['average-%healthy']['mean']} ± {st[k]['average-%healthy']['std']}\" for k in st if k != 'args']\n",
    "nogp"
   ]
  },
  {
   "cell_type": "code",
   "execution_count": 9,
   "id": "78340547-1e24-4fa7-92b2-7e4724d40782",
   "metadata": {},
   "outputs": [
    {
     "data": {
      "text/plain": [
       "['0.45 ± 0.02', '0.33 ± 0.04', '0.2 ± 0.05', '0.46 ± 0.02']"
      ]
     },
     "execution_count": 9,
     "metadata": {},
     "output_type": "execute_result"
    }
   ],
   "source": [
    "nogp = [f\"{st[k]['average-%healthy']['mean']} ± {st[k]['average-%healthy']['std']}\" for k in st if k != 'args']\n",
    "nogp"
   ]
  },
  {
   "cell_type": "code",
   "execution_count": 11,
   "id": "8e0d34cd-ae8a-4131-94f6-fb0fb25beea5",
   "metadata": {},
   "outputs": [
    {
     "data": {
      "text/plain": [
       "['0.45 ± 0.02', '0.33 ± 0.04', '0.2 ± 0.05', '0.46 ± 0.02']"
      ]
     },
     "execution_count": 11,
     "metadata": {},
     "output_type": "execute_result"
    }
   ],
   "source": [
    "nogp = [f\"{st[k]['average-%healthy']['mean']} ± {st[k]['average-%healthy']['std']}\" for k in st if k != 'args']\n",
    "nogp"
   ]
  },
  {
   "cell_type": "code",
   "execution_count": null,
   "id": "a5bcbbcb-fe1f-48ad-bfcd-f946477dff89",
   "metadata": {},
   "outputs": [],
   "source": []
  },
  {
   "cell_type": "code",
   "execution_count": 62,
   "id": "878673f2-4455-41bf-b4ba-0b95bc363ffd",
   "metadata": {},
   "outputs": [
    {
     "name": "stdout",
     "output_type": "stream",
     "text": [
      "0\n",
      "1\n",
      "2\n"
     ]
    }
   ],
   "source": [
    "from itertools import islice\n",
    "for i in islice(range(5), 3):\n",
    "    print(i)"
   ]
  },
  {
   "cell_type": "code",
   "execution_count": 15,
   "id": "97714eff-8cc2-4bd4-bb28-059a98b83cb0",
   "metadata": {},
   "outputs": [
    {
     "data": {
      "text/plain": [
       "array([0.3775766 , 0.44343072, 0.        , 1.        , 2.        ,\n",
       "       3.        , 4.        ])"
      ]
     },
     "execution_count": 15,
     "metadata": {},
     "output_type": "execute_result"
    }
   ],
   "source": [
    "import numpy as np\n",
    "a = np.random.default_rng().random(size=2)\n",
    "np.append(a, range(5))"
   ]
  },
  {
   "cell_type": "code",
   "execution_count": null,
   "id": "6a7bed79-4336-4bab-b8dc-d35e9fa47bc6",
   "metadata": {},
   "outputs": [],
   "source": []
  },
  {
   "cell_type": "code",
   "execution_count": null,
   "id": "fa0895b8-a14d-4c0f-bc46-246d3a7b9ee7",
   "metadata": {},
   "outputs": [],
   "source": []
  },
  {
   "cell_type": "code",
   "execution_count": 452,
   "id": "7bdb2572-9d96-40dd-97e3-502aa2163c22",
   "metadata": {},
   "outputs": [
    {
     "data": {
      "text/plain": [
       "<All keys matched successfully>"
      ]
     },
     "execution_count": 452,
     "metadata": {},
     "output_type": "execute_result"
    }
   ],
   "source": [
    "model.load_state_dict(torch.load('saved/ckp/on-over-sample.pt'))"
   ]
  },
  {
   "cell_type": "code",
   "execution_count": 443,
   "id": "00c2f068-9fef-47d4-9a2e-aef954548b06",
   "metadata": {},
   "outputs": [],
   "source": [
    "torch.save(model.state_dict(), 'saved/ckp/off-over-sample.pt')"
   ]
  },
  {
   "cell_type": "code",
   "execution_count": null,
   "id": "5c474f97-65b6-4cd7-b8bf-43c31fe52bdf",
   "metadata": {},
   "outputs": [],
   "source": []
  },
  {
   "cell_type": "code",
   "execution_count": 448,
   "id": "a1788f36-b071-4b82-bae9-fa617817bcf8",
   "metadata": {},
   "outputs": [
    {
     "data": {
      "text/plain": [
       "['0.49 ± 0.05', '0.44 ± 0.05', '0.47 ± 0.06', '0.5 ± 0.05']"
      ]
     },
     "execution_count": 448,
     "metadata": {},
     "output_type": "execute_result"
    }
   ],
   "source": [
    "off_all = [f\"{st[k]['average-%healthy']['mean']} ± {st[k]['average-%healthy']['std']}\" for k in st if k != 'args']\n",
    "off_all"
   ]
  },
  {
   "cell_type": "code",
   "execution_count": 445,
   "id": "68301e69-b8b0-4392-bfbd-fa2ce1049705",
   "metadata": {},
   "outputs": [
    {
     "data": {
      "text/plain": [
       "['0.51 ± 0.04', '0.51 ± 0.04', '0.51 ± 0.04', '0.49 ± 0.03']"
      ]
     },
     "execution_count": 445,
     "metadata": {},
     "output_type": "execute_result"
    }
   ],
   "source": [
    "off = [f\"{st[k]['average-%healthy']['mean']} ± {st[k]['average-%healthy']['std']}\" for k in st if k != 'args']\n",
    "off"
   ]
  },
  {
   "cell_type": "code",
   "execution_count": 454,
   "id": "18041958-9bf8-4322-ad63-478124afa8ba",
   "metadata": {},
   "outputs": [
    {
     "data": {
      "text/plain": [
       "['0.51 ± 0.04', '0.5 ± 0.04', '0.51 ± 0.04', '0.51 ± 0.05']"
      ]
     },
     "execution_count": 454,
     "metadata": {},
     "output_type": "execute_result"
    }
   ],
   "source": [
    "on = [f\"{st[k]['average-%healthy']['mean']} ± {st[k]['average-%healthy']['std']}\" for k in st if k != 'args']\n",
    "on"
   ]
  },
  {
   "cell_type": "code",
   "execution_count": 20,
   "id": "7f298a44-005a-496a-a2e3-213d148d1809",
   "metadata": {},
   "outputs": [
    {
     "data": {
      "text/plain": [
       "['0.51 ± 0.03', '0.5 ± 0.03', '0.51 ± 0.04', '0.5 ± 0.04']"
      ]
     },
     "execution_count": 20,
     "metadata": {},
     "output_type": "execute_result"
    }
   ],
   "source": [
    "on = [f\"{st[k]['average-%healthy']['mean']} ± {st[k]['average-%healthy']['std']}\" for k in st if k != 'args']\n",
    "on"
   ]
  },
  {
   "cell_type": "code",
   "execution_count": 451,
   "id": "42ebabb1-b9eb-43df-bf4d-1fdd8f3d0862",
   "metadata": {},
   "outputs": [
    {
     "data": {
      "text/plain": [
       "['0.49 ± 0.04', '0.48 ± 0.04', '0.47 ± 0.06', '0.47 ± 0.04']"
      ]
     },
     "execution_count": 451,
     "metadata": {},
     "output_type": "execute_result"
    }
   ],
   "source": [
    "on_all = [f\"{st[k]['average-%healthy']['mean']} ± {st[k]['average-%healthy']['std']}\" for k in st if k != 'args']\n",
    "on_all"
   ]
  },
  {
   "cell_type": "code",
   "execution_count": 22,
   "id": "3bebe396-6b0b-46ad-a97d-9862a15d96a8",
   "metadata": {},
   "outputs": [
    {
     "data": {
      "text/plain": [
       "['0.47 ± 0.04', '0.47 ± 0.04', '0.47 ± 0.04', '0.47 ± 0.04']"
      ]
     },
     "execution_count": 22,
     "metadata": {},
     "output_type": "execute_result"
    }
   ],
   "source": [
    "cent = [f\"{st[k]['average-%healthy']['mean']} ± {st[k]['average-%healthy']['std']}\" for k in st if k != 'args']\n",
    "cent"
   ]
  },
  {
   "cell_type": "code",
   "execution_count": null,
   "id": "446801c4-5467-4855-9299-8da9fe812629",
   "metadata": {},
   "outputs": [],
   "source": []
  },
  {
   "cell_type": "code",
   "execution_count": 78,
   "id": "a6aff78b-ebef-401a-8de0-4d1b3e5ed7b7",
   "metadata": {},
   "outputs": [
    {
     "data": {
      "text/html": [
       "<style type=\"text/css\">\n",
       "#T_f2787 th {\n",
       "  font-size: 150%;\n",
       "}\n",
       "#T_f2787_row0_col0, #T_f2787_row0_col1, #T_f2787_row0_col2, #T_f2787_row0_col3, #T_f2787_row1_col0, #T_f2787_row1_col1, #T_f2787_row1_col2, #T_f2787_row1_col3, #T_f2787_row2_col0, #T_f2787_row2_col1, #T_f2787_row2_col2, #T_f2787_row2_col3, #T_f2787_row3_col0, #T_f2787_row3_col1, #T_f2787_row3_col2, #T_f2787_row3_col3 {\n",
       "  font-size: 13pt;\n",
       "  background-color: None;\n",
       "}\n",
       "#T_f2787_row0_col4, #T_f2787_row1_col4, #T_f2787_row2_col4, #T_f2787_row3_col4 {\n",
       "  font-size: 13pt;\n",
       "  background-color: blue;\n",
       "}\n",
       "</style>\n",
       "<table id=\"T_f2787\">\n",
       "  <thead>\n",
       "    <tr>\n",
       "      <th class=\"blank level0\" >&nbsp;</th>\n",
       "      <th id=\"T_f2787_level0_col0\" class=\"col_heading level0 col0\" >No Train</th>\n",
       "      <th id=\"T_f2787_level0_col1\" class=\"col_heading level0 col1\" >Degree</th>\n",
       "      <th id=\"T_f2787_level0_col2\" class=\"col_heading level0 col2\" >SL(10)</th>\n",
       "      <th id=\"T_f2787_level0_col3\" class=\"col_heading level0 col3\" >RL(10,offline)</th>\n",
       "      <th id=\"T_f2787_level0_col4\" class=\"col_heading level0 col4\" >RL(10,online)</th>\n",
       "    </tr>\n",
       "  </thead>\n",
       "  <tbody>\n",
       "    <tr>\n",
       "      <th id=\"T_f2787_level0_row0\" class=\"row_heading level0 row0\" >Average</th>\n",
       "      <td id=\"T_f2787_row0_col0\" class=\"data row0 col0\" >0.42 ± 0.04</td>\n",
       "      <td id=\"T_f2787_row0_col1\" class=\"data row0 col1\" >0.47 ± 0.04</td>\n",
       "      <td id=\"T_f2787_row0_col2\" class=\"data row0 col2\" >0.44 ± 0.04</td>\n",
       "      <td id=\"T_f2787_row0_col3\" class=\"data row0 col3\" >0.49 ± 0.04</td>\n",
       "      <td id=\"T_f2787_row0_col4\" class=\"data row0 col4\" >0.51 ± 0.03</td>\n",
       "    </tr>\n",
       "    <tr>\n",
       "      <th id=\"T_f2787_level0_row1\" class=\"row_heading level0 row1\" >Model 1</th>\n",
       "      <td id=\"T_f2787_row1_col0\" class=\"data row1 col0\" >0.43 ± 0.04</td>\n",
       "      <td id=\"T_f2787_row1_col1\" class=\"data row1 col1\" >0.47 ± 0.04</td>\n",
       "      <td id=\"T_f2787_row1_col2\" class=\"data row1 col2\" >0.24 ± 0.04</td>\n",
       "      <td id=\"T_f2787_row1_col3\" class=\"data row1 col3\" >0.38 ± 0.05</td>\n",
       "      <td id=\"T_f2787_row1_col4\" class=\"data row1 col4\" >0.5 ± 0.03</td>\n",
       "    </tr>\n",
       "    <tr>\n",
       "      <th id=\"T_f2787_level0_row2\" class=\"row_heading level0 row2\" >Model 2</th>\n",
       "      <td id=\"T_f2787_row2_col0\" class=\"data row2 col0\" >0.19 ± 0.04</td>\n",
       "      <td id=\"T_f2787_row2_col1\" class=\"data row2 col1\" >0.47 ± 0.04</td>\n",
       "      <td id=\"T_f2787_row2_col2\" class=\"data row2 col2\" >0.26 ± 0.08</td>\n",
       "      <td id=\"T_f2787_row2_col3\" class=\"data row2 col3\" >0.19 ± 0.04</td>\n",
       "      <td id=\"T_f2787_row2_col4\" class=\"data row2 col4\" >0.51 ± 0.04</td>\n",
       "    </tr>\n",
       "    <tr>\n",
       "      <th id=\"T_f2787_level0_row3\" class=\"row_heading level0 row3\" >Model 3</th>\n",
       "      <td id=\"T_f2787_row3_col0\" class=\"data row3 col0\" >0.35 ± 0.04</td>\n",
       "      <td id=\"T_f2787_row3_col1\" class=\"data row3 col1\" >0.47 ± 0.04</td>\n",
       "      <td id=\"T_f2787_row3_col2\" class=\"data row3 col2\" >0.45 ± 0.03</td>\n",
       "      <td id=\"T_f2787_row3_col3\" class=\"data row3 col3\" >0.48 ± 0.04</td>\n",
       "      <td id=\"T_f2787_row3_col4\" class=\"data row3 col4\" >0.5 ± 0.04</td>\n",
       "    </tr>\n",
       "  </tbody>\n",
       "</table>\n"
      ],
      "text/plain": [
       "<pandas.io.formats.style.Styler at 0x29123c80100>"
      ]
     },
     "execution_count": 78,
     "metadata": {},
     "output_type": "execute_result"
    }
   ],
   "source": [
    "import pandas as pd\n",
    "df = pd.DataFrame(data={'No Train': ['0.42 ± 0.04', '0.43 ± 0.04', '0.19 ± 0.04', '0.35 ± 0.04'], 'Degree': ['0.47 ± 0.04', '0.47 ± 0.04', '0.47 ± 0.04', '0.47 ± 0.04'], \n",
    "                        'SL(10)': ['0.44 ± 0.04', '0.24 ± 0.04', '0.26 ± 0.08', '0.45 ± 0.03'], 'RL(10,offline)': ['0.49 ± 0.04', '0.38 ± 0.05', '0.19 ± 0.04', '0.48 ± 0.04'],\n",
    "                        'RL(10,online)': ['0.51 ± 0.03', '0.5 ± 0.03', '0.51 ± 0.04', '0.5 ± 0.04']},\n",
    "                 index=['Average', 'Model 1', 'Model 2', 'Model 3'])\n",
    "s = df.style.set_properties(**{'font-size': '13pt'}) \\\n",
    "            .set_table_styles([ dict(selector='th', props=[('font-size', '150%')]) ]) \\\n",
    "            .applymap(lambda x: 'background-color: %s' % ('blue' if float(x.split(' ')[0])>= 0.5 else None))\n",
    "s"
   ]
  },
  {
   "cell_type": "code",
   "execution_count": null,
   "id": "a621f9b6-b63f-441b-81fe-da2a96991e34",
   "metadata": {},
   "outputs": [],
   "source": []
  },
  {
   "cell_type": "code",
   "execution_count": 500,
   "id": "7a6298d8-3647-43d1-8026-e18f6e13ae07",
   "metadata": {},
   "outputs": [
    {
     "data": {
      "text/html": [
       "<style type=\"text/css\">\n",
       "#T_1adad th {\n",
       "  font-size: 150%;\n",
       "}\n",
       "#T_1adad_row0_col0, #T_1adad_row0_col1, #T_1adad_row0_col4, #T_1adad_row0_col5, #T_1adad_row1_col0, #T_1adad_row1_col1, #T_1adad_row1_col2, #T_1adad_row1_col4, #T_1adad_row1_col5, #T_1adad_row2_col0, #T_1adad_row2_col1, #T_1adad_row2_col4, #T_1adad_row2_col5, #T_1adad_row3_col0, #T_1adad_row3_col1, #T_1adad_row3_col3, #T_1adad_row3_col4, #T_1adad_row3_col5 {\n",
       "  font-size: 13pt;\n",
       "  text-align: center;\n",
       "  font-weight: None;\n",
       "}\n",
       "#T_1adad_row0_col2, #T_1adad_row0_col3, #T_1adad_row1_col3, #T_1adad_row2_col2, #T_1adad_row2_col3, #T_1adad_row3_col2 {\n",
       "  font-size: 13pt;\n",
       "  text-align: center;\n",
       "  font-weight: bold;\n",
       "}\n",
       "</style>\n",
       "<table id=\"T_1adad\">\n",
       "  <thead>\n",
       "    <tr>\n",
       "      <th class=\"blank level0\" >&nbsp;</th>\n",
       "      <th id=\"T_1adad_level0_col0\" class=\"col_heading level0 col0\" >No-train</th>\n",
       "      <th id=\"T_1adad_level0_col1\" class=\"col_heading level0 col1\" >Degree-centrality</th>\n",
       "      <th id=\"T_1adad_level0_col2\" class=\"col_heading level0 col2\" >RL-online-sample</th>\n",
       "      <th id=\"T_1adad_level0_col3\" class=\"col_heading level0 col3\" >RL-offline-sample</th>\n",
       "      <th id=\"T_1adad_level0_col4\" class=\"col_heading level0 col4\" >RL-online-all</th>\n",
       "      <th id=\"T_1adad_level0_col5\" class=\"col_heading level0 col5\" >RL-offline-all</th>\n",
       "    </tr>\n",
       "  </thead>\n",
       "  <tbody>\n",
       "    <tr>\n",
       "      <th id=\"T_1adad_level0_row0\" class=\"row_heading level0 row0\" >Average</th>\n",
       "      <td id=\"T_1adad_row0_col0\" class=\"data row0 col0\" >0.42 ± 0.04</td>\n",
       "      <td id=\"T_1adad_row0_col1\" class=\"data row0 col1\" >0.47 ± 0.04</td>\n",
       "      <td id=\"T_1adad_row0_col2\" class=\"data row0 col2\" >0.51 ± 0.04</td>\n",
       "      <td id=\"T_1adad_row0_col3\" class=\"data row0 col3\" >0.51 ± 0.04</td>\n",
       "      <td id=\"T_1adad_row0_col4\" class=\"data row0 col4\" >0.49 ± 0.05</td>\n",
       "      <td id=\"T_1adad_row0_col5\" class=\"data row0 col5\" >0.49 ± 0.05</td>\n",
       "    </tr>\n",
       "    <tr>\n",
       "      <th id=\"T_1adad_level0_row1\" class=\"row_heading level0 row1\" >Model 1</th>\n",
       "      <td id=\"T_1adad_row1_col0\" class=\"data row1 col0\" >0.43 ± 0.04</td>\n",
       "      <td id=\"T_1adad_row1_col1\" class=\"data row1 col1\" >0.47 ± 0.04</td>\n",
       "      <td id=\"T_1adad_row1_col2\" class=\"data row1 col2\" >0.5 ± 0.04</td>\n",
       "      <td id=\"T_1adad_row1_col3\" class=\"data row1 col3\" >0.51 ± 0.04</td>\n",
       "      <td id=\"T_1adad_row1_col4\" class=\"data row1 col4\" >0.44 ± 0.05</td>\n",
       "      <td id=\"T_1adad_row1_col5\" class=\"data row1 col5\" >0.44 ± 0.05</td>\n",
       "    </tr>\n",
       "    <tr>\n",
       "      <th id=\"T_1adad_level0_row2\" class=\"row_heading level0 row2\" >Model 2</th>\n",
       "      <td id=\"T_1adad_row2_col0\" class=\"data row2 col0\" >0.19 ± 0.04</td>\n",
       "      <td id=\"T_1adad_row2_col1\" class=\"data row2 col1\" >0.47 ± 0.04</td>\n",
       "      <td id=\"T_1adad_row2_col2\" class=\"data row2 col2\" >0.51 ± 0.04</td>\n",
       "      <td id=\"T_1adad_row2_col3\" class=\"data row2 col3\" >0.51 ± 0.04</td>\n",
       "      <td id=\"T_1adad_row2_col4\" class=\"data row2 col4\" >0.47 ± 0.06</td>\n",
       "      <td id=\"T_1adad_row2_col5\" class=\"data row2 col5\" >0.47 ± 0.06</td>\n",
       "    </tr>\n",
       "    <tr>\n",
       "      <th id=\"T_1adad_level0_row3\" class=\"row_heading level0 row3\" >Model 3</th>\n",
       "      <td id=\"T_1adad_row3_col0\" class=\"data row3 col0\" >0.35 ± 0.04</td>\n",
       "      <td id=\"T_1adad_row3_col1\" class=\"data row3 col1\" >0.47 ± 0.04</td>\n",
       "      <td id=\"T_1adad_row3_col2\" class=\"data row3 col2\" >0.51 ± 0.05</td>\n",
       "      <td id=\"T_1adad_row3_col3\" class=\"data row3 col3\" >0.49 ± 0.03</td>\n",
       "      <td id=\"T_1adad_row3_col4\" class=\"data row3 col4\" >0.5 ± 0.05</td>\n",
       "      <td id=\"T_1adad_row3_col5\" class=\"data row3 col5\" >0.5 ± 0.05</td>\n",
       "    </tr>\n",
       "  </tbody>\n",
       "</table>\n"
      ],
      "text/plain": [
       "<pandas.io.formats.style.Styler at 0x2916d58ee50>"
      ]
     },
     "execution_count": 500,
     "metadata": {},
     "output_type": "execute_result"
    }
   ],
   "source": [
    "import pandas as pd\n",
    "df = pd.DataFrame(data={'No-train': ['0.42 ± 0.04', '0.43 ± 0.04', '0.19 ± 0.04', '0.35 ± 0.04'], 'Degree-centrality': ['0.47 ± 0.04', '0.47 ± 0.04', '0.47 ± 0.04', '0.47 ± 0.04'], \n",
    "                        'RL-online-sample': ['0.51 ± 0.04', '0.5 ± 0.04', '0.51 ± 0.04', '0.51 ± 0.05'], 'RL-offline-sample': ['0.51 ± 0.04', '0.51 ± 0.04', '0.51 ± 0.04', '0.49 ± 0.03'],\n",
    "                        'RL-online-all': ['0.49 ± 0.05', '0.44 ± 0.05', '0.47 ± 0.06', '0.5 ± 0.05'], 'RL-offline-all': ['0.49 ± 0.05', '0.44 ± 0.05', '0.47 ± 0.06', '0.5 ± 0.05']},\n",
    "                 index=['Average', 'Model 1', 'Model 2', 'Model 3'])\n",
    "s = df.style.set_properties(**{'font-size': '13pt', 'text-align':'center'}) \\\n",
    "            .set_table_styles([ dict(selector='th', props=[('font-size', '150%')]) ]) \\\n",
    "            .applymap(lambda x: 'font-weight: %s' % ('bold' if float(x.split(' ')[0])>= 0.51 else None))\n",
    "s"
   ]
  },
  {
   "cell_type": "code",
   "execution_count": 505,
   "id": "306006bf-f436-4544-b297-65780a656723",
   "metadata": {},
   "outputs": [],
   "source": [
    "with open('fig/df.html', 'w', encoding='utf-8') as f:\n",
    "    f.write(s.to_html())"
   ]
  },
  {
   "cell_type": "code",
   "execution_count": null,
   "id": "5855f4a3-2ea2-4842-9da6-9fc8ea95f8b7",
   "metadata": {},
   "outputs": [],
   "source": []
  },
  {
   "cell_type": "code",
   "execution_count": null,
   "id": "df78b827-cf0f-4797-a131-db26e433dde0",
   "metadata": {},
   "outputs": [],
   "source": []
  },
  {
   "cell_type": "code",
   "execution_count": 48,
   "id": "696157f9-b875-46c4-a7d0-49dba8949331",
   "metadata": {},
   "outputs": [
    {
     "name": "stdout",
     "output_type": "stream",
     "text": [
      "Instantiating new model. Manually init weights... lr=0.0001\n",
      "                                                                     \n",
      "Running iteration 0 with eps = 0.5:\n",
      "---> Result: 665 total infected over time. %healthy = 0.335          \n",
      "Iterations simulation progress: 100%|██████████| 1/1 [00:04<00:00,  4.45s/it]\n",
      "                                                                     \n",
      "Running iteration 0 with eps = 0.495:\n",
      "---> Result: 615 total infected over time. %healthy = 0.385          \n",
      "Iterations simulation progress: 100%|██████████| 1/1 [00:04<00:00,  4.47s/it]\n",
      "                                                                     \n",
      "Running iteration 0 with eps = 0.49005:\n",
      "---> Result: 605 total infected over time. %healthy = 0.395          \n",
      "Iterations simulation progress: 100%|██████████| 1/1 [00:04<00:00,  4.28s/it]\n",
      "                                                                     \n",
      "Running iteration 0 with eps = 0.48515:\n",
      "---> Result: 632 total infected over time. %healthy = 0.368          \n",
      "Iterations simulation progress: 100%|██████████| 1/1 [00:04<00:00,  4.71s/it]\n",
      "                                                                     \n",
      "Running iteration 0 with eps = 0.4803:\n",
      "---> Result: 576 total infected over time. %healthy = 0.424          \n",
      "Iterations simulation progress: 100%|██████████| 1/1 [00:04<00:00,  4.59s/it]\n",
      "                                                                     \n",
      "Running iteration 0 with eps = 0.4755:\n",
      "Changing target model...                                             \n",
      "---> Result: 597 total infected over time. %healthy = 0.403          \n",
      "Iterations simulation progress: 100%|██████████| 1/1 [00:04<00:00,  4.48s/it]\n",
      "                                                                     \n",
      "Running iteration 0 with eps = 0.47074:\n",
      "Iterations simulation progress:   0%|          | 0/1 [00:01<?, ?it/s]\n",
      "Mon Apr  4 18:25:12 2022       \n",
      "+-----------------------------------------------------------------------------+\n",
      "| NVIDIA-SMI 450.51.06    Driver Version: 450.51.06    CUDA Version: 11.0     |\n",
      "|-------------------------------+----------------------+----------------------+\n",
      "| GPU  Name        Persistence-M| Bus-Id        Disp.A | Volatile Uncorr. ECC |\n",
      "| Fan  Temp  Perf  Pwr:Usage/Cap|         Memory-Usage | GPU-Util  Compute M. |\n",
      "|                               |                      |               MIG M. |\n",
      "|===============================+======================+======================|\n",
      "|   0  Quadro RTX 8000     Off  | 00000000:D9:00.0 Off |                    0 |\n",
      "| N/A   33C    P0    62W / 250W |   1560MiB / 45556MiB |      0%      Default |\n",
      "|                               |                      |                  N/A |\n",
      "+-------------------------------+----------------------+----------------------+\n",
      "                                                                               \n",
      "+-----------------------------------------------------------------------------+\n",
      "| Processes:                                                                  |\n",
      "|  GPU   GI   CI        PID   Type   Process name                  GPU Memory |\n",
      "|        ID   ID                                                   Usage      |\n",
      "|=============================================================================|\n",
      "|    0   N/A  N/A    143267      C   ...nda/envs/graph/bin/python     1557MiB |\n",
      "+-----------------------------------------------------------------------------+\n"
     ]
    },
    {
     "ename": "KeyboardInterrupt",
     "evalue": "",
     "output_type": "error",
     "traceback": [
      "\u001b[0;31m---------------------------------------------------------------------------\u001b[0m",
      "\u001b[0;31mKeyboardInterrupt\u001b[0m                         Traceback (most recent call last)",
      "Input \u001b[0;32mIn [48]\u001b[0m, in \u001b[0;36m<cell line: 150>\u001b[0;34m()\u001b[0m\n\u001b[1;32m    166\u001b[0m     torch\u001b[38;5;241m.\u001b[39mcuda\u001b[38;5;241m.\u001b[39mempty_cache()\n\u001b[1;32m    167\u001b[0m     get_ipython()\u001b[38;5;241m.\u001b[39msystem(\u001b[38;5;124m'\u001b[39m\u001b[38;5;124mnvidia-smi\u001b[39m\u001b[38;5;124m'\u001b[39m)\n\u001b[0;32m--> 168\u001b[0m \u001b[38;5;28;01mraise\u001b[39;00m e\n",
      "Input \u001b[0;32mIn [48]\u001b[0m, in \u001b[0;36m<cell line: 150>\u001b[0;34m()\u001b[0m\n\u001b[1;32m    149\u001b[0m st \u001b[38;5;241m=\u001b[39m extra \u001b[38;5;241m=\u001b[39m \u001b[38;5;28;01mFalse\u001b[39;00m\n\u001b[1;32m    150\u001b[0m \u001b[38;5;28;01mtry\u001b[39;00m:\n\u001b[0;32m--> 151\u001b[0m     st, extra \u001b[38;5;241m=\u001b[39m \u001b[43mrun\u001b[49m\u001b[38;5;241;43m.\u001b[39;49m\u001b[43mrun_mock\u001b[49m\u001b[43m(\u001b[49m\u001b[43magent\u001b[49m\u001b[38;5;241;43m=\u001b[39;49m\u001b[43mag\u001b[49m\u001b[43m,\u001b[49m\u001b[43m \u001b[49m\u001b[43mcontrol_after\u001b[49m\u001b[38;5;241;43m=\u001b[39;49m\u001b[38;5;241;43m5\u001b[39;49m\u001b[43m,\u001b[49m\u001b[43m \u001b[49m\u001b[43mcontrol_after_inf\u001b[49m\u001b[38;5;241;43m=\u001b[39;49m\u001b[38;5;241;43m.05\u001b[39;49m\u001b[43m,\u001b[49m\u001b[43m \u001b[49m\u001b[43mcontrol_initial_known\u001b[49m\u001b[38;5;241;43m=\u001b[39;49m\u001b[38;5;241;43m.25\u001b[39;49m\u001b[43m,\u001b[49m\u001b[43m \u001b[49m\u001b[43mcontrol_gpu\u001b[49m\u001b[38;5;241;43m=\u001b[39;49m\u001b[38;5;241;43m1\u001b[39;49m\u001b[43m,\u001b[49m\n\u001b[1;32m    152\u001b[0m \u001b[43m                                \u001b[49m\u001b[43mfirst_inf\u001b[49m\u001b[38;5;241;43m=\u001b[39;49m\u001b[38;5;241;43m5\u001b[39;49m\u001b[43m,\u001b[49m\u001b[43m \u001b[49m\u001b[43mpresample\u001b[49m\u001b[38;5;241;43m=\u001b[39;49m\u001b[38;5;241;43m10000\u001b[39;49m\u001b[43m,\u001b[49m\u001b[43m \u001b[49m\u001b[43mpa\u001b[49m\u001b[38;5;241;43m=\u001b[39;49m\u001b[38;5;241;43m.2\u001b[39;49m\u001b[43m,\u001b[49m\u001b[43m \u001b[49m\u001b[43mtaur\u001b[49m\u001b[38;5;241;43m=\u001b[39;49m\u001b[38;5;241;43m0\u001b[39;49m\u001b[43m,\u001b[49m\u001b[43m \u001b[49m\u001b[43mtaut\u001b[49m\u001b[38;5;241;43m=\u001b[39;49m\u001b[43meps\u001b[49m\u001b[43m,\u001b[49m\u001b[43m \u001b[49m\u001b[43mupdate_after\u001b[49m\u001b[38;5;241;43m=\u001b[39;49m\u001b[38;5;241;43m1\u001b[39;49m\u001b[43m,\u001b[49m\u001b[43m \u001b[49m\u001b[43medge_sample_size\u001b[49m\u001b[38;5;241;43m=\u001b[39;49m\u001b[43m[\u001b[49m\u001b[43m]\u001b[49m\u001b[43m,\u001b[49m\n\u001b[1;32m    153\u001b[0m \u001b[43m                                \u001b[49m\u001b[43mnettype\u001b[49m\u001b[38;5;241;43m=\u001b[39;49m\u001b[38;5;124;43m'\u001b[39;49m\u001b[38;5;124;43mbarabasi:5:1\u001b[39;49m\u001b[38;5;124;43m'\u001b[39;49m\u001b[43m,\u001b[49m\u001b[43m \u001b[49m\u001b[43mnetsize\u001b[49m\u001b[38;5;241;43m=\u001b[39;49m\u001b[38;5;241;43m1000\u001b[39;49m\u001b[43m,\u001b[49m\u001b[43m \u001b[49m\u001b[43mk\u001b[49m\u001b[38;5;241;43m=\u001b[39;49m\u001b[38;5;241;43m2.8\u001b[39;49m\u001b[43m,\u001b[49m\u001b[43m \u001b[49m\u001b[43mp\u001b[49m\u001b[38;5;241;43m=\u001b[39;49m\u001b[38;5;241;43m.1\u001b[39;49m\u001b[43m,\u001b[49m\u001b[43m \u001b[49m\u001b[43mrem_orphans\u001b[49m\u001b[38;5;241;43m=\u001b[39;49m\u001b[38;5;28;43;01mFalse\u001b[39;49;00m\u001b[43m,\u001b[49m\u001b[43m \u001b[49m\u001b[43muse_weights\u001b[49m\u001b[38;5;241;43m=\u001b[39;49m\u001b[38;5;28;43;01mTrue\u001b[39;49;00m\u001b[43m,\u001b[49m\u001b[43m \u001b[49m\u001b[43mdual\u001b[49m\u001b[38;5;241;43m=\u001b[39;49m\u001b[38;5;241;43m0\u001b[39;49m\u001b[43m,\u001b[49m\n\u001b[1;32m    154\u001b[0m \u001b[43m                                \u001b[49m\u001b[43mseed\u001b[49m\u001b[38;5;241;43m=\u001b[39;49m\u001b[38;5;241;43m21\u001b[39;49m\u001b[43m,\u001b[49m\u001b[43m \u001b[49m\u001b[43mnetseed\u001b[49m\u001b[38;5;241;43m=\u001b[39;49m\u001b[38;5;241;43m25\u001b[39;49m\u001b[43m,\u001b[49m\u001b[43m \u001b[49m\u001b[43minfseed\u001b[49m\u001b[38;5;241;43m=\u001b[39;49m\u001b[38;5;241;43m-\u001b[39;49m\u001b[38;5;241;43m1\u001b[39;49m\u001b[43m,\u001b[49m\u001b[43m \u001b[49m\u001b[43mmodel\u001b[49m\u001b[38;5;241;43m=\u001b[39;49m\u001b[38;5;124;43m'\u001b[39;49m\u001b[38;5;124;43mseir\u001b[39;49m\u001b[38;5;124;43m'\u001b[39;49m\u001b[43m,\u001b[49m\u001b[43m \u001b[49m\u001b[43mspontan\u001b[49m\u001b[38;5;241;43m=\u001b[39;49m\u001b[38;5;28;43;01mFalse\u001b[39;49;00m\u001b[43m,\u001b[49m\u001b[43m \u001b[49m\u001b[43msampling_type\u001b[49m\u001b[38;5;241;43m=\u001b[39;49m\u001b[38;5;124;43m'\u001b[39;49m\u001b[38;5;124;43mmin\u001b[39;49m\u001b[38;5;124;43m'\u001b[39;49m\u001b[43m,\u001b[49m\u001b[43m \u001b[49m\u001b[43mreindex\u001b[49m\u001b[38;5;241;43m=\u001b[39;49m\u001b[38;5;28;43;01mFalse\u001b[39;49;00m\u001b[43m,\u001b[49m\n\u001b[1;32m    155\u001b[0m \u001b[43m                                \u001b[49m\u001b[43mmultip\u001b[49m\u001b[38;5;241;43m=\u001b[39;49m\u001b[38;5;241;43m0\u001b[39;49m\u001b[43m,\u001b[49m\u001b[43m \u001b[49m\u001b[43mnnets\u001b[49m\u001b[38;5;241;43m=\u001b[39;49m\u001b[38;5;241;43m1\u001b[39;49m\u001b[43m,\u001b[49m\u001b[43m \u001b[49m\u001b[43mniters\u001b[49m\u001b[38;5;241;43m=\u001b[39;49m\u001b[38;5;241;43m1\u001b[39;49m\u001b[43m,\u001b[49m\u001b[43m \u001b[49m\u001b[43mnevents\u001b[49m\u001b[38;5;241;43m=\u001b[39;49m\u001b[38;5;241;43m0\u001b[39;49m\u001b[43m,\u001b[49m\u001b[43m \u001b[49m\u001b[43mnoncomp\u001b[49m\u001b[38;5;241;43m=\u001b[39;49m\u001b[38;5;241;43m0\u001b[39;49m\u001b[43m,\u001b[49m\u001b[43m \u001b[49m\u001b[43mnoncomp_after\u001b[49m\u001b[38;5;241;43m=\u001b[39;49m\u001b[38;5;241;43m10000\u001b[39;49m\u001b[43m,\u001b[49m\n\u001b[1;32m    156\u001b[0m \u001b[43m                                \u001b[49m\u001b[43mdraw\u001b[49m\u001b[38;5;241;43m=\u001b[39;49m\u001b[38;5;241;43m0\u001b[39;49m\u001b[43m,\u001b[49m\u001b[43m \u001b[49m\u001b[43mdraw_iter\u001b[49m\u001b[38;5;241;43m=\u001b[39;49m\u001b[38;5;241;43m0\u001b[39;49m\u001b[43m,\u001b[49m\u001b[43m \u001b[49m\u001b[43mdraw_fullname\u001b[49m\u001b[38;5;241;43m=\u001b[39;49m\u001b[38;5;28;43;01mTrue\u001b[39;49;00m\u001b[43m,\u001b[49m\u001b[43m \u001b[49m\u001b[43mdraw_layout\u001b[49m\u001b[38;5;241;43m=\u001b[39;49m\u001b[38;5;124;43m'\u001b[39;49m\u001b[38;5;124;43mgraphviz\u001b[39;49m\u001b[38;5;124;43m'\u001b[39;49m\u001b[43m,\u001b[49m\n\u001b[1;32m    157\u001b[0m \u001b[43m                                \u001b[49m\u001b[43msummary_print\u001b[49m\u001b[38;5;241;43m=\u001b[39;49m\u001b[38;5;241;43m0\u001b[39;49m\u001b[43m,\u001b[49m\u001b[43m \u001b[49m\u001b[43msummary_splits\u001b[49m\u001b[38;5;241;43m=\u001b[39;49m\u001b[38;5;241;43m20\u001b[39;49m\u001b[43m,\u001b[49m\u001b[43m \u001b[49m\u001b[43mavg_without_earlystop\u001b[49m\u001b[38;5;241;43m=\u001b[39;49m\u001b[38;5;28;43;01mTrue\u001b[39;49;00m\u001b[43m)\u001b[49m\n\u001b[1;32m    158\u001b[0m     \u001b[38;5;66;03m# here the key for inspecting results is either 'res' (For one episode) or the latest epsilon (For multiple episodes)\u001b[39;00m\n\u001b[1;32m    159\u001b[0m     key \u001b[38;5;241m=\u001b[39m \u001b[38;5;124m'\u001b[39m\u001b[38;5;124mres\u001b[39m\u001b[38;5;124m'\u001b[39m \u001b[38;5;28;01mif\u001b[39;00m \u001b[38;5;124m'\u001b[39m\u001b[38;5;124mres\u001b[39m\u001b[38;5;124m'\u001b[39m \u001b[38;5;129;01min\u001b[39;00m st \u001b[38;5;28;01melse\u001b[39;00m eps[\u001b[38;5;241m-\u001b[39m\u001b[38;5;241m1\u001b[39m]\n",
      "File \u001b[0;32m/mainfs/home/ar5g15/control-diffusion/lib/run_tracing.py:468\u001b[0m, in \u001b[0;36mrun_mock\u001b[0;34m(**kwargs)\u001b[0m\n\u001b[1;32m    465\u001b[0m \u001b[38;5;28;01mfor\u001b[39;00m k \u001b[38;5;129;01min\u001b[39;00m PARAMETER_DEFAULTS\u001b[38;5;241m.\u001b[39mkeys():\n\u001b[1;32m    466\u001b[0m     \u001b[38;5;28mvars\u001b[39m(argmock)[k] \u001b[38;5;241m=\u001b[39m kwargs\u001b[38;5;241m.\u001b[39mget(k, PARAMETER_DEFAULTS[k])\n\u001b[0;32m--> 468\u001b[0m \u001b[38;5;28;01mreturn\u001b[39;00m \u001b[43mmain\u001b[49m\u001b[43m(\u001b[49m\u001b[43margmock\u001b[49m\u001b[43m)\u001b[49m\n",
      "File \u001b[0;32m/mainfs/home/ar5g15/control-diffusion/lib/run_tracing.py:442\u001b[0m, in \u001b[0;36mmain\u001b[0;34m(args)\u001b[0m\n\u001b[1;32m    438\u001b[0m     \u001b[38;5;28mprint\u001b[39m(\u001b[38;5;124m'\u001b[39m\u001b[38;5;124m----- Simulating network no.\u001b[39m\u001b[38;5;124m'\u001b[39m, inet, \u001b[38;5;124m'\u001b[39m\u001b[38;5;124m-----\u001b[39m\u001b[38;5;124m'\u001b[39m)\n\u001b[1;32m    440\u001b[0m \u001b[38;5;66;03m# Run simulation, and since no distribution required, return the last networks for inspection purposes\u001b[39;00m\n\u001b[1;32m    441\u001b[0m \u001b[38;5;66;03m# extra_return will be a tuple of true_net, know_net\u001b[39;00m\n\u001b[0;32m--> 442\u001b[0m net_events, true_and_know_nets \u001b[38;5;241m=\u001b[39m \u001b[43mengine\u001b[49m\u001b[43m(\u001b[49m\u001b[43minet\u001b[49m\u001b[43m,\u001b[49m\u001b[43m \u001b[49m\u001b[43mreturn_last_net\u001b[49m\u001b[38;5;241;43m=\u001b[39;49m\u001b[38;5;28;43;01mTrue\u001b[39;49;00m\u001b[43m)\u001b[49m\n\u001b[1;32m    444\u001b[0m \u001b[38;5;66;03m# Record sim results\u001b[39;00m\n\u001b[1;32m    445\u001b[0m stats\u001b[38;5;241m.\u001b[39msim_summary[inet] \u001b[38;5;241m=\u001b[39m net_events\n",
      "File \u001b[0;32m/mainfs/home/ar5g15/control-diffusion/lib/tracing/multirun_engine.py:182\u001b[0m, in \u001b[0;36mEngineNet.__call__\u001b[0;34m(self, inet, return_last_net)\u001b[0m\n\u001b[1;32m    179\u001b[0m     engine\u001b[38;5;241m.\u001b[39mreinit_net(first_inf_nodes)\n\u001b[1;32m    181\u001b[0m \u001b[38;5;66;03m# Run simulation\u001b[39;00m\n\u001b[0;32m--> 182\u001b[0m stats_events \u001b[38;5;241m=\u001b[39m \u001b[43mengine\u001b[49m\u001b[43m(\u001b[49m\u001b[43mitr\u001b[49m\u001b[43m)\u001b[49m\n\u001b[1;32m    183\u001b[0m \u001b[38;5;66;03m# Record sim results\u001b[39;00m\n\u001b[1;32m    184\u001b[0m net_events[itr] \u001b[38;5;241m=\u001b[39m stats_events\n",
      "File \u001b[0;32m/mainfs/home/ar5g15/control-diffusion/lib/tracing/multirun_engine.py:821\u001b[0m, in \u001b[0;36mEngineOne.__call__\u001b[0;34m(self, itr)\u001b[0m\n\u001b[1;32m    817\u001b[0m \u001b[38;5;28;01melse\u001b[39;00m:\n\u001b[1;32m    818\u001b[0m     \u001b[38;5;66;03m# in the first iteration, we also assume some knowledge about the infection statuses exists\u001b[39;00m\n\u001b[1;32m    819\u001b[0m     \u001b[38;5;66;03m# this knowledge is controlled by args.initial_known\u001b[39;00m\n\u001b[1;32m    820\u001b[0m     initial_known_ids \u001b[38;5;241m=\u001b[39m np\u001b[38;5;241m.\u001b[39mwhere(true_net\u001b[38;5;241m.\u001b[39mnode_infected)[\u001b[38;5;241m0\u001b[39m][:initial_known] \u001b[38;5;28;01mif\u001b[39;00m control_iter \u001b[38;5;241m==\u001b[39m \u001b[38;5;241m0\u001b[39m \u001b[38;5;28;01melse\u001b[39;00m ()\n\u001b[0;32m--> 821\u001b[0m     pos, traced \u001b[38;5;241m=\u001b[39m \u001b[43magent\u001b[49m\u001b[38;5;241;43m.\u001b[39;49m\u001b[43mcontrol\u001b[49m\u001b[43m(\u001b[49m\u001b[43mtrue_net\u001b[49m\u001b[43m,\u001b[49m\u001b[43m \u001b[49m\u001b[43mcontrol_iter\u001b[49m\u001b[43m,\u001b[49m\u001b[43m \u001b[49m\u001b[43minitial_known_ids\u001b[49m\u001b[43m,\u001b[49m\u001b[43m \u001b[49m\u001b[43mnet_changed\u001b[49m\u001b[43m)\u001b[49m\n\u001b[1;32m    822\u001b[0m     isolated \u001b[38;5;241m=\u001b[39m \u001b[38;5;28mlen\u001b[39m(pos) \u001b[38;5;241m+\u001b[39m \u001b[38;5;28mlen\u001b[39m(traced)\n\u001b[1;32m    823\u001b[0m     m[\u001b[38;5;124m'\u001b[39m\u001b[38;5;124mtotalTraced\u001b[39m\u001b[38;5;124m'\u001b[39m] \u001b[38;5;241m+\u001b[39m\u001b[38;5;241m=\u001b[39m isolated\n",
      "File \u001b[0;32m/mainfs/home/ar5g15/control-diffusion/lib/agent.py:269\u001b[0m, in \u001b[0;36mAgent.control\u001b[0;34m(self, net, control_iter, initial_known_ids, net_changed)\u001b[0m\n\u001b[1;32m    266\u001b[0m                         visited\u001b[38;5;241m.\u001b[39madd(k_nbr)\n\u001b[1;32m    267\u001b[0m                         \u001b[38;5;66;03m# increment by one the entry of the depth k neighbor \u001b[39;00m\n\u001b[1;32m    268\u001b[0m                         \u001b[38;5;66;03m# (in its k-1 position, as indexes start from 0)\u001b[39;00m\n\u001b[0;32m--> 269\u001b[0m                         known_inf_neigh[k_nbr][k \u001b[38;5;241m-\u001b[39m \u001b[38;5;241m1\u001b[39m] \u001b[38;5;241m+\u001b[39m\u001b[38;5;241m=\u001b[39m \u001b[38;5;241m1\u001b[39m\n\u001b[1;32m    270\u001b[0m \u001b[38;5;28;01melse\u001b[39;00m:\n\u001b[1;32m    271\u001b[0m     neg\u001b[38;5;241m.\u001b[39mappend(nid)\n",
      "\u001b[0;31mKeyboardInterrupt\u001b[0m: "
     ]
    }
   ],
   "source": [
    "import copy\n",
    "import torch\n",
    "import torch.nn as nn\n",
    "import torch_geometric.nn as pyg_nn\n",
    "\n",
    "import lib.run_tracing as run\n",
    "import lib.tracing.multirun_engine as eng\n",
    "import lib.tracing.utils as utils\n",
    "import lib.tracing.network as network\n",
    "import lib.tracing.stats as stat\n",
    "import lib.tracing.simulation as sim\n",
    "from lib.tracing.utils import rel\n",
    "import lib.agent as agent\n",
    "import lib.rank_model as rank\n",
    "rel(utils, stat, sim, network, agent, eng, run)\n",
    "\n",
    "def init_weights(m):\n",
    "    \"\"\"\n",
    "    recursively initializes the weights of the model\n",
    "    \"\"\"\n",
    "    if isinstance(m, nn.Linear):\n",
    "        nn.init.kaiming_uniform_(m.weight, nonlinearity='relu')\n",
    "    # for older versions of PYG which had a weight parameter directly within the MessagePassing class\n",
    "    elif isinstance(m, pyg_nn.MessagePassing) and hasattr(m, 'weight'):\n",
    "        nn.init.kaiming_uniform_(m.weight)\n",
    "    # # some modules may not have a bias or they may use the name with a bool value to trigger other behavior\n",
    "    if hasattr(m, 'bias') and isinstance(m.bias, torch.Tensor):\n",
    "        m.bias.data.fill_(0.01)\n",
    "\n",
    "# whether to instantiate a new model (will be done automatically if 'model' not in globals)\n",
    "change_model = bool(1) or 'model' not in globals()\n",
    "# torch.manual_seed for instatiating parameters (only relevant if change_model!)\n",
    "torch_seed = 15\n",
    "# whether to load ckp parameters of the model or not\n",
    "load = 0\n",
    "# k-hops infection neighborhood to dynamically store as feature for each node\n",
    "k_hops = 2\n",
    "# static features to calculate for each node\n",
    "static_measures = ('degree', 'eigenvector', 'rand:5',)\n",
    "# global learning rate to use (0 is disabled) - this can be overwritten if change_model and NO loading of parameters from ckp\n",
    "lr = 0\n",
    "# multiprocessing type\n",
    "multip = 0\n",
    "# init weights override\n",
    "is_init_weights = 1\n",
    "# ensemble number\n",
    "n_models = 1\n",
    "\n",
    "        \n",
    "if change_model:\n",
    "    try:\n",
    "        model = model.model\n",
    "    except (NameError, AttributeError):\n",
    "        print('Instantiating new model.', end=' ')\n",
    "        input_features = 4 + k_hops\n",
    "        for measure in static_measures:\n",
    "            try:\n",
    "                input_features += int(measure.split(':')[1])\n",
    "            except IndexError:\n",
    "                input_features += 1\n",
    "        rel(rank)\n",
    "        model_class = rank.EnsembleModel if n_models > 1 else rank.RankingModel\n",
    "        model = model_class(input_features, 1,\n",
    "                                  n_models=n_models,\n",
    "                                  layer_name='GINE',\n",
    "                                  # layer_kwargs=dict(num_layers=5),\n",
    "                                  num_layers=4,\n",
    "                                  norm_layer='LayerNorm',\n",
    "                                  use_edge_attr=1, # whether to use edge_attr or not in InfoModel\n",
    "                                  edge_dim=2, # edge_attr has 2 dims that need to be linearly transformed\n",
    "                                  edge_attr_scaling=True, # needed for many GNN models with edge_attr\n",
    "                                  last_fully_adjacent=1,\n",
    "                                  add_self_loops=1,\n",
    "                                  diff_add_self_loops=1,\n",
    "                                  diff_layer_name='GAT2',\n",
    "                                  diff_layer_kwargs=dict(edge_dim=2, add_self_loops=0, heads=1, concat=False),\n",
    "                                  diff_use_edge_attr=1, # whether to use the edge_weights or not (i.e. edge_attr at index 0)\n",
    "                                  nonlin='ReLU',\n",
    "                                  agg='cat',\n",
    "                                  reduce_h='std',\n",
    "                                  dropout=0,\n",
    "                                  dropout_head=0,\n",
    "                                  layers_head=1,\n",
    "                                  linear_head=1,\n",
    "                                  nonlin_head='ReLU',\n",
    "                                  state_score_method='max',\n",
    "                                  last_incl_gnn_outs=0,\n",
    "                                  torch_seed=torch_seed,\n",
    "                                  reset_h_seed=-1,\n",
    "                                  deterministic=1,\n",
    "                                 )\n",
    "        if load:\n",
    "            print('Loading from pretrain...', end=' ')\n",
    "            model.load_state_dict(torch.load('saved/ranking_0.pt'))\n",
    "        else:\n",
    "            if is_init_weights:\n",
    "                print('Manually init weights...', end=' ')\n",
    "                model.apply(init_weights)\n",
    "            lr = 1e-4\n",
    "        \n",
    "    if multip:\n",
    "        model.share_memory()\n",
    "\n",
    "\n",
    "print(f'{lr=}')\n",
    "optimizer = torch.optim.Adam(model.parameters(), weight_decay=.1)\n",
    "online = 1\n",
    "ag = dict(\n",
    "    typ='sl',\n",
    "    rl_sampler='softmax',\n",
    "    # gamma, lambda, reward_scale, actor_loss, clip_ratio, value_coeff, entropy_coeff, ce_coeff, eligibility, target_update\n",
    "    rl_args=(.99, .97, 1, 'ppo', -0.2, 0.5, 0, 0, 1, 5),\n",
    "    ranking_model=model,\n",
    "    target_model=copy.deepcopy(model) if online else None,\n",
    "    debug_print=-1,\n",
    "    index_weight=-1,\n",
    "    pos_weight=False,\n",
    "    mark_delay_same_edges=False,\n",
    "    lr=lr,\n",
    "    online=online,\n",
    "    epochs=5,\n",
    "    batch_size=10,\n",
    "    grad_clip=.5,\n",
    "    optimizer=optimizer,\n",
    "    optimizer_kwargs=dict(weight_decay=.1),\n",
    "    scheduler=torch.optim.lr_scheduler.StepLR(optimizer, 50, 0.2),\n",
    "    measure='closeness',\n",
    "    record_edges=True,\n",
    "    static_measures=static_measures, \n",
    "    n_test=2,\n",
    "    n_trace=0,\n",
    "    tester=True,\n",
    "    tracer=False,\n",
    "    k_hops=k_hops,\n",
    "    seed=12,\n",
    "    dist_over_sample=1, # IF distrib is over the sample (T) OR all the nodes (F); when True, only logp = y_pred[nodes] is possible\n",
    "    logp_from_score=1, # IF logp = y_pred[nodes] (T) OR logp = pi.log_prob(nodes) (F)\n",
    "    logpold_from_score=1 # IF logp_old = y_pred[nodes] (T) OR logp_old = pi.log_prob(nodes) (F)\n",
    ")\n",
    "\n",
    "\n",
    "n_episodes = 50\n",
    "eps_start = .5\n",
    "eps_decay = .99\n",
    "eps = [round(eps_start * eps_decay**i, 5) for i in range(n_episodes)]\n",
    "error_del_model = 1\n",
    "\n",
    "torch.autograd.set_detect_anomaly(False)\n",
    "st = extra = False\n",
    "try:\n",
    "    st, extra = run.run_mock(agent=ag, control_after=5, control_after_inf=.05, control_initial_known=.25, control_gpu=1,\n",
    "                                first_inf=5, presample=10000, pa=.2, taur=0, taut=eps, update_after=1, edge_sample_size=[],\n",
    "                                nettype='barabasi:5:1', netsize=1000, k=2.8, p=.1, rem_orphans=False, use_weights=True, dual=0,\n",
    "                                seed=21, netseed=25, infseed=-1, model='seir', spontan=False, sampling_type='min', reindex=False,\n",
    "                                multip=0, nnets=1, niters=1, nevents=0, noncomp=0, noncomp_after=10000,\n",
    "                                draw=0, draw_iter=0, draw_fullname=True, draw_layout='graphviz',\n",
    "                                summary_print=0, summary_splits=20, avg_without_earlystop=True)\n",
    "    # here the key for inspecting results is either 'res' (For one episode) or the latest epsilon (For multiple episodes)\n",
    "    key = 'res' if 'res' in st else eps[-1]\n",
    "    print('Total infected: ', st[key]['average-overall-infected']['mean'])\n",
    "    print('Max infected: ', st[key]['average-max-infected']['mean'])\n",
    "    print('%healthy: ', st[key]['average-%healthy']['mean'], '±', st[key]['average-%healthy']['std'])\n",
    "except (Exception, BaseException) as e:\n",
    "    if error_del_model:\n",
    "        del model, ag, st, extra\n",
    "        torch.cuda.empty_cache()\n",
    "        !nvidia-smi\n",
    "    raise e"
   ]
  },
  {
   "cell_type": "code",
   "execution_count": null,
   "id": "47521a4b-c033-460f-851f-cbfe3ae63064",
   "metadata": {},
   "outputs": [],
   "source": []
  },
  {
   "cell_type": "code",
   "execution_count": null,
   "id": "a46e84ad-5bb1-411f-9d9e-90ee45775b0a",
   "metadata": {},
   "outputs": [],
   "source": []
  },
  {
   "cell_type": "code",
   "execution_count": null,
   "id": "bf2bef0c-4890-4921-8da1-c75a1938f106",
   "metadata": {},
   "outputs": [],
   "source": []
  },
  {
   "cell_type": "code",
   "execution_count": null,
   "id": "e93284a9-52d4-4ed6-8e5b-0c6489af2c19",
   "metadata": {},
   "outputs": [],
   "source": []
  },
  {
   "cell_type": "code",
   "execution_count": null,
   "id": "3ab9350b-deb5-4f9a-8e4d-d5ee2f6a57e7",
   "metadata": {},
   "outputs": [],
   "source": []
  },
  {
   "cell_type": "code",
   "execution_count": 31,
   "id": "5727c395-073d-4ac7-804b-c35d47358216",
   "metadata": {},
   "outputs": [
    {
     "name": "stdout",
     "output_type": "stream",
     "text": [
      "Instantiating new model. Manually init weights... lr=0.0001\n",
      "                                                                                                                       \n",
      "Running iteration 0 with eps = 0.5:\n",
      "---> Result: 700 total infected over time. %healthy = 0.3                                                              \n",
      "Iterations simulation progress: 100%|████████████████████████████████████████████████████| 1/1 [00:03<00:00,  3.53s/it]\n",
      "                                                                                                                       \n",
      "Running iteration 0 with eps = 0.495:\n",
      "---> Result: 642 total infected over time. %healthy = 0.358                                                            \n",
      "Iterations simulation progress: 100%|████████████████████████████████████████████████████| 1/1 [00:03<00:00,  3.92s/it]\n",
      "                                                                                                                       \n",
      "Running iteration 0 with eps = 0.49005:\n",
      "---> Result: 639 total infected over time. %healthy = 0.361                                                            \n",
      "Iterations simulation progress: 100%|████████████████████████████████████████████████████| 1/1 [00:03<00:00,  3.68s/it]\n",
      "                                                                                                                       \n",
      "Running iteration 0 with eps = 0.48515:\n",
      "---> Result: 639 total infected over time. %healthy = 0.361                                                            \n",
      "Iterations simulation progress: 100%|████████████████████████████████████████████████████| 1/1 [00:04<00:00,  4.07s/it]\n",
      "                                                                                                                       \n",
      "Running iteration 0 with eps = 0.4803:\n",
      "---> Result: 563 total infected over time. %healthy = 0.437                                                            \n",
      "Iterations simulation progress: 100%|████████████████████████████████████████████████████| 1/1 [00:03<00:00,  3.35s/it]\n",
      "                                                                                                                       \n",
      "Running iteration 0 with eps = 0.4755:\n",
      "Changing target model...                                                                                               \n",
      "---> Result: 565 total infected over time. %healthy = 0.435                                                            \n",
      "Iterations simulation progress: 100%|████████████████████████████████████████████████████| 1/1 [00:03<00:00,  3.62s/it]\n",
      "                                                                                                                       \n",
      "Running iteration 0 with eps = 0.47074:\n",
      "---> Result: 511 total infected over time. %healthy = 0.489                                                            \n",
      "Iterations simulation progress: 100%|████████████████████████████████████████████████████| 1/1 [00:03<00:00,  3.71s/it]\n",
      "                                                                                                                       \n",
      "Running iteration 0 with eps = 0.46603:\n",
      "---> Result: 545 total infected over time. %healthy = 0.455                                                            \n",
      "Iterations simulation progress: 100%|████████████████████████████████████████████████████| 1/1 [00:03<00:00,  3.73s/it]\n",
      "                                                                                                                       \n",
      "Running iteration 0 with eps = 0.46137:\n",
      "---> Result: 498 total infected over time. %healthy = 0.502                                                            \n",
      "Iterations simulation progress: 100%|████████████████████████████████████████████████████| 1/1 [00:03<00:00,  3.22s/it]\n",
      "                                                                                                                       \n",
      "Running iteration 0 with eps = 0.45676:\n",
      "---> Result: 482 total infected over time. %healthy = 0.518                                                            \n",
      "Iterations simulation progress: 100%|████████████████████████████████████████████████████| 1/1 [00:02<00:00,  2.87s/it]\n",
      "                                                                                                                       \n",
      "Running iteration 0 with eps = 0.45219:\n",
      "Changing target model...                                                                                               \n",
      "---> Result: 514 total infected over time. %healthy = 0.486                                                            \n",
      "Iterations simulation progress: 100%|████████████████████████████████████████████████████| 1/1 [00:03<00:00,  3.29s/it]\n",
      "                                                                                                                       \n",
      "Running iteration 0 with eps = 0.44767:\n",
      "---> Result: 516 total infected over time. %healthy = 0.484                                                            \n",
      "Iterations simulation progress: 100%|████████████████████████████████████████████████████| 1/1 [00:02<00:00,  3.00s/it]\n",
      "                                                                                                                       \n",
      "Running iteration 0 with eps = 0.44319:\n",
      "---> Result: 516 total infected over time. %healthy = 0.484                                                            \n",
      "Iterations simulation progress: 100%|████████████████████████████████████████████████████| 1/1 [00:03<00:00,  3.29s/it]\n",
      "                                                                                                                       \n",
      "Running iteration 0 with eps = 0.43876:\n",
      "---> Result: 516 total infected over time. %healthy = 0.484                                                            \n",
      "Iterations simulation progress: 100%|████████████████████████████████████████████████████| 1/1 [00:03<00:00,  3.20s/it]\n",
      "                                                                                                                       \n",
      "Running iteration 0 with eps = 0.43437:\n",
      "---> Result: 485 total infected over time. %healthy = 0.515                                                            \n",
      "Iterations simulation progress: 100%|████████████████████████████████████████████████████| 1/1 [00:03<00:00,  3.17s/it]\n",
      "                                                                                                                       \n",
      "Running iteration 0 with eps = 0.43003:\n",
      "Changing target model...                                                                                               \n",
      "---> Result: 487 total infected over time. %healthy = 0.513                                                            \n",
      "Iterations simulation progress: 100%|████████████████████████████████████████████████████| 1/1 [00:03<00:00,  3.40s/it]\n",
      "                                                                                                                       \n",
      "Running iteration 0 with eps = 0.42573:\n",
      "---> Result: 509 total infected over time. %healthy = 0.491                                                            \n",
      "Iterations simulation progress: 100%|████████████████████████████████████████████████████| 1/1 [00:03<00:00,  3.18s/it]\n",
      "                                                                                                                       \n",
      "Running iteration 0 with eps = 0.42147:\n",
      "---> Result: 483 total infected over time. %healthy = 0.517                                                            \n",
      "Iterations simulation progress: 100%|████████████████████████████████████████████████████| 1/1 [00:03<00:00,  3.06s/it]\n",
      "                                                                                                                       \n",
      "Running iteration 0 with eps = 0.41726:\n",
      "---> Result: 442 total infected over time. %healthy = 0.558                                                            \n",
      "Iterations simulation progress: 100%|████████████████████████████████████████████████████| 1/1 [00:03<00:00,  3.19s/it]\n",
      "                                                                                                                       \n",
      "Running iteration 0 with eps = 0.41308:\n",
      "---> Result: 467 total infected over time. %healthy = 0.533                                                            \n",
      "Iterations simulation progress: 100%|████████████████████████████████████████████████████| 1/1 [00:02<00:00,  2.77s/it]\n",
      "                                                                                                                       \n",
      "Running iteration 0 with eps = 0.40895:\n",
      "Changing target model...                                                                                               \n",
      "---> Result: 492 total infected over time. %healthy = 0.508                                                            \n",
      "Iterations simulation progress: 100%|████████████████████████████████████████████████████| 1/1 [00:02<00:00,  2.92s/it]\n",
      "                                                                                                                       \n",
      "Running iteration 0 with eps = 0.40486:\n",
      "---> Result: 491 total infected over time. %healthy = 0.509                                                            \n",
      "Iterations simulation progress: 100%|████████████████████████████████████████████████████| 1/1 [00:03<00:00,  3.16s/it]\n",
      "                                                                                                                       \n",
      "Running iteration 0 with eps = 0.40082:\n",
      "---> Result: 488 total infected over time. %healthy = 0.512                                                            \n",
      "Iterations simulation progress: 100%|████████████████████████████████████████████████████| 1/1 [00:03<00:00,  3.07s/it]\n",
      "                                                                                                                       \n",
      "Running iteration 0 with eps = 0.39681:\n",
      "---> Result: 476 total infected over time. %healthy = 0.524                                                            \n",
      "Iterations simulation progress: 100%|████████████████████████████████████████████████████| 1/1 [00:03<00:00,  3.03s/it]\n",
      "                                                                                                                       \n",
      "Running iteration 0 with eps = 0.39284:\n",
      "---> Result: 467 total infected over time. %healthy = 0.533                                                            \n",
      "Iterations simulation progress: 100%|████████████████████████████████████████████████████| 1/1 [00:02<00:00,  2.77s/it]\n",
      "                                                                                                                       \n",
      "Running iteration 0 with eps = 0.38891:\n",
      "Changing target model...                                                                                               \n",
      "---> Result: 474 total infected over time. %healthy = 0.526                                                            \n",
      "Iterations simulation progress: 100%|████████████████████████████████████████████████████| 1/1 [00:02<00:00,  2.80s/it]\n",
      "                                                                                                                       \n",
      "Running iteration 0 with eps = 0.38502:\n",
      "---> Result: 488 total infected over time. %healthy = 0.512                                                            \n",
      "Iterations simulation progress: 100%|████████████████████████████████████████████████████| 1/1 [00:03<00:00,  3.10s/it]\n",
      "                                                                                                                       \n",
      "Running iteration 0 with eps = 0.38117:\n",
      "---> Result: 513 total infected over time. %healthy = 0.487                                                            \n",
      "Iterations simulation progress: 100%|████████████████████████████████████████████████████| 1/1 [00:03<00:00,  3.10s/it]\n",
      "                                                                                                                       \n",
      "Running iteration 0 with eps = 0.37736:\n",
      "---> Result: 520 total infected over time. %healthy = 0.48                                                             \n",
      "Iterations simulation progress: 100%|████████████████████████████████████████████████████| 1/1 [00:03<00:00,  3.38s/it]\n",
      "                                                                                                                       \n",
      "Running iteration 0 with eps = 0.37359:\n",
      "---> Result: 494 total infected over time. %healthy = 0.506                                                            \n",
      "Iterations simulation progress: 100%|████████████████████████████████████████████████████| 1/1 [00:03<00:00,  3.23s/it]\n",
      "                                                                                                                       \n",
      "Running iteration 0 with eps = 0.36985:\n",
      "Changing target model...                                                                                               \n",
      "---> Result: 484 total infected over time. %healthy = 0.516                                                            \n",
      "Iterations simulation progress: 100%|████████████████████████████████████████████████████| 1/1 [00:03<00:00,  3.16s/it]\n",
      "                                                                                                                       \n",
      "Running iteration 0 with eps = 0.36615:\n",
      "---> Result: 501 total infected over time. %healthy = 0.499                                                            \n",
      "Iterations simulation progress: 100%|████████████████████████████████████████████████████| 1/1 [00:03<00:00,  3.43s/it]\n",
      "                                                                                                                       \n",
      "Running iteration 0 with eps = 0.36249:\n",
      "---> Result: 479 total infected over time. %healthy = 0.521                                                            \n",
      "Iterations simulation progress: 100%|████████████████████████████████████████████████████| 1/1 [00:03<00:00,  3.39s/it]\n",
      "                                                                                                                       \n",
      "Running iteration 0 with eps = 0.35887:\n",
      "---> Result: 472 total infected over time. %healthy = 0.528                                                            \n",
      "Iterations simulation progress: 100%|████████████████████████████████████████████████████| 1/1 [00:02<00:00,  2.80s/it]\n",
      "                                                                                                                       \n",
      "Running iteration 0 with eps = 0.35528:\n",
      "---> Result: 459 total infected over time. %healthy = 0.541                                                            \n",
      "Iterations simulation progress: 100%|████████████████████████████████████████████████████| 1/1 [00:02<00:00,  2.69s/it]\n",
      "                                                                                                                       \n",
      "Running iteration 0 with eps = 0.35172:\n",
      "Changing target model...                                                                                               \n",
      "---> Result: 480 total infected over time. %healthy = 0.52                                                             \n",
      "Iterations simulation progress: 100%|████████████████████████████████████████████████████| 1/1 [00:03<00:00,  3.23s/it]\n",
      "                                                                                                                       \n",
      "Running iteration 0 with eps = 0.34821:\n",
      "---> Result: 496 total infected over time. %healthy = 0.504                                                            \n",
      "Iterations simulation progress: 100%|████████████████████████████████████████████████████| 1/1 [00:03<00:00,  3.14s/it]\n",
      "                                                                                                                       \n",
      "Running iteration 0 with eps = 0.34472:\n",
      "---> Result: 470 total infected over time. %healthy = 0.53                                                             \n",
      "Iterations simulation progress: 100%|████████████████████████████████████████████████████| 1/1 [00:03<00:00,  3.32s/it]\n",
      "                                                                                                                       \n",
      "Running iteration 0 with eps = 0.34128:\n",
      "---> Result: 456 total infected over time. %healthy = 0.544                                                            \n",
      "Iterations simulation progress: 100%|████████████████████████████████████████████████████| 1/1 [00:03<00:00,  3.20s/it]\n",
      "                                                                                                                       \n",
      "Running iteration 0 with eps = 0.33786:\n",
      "---> Result: 542 total infected over time. %healthy = 0.458                                                            \n",
      "Iterations simulation progress: 100%|████████████████████████████████████████████████████| 1/1 [00:03<00:00,  3.29s/it]\n",
      "                                                                                                                       \n",
      "Running iteration 0 with eps = 0.33449:\n",
      "Changing target model...                                                                                               \n",
      "---> Result: 479 total infected over time. %healthy = 0.521                                                            \n",
      "Iterations simulation progress: 100%|████████████████████████████████████████████████████| 1/1 [00:02<00:00,  2.95s/it]\n",
      "                                                                                                                       \n",
      "Running iteration 0 with eps = 0.33114:\n",
      "---> Result: 476 total infected over time. %healthy = 0.524                                                            \n",
      "Iterations simulation progress: 100%|████████████████████████████████████████████████████| 1/1 [00:03<00:00,  3.17s/it]\n",
      "                                                                                                                       \n",
      "Running iteration 0 with eps = 0.32783:\n",
      "---> Result: 472 total infected over time. %healthy = 0.528                                                            \n",
      "Iterations simulation progress: 100%|████████████████████████████████████████████████████| 1/1 [00:03<00:00,  3.02s/it]\n",
      "                                                                                                                       \n",
      "Running iteration 0 with eps = 0.32455:\n",
      "---> Result: 444 total infected over time. %healthy = 0.556                                                            \n",
      "Iterations simulation progress: 100%|████████████████████████████████████████████████████| 1/1 [00:02<00:00,  2.84s/it]\n",
      "                                                                                                                       \n",
      "Running iteration 0 with eps = 0.32131:\n",
      "---> Result: 453 total infected over time. %healthy = 0.547                                                            \n",
      "Iterations simulation progress: 100%|████████████████████████████████████████████████████| 1/1 [00:03<00:00,  3.08s/it]\n",
      "                                                                                                                       \n",
      "Running iteration 0 with eps = 0.31809:\n",
      "Changing target model...                                                                                               \n",
      "---> Result: 453 total infected over time. %healthy = 0.547                                                            \n",
      "Iterations simulation progress: 100%|████████████████████████████████████████████████████| 1/1 [00:02<00:00,  2.71s/it]\n",
      "                                                                                                                       \n",
      "Running iteration 0 with eps = 0.31491:\n",
      "---> Result: 479 total infected over time. %healthy = 0.521                                                            \n",
      "Iterations simulation progress: 100%|████████████████████████████████████████████████████| 1/1 [00:03<00:00,  3.10s/it]\n",
      "                                                                                                                       \n",
      "Running iteration 0 with eps = 0.31176:\n",
      "---> Result: 471 total infected over time. %healthy = 0.529                                                            \n",
      "Iterations simulation progress: 100%|████████████████████████████████████████████████████| 1/1 [00:02<00:00,  2.99s/it]\n",
      "                                                                                                                       \n",
      "Running iteration 0 with eps = 0.30865:\n",
      "---> Result: 476 total infected over time. %healthy = 0.524                                                            \n",
      "Iterations simulation progress: 100%|████████████████████████████████████████████████████| 1/1 [00:02<00:00,  2.96s/it]\n",
      "                                                                                                                       \n",
      "Running iteration 0 with eps = 0.30556:\n",
      "---> Result: 503 total infected over time. %healthy = 0.497                                                            \n",
      "Iterations simulation progress: 100%|████████████████████████████████████████████████████| 1/1 [00:03<00:00,  3.21s/it]\n",
      "Total infected:  503.0\n",
      "Max infected:  503.0\n",
      "%healthy:  0.5 ± 0\n"
     ]
    }
   ],
   "source": [
    "import copy\n",
    "import torch\n",
    "import torch.nn as nn\n",
    "import torch_geometric.nn as pyg_nn\n",
    "\n",
    "import lib.run_tracing as run\n",
    "import lib.tracing.multirun_engine as eng\n",
    "import lib.tracing.utils as utils\n",
    "import lib.tracing.network as network\n",
    "import lib.tracing.stats as stat\n",
    "import lib.tracing.simulation as sim\n",
    "from lib.tracing.utils import rel\n",
    "import lib.agent as agent\n",
    "import lib.rank_model as rank\n",
    "rel(utils, stat, sim, network, agent, eng, run)\n",
    "\n",
    "def init_weights(m):\n",
    "    \"\"\"\n",
    "    recursively initializes the weights of the model\n",
    "    \"\"\"\n",
    "    if isinstance(m, nn.Linear):\n",
    "        nn.init.kaiming_uniform_(m.weight, nonlinearity='relu')\n",
    "    # for older versions of PYG which had a weight parameter directly within the MessagePassing class\n",
    "    elif isinstance(m, pyg_nn.MessagePassing) and hasattr(m, 'weight'):\n",
    "        nn.init.kaiming_uniform_(m.weight)\n",
    "    # # some modules may not have a bias or they may use the name with a bool value to trigger other behavior\n",
    "    if hasattr(m, 'bias') and isinstance(m.bias, torch.Tensor):\n",
    "        m.bias.data.fill_(0.01)\n",
    "\n",
    "# whether to instantiate a new model (will be done automatically if 'model' not in globals)\n",
    "change_model = bool(1) or 'model' not in globals()\n",
    "# torch.manual_seed for instatiating parameters (only relevant if change_model!)\n",
    "torch_seed = 15\n",
    "# whether to load ckp parameters of the model or not\n",
    "load = 0\n",
    "# k-hops infection neighborhood to dynamically store as feature for each node\n",
    "k_hops = 2\n",
    "# static features to calculate for each node\n",
    "static_measures = ('degree', 'eigenvector', 'rand:5',)\n",
    "# global learning rate to use (0 is disabled) - this can be overwritten if change_model and NO loading of parameters from ckp\n",
    "lr = 0\n",
    "# multiprocessing type\n",
    "multip = 0\n",
    "# init weights override\n",
    "is_init_weights = 1\n",
    "# ensemble number\n",
    "n_models = 1\n",
    "\n",
    "        \n",
    "if change_model:\n",
    "    try:\n",
    "        model = model.model\n",
    "    except (NameError, AttributeError):\n",
    "        print('Instantiating new model.', end=' ')\n",
    "        input_features = 4 + k_hops\n",
    "        for measure in static_measures:\n",
    "            try:\n",
    "                input_features += int(measure.split(':')[1])\n",
    "            except IndexError:\n",
    "                input_features += 1\n",
    "        rel(rank)\n",
    "        model_class = rank.EnsembleModel if n_models > 1 else rank.RankingModel\n",
    "        model = model_class(input_features, 1,\n",
    "                                  n_models=n_models,\n",
    "                                  layer_name='GINE',\n",
    "                                  # layer_kwargs=dict(num_layers=5),\n",
    "                                  num_layers=4,\n",
    "                                  norm_layer='LayerNorm',\n",
    "                                  use_edge_attr=1, # whether to use edge_attr or not in InfoModel\n",
    "                                  edge_dim=2, # edge_attr has 2 dims that need to be linearly transformed\n",
    "                                  edge_attr_scaling=True, # needed for many GNN models with edge_attr\n",
    "                                  last_fully_adjacent=1,\n",
    "                                  add_self_loops=1,\n",
    "                                  diff_add_self_loops=1,\n",
    "                                  diff_layer_name='GAT2',\n",
    "                                  diff_layer_kwargs=dict(edge_dim=2, add_self_loops=0, heads=1, concat=False),\n",
    "                                  diff_use_edge_attr=1, # whether to use the edge_weights or not (i.e. edge_attr at index 0)\n",
    "                                  nonlin='ReLU',\n",
    "                                  agg='cat',\n",
    "                                  reduce_h='std',\n",
    "                                  dropout=0,\n",
    "                                  dropout_head=0,\n",
    "                                  layers_head=1,\n",
    "                                  linear_head=1,\n",
    "                                  nonlin_head='ReLU',\n",
    "                                  state_score_method='max',\n",
    "                                  last_incl_gnn_outs=0,\n",
    "                                  torch_seed=torch_seed,\n",
    "                                  reset_h_seed=-1,\n",
    "                                  deterministic=1,\n",
    "                                 )\n",
    "        if load:\n",
    "            print('Loading from pretrain...', end=' ')\n",
    "            model.load_state_dict(torch.load('saved/ranking_0.pt'))\n",
    "        else:\n",
    "            if is_init_weights:\n",
    "                print('Manually init weights...', end=' ')\n",
    "                model.apply(init_weights)\n",
    "            lr = 1e-4\n",
    "        \n",
    "    if multip:\n",
    "        model.share_memory()\n",
    "\n",
    "\n",
    "print(f'{lr=}')\n",
    "optimizer = torch.optim.Adam(model.parameters(), weight_decay=.1)\n",
    "online = 1\n",
    "ag = dict(\n",
    "    typ='sl',\n",
    "    rl_sampler='softmax',\n",
    "    # gamma, lambda, reward_scale, actor_loss, clip_ratio, value_coeff, entropy_coeff, ce_coeff, eligibility, target_update\n",
    "    rl_args=(.99, .97, 1, 'ppo', -0.2, 0.5, 0, 0, 1, 5),\n",
    "    ranking_model=model,\n",
    "    target_model=copy.deepcopy(model) if online else None,\n",
    "    debug_print=-1,\n",
    "    index_weight=-1,\n",
    "    pos_weight=False,\n",
    "    mark_delay_same_edges=False,\n",
    "    gpu=1,\n",
    "    lr=lr,\n",
    "    online=online,\n",
    "    epochs=5,\n",
    "    batch_size=10,\n",
    "    grad_clip=.5,\n",
    "    optimizer=optimizer,\n",
    "    optimizer_kwargs=dict(weight_decay=.1),\n",
    "    scheduler=torch.optim.lr_scheduler.StepLR(optimizer, 50, 0.2),\n",
    "    measure='closeness',\n",
    "    record_edges=True,\n",
    "    static_measures=static_measures, \n",
    "    n_test=2,\n",
    "    n_trace=0,\n",
    "    tester=True,\n",
    "    tracer=False,\n",
    "    k_hops=k_hops,\n",
    "    seed=12,\n",
    "    dist_over_sample=1, # IF distrib is over the sample (T) OR all the nodes (F); when True, only logp = y_pred[nodes] is possible\n",
    "    logp_from_score=1, # IF logp = y_pred[nodes] (T) OR logp = pi.log_prob(nodes) (F)\n",
    "    logpold_from_score=1 # IF logp_old = y_pred[nodes] (T) OR logp_old = pi.log_prob(nodes) (F)\n",
    ")\n",
    "\n",
    "\n",
    "n_episodes = 50\n",
    "eps_start = .5\n",
    "eps_decay = .99\n",
    "eps = [round(eps_start * eps_decay**i, 5) for i in range(n_episodes)]\n",
    "error_del_model = 1\n",
    "\n",
    "torch.autograd.set_detect_anomaly(False)\n",
    "st = extra = False\n",
    "try:\n",
    "    st, extra = run.run_mock(agent=ag, control_after=5, control_after_inf=.05, control_initial_known=.25,\n",
    "                                first_inf=5, presample=10000, pa=.2, taur=0, taut=eps,\n",
    "                                nettype='barabasi:5:1', netsize=1000, k=2.8, p=.1, rem_orphans=False, use_weights=True, dual=0,\n",
    "                                seed=21, netseed=25, infseed=-1, model='seir', spontan=False, sampling_type='min', update_after=1, reindex=False,\n",
    "                                multip=0, nnets=1, niters=1, nevents=0, noncomp=0, noncomp_after=10000,\n",
    "                                draw=0, draw_iter=0, draw_fullname=True, draw_layout='graphviz',\n",
    "                                summary_print=0, summary_splits=20, avg_without_earlystop=True)\n",
    "    # here the key for inspecting results is either 'res' (For one episode) or the latest epsilon (For multiple episodes)\n",
    "    key = 'res' if 'res' in st else eps[-1]\n",
    "    print('Total infected: ', st[key]['average-overall-infected']['mean'])\n",
    "    print('Max infected: ', st[key]['average-max-infected']['mean'])\n",
    "    print('%healthy: ', st[key]['average-%healthy']['mean'], '±', st[key]['average-%healthy']['std'])\n",
    "except (Exception, BaseException) as e:\n",
    "    if error_del_model:\n",
    "        del model, ag, st, extra\n",
    "        torch.cuda.empty_cache()\n",
    "        !nvidia-smi\n",
    "    raise e"
   ]
  },
  {
   "cell_type": "code",
   "execution_count": null,
   "id": "50e68e3c-2e60-4cda-9a60-3a64115e0d43",
   "metadata": {},
   "outputs": [],
   "source": []
  },
  {
   "cell_type": "code",
   "execution_count": null,
   "id": "09c3786a-dc1f-4edc-96bc-1ae48b3fc7ed",
   "metadata": {},
   "outputs": [],
   "source": []
  },
  {
   "cell_type": "code",
   "execution_count": null,
   "id": "5e4475d1-603f-4e45-b45a-803b9e9cb44f",
   "metadata": {},
   "outputs": [],
   "source": []
  },
  {
   "cell_type": "code",
   "execution_count": null,
   "id": "fb23fb27-c60e-4bdc-94ec-aa639533cf21",
   "metadata": {},
   "outputs": [],
   "source": []
  },
  {
   "cell_type": "code",
   "execution_count": null,
   "id": "d6e75683-f207-4f3f-9ca2-03e4bf813a5d",
   "metadata": {},
   "outputs": [],
   "source": []
  },
  {
   "cell_type": "code",
   "execution_count": null,
   "id": "16d5268a-3a7d-4308-9df6-4bc03ff18c52",
   "metadata": {},
   "outputs": [],
   "source": [
    "import copy\n",
    "import torch\n",
    "import torch.nn as nn\n",
    "import torch_geometric.nn as pyg_nn\n",
    "\n",
    "import lib.run_tracing as run\n",
    "import lib.tracing.multirun_engine as eng\n",
    "import lib.tracing.utils as utils\n",
    "import lib.tracing.network as network\n",
    "import lib.tracing.stats as stat\n",
    "import lib.tracing.simulation as sim\n",
    "from lib.tracing.utils import rel\n",
    "import lib.agent as agent\n",
    "import lib.rank_model as rank\n",
    "rel(utils, stat, sim, network, agent, eng, run)\n",
    "\n",
    "def init_weights(m):\n",
    "    \"\"\"\n",
    "    recursively initializes the weights of the model\n",
    "    \"\"\"\n",
    "    if isinstance(m, nn.Linear):\n",
    "        nn.init.kaiming_uniform_(m.weight, nonlinearity='relu')\n",
    "    # for older versions of PYG which had a weight parameter directly within the MessagePassing class\n",
    "    elif isinstance(m, pyg_nn.MessagePassing) and hasattr(m, 'weight'):\n",
    "        nn.init.xavier_uniform_(m.weight)\n",
    "    # some modules may not have a bias or they may use the name with a bool value to trigger other behavior\n",
    "    if hasattr(m, 'bias') and isinstance(m.bias, torch.Tensor):\n",
    "        m.bias.data.fill_(0.01)\n",
    "\n",
    "# whether to instantiate a new model (will be done automatically if 'model' not in globals)\n",
    "change_model = bool(1) or 'model' not in globals()\n",
    "# torch.manual_seed for instatiating parameters (only relevant if change_model!)\n",
    "torch_seed = 13\n",
    "# whether to load ckp parameters of the model or not\n",
    "load = 0\n",
    "# k-hops infection neighborhood to dynamically store as feature for each node\n",
    "k_hops = 2\n",
    "# static features to calculate for each node\n",
    "static_measures = ('degree', 'eigenvector', 'rand:3')\n",
    "# global learning rate to use (0 is disabled) - this can be overwritten if change_model and NO loading of parameters from ckp\n",
    "lr = 0\n",
    "# multiprocessing type\n",
    "multip = 0\n",
    "# init weights override\n",
    "is_init_weights = 1\n",
    "\n",
    "        \n",
    "if change_model:\n",
    "    try:\n",
    "        model = model.model\n",
    "    except (NameError, AttributeError):\n",
    "        print('Instantiating new model.', end=' ')\n",
    "        input_features = 4 + k_hops\n",
    "        for measure in static_measures:\n",
    "            try:\n",
    "                input_features += int(measure.split(':')[1])\n",
    "            except IndexError:\n",
    "                input_features += 1\n",
    "        rel(rank)\n",
    "        model = rank.RankingModel(input_features, 1,\n",
    "                                  layer_name='GINE',\n",
    "                                  # layer_kwargs=dict(num_layers=5),\n",
    "                                  num_layers=4,\n",
    "                                  norm_layer='LayerNorm',\n",
    "                                  use_edge_attr=1, # whether to use edge_attr or not in InfoModel\n",
    "                                  edge_dim=2, # edge_attr has 2 dims that need to be linearly transformed\n",
    "                                  edge_attr_scaling=True, # needed for many GNN models with edge_attr\n",
    "                                  last_fully_adjacent=1,\n",
    "                                  add_self_loops=0,\n",
    "                                  diff_layer_name='GAT2',\n",
    "                                  diff_layer_kwargs=dict(edge_dim=2, add_self_loops=1, heads=1, concat=False),\n",
    "                                  diff_use_edge_attr=1, # whether to use the edge_weights or not (i.e. edge_attr at index 0)\n",
    "                                  nonlin='ReLU',\n",
    "                                  agg='cat',\n",
    "                                  reduce_h='mean-std',\n",
    "                                  dropout=0,\n",
    "                                  dropout_head=0,\n",
    "                                  layers_head=1,\n",
    "                                  linear_head=1,\n",
    "                                  nonlin_head='ReLU',\n",
    "                                  state_score_method='max',\n",
    "                                  last_incl_gnn_outs=0,\n",
    "                                  torch_seed=torch_seed,\n",
    "                                  reset_h_seed=-1,\n",
    "                                  deterministic=0\n",
    "                                 )\n",
    "        if load:\n",
    "            print('Loading from pretrain...', end=' ')\n",
    "            model.load_state_dict(torch.load('saved/ranking_0.pt'))\n",
    "        else:\n",
    "            if is_init_weights:\n",
    "                print('Manually init weights...', end=' ')\n",
    "                model.apply(init_weights)\n",
    "            lr = 1e-3\n",
    "        \n",
    "    if multip:\n",
    "        model.share_memory()\n",
    "\n",
    "\n",
    "print(f'{lr=}')\n",
    "optimizer = torch.optim.Adam(model.parameters(), weight_decay=.1)\n",
    "online = 1\n",
    "ag = dict(\n",
    "    typ='sl',\n",
    "    rl_sampler='softmax',\n",
    "    # gamma, lambda, reward_scale, clip_ratio, value_coeff, entropy_coeff, ce_coeff, eligibility, target_update\n",
    "    rl_args=(.99, .97, 1, -0.2, 0.5, 0.01, 0, 1, 5),\n",
    "    ranking_model=model,\n",
    "    target_model=copy.deepcopy(model) if online else None,\n",
    "    debug_print=-1,\n",
    "    index_weight=-1,\n",
    "    pos_weight=False,\n",
    "    mark_delay_same_edges=False,\n",
    "    gpu=1,\n",
    "    lr=lr,\n",
    "    online=online,\n",
    "    batch_size=5,\n",
    "    grad_clip=.5,\n",
    "    optimizer=optimizer,\n",
    "    optimizer_kwargs=dict(weight_decay=.1),\n",
    "    scheduler=torch.optim.lr_scheduler.StepLR(optimizer, 100, 0.1),\n",
    "    measure='degree',\n",
    "    record_edges=True,\n",
    "    static_measures=static_measures, \n",
    "    n_test=2,\n",
    "    n_trace=0,\n",
    "    tester=True,\n",
    "    tracer=False,\n",
    "    k_hops=k_hops,\n",
    "    seed=12,\n",
    ")\n",
    "\n",
    "\n",
    "n_episodes = 50\n",
    "eps_start = .5\n",
    "eps_decay = .99\n",
    "eps = [round(eps_start * eps_decay**i, 5) for i in range(n_episodes)]\n",
    "error_del_model = 1\n",
    "\n",
    "torch.autograd.set_detect_anomaly(False)\n",
    "st = extra = False\n",
    "try:\n",
    "    st, extra = run.run_mock(agent=ag, control_after=5, control_after_inf=.05, control_initial_known=.25,\n",
    "                                first_inf=5, presample=10000, pa=.2, taut=eps,\n",
    "                                nettype='barabasi:5:1', netsize=1000, k=2.8, p=.1, rem_orphans=False, use_weights=True, dual=0,\n",
    "                                seed=21, netseed=25, infseed=-1, model='seir', spontan=False, sampling_type='min', update_after=1, reindex=False,\n",
    "                                multip=0, nnets=1, niters=1, nevents=0, noncomp=0, noncomp_after=10000,\n",
    "                                draw=0, draw_iter=0, draw_fullname=True, draw_layout='graphviz',\n",
    "                                summary_print=0, summary_splits=20, avg_without_earlystop=True)\n",
    "    # here the key for inspecting results is either 'res' (For one episode) or the latest epsilon (For multiple episodes)\n",
    "    key = 'res' if 'res' in st else eps[-1]\n",
    "    print('Total infected: ', st[key]['average-overall-infected']['mean'])\n",
    "    print('Max infected: ', st[key]['average-max-infected']['mean'])\n",
    "    print('%healthy: ', st[key]['average-%healthy']['mean'], '±', st[key]['average-%healthy']['std'])\n",
    "except (Exception, BaseException) as e:\n",
    "    if error_del_model:\n",
    "        del model, ag, st, extra\n",
    "        torch.cuda.empty_cache()\n",
    "        !nvidia-smi\n",
    "    raise e"
   ]
  },
  {
   "cell_type": "code",
   "execution_count": null,
   "id": "15b75d36-f9ce-4307-a36a-b9882cb5c0ec",
   "metadata": {},
   "outputs": [],
   "source": [
    "import copy\n",
    "import torch\n",
    "import torch.nn as nn\n",
    "import torch_geometric.nn as pyg_nn\n",
    "\n",
    "import lib.run_tracing as run\n",
    "import lib.tracing.multirun_engine as eng\n",
    "import lib.tracing.utils as utils\n",
    "import lib.tracing.network as network\n",
    "import lib.tracing.stats as stat\n",
    "import lib.tracing.simulation as sim\n",
    "from lib.tracing.utils import rel\n",
    "import lib.agent as agent\n",
    "import lib.rank_model as rank\n",
    "rel(utils, stat, sim, network, agent, eng, run)\n",
    "\n",
    "def init_weights(m):\n",
    "    \"\"\"\n",
    "    recursively initializes the weights of the model\n",
    "    \"\"\"\n",
    "    if isinstance(m, nn.Linear):\n",
    "        nn.init.kaiming_uniform_(m.weight, nonlinearity='relu')\n",
    "    # for older versions of PYG which had a weight parameter directly within the MessagePassing class\n",
    "    elif isinstance(m, pyg_nn.MessagePassing) and hasattr(m, 'weight'):\n",
    "        nn.init.xavier_uniform_(m.weight)\n",
    "    # some modules may not have a bias or they may use the name with a bool value to trigger other behavior\n",
    "    if hasattr(m, 'bias') and isinstance(m.bias, torch.Tensor):\n",
    "        m.bias.data.fill_(0.01)\n",
    "\n",
    "# whether to instantiate a new model (will be done automatically if 'model' not in globals)\n",
    "change_model = bool(1) or 'model' not in globals()\n",
    "# torch.manual_seed for instatiating parameters (only relevant if change_model!)\n",
    "torch_seed = 13\n",
    "# whether to load ckp parameters of the model or not\n",
    "load = 0\n",
    "# k-hops infection neighborhood to dynamically store as feature for each node\n",
    "k_hops = 2\n",
    "# static features to calculate for each node\n",
    "static_measures = ('degree', 'eigenvector', 'rand:3')\n",
    "# global learning rate to use (0 is disabled) - this can be overwritten if change_model and NO loading of parameters from ckp\n",
    "lr = 0\n",
    "# multiprocessing type\n",
    "multip = 0\n",
    "# init weights override\n",
    "is_init_weights = 1\n",
    "\n",
    "        \n",
    "if change_model:\n",
    "    try:\n",
    "        model = model.model\n",
    "    except (NameError, AttributeError):\n",
    "        print('Instantiating new model.', end=' ')\n",
    "        input_features = 4 + k_hops\n",
    "        for measure in static_measures:\n",
    "            try:\n",
    "                input_features += int(measure.split(':')[1])\n",
    "            except IndexError:\n",
    "                input_features += 1\n",
    "        rel(rank)\n",
    "        model = rank.RankingModel(input_features, 1,\n",
    "                                  layer_name='GINE',\n",
    "                                  # layer_kwargs=dict(num_layers=5),\n",
    "                                  num_layers=4,\n",
    "                                  norm_layer='LayerNorm',\n",
    "                                  use_edge_attr=1, # whether to use edge_attr or not in InfoModel\n",
    "                                  edge_dim=2, # edge_attr has 2 dims that need to be linearly transformed\n",
    "                                  edge_attr_scaling=True, # needed for many GNN models with edge_attr\n",
    "                                  last_fully_adjacent=1,\n",
    "                                  add_self_loops=0,\n",
    "                                  diff_layer_name='GAT2',\n",
    "                                  diff_layer_kwargs=dict(edge_dim=2, add_self_loops=1, heads=1, concat=False),\n",
    "                                  diff_use_edge_attr=1, # whether to use the edge_weights or not (i.e. edge_attr at index 0)\n",
    "                                  nonlin='ReLU',\n",
    "                                  agg='cat',\n",
    "                                  reduce_h='mean-std',\n",
    "                                  dropout=0,\n",
    "                                  dropout_head=0,\n",
    "                                  layers_head=1,\n",
    "                                  linear_head=1,\n",
    "                                  nonlin_head='ReLU',\n",
    "                                  state_score_method='max',\n",
    "                                  last_incl_gnn_outs=0,\n",
    "                                  torch_seed=torch_seed,\n",
    "                                  reset_h_seed=-1,\n",
    "                                  deterministic=0\n",
    "                                 )\n",
    "        if load:\n",
    "            print('Loading from pretrain...', end=' ')\n",
    "            model.load_state_dict(torch.load('saved/ranking_0.pt'))\n",
    "        else:\n",
    "            if is_init_weights:\n",
    "                print('Manually init weights...', end=' ')\n",
    "                model.apply(init_weights)\n",
    "            lr = 1e-3\n",
    "        \n",
    "    if multip:\n",
    "        model.share_memory()\n",
    "\n",
    "\n",
    "print(f'{lr=}')\n",
    "optimizer = torch.optim.Adam(model.parameters(), weight_decay=.1)\n",
    "online = 1\n",
    "ag = dict(\n",
    "    typ='sl',\n",
    "    rl_sampler='softmax',\n",
    "    # gamma, lambda, reward_scale, clip_ratio, value_coeff, entropy_coeff, ce_coeff, eligibility, target_update\n",
    "    rl_args=(.99, .97, 1, -0.2, 0.5, 0.01, 0, 1, 5),\n",
    "    ranking_model=model,\n",
    "    target_model=copy.deepcopy(model) if online else None,\n",
    "    debug_print=-1,\n",
    "    index_weight=-1,\n",
    "    pos_weight=False,\n",
    "    mark_delay_same_edges=False,\n",
    "    gpu=1,\n",
    "    lr=lr,\n",
    "    online=online,\n",
    "    batch_size=5,\n",
    "    grad_clip=.5,\n",
    "    optimizer=optimizer,\n",
    "    optimizer_kwargs=dict(weight_decay=.1),\n",
    "    scheduler=torch.optim.lr_scheduler.StepLR(optimizer, 100, 0.1),\n",
    "    measure='degree',\n",
    "    record_edges=True,\n",
    "    static_measures=static_measures, \n",
    "    n_test=2,\n",
    "    n_trace=0,\n",
    "    tester=True,\n",
    "    tracer=False,\n",
    "    k_hops=k_hops,\n",
    "    seed=12,\n",
    ")\n",
    "\n",
    "\n",
    "n_episodes = 50\n",
    "eps_start = .5\n",
    "eps_decay = .99\n",
    "eps = [round(eps_start * eps_decay**i, 5) for i in range(n_episodes)]\n",
    "error_del_model = 1\n",
    "\n",
    "torch.autograd.set_detect_anomaly(False)\n",
    "st = extra = False\n",
    "try:\n",
    "    st, extra = run.run_mock(agent=ag, control_after=5, control_after_inf=.05, control_initial_known=.25,\n",
    "                                first_inf=5, presample=10000, pa=.2, taut=eps,\n",
    "                                nettype='barabasi:5:1', netsize=1000, k=2.8, p=.1, rem_orphans=False, use_weights=True, dual=0,\n",
    "                                seed=21, netseed=25, infseed=-1, model='seir', spontan=False, sampling_type='min', update_after=1, reindex=False,\n",
    "                                multip=0, nnets=1, niters=1, nevents=0, noncomp=0, noncomp_after=10000,\n",
    "                                draw=0, draw_iter=0, draw_fullname=True, draw_layout='graphviz',\n",
    "                                summary_print=0, summary_splits=20, avg_without_earlystop=True)\n",
    "    # here the key for inspecting results is either 'res' (For one episode) or the latest epsilon (For multiple episodes)\n",
    "    key = 'res' if 'res' in st else eps[-1]\n",
    "    print('Total infected: ', st[key]['average-overall-infected']['mean'])\n",
    "    print('Max infected: ', st[key]['average-max-infected']['mean'])\n",
    "    print('%healthy: ', st[key]['average-%healthy']['mean'], '±', st[key]['average-%healthy']['std'])\n",
    "except (Exception, BaseException) as e:\n",
    "    if error_del_model:\n",
    "        del model, ag, st, extra\n",
    "        torch.cuda.empty_cache()\n",
    "        !nvidia-smi\n",
    "    raise e"
   ]
  },
  {
   "cell_type": "code",
   "execution_count": null,
   "id": "6241a662-3fc4-44d5-8354-229049547005",
   "metadata": {},
   "outputs": [],
   "source": []
  },
  {
   "cell_type": "code",
   "execution_count": null,
   "id": "9e699b3d-89d7-4b54-bb7a-8c7ce5017c44",
   "metadata": {},
   "outputs": [],
   "source": []
  },
  {
   "cell_type": "code",
   "execution_count": null,
   "id": "67e65a6f-5d23-46b4-8fd9-78c5f7b608f4",
   "metadata": {},
   "outputs": [],
   "source": []
  },
  {
   "cell_type": "code",
   "execution_count": 42,
   "id": "20c5069d-9dad-4cd7-acbb-6e752316656c",
   "metadata": {},
   "outputs": [
    {
     "data": {
      "image/png": "[encoded data removed]",
      "text/plain": [
       "<Figure size 432x288 with 1 Axes>"
      ]
     },
     "metadata": {
      "needs_background": "light"
     },
     "output_type": "display_data"
    }
   ],
   "source": [
    "import numpy as np\n",
    "import matplotlib.pyplot as plt\n",
    "res = np.array([st[k]['average-overall-infected']['mean'] for k in eps])\n",
    "\n",
    "plt.title('Agents over multiple episodes with same seed')\n",
    "plt.xlabel('episode')\n",
    "plt.ylabel('total infected')\n",
    "plt.plot(range(len(eps)), res, label='RL')\n",
    "plt.plot(range(len(eps)), [816] * len(eps), label='Random')\n",
    "plt.plot(range(len(eps)), [503] * len(eps), label='Degree')\n",
    "plt.plot(range(len(eps)), [568] * len(eps), label='Closeness')\n",
    "plt.plot(range(len(eps)), [505] * len(eps), label='Betweenness')\n",
    "plt.plot(range(len(eps)), [635] * len(eps), label='Eigenvector')\n",
    "plt.legend()\n",
    "plt.savefig('fig/rl_over_eps.pdf', format='pdf', bbox_inches='tight')"
   ]
  },
  {
   "cell_type": "code",
   "execution_count": 129,
   "id": "9ec8308f-8848-4a98-9417-024c99832e75",
   "metadata": {},
   "outputs": [],
   "source": []
  },
  {
   "cell_type": "code",
   "execution_count": 38,
   "id": "f9e646a6-4f98-4cd8-9159-ef4400d75e39",
   "metadata": {},
   "outputs": [],
   "source": [
    "entries = []"
   ]
  },
  {
   "cell_type": "code",
   "execution_count": null,
   "id": "b80478a5-3118-45d4-bd3e-7a14c7e8ec60",
   "metadata": {},
   "outputs": [],
   "source": [
    "for i, entry in enumerate(entries):\n",
    "    if entry['label'] == 'degree':\n",
    "        entry.remove(i)"
   ]
  },
  {
   "cell_type": "code",
   "execution_count": 130,
   "id": "fae976c3-8a79-4b69-99e5-ba764838e523",
   "metadata": {},
   "outputs": [
    {
     "data": {
      "image/png": "[encoded data removed]",
      "text/plain": [
       "<Figure size 720x576 with 1 Axes>"
      ]
     },
     "metadata": {
      "needs_background": "light"
     },
     "output_type": "display_data"
    }
   ],
   "source": [
    "from lib.tracing.utils import pkl, get_pkl\n",
    "import matplotlib.pyplot as plt\n",
    "\n",
    "# res_dict = st['res']['average-%healthy']\n",
    "# res_dict['label'] = 'sl-degree'\n",
    "# entries.append(res_dict)\n",
    "pkl(entries)\n",
    "\n",
    "fig, ax = plt.subplots(figsize=(10,8))\n",
    "plt.title('Evaluation seeds')\n",
    "ax.set_ylabel('%healthy')\n",
    "f = ax.bxp(entries, showfliers=False, showmeans=True)\n",
    "plt.savefig('fig/evaluation.pdf', format='pdf', bbox_inches='tight')"
   ]
  },
  {
   "cell_type": "code",
   "execution_count": null,
   "id": "92faf417-2371-44bb-b35c-728dd1f1f02d",
   "metadata": {},
   "outputs": [],
   "source": []
  },
  {
   "cell_type": "code",
   "execution_count": null,
   "id": "c334681b-573c-4e98-aa06-efd16f69dc04",
   "metadata": {},
   "outputs": [],
   "source": []
  },
  {
   "cell_type": "code",
   "execution_count": null,
   "id": "a6812ca8-5a75-43d4-9370-cdce872e2411",
   "metadata": {},
   "outputs": [],
   "source": []
  },
  {
   "cell_type": "code",
   "execution_count": null,
   "id": "2ddd2dd0-5b3e-45cd-b64c-7bbf1dc09fbc",
   "metadata": {},
   "outputs": [],
   "source": []
  },
  {
   "cell_type": "code",
   "execution_count": null,
   "id": "4aa3cc87-b0dd-48e5-959d-b16574b3675c",
   "metadata": {},
   "outputs": [],
   "source": []
  },
  {
   "cell_type": "code",
   "execution_count": null,
   "id": "703bb08b-ab05-447d-aea6-059b4b0dc851",
   "metadata": {},
   "outputs": [],
   "source": []
  },
  {
   "cell_type": "code",
   "execution_count": null,
   "id": "a65add6c-684a-4b0c-ab67-fd94768f56b7",
   "metadata": {},
   "outputs": [],
   "source": []
  },
  {
   "cell_type": "markdown",
   "id": "536416eb",
   "metadata": {},
   "source": [
    "<h2> SL"
   ]
  },
  {
   "cell_type": "code",
   "execution_count": 50,
   "id": "d66cab5f",
   "metadata": {},
   "outputs": [
    {
     "name": "stdout",
     "output_type": "stream",
     "text": [
      "%healthy:  0.37 ± 0.03\n"
     ]
    }
   ],
   "source": [
    "print('%healthy: ', st['res']['average-%healthy']['mean'], '±', st['res']['average-%healthy']['std']) # sl + gnn (ranking)"
   ]
  },
  {
   "cell_type": "code",
   "execution_count": 31,
   "id": "4558805b",
   "metadata": {},
   "outputs": [
    {
     "name": "stdout",
     "output_type": "stream",
     "text": [
      "%healthy:  0.37 ± 0.04\n"
     ]
    }
   ],
   "source": [
    "print('%healthy: ', st['res']['average-%healthy']['mean'], '±', st['res']['average-%healthy']['std']) # sl + gnn + degree (ranking)"
   ]
  },
  {
   "cell_type": "code",
   "execution_count": 17,
   "id": "92b5781e",
   "metadata": {},
   "outputs": [
    {
     "name": "stdout",
     "output_type": "stream",
     "text": [
      "%healthy:  0.34 ± 0.04\n"
     ]
    }
   ],
   "source": [
    "print('%healthy: ', st['res']['average-%healthy']['mean'], '±', st['res']['average-%healthy']['std']) # sl + gnn (just info)"
   ]
  },
  {
   "cell_type": "code",
   "execution_count": null,
   "id": "7ea8f22a",
   "metadata": {},
   "outputs": [],
   "source": []
  },
  {
   "cell_type": "markdown",
   "id": "deda718a",
   "metadata": {},
   "source": [
    "<h2> Random"
   ]
  },
  {
   "cell_type": "code",
   "execution_count": 38,
   "id": "5d5c3a26",
   "metadata": {},
   "outputs": [
    {
     "name": "stdout",
     "output_type": "stream",
     "text": [
      "%healthy:  0.09 ± 0.02\n"
     ]
    }
   ],
   "source": [
    "print('%healthy: ', st['res']['average-%healthy']['mean'], '±', st['res']['average-%healthy']['std']) # random"
   ]
  },
  {
   "cell_type": "code",
   "execution_count": null,
   "id": "c55d176f",
   "metadata": {},
   "outputs": [],
   "source": []
  },
  {
   "cell_type": "markdown",
   "id": "0483668d",
   "metadata": {},
   "source": [
    "<h2> Neighbors/Counter"
   ]
  },
  {
   "cell_type": "code",
   "execution_count": 6,
   "id": "4ce51fe6",
   "metadata": {},
   "outputs": [
    {
     "name": "stdout",
     "output_type": "stream",
     "text": [
      "%healthy:  0.28 ± 0.04\n"
     ]
    }
   ],
   "source": [
    "print('%healthy: ', st['res']['average-%healthy']['mean'], '±', st['res']['average-%healthy']['std']) # neighbors"
   ]
  },
  {
   "cell_type": "code",
   "execution_count": null,
   "id": "22791afc",
   "metadata": {},
   "outputs": [],
   "source": []
  },
  {
   "cell_type": "markdown",
   "id": "0514ed61",
   "metadata": {},
   "source": [
    "<h2> Centralities or other static measurements"
   ]
  },
  {
   "cell_type": "code",
   "execution_count": 36,
   "id": "80312692",
   "metadata": {},
   "outputs": [
    {
     "name": "stdout",
     "output_type": "stream",
     "text": [
      "%healthy:  0.11 ± 0.02\n"
     ]
    }
   ],
   "source": [
    "print('%healthy: ', st['res']['average-%healthy']['mean'], '±', st['res']['average-%healthy']['std']) # clustering coefficient"
   ]
  },
  {
   "cell_type": "code",
   "execution_count": 8,
   "id": "4467dbf2",
   "metadata": {},
   "outputs": [
    {
     "name": "stdout",
     "output_type": "stream",
     "text": [
      "%healthy:  0.4 ± 0.03\n"
     ]
    }
   ],
   "source": [
    "print('%healthy: ', st['res']['average-%healthy']['mean'], '±', st['res']['average-%healthy']['std']) # degree"
   ]
  },
  {
   "cell_type": "code",
   "execution_count": 10,
   "id": "c9105ccc",
   "metadata": {},
   "outputs": [
    {
     "name": "stdout",
     "output_type": "stream",
     "text": [
      "%healthy:  0.29 ± 0.03\n"
     ]
    }
   ],
   "source": [
    "print('%healthy: ', st['res']['average-%healthy']['mean'], '±', st['res']['average-%healthy']['std']) # eigenvector"
   ]
  },
  {
   "cell_type": "code",
   "execution_count": 43,
   "id": "b23b8861",
   "metadata": {},
   "outputs": [
    {
     "name": "stdout",
     "output_type": "stream",
     "text": [
      "%healthy:  0.39 ± 0.03\n"
     ]
    }
   ],
   "source": [
    "print('%healthy: ', st['res']['average-%healthy']['mean'], '±', st['res']['average-%healthy']['std']) # betweenness centrality"
   ]
  },
  {
   "cell_type": "code",
   "execution_count": 12,
   "id": "a94288b4",
   "metadata": {},
   "outputs": [
    {
     "name": "stdout",
     "output_type": "stream",
     "text": [
      "%healthy:  0.4 ± 0.03\n"
     ]
    }
   ],
   "source": [
    "print('%healthy: ', st['res']['average-%healthy']['mean'], '±', st['res']['average-%healthy']['std']) # pagerank"
   ]
  },
  {
   "cell_type": "code",
   "execution_count": null,
   "id": "c82a3ffc",
   "metadata": {},
   "outputs": [],
   "source": []
  },
  {
   "cell_type": "code",
   "execution_count": null,
   "id": "16c2808a",
   "metadata": {},
   "outputs": [],
   "source": []
  },
  {
   "cell_type": "code",
   "execution_count": null,
   "id": "fe3a4a9d",
   "metadata": {},
   "outputs": [],
   "source": []
  },
  {
   "cell_type": "code",
   "execution_count": null,
   "id": "8c320eca",
   "metadata": {},
   "outputs": [],
   "source": []
  },
  {
   "cell_type": "code",
   "execution_count": null,
   "id": "404a3dac",
   "metadata": {},
   "outputs": [],
   "source": []
  },
  {
   "cell_type": "code",
   "execution_count": null,
   "id": "a2268f83",
   "metadata": {},
   "outputs": [],
   "source": []
  },
  {
   "cell_type": "code",
   "execution_count": null,
   "id": "327a82a3",
   "metadata": {},
   "outputs": [],
   "source": []
  },
  {
   "cell_type": "code",
   "execution_count": null,
   "id": "d8f61df0",
   "metadata": {},
   "outputs": [],
   "source": []
  },
  {
   "cell_type": "code",
   "execution_count": 236,
   "id": "6eb2ba89",
   "metadata": {},
   "outputs": [
    {
     "name": "stdout",
     "output_type": "stream",
     "text": [
      "=========================================================\n",
      "Running simulation with parameters:\n",
      "netsize = 1000, k = 10, dual = 0, model = seir\n",
      "overlap = 0.8, uptake = 0.5, maintain_overlap = False\n",
      "taut = 0, taur = 0, noncomp = 0, noncomp_dependtime = True\n",
      "=========================================================\n",
      "\n",
      "----- Simulating network no. 0 -----\n",
      "Running iteration 0:                                                                                                   \n",
      "---> Result:973 total infected persons over time.                                                                      \n",
      "Iterations simulation progress: 100%|████████████████████████████████████████████████████| 1/1 [00:08<00:00,  8.36s/it]\n"
     ]
    }
   ],
   "source": [
    "import lib.tracing.simulation as sim\n",
    "rel(utils, sim, stat, network, agent, eng, run)\n",
    "st = run.run_mock(agent=ag, control_after=0, nettype='barabasi', netsize=1000, k=10, isolate_s=False, first_inf=.1, presample=10000, pa=.2, \\\n",
    "                            p=.1, seed=11, trace_h=False, rem_orphans=True, taut=0, taut_two=-1, delay_two=4, model='seir', netseed=4, \\\n",
    "                            multip=multip, nnets=1, niters=1, dual=0, taur=0, noncomp=0, overlap_two=.7, noncomp_after=10000, \n",
    "                            uptake=.5, maintain_overlap=False, separate_traced=True, efforts=False, draw_fullname=True, \n",
    "                            draw=0, draw_iter=0, draw_layout='spring', sampling_type='min', nevents=0, trace_after=15,\n",
    "                            summary_print=-1, summary_splits=100, r_window=7, avg_without_earlystop=True, spontan=False)"
   ]
  },
  {
   "cell_type": "code",
   "execution_count": 237,
   "id": "0094b1a6",
   "metadata": {},
   "outputs": [
    {
     "data": {
      "text/plain": [
       "True"
      ]
     },
     "execution_count": 237,
     "metadata": {},
     "output_type": "execute_result"
    }
   ],
   "source": [
    "lst = [entry.time for entry in st[0][0][0][0]]\n",
    "sorted(lst) == lst"
   ]
  },
  {
   "cell_type": "code",
   "execution_count": null,
   "id": "7dcde8b5",
   "metadata": {},
   "outputs": [],
   "source": []
  },
  {
   "cell_type": "code",
   "execution_count": 67,
   "id": "36e8fbdc",
   "metadata": {},
   "outputs": [],
   "source": [
    "def predict(model, net, nodes=None):\n",
    "    x = torch.tensor(agent_inst.get_features(net, net_changed=True))\n",
    "    edge_index = torch.tensor(list(net.to_directed().edges)).t().contiguous()\n",
    "    try:\n",
    "        model_predict = model.model\n",
    "    except:\n",
    "        model_predict = model\n",
    "    model_predict.eval()\n",
    "    with torch.no_grad():\n",
    "        preds = model_predict(x, edge_index)\n",
    "    return preds[0].detach().cpu().numpy()"
   ]
  },
  {
   "cell_type": "code",
   "execution_count": null,
   "id": "10c76884",
   "metadata": {},
   "outputs": [],
   "source": [
    "from pprint import pprint\n",
    "import networkx as nx\n",
    "true = extra[1]\n",
    "true.init_states('S')\n",
    "nid = list(range(10, 100, 10))\n",
    "true.change_state(nid, 'I')\n",
    "pprint(f'Degree centralities: {nx.degree_centrality(true)}')\n",
    "print(f'Neighbors of infected node {nid}:')\n",
    "# print(list(true.neighbors(nid)))\n",
    "print()\n",
    "res = predict(model, true, range(len(true) - 1))\n",
    "pprint({nid: (true.node_infected[nid], res[nid].item()) for nid in true})"
   ]
  },
  {
   "cell_type": "code",
   "execution_count": null,
   "id": "46be0ce6",
   "metadata": {},
   "outputs": [],
   "source": []
  },
  {
   "cell_type": "code",
   "execution_count": null,
   "id": "e899134a",
   "metadata": {},
   "outputs": [],
   "source": []
  },
  {
   "cell_type": "code",
   "execution_count": null,
   "id": "aaa54a76",
   "metadata": {},
   "outputs": [],
   "source": []
  },
  {
   "cell_type": "code",
   "execution_count": null,
   "id": "2edab350",
   "metadata": {},
   "outputs": [],
   "source": []
  },
  {
   "cell_type": "code",
   "execution_count": null,
   "id": "33c92aee-2b2b-4f3e-80ce-c0c62163c06b",
   "metadata": {},
   "outputs": [],
   "source": []
  },
  {
   "cell_type": "code",
   "execution_count": null,
   "id": "19beeae9-c763-412c-98ce-3a366fa98edc",
   "metadata": {},
   "outputs": [],
   "source": []
  },
  {
   "cell_type": "code",
   "execution_count": null,
   "id": "2aeaafdb-76f2-46ed-807d-b6ec356d5fe3",
   "metadata": {},
   "outputs": [],
   "source": []
  },
  {
   "cell_type": "code",
   "execution_count": null,
   "id": "9502b986-e522-4208-abd7-34bb311cff56",
   "metadata": {},
   "outputs": [],
   "source": []
  }
 ],
 "metadata": {
  "kernelspec": {
   "display_name": "Python 3 (ipykernel)",
   "language": "python",
   "name": "python3"
  },
  "language_info": {
   "codemirror_mode": {
    "name": "ipython",
    "version": 3
   },
   "file_extension": ".py",
   "mimetype": "text/x-python",
   "name": "python",
   "nbconvert_exporter": "python",
   "pygments_lexer": "ipython3",
   "version": "3.9.12"
  }
 },
 "nbformat": 4,
 "nbformat_minor": 5
}
