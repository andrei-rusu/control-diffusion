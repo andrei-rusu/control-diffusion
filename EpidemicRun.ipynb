{
 "cells": [
  {
   "cell_type": "code",
   "execution_count": 6,
   "id": "bc8c6d95",
   "metadata": {},
   "outputs": [],
   "source": [
    "import torch\n",
    "import torch.nn.functional as F\n",
    "def loss_f(y_pred, y, data, **kwargs):\n",
    "    count = y.count_nonzero()\n",
    "    pos_weight = (len(y) - count) / count\n",
    "    weight = data.x[:, 0].detach()\n",
    "    return F.binary_cross_entropy_with_logits(y_pred, y, weight=weight, pos_weight=pos_weight)"
   ]
  },
  {
   "cell_type": "code",
   "execution_count": 7,
   "id": "83b0d235",
   "metadata": {},
   "outputs": [
    {
     "name": "stderr",
     "output_type": "stream",
     "text": [
      "Global seed set to 42\n",
      "GPU available: True, used: True\n",
      "TPU available: False, using: 0 TPU cores\n",
      "IPU available: False, using: 0 IPUs\n"
     ]
    },
    {
     "name": "stdout",
     "output_type": "stream",
     "text": [
      "No pretrained found, training...\n"
     ]
    },
    {
     "name": "stderr",
     "output_type": "stream",
     "text": [
      "LOCAL_RANK: 0 - CUDA_VISIBLE_DEVICES: [0]\n",
      "\n",
      "  | Name  | Type      | Params\n",
      "------------------------------------\n",
      "0 | model | InfoModel | 13.7 K\n",
      "------------------------------------\n",
      "13.7 K    Trainable params\n",
      "0         Non-trainable params\n",
      "13.7 K    Total params\n",
      "0.055     Total estimated model params size (MB)\n"
     ]
    },
    {
     "data": {
      "application/vnd.jupyter.widget-view+json": {
       "model_id": "",
       "version_major": 2,
       "version_minor": 0
      },
      "text/plain": [
       "HBox(children=(FloatProgress(value=1.0, bar_style='info', description='Validation sanity check', layout=Layout…"
      ]
     },
     "metadata": {},
     "output_type": "display_data"
    },
    {
     "name": "stderr",
     "output_type": "stream",
     "text": [
      "E:\\Anaconda\\envs\\graph\\lib\\site-packages\\pytorch_lightning\\trainer\\data_loading.py:105: UserWarning: The dataloader, val dataloader 0, does not have many workers which may be a bottleneck. Consider increasing the value of the `num_workers` argument` (try 8 which is the number of cpus on this machine) in the `DataLoader` init to improve performance.\n",
      "  rank_zero_warn(\n",
      "E:\\Anaconda\\envs\\graph\\lib\\site-packages\\torchmetrics\\utilities\\prints.py:36: UserWarning: No negative samples in targets, false positive value should be meaningless. Returning zero tensor in false positive score\n",
      "  warnings.warn(*args, **kwargs)\n",
      "Global seed set to 42\n",
      "E:\\Anaconda\\envs\\graph\\lib\\site-packages\\pytorch_lightning\\trainer\\data_loading.py:105: UserWarning: The dataloader, train dataloader, does not have many workers which may be a bottleneck. Consider increasing the value of the `num_workers` argument` (try 8 which is the number of cpus on this machine) in the `DataLoader` init to improve performance.\n",
      "  rank_zero_warn(\n",
      "E:\\Anaconda\\envs\\graph\\lib\\site-packages\\pytorch_lightning\\trainer\\data_loading.py:322: UserWarning: The number of training samples (21) is smaller than the logging interval Trainer(log_every_n_steps=50). Set a lower value for log_every_n_steps if you want to see logs for the training epoch.\n",
      "  rank_zero_warn(\n"
     ]
    },
    {
     "data": {
      "application/vnd.jupyter.widget-view+json": {
       "model_id": "97867cb6515a45b0b4ceb22113ca1c78",
       "version_major": 2,
       "version_minor": 0
      },
      "text/plain": [
       "HBox(children=(FloatProgress(value=1.0, bar_style='info', description='Training', layout=Layout(flex='2'), max…"
      ]
     },
     "metadata": {},
     "output_type": "display_data"
    },
    {
     "name": "stdout",
     "output_type": "stream",
     "text": [
      "\n"
     ]
    },
    {
     "name": "stderr",
     "output_type": "stream",
     "text": [
      "LOCAL_RANK: 0 - CUDA_VISIBLE_DEVICES: [0]\n",
      "LOCAL_RANK: 0 - CUDA_VISIBLE_DEVICES: [0]\n",
      "E:\\Anaconda\\envs\\graph\\lib\\site-packages\\pytorch_lightning\\trainer\\data_loading.py:105: UserWarning: The dataloader, test dataloader 0, does not have many workers which may be a bottleneck. Consider increasing the value of the `num_workers` argument` (try 8 which is the number of cpus on this machine) in the `DataLoader` init to improve performance.\n",
      "  rank_zero_warn(\n"
     ]
    },
    {
     "data": {
      "application/vnd.jupyter.widget-view+json": {
       "model_id": "7b5dca01b42e406c9e18a388b1620c3e",
       "version_major": 2,
       "version_minor": 0
      },
      "text/plain": [
       "HBox(children=(FloatProgress(value=1.0, bar_style='info', description='Testing', layout=Layout(flex='2'), max=…"
      ]
     },
     "metadata": {},
     "output_type": "display_data"
    },
    {
     "name": "stdout",
     "output_type": "stream",
     "text": [
      "\n",
      "Train accuracy: 79.59%\n",
      "Val accuracy:   92.59%\n",
      "Test accuracy:  94.07%\n"
     ]
    }
   ],
   "source": [
    "import lib.rank_model as rankers\n",
    "import lib.model as model_factory\n",
    "from lib.model import train_classifier, print_results\n",
    "rel(rankers,model_factory)\n",
    "model, result, trainer = train_classifier(ds, model_name='InfoModel', epochs=40, task='timenode', loader_workers=0, loss=loss_f, lr=1e-4,\n",
    "                                         edge_dim=0, batch_size=32)\n",
    "print_results(result)"
   ]
  },
  {
   "cell_type": "code",
   "execution_count": null,
   "id": "0cdf388c",
   "metadata": {},
   "outputs": [],
   "source": []
  },
  {
   "cell_type": "code",
   "execution_count": null,
   "id": "6bcaf91c",
   "metadata": {},
   "outputs": [],
   "source": []
  },
  {
   "cell_type": "code",
   "execution_count": null,
   "id": "71070875",
   "metadata": {},
   "outputs": [],
   "source": []
  },
  {
   "cell_type": "code",
   "execution_count": null,
   "id": "efffa21f",
   "metadata": {},
   "outputs": [
    {
     "name": "stdout",
     "output_type": "stream",
     "text": [
      "tensor([1, 2])\n"
     ]
    },
    {
     "data": {
      "text/plain": [
       "tensor([-1.0986, -0.6931], dtype=torch.float64)"
      ]
     },
     "execution_count": 159,
     "metadata": {},
     "output_type": "execute_result"
    }
   ],
   "source": [
    "from torch.distributions import Categorical\n",
    "m = Categorical(a)\n",
    "sampl = m.sample(sample_shape=(2,))\n",
    "print(sampl)\n",
    "m.log_prob(sampl)"
   ]
  },
  {
   "cell_type": "code",
   "execution_count": null,
   "id": "8ec6916b",
   "metadata": {},
   "outputs": [
    {
     "data": {
      "text/plain": [
       "tensor([-1.7918, -1.0986, -0.6931], dtype=torch.float64)"
      ]
     },
     "execution_count": 164,
     "metadata": {},
     "output_type": "execute_result"
    }
   ],
   "source": [
    "a.log()"
   ]
  },
  {
   "cell_type": "code",
   "execution_count": null,
   "id": "9565ec86",
   "metadata": {},
   "outputs": [
    {
     "data": {
      "text/plain": [
       "tensor([-1.7918, -1.0986, -0.6931], dtype=torch.float64)"
      ]
     },
     "execution_count": 162,
     "metadata": {},
     "output_type": "execute_result"
    }
   ],
   "source": [
    "m.logits"
   ]
  },
  {
   "cell_type": "code",
   "execution_count": null,
   "id": "b1536bbd",
   "metadata": {},
   "outputs": [],
   "source": [
    "value, log_pmf = torch.broadcast_tensors(value, self.logits)\n",
    "value = value[..., :1]"
   ]
  },
  {
   "cell_type": "code",
   "execution_count": 165,
   "id": "4a940e20",
   "metadata": {},
   "outputs": [
    {
     "data": {
      "text/plain": [
       "tensor(-1.7918, dtype=torch.float64)"
      ]
     },
     "execution_count": 165,
     "metadata": {},
     "output_type": "execute_result"
    }
   ],
   "source": [
    "a[0].log()"
   ]
  },
  {
   "cell_type": "code",
   "execution_count": null,
   "id": "146b9afd",
   "metadata": {},
   "outputs": [],
   "source": [
    "import torch\n",
    "import math\n",
    "\n",
    "dtype = torch.float\n",
    "device = torch.device(\"cpu\")\n",
    "# device = torch.device(\"cuda:0\")  # Uncomment this to run on GPU\n",
    "\n",
    "# Create Tensors to hold input and outputs.\n",
    "# By default, requires_grad=False, which indicates that we do not need to\n",
    "# compute gradients with respect to these Tensors during the backward pass.\n",
    "x = torch.linspace(-math.pi, math.pi, 2000, device=device, dtype=dtype)\n",
    "y = torch.sin(x)\n",
    "\n",
    "# Create random Tensors for weights. For a third order polynomial, we need\n",
    "# 4 weights: y = a + b x + c x^2 + d x^3\n",
    "# Setting requires_grad=True indicates that we want to compute gradients with\n",
    "# respect to these Tensors during the backward pass.\n",
    "a = torch.randn((), device=device, dtype=dtype, requires_grad=True)\n",
    "b = torch.randn((), device=device, dtype=dtype, requires_grad=True)\n",
    "c = torch.randn((), device=device, dtype=dtype, requires_grad=True)\n",
    "d = torch.randn((), device=device, dtype=dtype, requires_grad=True)\n",
    "\n",
    "learning_rate = 1e-6\n",
    "for t in range(2000):\n",
    "    # Forward pass: compute predicted y using operations on Tensors.\n",
    "    y_pred = a + b * x + c * x ** 2 + d * x ** 3\n",
    "\n",
    "    # Compute and print loss using operations on Tensors.\n",
    "    # Now loss is a Tensor of shape (1,)\n",
    "    # loss.item() gets the scalar value held in the loss.\n",
    "    loss = (y_pred - y).pow(2).sum()\n",
    "    if t % 100 == 99:\n",
    "        print(t, loss.item())\n",
    "\n",
    "    # Use autograd to compute the backward pass. This call will compute the\n",
    "    # gradient of loss with respect to all Tensors with requires_grad=True.\n",
    "    # After this call a.grad, b.grad. c.grad and d.grad will be Tensors holding\n",
    "    # the gradient of the loss with respect to a, b, c, d respectively.\n",
    "    loss.backward()\n",
    "\n",
    "    # Manually update weights using gradient descent. Wrap in torch.no_grad()\n",
    "    # because weights have requires_grad=True, but we don't need to track this\n",
    "    # in autograd.\n",
    "    with torch.no_grad():\n",
    "        a -= learning_rate * a.grad\n",
    "        b -= learning_rate * b.grad\n",
    "        c -= learning_rate * c.grad\n",
    "        d -= learning_rate * d.grad\n",
    "\n",
    "        # Manually zero the gradients after updating weights\n",
    "        a.grad = None\n",
    "        b.grad = None\n",
    "        c.grad = None\n",
    "        d.grad = None\n",
    "\n",
    "print(f'Result: y = {a.item()} + {b.item()} x + {c.item()} x^2 + {d.item()} x^3')"
   ]
  },
  {
   "cell_type": "code",
   "execution_count": null,
   "id": "d1c2b0e6",
   "metadata": {},
   "outputs": [],
   "source": []
  },
  {
   "cell_type": "code",
   "execution_count": null,
   "id": "040e6a4c-dae9-4dd6-be7b-90526d40c70b",
   "metadata": {},
   "outputs": [],
   "source": []
  },
  {
   "cell_type": "code",
   "execution_count": 55,
   "id": "6f4fd30d-6365-475a-80e9-3b5b10b0e0e5",
   "metadata": {},
   "outputs": [],
   "source": [
    "from torch_geometric.data import Data, Batch\n",
    "from torch_sparse import SparseTensor\n",
    "d1 = Data(x=torch.tensor([1,2,3]), edge_index=torch.tensor([[0,2,0], [1,1,2]]), edge_attr=torch.tensor([2,2]), edge_current=SparseTensor(row=torch.tensor([1,1,0]), col=torch.tensor([2,0,2]), sparse_sizes=(3,3)))\n",
    "d2 = Data(x=torch.tensor([4,5,3]), edge_index=torch.tensor([[0,0], [1,1]]), edge_attr=torch.tensor([2,2]), edge_current=SparseTensor(row=torch.tensor([2,1]), col=torch.tensor([0,0]), sparse_sizes=(3,3)))\n",
    "b = Batch.from_data_list((d1,d2))"
   ]
  },
  {
   "cell_type": "code",
   "execution_count": 67,
   "id": "41a9346c-584c-445d-8723-a6b6339eb644",
   "metadata": {},
   "outputs": [],
   "source": [
    "from torch_geometric.data import Data, Batch\n",
    "from torch_sparse import SparseTensor\n",
    "d1 = Data(x=torch.tensor([1,2,3]), edge_index=(torch.tensor([[0,2], [1,1]]), torch.tensor([[1,1,0], [2,0,2]])), edge_current=torch.tensor([[1,1,0], [2,0,2]]).T)\n",
    "d2 = Data(x=torch.tensor([4,5,3]), edge_index=(torch.tensor([[0,0], [1,1]]), torch.tensor([[2,1], [0,0]])), edge_current=torch.tensor([[2,1], [0,0]]).T)\n",
    "b = Batch.from_data_list((d1,d2))"
   ]
  },
  {
   "cell_type": "code",
   "execution_count": 68,
   "id": "4251b534-a4d0-45da-a7ba-72459ee2e155",
   "metadata": {},
   "outputs": [
    {
     "data": {
      "text/plain": [
       "[tensor([[0, 2, 3, 3],\n",
       "         [1, 1, 4, 4]]),\n",
       " tensor([[1, 1, 0, 5, 4],\n",
       "         [2, 0, 2, 3, 3]])]"
      ]
     },
     "execution_count": 68,
     "metadata": {},
     "output_type": "execute_result"
    }
   ],
   "source": [
    "b.edge_index"
   ]
  },
  {
   "cell_type": "code",
   "execution_count": null,
   "id": "3966f384-7663-4667-990a-2e39485e19f7",
   "metadata": {},
   "outputs": [],
   "source": []
  },
  {
   "cell_type": "code",
   "execution_count": null,
   "id": "04f9adcc-adee-457d-a8d2-c2dbfa2d45dd",
   "metadata": {},
   "outputs": [],
   "source": []
  },
  {
   "cell_type": "code",
   "execution_count": null,
   "id": "691a059f-ca8f-4c91-a869-6ac70b1d6bee",
   "metadata": {},
   "outputs": [],
   "source": []
  },
  {
   "cell_type": "code",
   "execution_count": 298,
   "id": "1504a90e-264f-4c15-8981-1d5a4deaa087",
   "metadata": {},
   "outputs": [
    {
     "name": "stdout",
     "output_type": "stream",
     "text": [
      "-----------------------------------------------------------------------------------------------------------\n",
      "                Parent Layers       Layer (type)               Output Shape         Param #     Tr. Param #\n",
      "===========================================================================================================\n",
      "   EnsembleModel/RankingModel        InfoModel-1     [1000, 64], [1000, 64]           2,050           2,050\n",
      "   EnsembleModel/RankingModel        InfoModel-2     [1000, 64], [1000, 64]          35,119          35,119\n",
      "   EnsembleModel/RankingModel              MLP-3                 [1000, 64]          17,344          17,344\n",
      "   EnsembleModel/RankingModel              MLP-4                  [1000, 1]           9,153           9,153\n",
      "   EnsembleModel/RankingModel              MLP-5                     [1, 1]           9,153           9,153\n",
      "   EnsembleModel/RankingModel        InfoModel-6     [1000, 64], [1000, 64]           2,050           2,050\n",
      "   EnsembleModel/RankingModel        InfoModel-7     [1000, 64], [1000, 64]          35,119          35,119\n",
      "   EnsembleModel/RankingModel              MLP-8                 [1000, 64]          17,344          17,344\n",
      "   EnsembleModel/RankingModel              MLP-9                  [1000, 1]           9,153           9,153\n",
      "   EnsembleModel/RankingModel             MLP-10                     [1, 1]           9,153           9,153\n",
      "   EnsembleModel/RankingModel       InfoModel-11     [1000, 64], [1000, 64]           2,050           2,050\n",
      "   EnsembleModel/RankingModel       InfoModel-12     [1000, 64], [1000, 64]          35,119          35,119\n",
      "   EnsembleModel/RankingModel             MLP-13                 [1000, 64]          17,344          17,344\n",
      "   EnsembleModel/RankingModel             MLP-14                  [1000, 1]           9,153           9,153\n",
      "   EnsembleModel/RankingModel             MLP-15                     [1, 1]           9,153           9,153\n",
      "===========================================================================================================\n",
      "Total params: 218,457\n",
      "Trainable params: 218,457\n",
      "Non-trainable params: 0\n",
      "-----------------------------------------------------------------------------------------------------------\n"
     ]
    }
   ],
   "source": [
    "import copy\n",
    "x = torch.zeros(1000, input_features, device=model.device)\n",
    "edge_index = torch.zeros(2, 50, dtype=torch.long, device=model.device)\n",
    "edge_attr = torch.zeros(50, 2, device=model.device)\n",
    "batch_idx = torch.zeros(len(x), dtype=int, device=model.device)\n",
    "\n",
    "from pytorch_model_summary import summary\n",
    "s = summary(copy.deepcopy(model), x, edge_index, edge_attr, (edge_index, edge_attr), batch_idx, max_depth=2, print_summary=1, show_parent_layers=1)"
   ]
  },
  {
   "cell_type": "code",
   "execution_count": 351,
   "id": "2f146406-584e-495c-a0ea-f7968b2e90e3",
   "metadata": {},
   "outputs": [
    {
     "data": {
      "text/plain": [
       "====================================================================================================\n",
       "Layer (type:depth-idx)                             Output Shape              Param #\n",
       "====================================================================================================\n",
       "EnsembleModel                                      --                        --\n",
       "├─ModuleList: 1-1                                  --                        218,460\n",
       "====================================================================================================\n",
       "Total params: 218,460\n",
       "Trainable params: 218,460\n",
       "Non-trainable params: 0\n",
       "Total mult-adds (M): 0.00\n",
       "====================================================================================================\n",
       "Input size (MB): 0.06\n",
       "Forward/backward pass size (MB): 0.00\n",
       "Params size (MB): 0.87\n",
       "Estimated Total Size (MB): 0.94\n",
       "===================================================================================================="
      ]
     },
     "execution_count": 351,
     "metadata": {},
     "output_type": "execute_result"
    }
   ],
   "source": [
    "from torchinfo import summary\n",
    "s = summary(copy.deepcopy(model), input_data=(x, edge_index, edge_attr, (edge_index, edge_attr), batch_idx), depth=1)\n",
    "s"
   ]
  },
  {
   "cell_type": "code",
   "execution_count": 275,
   "id": "04381730-ebe7-4e15-8a66-960e2d94cb75",
   "metadata": {},
   "outputs": [
    {
     "data": {
      "text/plain": [
       "13"
      ]
     },
     "execution_count": 275,
     "metadata": {},
     "output_type": "execute_result"
    }
   ],
   "source": [
    "Total params: 205,593\n",
    "Trainable params: 205,593\n",
    "Non-trainable params: 0\n",
    "Total mult-adds (M): 150.82\n",
    "====================================================================================================\n",
    "Input size (MB): 0.06\n",
    "Forward/backward pass size (MB): 24.85\n",
    "Params size (MB): 0.82\n",
    "Estimated Total Size (MB): 25.74"
   ]
  },
  {
   "cell_type": "code",
   "execution_count": null,
   "id": "b7460593-bdae-4192-834c-928506403afb",
   "metadata": {},
   "outputs": [],
   "source": []
  },
  {
   "cell_type": "code",
   "execution_count": null,
   "id": "a5da88b5-a63a-4e9d-ad80-93010255e1f5",
   "metadata": {},
   "outputs": [],
   "source": []
  },
  {
   "cell_type": "code",
   "execution_count": 367,
   "id": "1eeef9b7-6743-47c7-add9-ed1404af669b",
   "metadata": {},
   "outputs": [
    {
     "data": {
      "text/plain": [
       "[Parameter containing:\n",
       " tensor([[-0.4878, -0.6200]], requires_grad=True),\n",
       " Parameter containing:\n",
       " tensor([-0.4323], requires_grad=True)]"
      ]
     },
     "execution_count": 367,
     "metadata": {},
     "output_type": "execute_result"
    }
   ],
   "source": [
    "list(Model(x.shape[-1]).l.parameters())"
   ]
  },
  {
   "cell_type": "code",
   "execution_count": 374,
   "id": "9e505c46-815b-42ad-a2b7-3edac0419a14",
   "metadata": {},
   "outputs": [
    {
     "name": "stdout",
     "output_type": "stream",
     "text": [
      "---------------------------------------------------------------------------------------\n",
      "   Parent Layers       Layer (type)        Output Shape         Param #     Tr. Param #\n",
      "=======================================================================================\n",
      "           Model           Linear-1           [1000, 1]               3               3\n",
      "           Model           Inside-2           [1000, 1]               3               3\n",
      "=======================================================================================\n",
      "Total params: 6\n",
      "Trainable params: 6\n",
      "Non-trainable params: 0\n",
      "---------------------------------------------------------------------------------------\n"
     ]
    }
   ],
   "source": [
    "from pytorch_model_summary import summary\n",
    "s = summary(Model(x.shape[-1]), x, max_depth=1, print_summary=1, show_parent_layers=1)"
   ]
  },
  {
   "cell_type": "code",
   "execution_count": 376,
   "id": "939f071a-d73f-492a-9f39-b3319dcbb4e3",
   "metadata": {},
   "outputs": [
    {
     "data": {
      "text/plain": [
       "torch.Size([1000, 2])"
      ]
     },
     "execution_count": 376,
     "metadata": {},
     "output_type": "execute_result"
    }
   ],
   "source": [
    "x.shape"
   ]
  },
  {
   "cell_type": "code",
   "execution_count": 373,
   "id": "3e11fd6c-8c4d-43fc-a294-05404d34e652",
   "metadata": {},
   "outputs": [
    {
     "data": {
      "text/plain": [
       "==========================================================================================\n",
       "Layer (type:depth-idx)                   Output Shape              Param #\n",
       "==========================================================================================\n",
       "Model                                    --                        --\n",
       "├─Linear: 1-1                            [1000, 1]                 3\n",
       "├─Inside: 1-2                            [1000, 1]                 3\n",
       "==========================================================================================\n",
       "Total params: 5\n",
       "Trainable params: 5\n",
       "Non-trainable params: 0\n",
       "Total mult-adds (M): 0.01\n",
       "==========================================================================================\n",
       "Input size (MB): 0.01\n",
       "Forward/backward pass size (MB): 0.02\n",
       "Params size (MB): 0.00\n",
       "Estimated Total Size (MB): 0.02\n",
       "=========================================================================================="
      ]
     },
     "execution_count": 373,
     "metadata": {},
     "output_type": "execute_result"
    }
   ],
   "source": [
    "from torchinfo import summary\n",
    "\n",
    "class Inside(nn.Module):\n",
    "    def __init__(self):\n",
    "        super().__init__()\n",
    "        self.l_1 = nn.Linear(1,1)\n",
    "        self.param_1 = nn.Parameter(torch.ones(1))\n",
    "        \n",
    "    def forward(self, x):\n",
    "        return self.l_1(x) * self.param_1\n",
    "\n",
    "class Model(nn.Module):\n",
    "    def __init__(self, input_features):\n",
    "        super().__init__()\n",
    "        self.l_0 = nn.Linear(2,1)\n",
    "        self.param_0 = nn.Parameter(torch.ones(2))\n",
    "        self.inside = Inside()\n",
    "        \n",
    "    def forward(self, x):\n",
    "        return self.inside(self.l_0(x)) * self.param_0\n",
    "    \n",
    "\n",
    "summary(Model(x.shape[-1]), input_data=(x,), depth=1)"
   ]
  },
  {
   "cell_type": "code",
   "execution_count": 378,
   "id": "43e7031c-191f-4283-80af-8862d1f94106",
   "metadata": {},
   "outputs": [
    {
     "data": {
      "text/plain": [
       "218466"
      ]
     },
     "execution_count": 378,
     "metadata": {},
     "output_type": "execute_result"
    }
   ],
   "source": [
    "sum(p.numel() for p in model.parameters())"
   ]
  },
  {
   "cell_type": "code",
   "execution_count": 379,
   "id": "3127521f-666b-4fd5-9f1d-1f9c8c02353a",
   "metadata": {},
   "outputs": [
    {
     "data": {
      "text/plain": [
       "8"
      ]
     },
     "execution_count": 379,
     "metadata": {},
     "output_type": "execute_result"
    }
   ],
   "source": [
    "sum(dict((p.data_ptr(), p.numel()) for p in Model(x.shape[-1]).parameters()).values())"
   ]
  },
  {
   "cell_type": "code",
   "execution_count": 387,
   "id": "5ca38bff-7bfb-457e-8197-df637dec8df7",
   "metadata": {},
   "outputs": [],
   "source": []
  },
  {
   "cell_type": "code",
   "execution_count": 391,
   "id": "765ad79d-dbe3-493b-9b70-13aca6695fec",
   "metadata": {},
   "outputs": [
    {
     "data": {
      "text/plain": [
       "array([[53, 73],\n",
       "       [78, 91],\n",
       "       [14, 66]])"
      ]
     },
     "execution_count": 391,
     "metadata": {},
     "output_type": "execute_result"
    }
   ],
   "source": [
    "import networkx as nx\n",
    "edges = list(nx.fast_gnp_random_graph(100, .1, seed=2).edges)\n",
    "rng = np.random.default_rng(10)\n",
    "\n",
    "rng.choice(edges, 3)"
   ]
  },
  {
   "cell_type": "code",
   "execution_count": null,
   "id": "3382023b-6ecc-4f7c-8916-e1441cef9e20",
   "metadata": {},
   "outputs": [],
   "source": []
  },
  {
   "cell_type": "code",
   "execution_count": null,
   "id": "07cee34b-1fad-40e7-bf0e-4d847e9ce18c",
   "metadata": {},
   "outputs": [],
   "source": []
  },
  {
   "cell_type": "code",
   "execution_count": 344,
   "id": "c768e834-0c8b-49a1-8c04-ebc97ec363c2",
   "metadata": {},
   "outputs": [
    {
     "data": {
      "text/plain": [
       "218460"
      ]
     },
     "execution_count": 344,
     "metadata": {},
     "output_type": "execute_result"
    }
   ],
   "source": [
    "total_params = trainable_params = 0\n",
    "for layer_info in s.summary_list:\n",
    "    if layer_info.depth == 1:\n",
    "        if layer_info.is_recursive:\n",
    "            continue\n",
    "        total_params += layer_info.num_params\n",
    "        trainable_params += layer_info.trainable_params\n",
    "total_params"
   ]
  },
  {
   "cell_type": "code",
   "execution_count": null,
   "id": "62782e3d-235e-409b-bbb7-2c1f764cfa36",
   "metadata": {},
   "outputs": [],
   "source": []
  },
  {
   "cell_type": "code",
   "execution_count": 21,
   "id": "44634df1-ac8e-4eb4-bba0-5f317c5bad3f",
   "metadata": {},
   "outputs": [],
   "source": [
    "import lib.tracing.exp_sampler as samp\n",
    "rel(samp)"
   ]
  },
  {
   "cell_type": "code",
   "execution_count": 9,
   "id": "4397966b-b154-4021-9eb8-71b84e67e444",
   "metadata": {},
   "outputs": [
    {
     "name": "stdout",
     "output_type": "stream",
     "text": [
      "Instantiating new model. Manually init weights... lr=0.0001...\n",
      "Learning online=0: True\n",
      "                                                                                                                       \n",
      "Running iteration 0 with eps = 0.3:\n",
      "Update parameters at the end of episode...                                                                             \n",
      "Iterations simulation progress:   0%|                                                            | 0/1 [00:16<?, ?it/s]\n",
      "  0%|                                                                                           | 0/13 [00:00<?, ?it/s]\u001b[A\n",
      "  8%|██████▍                                                                            | 1/13 [00:00<00:03,  3.13it/s]\u001b[A\n",
      " 15%|████████████▊                                                                      | 2/13 [00:00<00:03,  3.11it/s]\u001b[A\n",
      " 23%|███████████████████▏                                                               | 3/13 [00:00<00:03,  3.03it/s]\u001b[A\n",
      " 31%|█████████████████████████▌                                                         | 4/13 [00:01<00:03,  2.94it/s]\u001b[A\n",
      " 38%|███████████████████████████████▉                                                   | 5/13 [00:01<00:02,  2.80it/s]\u001b[A\n",
      " 46%|██████████████████████████████████████▎                                            | 6/13 [00:02<00:02,  2.69it/s]\u001b[A\n",
      " 54%|████████████████████████████████████████████▋                                      | 7/13 [00:02<00:02,  2.56it/s]\u001b[A\n",
      " 62%|███████████████████████████████████████████████████                                | 8/13 [00:03<00:02,  2.45it/s]\u001b[A\n",
      " 69%|█████████████████████████████████████████████████████████▍                         | 9/13 [00:03<00:01,  2.36it/s]\u001b[A\n",
      " 77%|███████████████████████████████████████████████████████████████                   | 10/13 [00:03<00:01,  2.26it/s]\u001b[A\n",
      " 85%|█████████████████████████████████████████████████████████████████████▍            | 11/13 [00:04<00:00,  2.14it/s]\u001b[A\n",
      " 92%|███████████████████████████████████████████████████████████████████████████▋      | 12/13 [00:05<00:00,  2.00it/s]\u001b[A\n",
      "100%|██████████████████████████████████████████████████████████████████████████████████| 13/13 [00:05<00:00,  1.90it/s]\u001b[A\n",
      "14it [00:06,  2.33it/s]                                                                                                \u001b[A\n",
      "---> Result: 453 total infected over time. %healthy = 0.547                                                            \n",
      "Iterations simulation progress: 100%|████████████████████████████████████████████████████| 1/1 [00:22<00:00, 22.65s/it]\n",
      "                                                                                                                       \n",
      "Running iteration 0 with eps = 0.297:\n",
      "Update parameters at the end of episode...                                                                             \n",
      "Iterations simulation progress:   0%|                                                            | 0/1 [00:09<?, ?it/s]\n",
      "  0%|                                                                                            | 0/9 [00:00<?, ?it/s]\u001b[A\n",
      " 11%|█████████▎                                                                          | 1/9 [00:00<00:02,  3.14it/s]\u001b[A\n",
      " 22%|██████████████████▋                                                                 | 2/9 [00:00<00:02,  3.09it/s]\u001b[A\n",
      " 33%|████████████████████████████                                                        | 3/9 [00:00<00:01,  3.03it/s]\u001b[A\n",
      " 44%|█████████████████████████████████████▎                                              | 4/9 [00:01<00:01,  2.93it/s]\u001b[A\n",
      " 56%|██████████████████████████████████████████████▋                                     | 5/9 [00:01<00:01,  2.81it/s]\u001b[A\n",
      " 67%|████████████████████████████████████████████████████████                            | 6/9 [00:02<00:01,  2.69it/s]\u001b[A\n",
      " 78%|█████████████████████████████████████████████████████████████████▎                  | 7/9 [00:02<00:00,  2.58it/s]\u001b[A\n",
      " 89%|██████████████████████████████████████████████████████████████████████████▋         | 8/9 [00:02<00:00,  2.46it/s]\u001b[A\n",
      "100%|████████████████████████████████████████████████████████████████████████████████████| 9/9 [00:03<00:00,  2.30it/s]\u001b[A\n",
      "10it [00:03,  2.65it/s]                                                                                                \u001b[A\n",
      "---> Result: 328 total infected over time. %healthy = 0.672                                                            \n",
      "Iterations simulation progress: 100%|████████████████████████████████████████████████████| 1/1 [00:12<00:00, 12.95s/it]\n",
      "                                                                                                                       \n",
      "Running iteration 0 with eps = 0.29403:\n",
      "Update parameters at the end of episode...                                                                             \n",
      "Iterations simulation progress:   0%|                                                            | 0/1 [00:10<?, ?it/s]\n",
      "  0%|                                                                                           | 0/10 [00:00<?, ?it/s]\u001b[A\n",
      " 10%|████████▎                                                                          | 1/10 [00:00<00:02,  3.15it/s]\u001b[A\n",
      " 20%|████████████████▌                                                                  | 2/10 [00:00<00:02,  3.13it/s]\u001b[A\n",
      " 30%|████████████████████████▉                                                          | 3/10 [00:00<00:02,  3.02it/s]\u001b[A\n",
      " 40%|█████████████████████████████████▏                                                 | 4/10 [00:01<00:02,  2.93it/s]\u001b[A\n",
      " 50%|█████████████████████████████████████████▌                                         | 5/10 [00:01<00:01,  2.79it/s]\u001b[A\n",
      " 60%|█████████████████████████████████████████████████▊                                 | 6/10 [00:02<00:01,  2.68it/s]\u001b[A\n",
      " 70%|██████████████████████████████████████████████████████████                         | 7/10 [00:02<00:01,  2.56it/s]\u001b[A\n",
      " 80%|██████████████████████████████████████████████████████████████████▍                | 8/10 [00:03<00:00,  2.45it/s]\u001b[A\n",
      " 90%|██████████████████████████████████████████████████████████████████████████▋        | 9/10 [00:03<00:00,  2.33it/s]\u001b[A\n",
      "100%|██████████████████████████████████████████████████████████████████████████████████| 10/10 [00:04<00:00,  2.18it/s]\u001b[A\n",
      "11it [00:04,  2.66it/s]                                                                                                \u001b[A\n",
      "---> Result: 375 total infected over time. %healthy = 0.625                                                            \n",
      "Iterations simulation progress: 100%|████████████████████████████████████████████████████| 1/1 [00:14<00:00, 14.31s/it]\n",
      "                                                                                                                       \n",
      "Running iteration 0 with eps = 0.29109:\n",
      "Update parameters at the end of episode...                                                                             \n",
      "Iterations simulation progress:   0%|                                                            | 0/1 [00:09<?, ?it/s]\n",
      "  0%|                                                                                            | 0/9 [00:00<?, ?it/s]\u001b[A\n",
      " 11%|█████████▎                                                                          | 1/9 [00:00<00:02,  3.13it/s]\u001b[A\n",
      " 22%|██████████████████▋                                                                 | 2/9 [00:00<00:02,  3.07it/s]\u001b[A\n",
      " 33%|████████████████████████████                                                        | 3/9 [00:00<00:01,  3.03it/s]\u001b[A\n",
      " 44%|█████████████████████████████████████▎                                              | 4/9 [00:01<00:01,  2.94it/s]\u001b[A\n",
      " 56%|██████████████████████████████████████████████▋                                     | 5/9 [00:01<00:01,  2.80it/s]\u001b[A\n",
      " 67%|████████████████████████████████████████████████████████                            | 6/9 [00:02<00:01,  2.68it/s]\u001b[A\n",
      " 78%|█████████████████████████████████████████████████████████████████▎                  | 7/9 [00:02<00:00,  2.56it/s]\u001b[A\n",
      " 89%|██████████████████████████████████████████████████████████████████████████▋         | 8/9 [00:03<00:00,  2.36it/s]\u001b[A\n",
      "100%|████████████████████████████████████████████████████████████████████████████████████| 9/9 [00:03<00:00,  2.27it/s]\u001b[A\n",
      "10it [00:03,  2.52it/s]                                                                                                \u001b[A\n",
      "---> Result: 339 total infected over time. %healthy = 0.661                                                            \n",
      "Iterations simulation progress: 100%|████████████████████████████████████████████████████| 1/1 [00:13<00:00, 13.72s/it]\n",
      "                                                                                                                       \n",
      "Running iteration 0 with eps = 0.28818:\n",
      "Update parameters at the end of episode...                                                                             \n",
      "Iterations simulation progress:   0%|                                                            | 0/1 [00:10<?, ?it/s]\n",
      "  0%|                                                                                           | 0/10 [00:00<?, ?it/s]\u001b[A\n",
      " 10%|████████▎                                                                          | 1/10 [00:00<00:02,  3.06it/s]\u001b[A\n",
      " 20%|████████████████▌                                                                  | 2/10 [00:00<00:02,  3.10it/s]\u001b[A\n",
      " 30%|████████████████████████▉                                                          | 3/10 [00:00<00:02,  2.98it/s]\u001b[A\n",
      " 40%|█████████████████████████████████▏                                                 | 4/10 [00:01<00:02,  2.88it/s]\u001b[A\n",
      " 50%|█████████████████████████████████████████▌                                         | 5/10 [00:01<00:01,  2.78it/s]\u001b[A\n",
      " 60%|█████████████████████████████████████████████████▊                                 | 6/10 [00:02<00:01,  2.67it/s]\u001b[A\n",
      " 70%|██████████████████████████████████████████████████████████                         | 7/10 [00:02<00:01,  2.56it/s]\u001b[A\n",
      " 80%|██████████████████████████████████████████████████████████████████▍                | 8/10 [00:03<00:00,  2.45it/s]\u001b[A\n",
      " 90%|██████████████████████████████████████████████████████████████████████████▋        | 9/10 [00:03<00:00,  2.34it/s]\u001b[A\n",
      "100%|██████████████████████████████████████████████████████████████████████████████████| 10/10 [00:04<00:00,  2.19it/s]\u001b[A\n",
      "11it [00:04,  2.62it/s]                                                                                                \u001b[A\n",
      "---> Result: 388 total infected over time. %healthy = 0.612                                                            \n",
      "Iterations simulation progress: 100%|████████████████████████████████████████████████████| 1/1 [00:14<00:00, 14.57s/it]\n",
      "Total infected:  388.0\n",
      "Max infected:  388.0\n",
      "%healthy:  0.612 ± 0\n"
     ]
    }
   ],
   "source": [
    "import copy\n",
    "import torch\n",
    "import torch.nn as nn\n",
    "import torch_geometric.nn as pyg_nn\n",
    "\n",
    "import lib.run_tracing as run\n",
    "import lib.tracing.multirun_engine as eng\n",
    "import lib.tracing.utils as utils\n",
    "import lib.tracing.network as network\n",
    "import lib.tracing.stats as stat\n",
    "import lib.tracing.simulation as sim\n",
    "from lib.tracing.utils import rel\n",
    "from lib.general_utils import save_model, load_model\n",
    "import lib.agent as agent\n",
    "import lib.rank_model as rank\n",
    "rel(utils, stat, sim, network, agent, eng, run)\n",
    "\n",
    "def init_weights(m):\n",
    "    \"\"\"\n",
    "    recursively initializes the weights of the model\n",
    "    \"\"\"\n",
    "    # if isinstance(m, rank.EnsembleModel):\n",
    "    #     nn.init.kaiming_uniform_(m.weight, nonlinearity='relu')\n",
    "    if isinstance(m, nn.Linear):\n",
    "        nn.init.kaiming_uniform_(m.weight, nonlinearity='relu')\n",
    "    # for older versions of PYG which had a weight parameter directly within the MessagePassing class\n",
    "    elif isinstance(m, pyg_nn.MessagePassing) and hasattr(m, 'weight'):\n",
    "        nn.init.kaiming_uniform_(m.weight, nonlinearity='relu')\n",
    "    # # some modules may not have a bias or they may use the name with a bool value to trigger other behavior\n",
    "    if hasattr(m, 'bias') and isinstance(m.bias, torch.Tensor):\n",
    "        m.bias.data.fill_(0.01)\n",
    "\n",
    "# torch.manual_seed for instatiating parameters (only relevant if change_model!)\n",
    "torch_seed = 15\n",
    "# whether to load ckp parameters of the model or not\n",
    "load = 0\n",
    "# k-hops infection neighborhood to dynamically store as feature for each node\n",
    "k_hops = 2\n",
    "# static features to calculate for each node\n",
    "static_measures = ('degree', 'rand:5',)\n",
    "# global learning rate to use (0 is disabled) - this can be overwritten if change_model and NO loading of parameters from ckp\n",
    "lr = 0\n",
    "# init weights override\n",
    "is_init_weights = 1\n",
    "# ensemble number\n",
    "n_models = 3\n",
    "\n",
    "\n",
    "# whether to instantiate a new model (will be done automatically if 'model' not in globals)\n",
    "change_model = bool(1) or 'model' not in globals()\n",
    "# multiprocessing type\n",
    "multip = 0\n",
    "\n",
    "if change_model:\n",
    "    try:\n",
    "        model = model.model\n",
    "    except (NameError, AttributeError):\n",
    "        print('Instantiating new model.', end=' ')\n",
    "        input_features = 4 + k_hops\n",
    "        for measure in static_measures:\n",
    "            try:\n",
    "                input_features += int(measure.split(':')[1])\n",
    "            except IndexError:\n",
    "                input_features += 1\n",
    "        rel(rank)\n",
    "        model_class = rank.EnsembleModel if n_models > 1 else rank.RankingModel\n",
    "        model = model_class(input_features, 1,\n",
    "                              n_models=n_models,\n",
    "                              combine='avg',\n",
    "                              layer_name='GINE',\n",
    "                              # layer_kwargs=dict(num_layers=5),\n",
    "                              num_layers=4,\n",
    "                              norm_layer='LayerNorm',\n",
    "                              use_edge_attr=1, # whether to use edge_attr or not in InfoModel\n",
    "                              edge_dim=2, # edge_attr has 2 dims that need to be linearly transformed\n",
    "                              edge_attr_scaling=True, # needed for many GNN models with edge_attr\n",
    "                              last_fully_adjacent=1,\n",
    "                              add_self_loops=1,\n",
    "                              diff_add_self_loops=1,\n",
    "                              diff_layer_name='GAT2',\n",
    "                              diff_layer_kwargs=dict(edge_dim=2, add_self_loops=0, heads=1, concat=False),\n",
    "                              diff_use_edge_attr=1, # whether to use the edge_weights or not (i.e. edge_attr at index 0)\n",
    "                              nonlin='ReLU',\n",
    "                              agg='cat',\n",
    "                              reduce_h='mean-std',\n",
    "                              dropout=0,\n",
    "                              dropout_head=0,\n",
    "                              layers_head=1,\n",
    "                              linear_head=1,\n",
    "                              nonlin_head='ReLU',\n",
    "                              state_score_method='max',\n",
    "                              last_incl_gnn_outs=0,\n",
    "                              torch_seed=torch_seed,\n",
    "                              reset_h_seed=-1,\n",
    "                              deterministic=True,\n",
    "                             )\n",
    "        if load:\n",
    "            print('Loading from pretrain...', end=' ')\n",
    "            model.load_state_dict(torch.load('saved/ranking_0.pt'))\n",
    "        else:\n",
    "            if is_init_weights:\n",
    "                print('Manually init weights...', end=' ')\n",
    "                model.apply(init_weights)\n",
    "            lr = 1e-4\n",
    "        \n",
    "    if multip:\n",
    "        model.share_memory()\n",
    "else:\n",
    "    # must make sure previous iteration's h_prev is never distributed\n",
    "    try:\n",
    "        model.h_prev = None\n",
    "    except:\n",
    "        pass\n",
    "    if multip and model.device != 'cpu':\n",
    "        print('Moving model to CPU due to multiprocessing...')\n",
    "        model = model.cpu()\n",
    "\n",
    "is_learning = lr > 0\n",
    "online = 0\n",
    "print(f'{lr=}...\\nLearning {online=}: {is_learning}')\n",
    "\n",
    "optimizer = torch.optim.Adam(model.parameters(), weight_decay=.1)\n",
    "ag = dict(\n",
    "    typ='rl',\n",
    "    # rl_sampler='softmax',\n",
    "    # gamma, lambda, reward_scale, actor_loss, clip_ratio, value_coeff, entropy_coeff, ce_coeff, eligibility, target_update\n",
    "    rl_args=(.99, .97, 1, 'ppo', -0.2, 0.5, 0, 0, 1, 5),\n",
    "    debug=0, # !!! VERY IMPORTANT TO SET TO 0 WHEN MULTIPROCESSING IS EXPECTED FROM THE SAME MODEL\n",
    "    ranking_model=model,\n",
    "    target_model=copy.deepcopy(model) if is_learning and online else None,\n",
    "    debug_print=-1,\n",
    "    index_weight=-1,\n",
    "    pos_weight=False,\n",
    "    mark_delay_same_edges=False,\n",
    "    gpu=0 if multip else 1,\n",
    "    half_cpu=1,\n",
    "    lr=lr,\n",
    "    online=online,\n",
    "    epochs=2,\n",
    "    batch_size=16,\n",
    "    grad_clip=.5,\n",
    "    optimizer=optimizer,\n",
    "    optimizer_kwargs=dict(weight_decay=.1),\n",
    "    scheduler=torch.optim.lr_scheduler.StepLR(optimizer, 50, 0.2),\n",
    "    measure='eigenvector',\n",
    "    record_edges=True,\n",
    "    static_measures=static_measures, \n",
    "    n_test=2,\n",
    "    n_trace=0,\n",
    "    tester=True,\n",
    "    tracer=False,\n",
    "    k_hops=k_hops,\n",
    "    seed=12,\n",
    "    dist_over_sample=1, # IF distrib is over the sample (T) OR all the nodes (F); when True, only logp = y_pred[nodes] is possible\n",
    "    logp_from_score=0, # IF logp = y_pred[nodes] (T) OR logp = pi.log_prob(nodes) (F)\n",
    "    logpold_from_score=1 # IF logp_old = y_pred[nodes] (T) OR logp_old = pi.log_prob(nodes) (F)\n",
    ")\n",
    "\n",
    "\n",
    "n_episodes = 5 if is_learning else 1#n_models+1\n",
    "eps_start = .3\n",
    "eps_decay = .99\n",
    "eps = [round(eps_start * eps_decay**i, 5) for i in range(n_episodes)]\n",
    "error_del_model = 0\n",
    "\n",
    "torch.autograd.set_detect_anomaly(False)\n",
    "st = extra = False\n",
    "try:\n",
    "    st, extra = run.run_mock(agent=ag, control_after=5, control_after_inf=.05, control_initial_known=.25,\n",
    "                                first_inf=5, presample=10000, pa=.2, taur=0, taut=eps, update_after=1, edge_sample_size=[.2,.4], reindex=False,\n",
    "                                nettype='barabasi:5:1', netsize=1000, k=2.8, p=.1, rem_orphans=False, use_weights=True, dual=0,\n",
    "                                seed=21, netseed=26, infseed=-1, model='seir', spontan=False, sampling_type='min',\n",
    "                                multip=multip, nnets=1, niters=1, nevents=0, noncomp=0, noncomp_after=10000,\n",
    "                                draw=0, draw_iter=0, draw_fullname=True, draw_layout='graphviz',\n",
    "                                summary_print=0, summary_splits=20, avg_without_earlystop=True)\n",
    "    # here the key for inspecting results is either 'res' (For one episode) or the latest epsilon (For multiple episodes)\n",
    "    key = 'res' if 'res' in st else eps[-1 if is_learning else 0]\n",
    "    print('Total infected: ', st[key]['average-overall-infected']['mean'])\n",
    "    print('Max infected: ', st[key]['average-max-infected']['mean'])\n",
    "    print('%healthy: ', st[key]['average-%healthy']['mean'], '±', st[key]['average-%healthy']['std'])\n",
    "except (Exception, BaseException) as e:\n",
    "    if error_del_model:\n",
    "        print('Deleting model...')\n",
    "        del model, ag, st, extra\n",
    "        torch.cuda.empty_cache()\n",
    "        !nvidia-smi\n",
    "    raise e"
   ]
  },
  {
   "cell_type": "code",
   "execution_count": 14,
   "id": "5a35e072-4cf8-4036-80e2-76d0584089b8",
   "metadata": {},
   "outputs": [],
   "source": [
    "%load_ext autoreload\n",
    "%autoreload 2"
   ]
  },
  {
   "cell_type": "code",
   "execution_count": null,
   "id": "436ba35b-bcc7-4154-986c-b32bc60fb015",
   "metadata": {},
   "outputs": [],
   "source": []
  },
  {
   "cell_type": "code",
   "execution_count": null,
   "id": "f2878c44-f9a6-44b8-b9cb-7b3cf28ff341",
   "metadata": {},
   "outputs": [],
   "source": []
  },
  {
   "cell_type": "code",
   "execution_count": null,
   "id": "af716ea7-c8fb-480e-b3cd-01abe4257b36",
   "metadata": {},
   "outputs": [],
   "source": []
  },
  {
   "cell_type": "code",
   "execution_count": null,
   "id": "5e93f6bc-f615-4bc4-9eeb-68e42af57d70",
   "metadata": {},
   "outputs": [],
   "source": []
  },
  {
   "cell_type": "code",
   "execution_count": 14,
   "id": "ec78f659-acb0-4356-aa92-a29cdc0a8f6d",
   "metadata": {},
   "outputs": [
    {
     "data": {
      "text/plain": [
       "['0.4 ± 0.05', '0.41 ± 0.04', '0.19 ± 0.04', '0.4 ± 0.05']"
      ]
     },
     "execution_count": 14,
     "metadata": {},
     "output_type": "execute_result"
    }
   ],
   "source": [
    "nogp = [f\"{st[k]['average-%healthy']['mean']} ± {st[k]['average-%healthy']['std']}\" for k in st if k != 'args']\n",
    "nogp"
   ]
  },
  {
   "cell_type": "code",
   "execution_count": 15,
   "id": "3d879d6b-3f68-4aa7-bf74-dd0e64b0d7ff",
   "metadata": {},
   "outputs": [
    {
     "data": {
      "text/plain": [
       "['0.4 ± 0.05', '0.41 ± 0.04', '0.19 ± 0.04', '0.4 ± 0.05']"
      ]
     },
     "execution_count": 15,
     "metadata": {},
     "output_type": "execute_result"
    }
   ],
   "source": [
    "nogp = [f\"{st[k]['average-%healthy']['mean']} ± {st[k]['average-%healthy']['std']}\" for k in st if k != 'args']\n",
    "nogp"
   ]
  },
  {
   "cell_type": "code",
   "execution_count": 9,
   "id": "78340547-1e24-4fa7-92b2-7e4724d40782",
   "metadata": {},
   "outputs": [
    {
     "data": {
      "text/plain": [
       "['0.45 ± 0.02', '0.33 ± 0.04', '0.2 ± 0.05', '0.46 ± 0.02']"
      ]
     },
     "execution_count": 9,
     "metadata": {},
     "output_type": "execute_result"
    }
   ],
   "source": [
    "nogp = [f\"{st[k]['average-%healthy']['mean']} ± {st[k]['average-%healthy']['std']}\" for k in st if k != 'args']\n",
    "nogp"
   ]
  },
  {
   "cell_type": "code",
   "execution_count": 11,
   "id": "8e0d34cd-ae8a-4131-94f6-fb0fb25beea5",
   "metadata": {},
   "outputs": [
    {
     "data": {
      "text/plain": [
       "['0.45 ± 0.02', '0.33 ± 0.04', '0.2 ± 0.05', '0.46 ± 0.02']"
      ]
     },
     "execution_count": 11,
     "metadata": {},
     "output_type": "execute_result"
    }
   ],
   "source": [
    "nogp = [f\"{st[k]['average-%healthy']['mean']} ± {st[k]['average-%healthy']['std']}\" for k in st if k != 'args']\n",
    "nogp"
   ]
  },
  {
   "cell_type": "code",
   "execution_count": null,
   "id": "a5bcbbcb-fe1f-48ad-bfcd-f946477dff89",
   "metadata": {},
   "outputs": [],
   "source": []
  },
  {
   "cell_type": "code",
   "execution_count": 62,
   "id": "878673f2-4455-41bf-b4ba-0b95bc363ffd",
   "metadata": {},
   "outputs": [
    {
     "name": "stdout",
     "output_type": "stream",
     "text": [
      "0\n",
      "1\n",
      "2\n"
     ]
    }
   ],
   "source": [
    "from itertools import islice\n",
    "for i in islice(range(5), 3):\n",
    "    print(i)"
   ]
  },
  {
   "cell_type": "code",
   "execution_count": 15,
   "id": "97714eff-8cc2-4bd4-bb28-059a98b83cb0",
   "metadata": {},
   "outputs": [
    {
     "data": {
      "text/plain": [
       "array([0.3775766 , 0.44343072, 0.        , 1.        , 2.        ,\n",
       "       3.        , 4.        ])"
      ]
     },
     "execution_count": 15,
     "metadata": {},
     "output_type": "execute_result"
    }
   ],
   "source": [
    "import numpy as np\n",
    "a = np.random.default_rng().random(size=2)\n",
    "np.append(a, range(5))"
   ]
  },
  {
   "cell_type": "code",
   "execution_count": null,
   "id": "6a7bed79-4336-4bab-b8dc-d35e9fa47bc6",
   "metadata": {},
   "outputs": [],
   "source": []
  },
  {
   "cell_type": "code",
   "execution_count": null,
   "id": "fa0895b8-a14d-4c0f-bc46-246d3a7b9ee7",
   "metadata": {},
   "outputs": [],
   "source": []
  },
  {
   "cell_type": "code",
   "execution_count": 452,
   "id": "7bdb2572-9d96-40dd-97e3-502aa2163c22",
   "metadata": {},
   "outputs": [
    {
     "data": {
      "text/plain": [
       "<All keys matched successfully>"
      ]
     },
     "execution_count": 452,
     "metadata": {},
     "output_type": "execute_result"
    }
   ],
   "source": [
    "model.load_state_dict(torch.load('saved/ckp/on-over-sample.pt'))"
   ]
  },
  {
   "cell_type": "code",
   "execution_count": 443,
   "id": "00c2f068-9fef-47d4-9a2e-aef954548b06",
   "metadata": {},
   "outputs": [],
   "source": [
    "torch.save(model.state_dict(), 'saved/ckp/off-over-sample.pt')"
   ]
  },
  {
   "cell_type": "code",
   "execution_count": null,
   "id": "5c474f97-65b6-4cd7-b8bf-43c31fe52bdf",
   "metadata": {},
   "outputs": [],
   "source": []
  },
  {
   "cell_type": "code",
   "execution_count": 448,
   "id": "a1788f36-b071-4b82-bae9-fa617817bcf8",
   "metadata": {},
   "outputs": [
    {
     "data": {
      "text/plain": [
       "['0.49 ± 0.05', '0.44 ± 0.05', '0.47 ± 0.06', '0.5 ± 0.05']"
      ]
     },
     "execution_count": 448,
     "metadata": {},
     "output_type": "execute_result"
    }
   ],
   "source": [
    "off_all = [f\"{st[k]['average-%healthy']['mean']} ± {st[k]['average-%healthy']['std']}\" for k in st if k != 'args']\n",
    "off_all"
   ]
  },
  {
   "cell_type": "code",
   "execution_count": 445,
   "id": "68301e69-b8b0-4392-bfbd-fa2ce1049705",
   "metadata": {},
   "outputs": [
    {
     "data": {
      "text/plain": [
       "['0.51 ± 0.04', '0.51 ± 0.04', '0.51 ± 0.04', '0.49 ± 0.03']"
      ]
     },
     "execution_count": 445,
     "metadata": {},
     "output_type": "execute_result"
    }
   ],
   "source": [
    "off = [f\"{st[k]['average-%healthy']['mean']} ± {st[k]['average-%healthy']['std']}\" for k in st if k != 'args']\n",
    "off"
   ]
  },
  {
   "cell_type": "code",
   "execution_count": 454,
   "id": "18041958-9bf8-4322-ad63-478124afa8ba",
   "metadata": {},
   "outputs": [
    {
     "data": {
      "text/plain": [
       "['0.51 ± 0.04', '0.5 ± 0.04', '0.51 ± 0.04', '0.51 ± 0.05']"
      ]
     },
     "execution_count": 454,
     "metadata": {},
     "output_type": "execute_result"
    }
   ],
   "source": [
    "on = [f\"{st[k]['average-%healthy']['mean']} ± {st[k]['average-%healthy']['std']}\" for k in st if k != 'args']\n",
    "on"
   ]
  },
  {
   "cell_type": "code",
   "execution_count": 20,
   "id": "7f298a44-005a-496a-a2e3-213d148d1809",
   "metadata": {},
   "outputs": [
    {
     "data": {
      "text/plain": [
       "['0.51 ± 0.03', '0.5 ± 0.03', '0.51 ± 0.04', '0.5 ± 0.04']"
      ]
     },
     "execution_count": 20,
     "metadata": {},
     "output_type": "execute_result"
    }
   ],
   "source": [
    "on = [f\"{st[k]['average-%healthy']['mean']} ± {st[k]['average-%healthy']['std']}\" for k in st if k != 'args']\n",
    "on"
   ]
  },
  {
   "cell_type": "code",
   "execution_count": 451,
   "id": "42ebabb1-b9eb-43df-bf4d-1fdd8f3d0862",
   "metadata": {},
   "outputs": [
    {
     "data": {
      "text/plain": [
       "['0.49 ± 0.04', '0.48 ± 0.04', '0.47 ± 0.06', '0.47 ± 0.04']"
      ]
     },
     "execution_count": 451,
     "metadata": {},
     "output_type": "execute_result"
    }
   ],
   "source": [
    "on_all = [f\"{st[k]['average-%healthy']['mean']} ± {st[k]['average-%healthy']['std']}\" for k in st if k != 'args']\n",
    "on_all"
   ]
  },
  {
   "cell_type": "code",
   "execution_count": 22,
   "id": "3bebe396-6b0b-46ad-a97d-9862a15d96a8",
   "metadata": {},
   "outputs": [
    {
     "data": {
      "text/plain": [
       "['0.47 ± 0.04', '0.47 ± 0.04', '0.47 ± 0.04', '0.47 ± 0.04']"
      ]
     },
     "execution_count": 22,
     "metadata": {},
     "output_type": "execute_result"
    }
   ],
   "source": [
    "cent = [f\"{st[k]['average-%healthy']['mean']} ± {st[k]['average-%healthy']['std']}\" for k in st if k != 'args']\n",
    "cent"
   ]
  },
  {
   "cell_type": "code",
   "execution_count": null,
   "id": "446801c4-5467-4855-9299-8da9fe812629",
   "metadata": {},
   "outputs": [],
   "source": []
  },
  {
   "cell_type": "code",
   "execution_count": 78,
   "id": "a6aff78b-ebef-401a-8de0-4d1b3e5ed7b7",
   "metadata": {},
   "outputs": [
    {
     "data": {
      "text/html": [
       "<style type=\"text/css\">\n",
       "#T_f2787 th {\n",
       "  font-size: 150%;\n",
       "}\n",
       "#T_f2787_row0_col0, #T_f2787_row0_col1, #T_f2787_row0_col2, #T_f2787_row0_col3, #T_f2787_row1_col0, #T_f2787_row1_col1, #T_f2787_row1_col2, #T_f2787_row1_col3, #T_f2787_row2_col0, #T_f2787_row2_col1, #T_f2787_row2_col2, #T_f2787_row2_col3, #T_f2787_row3_col0, #T_f2787_row3_col1, #T_f2787_row3_col2, #T_f2787_row3_col3 {\n",
       "  font-size: 13pt;\n",
       "  background-color: None;\n",
       "}\n",
       "#T_f2787_row0_col4, #T_f2787_row1_col4, #T_f2787_row2_col4, #T_f2787_row3_col4 {\n",
       "  font-size: 13pt;\n",
       "  background-color: blue;\n",
       "}\n",
       "</style>\n",
       "<table id=\"T_f2787\">\n",
       "  <thead>\n",
       "    <tr>\n",
       "      <th class=\"blank level0\" >&nbsp;</th>\n",
       "      <th id=\"T_f2787_level0_col0\" class=\"col_heading level0 col0\" >No Train</th>\n",
       "      <th id=\"T_f2787_level0_col1\" class=\"col_heading level0 col1\" >Degree</th>\n",
       "      <th id=\"T_f2787_level0_col2\" class=\"col_heading level0 col2\" >SL(10)</th>\n",
       "      <th id=\"T_f2787_level0_col3\" class=\"col_heading level0 col3\" >RL(10,offline)</th>\n",
       "      <th id=\"T_f2787_level0_col4\" class=\"col_heading level0 col4\" >RL(10,online)</th>\n",
       "    </tr>\n",
       "  </thead>\n",
       "  <tbody>\n",
       "    <tr>\n",
       "      <th id=\"T_f2787_level0_row0\" class=\"row_heading level0 row0\" >Average</th>\n",
       "      <td id=\"T_f2787_row0_col0\" class=\"data row0 col0\" >0.42 ± 0.04</td>\n",
       "      <td id=\"T_f2787_row0_col1\" class=\"data row0 col1\" >0.47 ± 0.04</td>\n",
       "      <td id=\"T_f2787_row0_col2\" class=\"data row0 col2\" >0.44 ± 0.04</td>\n",
       "      <td id=\"T_f2787_row0_col3\" class=\"data row0 col3\" >0.49 ± 0.04</td>\n",
       "      <td id=\"T_f2787_row0_col4\" class=\"data row0 col4\" >0.51 ± 0.03</td>\n",
       "    </tr>\n",
       "    <tr>\n",
       "      <th id=\"T_f2787_level0_row1\" class=\"row_heading level0 row1\" >Model 1</th>\n",
       "      <td id=\"T_f2787_row1_col0\" class=\"data row1 col0\" >0.43 ± 0.04</td>\n",
       "      <td id=\"T_f2787_row1_col1\" class=\"data row1 col1\" >0.47 ± 0.04</td>\n",
       "      <td id=\"T_f2787_row1_col2\" class=\"data row1 col2\" >0.24 ± 0.04</td>\n",
       "      <td id=\"T_f2787_row1_col3\" class=\"data row1 col3\" >0.38 ± 0.05</td>\n",
       "      <td id=\"T_f2787_row1_col4\" class=\"data row1 col4\" >0.5 ± 0.03</td>\n",
       "    </tr>\n",
       "    <tr>\n",
       "      <th id=\"T_f2787_level0_row2\" class=\"row_heading level0 row2\" >Model 2</th>\n",
       "      <td id=\"T_f2787_row2_col0\" class=\"data row2 col0\" >0.19 ± 0.04</td>\n",
       "      <td id=\"T_f2787_row2_col1\" class=\"data row2 col1\" >0.47 ± 0.04</td>\n",
       "      <td id=\"T_f2787_row2_col2\" class=\"data row2 col2\" >0.26 ± 0.08</td>\n",
       "      <td id=\"T_f2787_row2_col3\" class=\"data row2 col3\" >0.19 ± 0.04</td>\n",
       "      <td id=\"T_f2787_row2_col4\" class=\"data row2 col4\" >0.51 ± 0.04</td>\n",
       "    </tr>\n",
       "    <tr>\n",
       "      <th id=\"T_f2787_level0_row3\" class=\"row_heading level0 row3\" >Model 3</th>\n",
       "      <td id=\"T_f2787_row3_col0\" class=\"data row3 col0\" >0.35 ± 0.04</td>\n",
       "      <td id=\"T_f2787_row3_col1\" class=\"data row3 col1\" >0.47 ± 0.04</td>\n",
       "      <td id=\"T_f2787_row3_col2\" class=\"data row3 col2\" >0.45 ± 0.03</td>\n",
       "      <td id=\"T_f2787_row3_col3\" class=\"data row3 col3\" >0.48 ± 0.04</td>\n",
       "      <td id=\"T_f2787_row3_col4\" class=\"data row3 col4\" >0.5 ± 0.04</td>\n",
       "    </tr>\n",
       "  </tbody>\n",
       "</table>\n"
      ],
      "text/plain": [
       "<pandas.io.formats.style.Styler at 0x29123c80100>"
      ]
     },
     "execution_count": 78,
     "metadata": {},
     "output_type": "execute_result"
    }
   ],
   "source": [
    "import pandas as pd\n",
    "df = pd.DataFrame(data={'No Train': ['0.42 ± 0.04', '0.43 ± 0.04', '0.19 ± 0.04', '0.35 ± 0.04'], 'Degree': ['0.47 ± 0.04', '0.47 ± 0.04', '0.47 ± 0.04', '0.47 ± 0.04'], \n",
    "                        'SL(10)': ['0.44 ± 0.04', '0.24 ± 0.04', '0.26 ± 0.08', '0.45 ± 0.03'], 'RL(10,offline)': ['0.49 ± 0.04', '0.38 ± 0.05', '0.19 ± 0.04', '0.48 ± 0.04'],\n",
    "                        'RL(10,online)': ['0.51 ± 0.03', '0.5 ± 0.03', '0.51 ± 0.04', '0.5 ± 0.04']},\n",
    "                 index=['Average', 'Model 1', 'Model 2', 'Model 3'])\n",
    "s = df.style.set_properties(**{'font-size': '13pt'}) \\\n",
    "            .set_table_styles([ dict(selector='th', props=[('font-size', '150%')]) ]) \\\n",
    "            .applymap(lambda x: 'background-color: %s' % ('blue' if float(x.split(' ')[0])>= 0.5 else None))\n",
    "s"
   ]
  },
  {
   "cell_type": "code",
   "execution_count": null,
   "id": "a621f9b6-b63f-441b-81fe-da2a96991e34",
   "metadata": {},
   "outputs": [],
   "source": []
  },
  {
   "cell_type": "code",
   "execution_count": 500,
   "id": "7a6298d8-3647-43d1-8026-e18f6e13ae07",
   "metadata": {},
   "outputs": [
    {
     "data": {
      "text/html": [
       "<style type=\"text/css\">\n",
       "#T_1adad th {\n",
       "  font-size: 150%;\n",
       "}\n",
       "#T_1adad_row0_col0, #T_1adad_row0_col1, #T_1adad_row0_col4, #T_1adad_row0_col5, #T_1adad_row1_col0, #T_1adad_row1_col1, #T_1adad_row1_col2, #T_1adad_row1_col4, #T_1adad_row1_col5, #T_1adad_row2_col0, #T_1adad_row2_col1, #T_1adad_row2_col4, #T_1adad_row2_col5, #T_1adad_row3_col0, #T_1adad_row3_col1, #T_1adad_row3_col3, #T_1adad_row3_col4, #T_1adad_row3_col5 {\n",
       "  font-size: 13pt;\n",
       "  text-align: center;\n",
       "  font-weight: None;\n",
       "}\n",
       "#T_1adad_row0_col2, #T_1adad_row0_col3, #T_1adad_row1_col3, #T_1adad_row2_col2, #T_1adad_row2_col3, #T_1adad_row3_col2 {\n",
       "  font-size: 13pt;\n",
       "  text-align: center;\n",
       "  font-weight: bold;\n",
       "}\n",
       "</style>\n",
       "<table id=\"T_1adad\">\n",
       "  <thead>\n",
       "    <tr>\n",
       "      <th class=\"blank level0\" >&nbsp;</th>\n",
       "      <th id=\"T_1adad_level0_col0\" class=\"col_heading level0 col0\" >No-train</th>\n",
       "      <th id=\"T_1adad_level0_col1\" class=\"col_heading level0 col1\" >Degree-centrality</th>\n",
       "      <th id=\"T_1adad_level0_col2\" class=\"col_heading level0 col2\" >RL-online-sample</th>\n",
       "      <th id=\"T_1adad_level0_col3\" class=\"col_heading level0 col3\" >RL-offline-sample</th>\n",
       "      <th id=\"T_1adad_level0_col4\" class=\"col_heading level0 col4\" >RL-online-all</th>\n",
       "      <th id=\"T_1adad_level0_col5\" class=\"col_heading level0 col5\" >RL-offline-all</th>\n",
       "    </tr>\n",
       "  </thead>\n",
       "  <tbody>\n",
       "    <tr>\n",
       "      <th id=\"T_1adad_level0_row0\" class=\"row_heading level0 row0\" >Average</th>\n",
       "      <td id=\"T_1adad_row0_col0\" class=\"data row0 col0\" >0.42 ± 0.04</td>\n",
       "      <td id=\"T_1adad_row0_col1\" class=\"data row0 col1\" >0.47 ± 0.04</td>\n",
       "      <td id=\"T_1adad_row0_col2\" class=\"data row0 col2\" >0.51 ± 0.04</td>\n",
       "      <td id=\"T_1adad_row0_col3\" class=\"data row0 col3\" >0.51 ± 0.04</td>\n",
       "      <td id=\"T_1adad_row0_col4\" class=\"data row0 col4\" >0.49 ± 0.05</td>\n",
       "      <td id=\"T_1adad_row0_col5\" class=\"data row0 col5\" >0.49 ± 0.05</td>\n",
       "    </tr>\n",
       "    <tr>\n",
       "      <th id=\"T_1adad_level0_row1\" class=\"row_heading level0 row1\" >Model 1</th>\n",
       "      <td id=\"T_1adad_row1_col0\" class=\"data row1 col0\" >0.43 ± 0.04</td>\n",
       "      <td id=\"T_1adad_row1_col1\" class=\"data row1 col1\" >0.47 ± 0.04</td>\n",
       "      <td id=\"T_1adad_row1_col2\" class=\"data row1 col2\" >0.5 ± 0.04</td>\n",
       "      <td id=\"T_1adad_row1_col3\" class=\"data row1 col3\" >0.51 ± 0.04</td>\n",
       "      <td id=\"T_1adad_row1_col4\" class=\"data row1 col4\" >0.44 ± 0.05</td>\n",
       "      <td id=\"T_1adad_row1_col5\" class=\"data row1 col5\" >0.44 ± 0.05</td>\n",
       "    </tr>\n",
       "    <tr>\n",
       "      <th id=\"T_1adad_level0_row2\" class=\"row_heading level0 row2\" >Model 2</th>\n",
       "      <td id=\"T_1adad_row2_col0\" class=\"data row2 col0\" >0.19 ± 0.04</td>\n",
       "      <td id=\"T_1adad_row2_col1\" class=\"data row2 col1\" >0.47 ± 0.04</td>\n",
       "      <td id=\"T_1adad_row2_col2\" class=\"data row2 col2\" >0.51 ± 0.04</td>\n",
       "      <td id=\"T_1adad_row2_col3\" class=\"data row2 col3\" >0.51 ± 0.04</td>\n",
       "      <td id=\"T_1adad_row2_col4\" class=\"data row2 col4\" >0.47 ± 0.06</td>\n",
       "      <td id=\"T_1adad_row2_col5\" class=\"data row2 col5\" >0.47 ± 0.06</td>\n",
       "    </tr>\n",
       "    <tr>\n",
       "      <th id=\"T_1adad_level0_row3\" class=\"row_heading level0 row3\" >Model 3</th>\n",
       "      <td id=\"T_1adad_row3_col0\" class=\"data row3 col0\" >0.35 ± 0.04</td>\n",
       "      <td id=\"T_1adad_row3_col1\" class=\"data row3 col1\" >0.47 ± 0.04</td>\n",
       "      <td id=\"T_1adad_row3_col2\" class=\"data row3 col2\" >0.51 ± 0.05</td>\n",
       "      <td id=\"T_1adad_row3_col3\" class=\"data row3 col3\" >0.49 ± 0.03</td>\n",
       "      <td id=\"T_1adad_row3_col4\" class=\"data row3 col4\" >0.5 ± 0.05</td>\n",
       "      <td id=\"T_1adad_row3_col5\" class=\"data row3 col5\" >0.5 ± 0.05</td>\n",
       "    </tr>\n",
       "  </tbody>\n",
       "</table>\n"
      ],
      "text/plain": [
       "<pandas.io.formats.style.Styler at 0x2916d58ee50>"
      ]
     },
     "execution_count": 500,
     "metadata": {},
     "output_type": "execute_result"
    }
   ],
   "source": [
    "import pandas as pd\n",
    "df = pd.DataFrame(data={'No-train': ['0.42 ± 0.04', '0.43 ± 0.04', '0.19 ± 0.04', '0.35 ± 0.04'], 'Degree-centrality': ['0.47 ± 0.04', '0.47 ± 0.04', '0.47 ± 0.04', '0.47 ± 0.04'], \n",
    "                        'RL-online-sample': ['0.51 ± 0.04', '0.5 ± 0.04', '0.51 ± 0.04', '0.51 ± 0.05'], 'RL-offline-sample': ['0.51 ± 0.04', '0.51 ± 0.04', '0.51 ± 0.04', '0.49 ± 0.03'],\n",
    "                        'RL-online-all': ['0.49 ± 0.05', '0.44 ± 0.05', '0.47 ± 0.06', '0.5 ± 0.05'], 'RL-offline-all': ['0.49 ± 0.05', '0.44 ± 0.05', '0.47 ± 0.06', '0.5 ± 0.05']},\n",
    "                 index=['Average', 'Model 1', 'Model 2', 'Model 3'])\n",
    "s = df.style.set_properties(**{'font-size': '13pt', 'text-align':'center'}) \\\n",
    "            .set_table_styles([ dict(selector='th', props=[('font-size', '150%')]) ]) \\\n",
    "            .applymap(lambda x: 'font-weight: %s' % ('bold' if float(x.split(' ')[0])>= 0.51 else None))\n",
    "s"
   ]
  },
  {
   "cell_type": "code",
   "execution_count": 505,
   "id": "306006bf-f436-4544-b297-65780a656723",
   "metadata": {},
   "outputs": [],
   "source": [
    "with open('fig/df.html', 'w', encoding='utf-8') as f:\n",
    "    f.write(s.to_html())"
   ]
  },
  {
   "cell_type": "code",
   "execution_count": null,
   "id": "5855f4a3-2ea2-4842-9da6-9fc8ea95f8b7",
   "metadata": {},
   "outputs": [],
   "source": []
  },
  {
   "cell_type": "code",
   "execution_count": null,
   "id": "df78b827-cf0f-4797-a131-db26e433dde0",
   "metadata": {},
   "outputs": [],
   "source": []
  },
  {
   "cell_type": "code",
   "execution_count": null,
   "id": "696157f9-b875-46c4-a7d0-49dba8949331",
   "metadata": {},
   "outputs": [],
   "source": []
  },
  {
   "cell_type": "code",
   "execution_count": null,
   "id": "e93284a9-52d4-4ed6-8e5b-0c6489af2c19",
   "metadata": {},
   "outputs": [],
   "source": []
  },
  {
   "cell_type": "code",
   "execution_count": null,
   "id": "3ab9350b-deb5-4f9a-8e4d-d5ee2f6a57e7",
   "metadata": {},
   "outputs": [],
   "source": []
  },
  {
   "cell_type": "code",
   "execution_count": 31,
   "id": "5727c395-073d-4ac7-804b-c35d47358216",
   "metadata": {},
   "outputs": [
    {
     "name": "stdout",
     "output_type": "stream",
     "text": [
      "Instantiating new model. Manually init weights... lr=0.0001\n",
      "                                                                                                                       \n",
      "Running iteration 0 with eps = 0.5:\n",
      "---> Result: 700 total infected over time. %healthy = 0.3                                                              \n",
      "Iterations simulation progress: 100%|████████████████████████████████████████████████████| 1/1 [00:03<00:00,  3.53s/it]\n",
      "                                                                                                                       \n",
      "Running iteration 0 with eps = 0.495:\n",
      "---> Result: 642 total infected over time. %healthy = 0.358                                                            \n",
      "Iterations simulation progress: 100%|████████████████████████████████████████████████████| 1/1 [00:03<00:00,  3.92s/it]\n",
      "                                                                                                                       \n",
      "Running iteration 0 with eps = 0.49005:\n",
      "---> Result: 639 total infected over time. %healthy = 0.361                                                            \n",
      "Iterations simulation progress: 100%|████████████████████████████████████████████████████| 1/1 [00:03<00:00,  3.68s/it]\n",
      "                                                                                                                       \n",
      "Running iteration 0 with eps = 0.48515:\n",
      "---> Result: 639 total infected over time. %healthy = 0.361                                                            \n",
      "Iterations simulation progress: 100%|████████████████████████████████████████████████████| 1/1 [00:04<00:00,  4.07s/it]\n",
      "                                                                                                                       \n",
      "Running iteration 0 with eps = 0.4803:\n",
      "---> Result: 563 total infected over time. %healthy = 0.437                                                            \n",
      "Iterations simulation progress: 100%|████████████████████████████████████████████████████| 1/1 [00:03<00:00,  3.35s/it]\n",
      "                                                                                                                       \n",
      "Running iteration 0 with eps = 0.4755:\n",
      "Changing target model...                                                                                               \n",
      "---> Result: 565 total infected over time. %healthy = 0.435                                                            \n",
      "Iterations simulation progress: 100%|████████████████████████████████████████████████████| 1/1 [00:03<00:00,  3.62s/it]\n",
      "                                                                                                                       \n",
      "Running iteration 0 with eps = 0.47074:\n",
      "---> Result: 511 total infected over time. %healthy = 0.489                                                            \n",
      "Iterations simulation progress: 100%|████████████████████████████████████████████████████| 1/1 [00:03<00:00,  3.71s/it]\n",
      "                                                                                                                       \n",
      "Running iteration 0 with eps = 0.46603:\n",
      "---> Result: 545 total infected over time. %healthy = 0.455                                                            \n",
      "Iterations simulation progress: 100%|████████████████████████████████████████████████████| 1/1 [00:03<00:00,  3.73s/it]\n",
      "                                                                                                                       \n",
      "Running iteration 0 with eps = 0.46137:\n",
      "---> Result: 498 total infected over time. %healthy = 0.502                                                            \n",
      "Iterations simulation progress: 100%|████████████████████████████████████████████████████| 1/1 [00:03<00:00,  3.22s/it]\n",
      "                                                                                                                       \n",
      "Running iteration 0 with eps = 0.45676:\n",
      "---> Result: 482 total infected over time. %healthy = 0.518                                                            \n",
      "Iterations simulation progress: 100%|████████████████████████████████████████████████████| 1/1 [00:02<00:00,  2.87s/it]\n",
      "                                                                                                                       \n",
      "Running iteration 0 with eps = 0.45219:\n",
      "Changing target model...                                                                                               \n",
      "---> Result: 514 total infected over time. %healthy = 0.486                                                            \n",
      "Iterations simulation progress: 100%|████████████████████████████████████████████████████| 1/1 [00:03<00:00,  3.29s/it]\n",
      "                                                                                                                       \n",
      "Running iteration 0 with eps = 0.44767:\n",
      "---> Result: 516 total infected over time. %healthy = 0.484                                                            \n",
      "Iterations simulation progress: 100%|████████████████████████████████████████████████████| 1/1 [00:02<00:00,  3.00s/it]\n",
      "                                                                                                                       \n",
      "Running iteration 0 with eps = 0.44319:\n",
      "---> Result: 516 total infected over time. %healthy = 0.484                                                            \n",
      "Iterations simulation progress: 100%|████████████████████████████████████████████████████| 1/1 [00:03<00:00,  3.29s/it]\n",
      "                                                                                                                       \n",
      "Running iteration 0 with eps = 0.43876:\n",
      "---> Result: 516 total infected over time. %healthy = 0.484                                                            \n",
      "Iterations simulation progress: 100%|████████████████████████████████████████████████████| 1/1 [00:03<00:00,  3.20s/it]\n",
      "                                                                                                                       \n",
      "Running iteration 0 with eps = 0.43437:\n",
      "---> Result: 485 total infected over time. %healthy = 0.515                                                            \n",
      "Iterations simulation progress: 100%|████████████████████████████████████████████████████| 1/1 [00:03<00:00,  3.17s/it]\n",
      "                                                                                                                       \n",
      "Running iteration 0 with eps = 0.43003:\n",
      "Changing target model...                                                                                               \n",
      "---> Result: 487 total infected over time. %healthy = 0.513                                                            \n",
      "Iterations simulation progress: 100%|████████████████████████████████████████████████████| 1/1 [00:03<00:00,  3.40s/it]\n",
      "                                                                                                                       \n",
      "Running iteration 0 with eps = 0.42573:\n",
      "---> Result: 509 total infected over time. %healthy = 0.491                                                            \n",
      "Iterations simulation progress: 100%|████████████████████████████████████████████████████| 1/1 [00:03<00:00,  3.18s/it]\n",
      "                                                                                                                       \n",
      "Running iteration 0 with eps = 0.42147:\n",
      "---> Result: 483 total infected over time. %healthy = 0.517                                                            \n",
      "Iterations simulation progress: 100%|████████████████████████████████████████████████████| 1/1 [00:03<00:00,  3.06s/it]\n",
      "                                                                                                                       \n",
      "Running iteration 0 with eps = 0.41726:\n",
      "---> Result: 442 total infected over time. %healthy = 0.558                                                            \n",
      "Iterations simulation progress: 100%|████████████████████████████████████████████████████| 1/1 [00:03<00:00,  3.19s/it]\n",
      "                                                                                                                       \n",
      "Running iteration 0 with eps = 0.41308:\n",
      "---> Result: 467 total infected over time. %healthy = 0.533                                                            \n",
      "Iterations simulation progress: 100%|████████████████████████████████████████████████████| 1/1 [00:02<00:00,  2.77s/it]\n",
      "                                                                                                                       \n",
      "Running iteration 0 with eps = 0.40895:\n",
      "Changing target model...                                                                                               \n",
      "---> Result: 492 total infected over time. %healthy = 0.508                                                            \n",
      "Iterations simulation progress: 100%|████████████████████████████████████████████████████| 1/1 [00:02<00:00,  2.92s/it]\n",
      "                                                                                                                       \n",
      "Running iteration 0 with eps = 0.40486:\n",
      "---> Result: 491 total infected over time. %healthy = 0.509                                                            \n",
      "Iterations simulation progress: 100%|████████████████████████████████████████████████████| 1/1 [00:03<00:00,  3.16s/it]\n",
      "                                                                                                                       \n",
      "Running iteration 0 with eps = 0.40082:\n",
      "---> Result: 488 total infected over time. %healthy = 0.512                                                            \n",
      "Iterations simulation progress: 100%|████████████████████████████████████████████████████| 1/1 [00:03<00:00,  3.07s/it]\n",
      "                                                                                                                       \n",
      "Running iteration 0 with eps = 0.39681:\n",
      "---> Result: 476 total infected over time. %healthy = 0.524                                                            \n",
      "Iterations simulation progress: 100%|████████████████████████████████████████████████████| 1/1 [00:03<00:00,  3.03s/it]\n",
      "                                                                                                                       \n",
      "Running iteration 0 with eps = 0.39284:\n",
      "---> Result: 467 total infected over time. %healthy = 0.533                                                            \n",
      "Iterations simulation progress: 100%|████████████████████████████████████████████████████| 1/1 [00:02<00:00,  2.77s/it]\n",
      "                                                                                                                       \n",
      "Running iteration 0 with eps = 0.38891:\n",
      "Changing target model...                                                                                               \n",
      "---> Result: 474 total infected over time. %healthy = 0.526                                                            \n",
      "Iterations simulation progress: 100%|████████████████████████████████████████████████████| 1/1 [00:02<00:00,  2.80s/it]\n",
      "                                                                                                                       \n",
      "Running iteration 0 with eps = 0.38502:\n",
      "---> Result: 488 total infected over time. %healthy = 0.512                                                            \n",
      "Iterations simulation progress: 100%|████████████████████████████████████████████████████| 1/1 [00:03<00:00,  3.10s/it]\n",
      "                                                                                                                       \n",
      "Running iteration 0 with eps = 0.38117:\n",
      "---> Result: 513 total infected over time. %healthy = 0.487                                                            \n",
      "Iterations simulation progress: 100%|████████████████████████████████████████████████████| 1/1 [00:03<00:00,  3.10s/it]\n",
      "                                                                                                                       \n",
      "Running iteration 0 with eps = 0.37736:\n",
      "---> Result: 520 total infected over time. %healthy = 0.48                                                             \n",
      "Iterations simulation progress: 100%|████████████████████████████████████████████████████| 1/1 [00:03<00:00,  3.38s/it]\n",
      "                                                                                                                       \n",
      "Running iteration 0 with eps = 0.37359:\n",
      "---> Result: 494 total infected over time. %healthy = 0.506                                                            \n",
      "Iterations simulation progress: 100%|████████████████████████████████████████████████████| 1/1 [00:03<00:00,  3.23s/it]\n",
      "                                                                                                                       \n",
      "Running iteration 0 with eps = 0.36985:\n",
      "Changing target model...                                                                                               \n",
      "---> Result: 484 total infected over time. %healthy = 0.516                                                            \n",
      "Iterations simulation progress: 100%|████████████████████████████████████████████████████| 1/1 [00:03<00:00,  3.16s/it]\n",
      "                                                                                                                       \n",
      "Running iteration 0 with eps = 0.36615:\n",
      "---> Result: 501 total infected over time. %healthy = 0.499                                                            \n",
      "Iterations simulation progress: 100%|████████████████████████████████████████████████████| 1/1 [00:03<00:00,  3.43s/it]\n",
      "                                                                                                                       \n",
      "Running iteration 0 with eps = 0.36249:\n",
      "---> Result: 479 total infected over time. %healthy = 0.521                                                            \n",
      "Iterations simulation progress: 100%|████████████████████████████████████████████████████| 1/1 [00:03<00:00,  3.39s/it]\n",
      "                                                                                                                       \n",
      "Running iteration 0 with eps = 0.35887:\n",
      "---> Result: 472 total infected over time. %healthy = 0.528                                                            \n",
      "Iterations simulation progress: 100%|████████████████████████████████████████████████████| 1/1 [00:02<00:00,  2.80s/it]\n",
      "                                                                                                                       \n",
      "Running iteration 0 with eps = 0.35528:\n",
      "---> Result: 459 total infected over time. %healthy = 0.541                                                            \n",
      "Iterations simulation progress: 100%|████████████████████████████████████████████████████| 1/1 [00:02<00:00,  2.69s/it]\n",
      "                                                                                                                       \n",
      "Running iteration 0 with eps = 0.35172:\n",
      "Changing target model...                                                                                               \n",
      "---> Result: 480 total infected over time. %healthy = 0.52                                                             \n",
      "Iterations simulation progress: 100%|████████████████████████████████████████████████████| 1/1 [00:03<00:00,  3.23s/it]\n",
      "                                                                                                                       \n",
      "Running iteration 0 with eps = 0.34821:\n",
      "---> Result: 496 total infected over time. %healthy = 0.504                                                            \n",
      "Iterations simulation progress: 100%|████████████████████████████████████████████████████| 1/1 [00:03<00:00,  3.14s/it]\n",
      "                                                                                                                       \n",
      "Running iteration 0 with eps = 0.34472:\n",
      "---> Result: 470 total infected over time. %healthy = 0.53                                                             \n",
      "Iterations simulation progress: 100%|████████████████████████████████████████████████████| 1/1 [00:03<00:00,  3.32s/it]\n",
      "                                                                                                                       \n",
      "Running iteration 0 with eps = 0.34128:\n",
      "---> Result: 456 total infected over time. %healthy = 0.544                                                            \n",
      "Iterations simulation progress: 100%|████████████████████████████████████████████████████| 1/1 [00:03<00:00,  3.20s/it]\n",
      "                                                                                                                       \n",
      "Running iteration 0 with eps = 0.33786:\n",
      "---> Result: 542 total infected over time. %healthy = 0.458                                                            \n",
      "Iterations simulation progress: 100%|████████████████████████████████████████████████████| 1/1 [00:03<00:00,  3.29s/it]\n",
      "                                                                                                                       \n",
      "Running iteration 0 with eps = 0.33449:\n",
      "Changing target model...                                                                                               \n",
      "---> Result: 479 total infected over time. %healthy = 0.521                                                            \n",
      "Iterations simulation progress: 100%|████████████████████████████████████████████████████| 1/1 [00:02<00:00,  2.95s/it]\n",
      "                                                                                                                       \n",
      "Running iteration 0 with eps = 0.33114:\n",
      "---> Result: 476 total infected over time. %healthy = 0.524                                                            \n",
      "Iterations simulation progress: 100%|████████████████████████████████████████████████████| 1/1 [00:03<00:00,  3.17s/it]\n",
      "                                                                                                                       \n",
      "Running iteration 0 with eps = 0.32783:\n",
      "---> Result: 472 total infected over time. %healthy = 0.528                                                            \n",
      "Iterations simulation progress: 100%|████████████████████████████████████████████████████| 1/1 [00:03<00:00,  3.02s/it]\n",
      "                                                                                                                       \n",
      "Running iteration 0 with eps = 0.32455:\n",
      "---> Result: 444 total infected over time. %healthy = 0.556                                                            \n",
      "Iterations simulation progress: 100%|████████████████████████████████████████████████████| 1/1 [00:02<00:00,  2.84s/it]\n",
      "                                                                                                                       \n",
      "Running iteration 0 with eps = 0.32131:\n",
      "---> Result: 453 total infected over time. %healthy = 0.547                                                            \n",
      "Iterations simulation progress: 100%|████████████████████████████████████████████████████| 1/1 [00:03<00:00,  3.08s/it]\n",
      "                                                                                                                       \n",
      "Running iteration 0 with eps = 0.31809:\n",
      "Changing target model...                                                                                               \n",
      "---> Result: 453 total infected over time. %healthy = 0.547                                                            \n",
      "Iterations simulation progress: 100%|████████████████████████████████████████████████████| 1/1 [00:02<00:00,  2.71s/it]\n",
      "                                                                                                                       \n",
      "Running iteration 0 with eps = 0.31491:\n",
      "---> Result: 479 total infected over time. %healthy = 0.521                                                            \n",
      "Iterations simulation progress: 100%|████████████████████████████████████████████████████| 1/1 [00:03<00:00,  3.10s/it]\n",
      "                                                                                                                       \n",
      "Running iteration 0 with eps = 0.31176:\n",
      "---> Result: 471 total infected over time. %healthy = 0.529                                                            \n",
      "Iterations simulation progress: 100%|████████████████████████████████████████████████████| 1/1 [00:02<00:00,  2.99s/it]\n",
      "                                                                                                                       \n",
      "Running iteration 0 with eps = 0.30865:\n",
      "---> Result: 476 total infected over time. %healthy = 0.524                                                            \n",
      "Iterations simulation progress: 100%|████████████████████████████████████████████████████| 1/1 [00:02<00:00,  2.96s/it]\n",
      "                                                                                                                       \n",
      "Running iteration 0 with eps = 0.30556:\n",
      "---> Result: 503 total infected over time. %healthy = 0.497                                                            \n",
      "Iterations simulation progress: 100%|████████████████████████████████████████████████████| 1/1 [00:03<00:00,  3.21s/it]\n",
      "Total infected:  503.0\n",
      "Max infected:  503.0\n",
      "%healthy:  0.5 ± 0\n"
     ]
    }
   ],
   "source": [
    "import copy\n",
    "import torch\n",
    "import torch.nn as nn\n",
    "import torch_geometric.nn as pyg_nn\n",
    "\n",
    "import lib.run_tracing as run\n",
    "import lib.tracing.multirun_engine as eng\n",
    "import lib.tracing.utils as utils\n",
    "import lib.tracing.network as network\n",
    "import lib.tracing.stats as stat\n",
    "import lib.tracing.simulation as sim\n",
    "from lib.tracing.utils import rel\n",
    "import lib.agent as agent\n",
    "import lib.rank_model as rank\n",
    "rel(utils, stat, sim, network, agent, eng, run)\n",
    "\n",
    "def init_weights(m):\n",
    "    \"\"\"\n",
    "    recursively initializes the weights of the model\n",
    "    \"\"\"\n",
    "    if isinstance(m, nn.Linear):\n",
    "        nn.init.kaiming_uniform_(m.weight, nonlinearity='relu')\n",
    "    # for older versions of PYG which had a weight parameter directly within the MessagePassing class\n",
    "    elif isinstance(m, pyg_nn.MessagePassing) and hasattr(m, 'weight'):\n",
    "        nn.init.kaiming_uniform_(m.weight)\n",
    "    # # some modules may not have a bias or they may use the name with a bool value to trigger other behavior\n",
    "    if hasattr(m, 'bias') and isinstance(m.bias, torch.Tensor):\n",
    "        m.bias.data.fill_(0.01)\n",
    "\n",
    "# whether to instantiate a new model (will be done automatically if 'model' not in globals)\n",
    "change_model = bool(1) or 'model' not in globals()\n",
    "# torch.manual_seed for instatiating parameters (only relevant if change_model!)\n",
    "torch_seed = 15\n",
    "# whether to load ckp parameters of the model or not\n",
    "load = 0\n",
    "# k-hops infection neighborhood to dynamically store as feature for each node\n",
    "k_hops = 2\n",
    "# static features to calculate for each node\n",
    "static_measures = ('degree', 'eigenvector', 'rand:5',)\n",
    "# global learning rate to use (0 is disabled) - this can be overwritten if change_model and NO loading of parameters from ckp\n",
    "lr = 0\n",
    "# multiprocessing type\n",
    "multip = 0\n",
    "# init weights override\n",
    "is_init_weights = 1\n",
    "# ensemble number\n",
    "n_models = 1\n",
    "\n",
    "        \n",
    "if change_model:\n",
    "    try:\n",
    "        model = model.model\n",
    "    except (NameError, AttributeError):\n",
    "        print('Instantiating new model.', end=' ')\n",
    "        input_features = 4 + k_hops\n",
    "        for measure in static_measures:\n",
    "            try:\n",
    "                input_features += int(measure.split(':')[1])\n",
    "            except IndexError:\n",
    "                input_features += 1\n",
    "        rel(rank)\n",
    "        model_class = rank.EnsembleModel if n_models > 1 else rank.RankingModel\n",
    "        model = model_class(input_features, 1,\n",
    "                                  n_models=n_models,\n",
    "                                  layer_name='GINE',\n",
    "                                  # layer_kwargs=dict(num_layers=5),\n",
    "                                  num_layers=4,\n",
    "                                  norm_layer='LayerNorm',\n",
    "                                  use_edge_attr=1, # whether to use edge_attr or not in InfoModel\n",
    "                                  edge_dim=2, # edge_attr has 2 dims that need to be linearly transformed\n",
    "                                  edge_attr_scaling=True, # needed for many GNN models with edge_attr\n",
    "                                  last_fully_adjacent=1,\n",
    "                                  add_self_loops=1,\n",
    "                                  diff_add_self_loops=1,\n",
    "                                  diff_layer_name='GAT2',\n",
    "                                  diff_layer_kwargs=dict(edge_dim=2, add_self_loops=0, heads=1, concat=False),\n",
    "                                  diff_use_edge_attr=1, # whether to use the edge_weights or not (i.e. edge_attr at index 0)\n",
    "                                  nonlin='ReLU',\n",
    "                                  agg='cat',\n",
    "                                  reduce_h='std',\n",
    "                                  dropout=0,\n",
    "                                  dropout_head=0,\n",
    "                                  layers_head=1,\n",
    "                                  linear_head=1,\n",
    "                                  nonlin_head='ReLU',\n",
    "                                  state_score_method='max',\n",
    "                                  last_incl_gnn_outs=0,\n",
    "                                  torch_seed=torch_seed,\n",
    "                                  reset_h_seed=-1,\n",
    "                                  deterministic=1,\n",
    "                                 )\n",
    "        if load:\n",
    "            print('Loading from pretrain...', end=' ')\n",
    "            model.load_state_dict(torch.load('saved/ranking_0.pt'))\n",
    "        else:\n",
    "            if is_init_weights:\n",
    "                print('Manually init weights...', end=' ')\n",
    "                model.apply(init_weights)\n",
    "            lr = 1e-4\n",
    "        \n",
    "    if multip:\n",
    "        model.share_memory()\n",
    "\n",
    "\n",
    "print(f'{lr=}')\n",
    "optimizer = torch.optim.Adam(model.parameters(), weight_decay=.1)\n",
    "online = 1\n",
    "ag = dict(\n",
    "    typ='sl',\n",
    "    rl_sampler='softmax',\n",
    "    # gamma, lambda, reward_scale, actor_loss, clip_ratio, value_coeff, entropy_coeff, ce_coeff, eligibility, target_update\n",
    "    rl_args=(.99, .97, 1, 'ppo', -0.2, 0.5, 0, 0, 1, 5),\n",
    "    ranking_model=model,\n",
    "    target_model=copy.deepcopy(model) if online else None,\n",
    "    debug_print=-1,\n",
    "    index_weight=-1,\n",
    "    pos_weight=False,\n",
    "    mark_delay_same_edges=False,\n",
    "    gpu=1,\n",
    "    lr=lr,\n",
    "    online=online,\n",
    "    epochs=5,\n",
    "    batch_size=10,\n",
    "    grad_clip=.5,\n",
    "    optimizer=optimizer,\n",
    "    optimizer_kwargs=dict(weight_decay=.1),\n",
    "    scheduler=torch.optim.lr_scheduler.StepLR(optimizer, 50, 0.2),\n",
    "    measure='closeness',\n",
    "    record_edges=True,\n",
    "    static_measures=static_measures, \n",
    "    n_test=2,\n",
    "    n_trace=0,\n",
    "    tester=True,\n",
    "    tracer=False,\n",
    "    k_hops=k_hops,\n",
    "    seed=12,\n",
    "    dist_over_sample=1, # IF distrib is over the sample (T) OR all the nodes (F); when True, only logp = y_pred[nodes] is possible\n",
    "    logp_from_score=1, # IF logp = y_pred[nodes] (T) OR logp = pi.log_prob(nodes) (F)\n",
    "    logpold_from_score=1 # IF logp_old = y_pred[nodes] (T) OR logp_old = pi.log_prob(nodes) (F)\n",
    ")\n",
    "\n",
    "\n",
    "n_episodes = 50\n",
    "eps_start = .5\n",
    "eps_decay = .99\n",
    "eps = [round(eps_start * eps_decay**i, 5) for i in range(n_episodes)]\n",
    "error_del_model = 1\n",
    "\n",
    "torch.autograd.set_detect_anomaly(False)\n",
    "st = extra = False\n",
    "try:\n",
    "    st, extra = run.run_mock(agent=ag, control_after=5, control_after_inf=.05, control_initial_known=.25,\n",
    "                                first_inf=5, presample=10000, pa=.2, taur=0, taut=eps,\n",
    "                                nettype='barabasi:5:1', netsize=1000, k=2.8, p=.1, rem_orphans=False, use_weights=True, dual=0,\n",
    "                                seed=21, netseed=25, infseed=-1, model='seir', spontan=False, sampling_type='min', update_after=1, reindex=False,\n",
    "                                multip=0, nnets=1, niters=1, nevents=0, noncomp=0, noncomp_after=10000,\n",
    "                                draw=0, draw_iter=0, draw_fullname=True, draw_layout='graphviz',\n",
    "                                summary_print=0, summary_splits=20, avg_without_earlystop=True)\n",
    "    # here the key for inspecting results is either 'res' (For one episode) or the latest epsilon (For multiple episodes)\n",
    "    key = 'res' if 'res' in st else eps[-1]\n",
    "    print('Total infected: ', st[key]['average-overall-infected']['mean'])\n",
    "    print('Max infected: ', st[key]['average-max-infected']['mean'])\n",
    "    print('%healthy: ', st[key]['average-%healthy']['mean'], '±', st[key]['average-%healthy']['std'])\n",
    "except (Exception, BaseException) as e:\n",
    "    if error_del_model:\n",
    "        del model, ag, st, extra\n",
    "        torch.cuda.empty_cache()\n",
    "        !nvidia-smi\n",
    "    raise e"
   ]
  },
  {
   "cell_type": "code",
   "execution_count": null,
   "id": "50e68e3c-2e60-4cda-9a60-3a64115e0d43",
   "metadata": {},
   "outputs": [],
   "source": []
  },
  {
   "cell_type": "code",
   "execution_count": null,
   "id": "09c3786a-dc1f-4edc-96bc-1ae48b3fc7ed",
   "metadata": {},
   "outputs": [],
   "source": []
  },
  {
   "cell_type": "code",
   "execution_count": null,
   "id": "5e4475d1-603f-4e45-b45a-803b9e9cb44f",
   "metadata": {},
   "outputs": [],
   "source": []
  },
  {
   "cell_type": "code",
   "execution_count": null,
   "id": "fb23fb27-c60e-4bdc-94ec-aa639533cf21",
   "metadata": {},
   "outputs": [],
   "source": []
  },
  {
   "cell_type": "code",
   "execution_count": null,
   "id": "d6e75683-f207-4f3f-9ca2-03e4bf813a5d",
   "metadata": {},
   "outputs": [],
   "source": []
  },
  {
   "cell_type": "code",
   "execution_count": null,
   "id": "16d5268a-3a7d-4308-9df6-4bc03ff18c52",
   "metadata": {},
   "outputs": [],
   "source": [
    "import copy\n",
    "import torch\n",
    "import torch.nn as nn\n",
    "import torch_geometric.nn as pyg_nn\n",
    "\n",
    "import lib.run_tracing as run\n",
    "import lib.tracing.multirun_engine as eng\n",
    "import lib.tracing.utils as utils\n",
    "import lib.tracing.network as network\n",
    "import lib.tracing.stats as stat\n",
    "import lib.tracing.simulation as sim\n",
    "from lib.tracing.utils import rel\n",
    "import lib.agent as agent\n",
    "import lib.rank_model as rank\n",
    "rel(utils, stat, sim, network, agent, eng, run)\n",
    "\n",
    "def init_weights(m):\n",
    "    \"\"\"\n",
    "    recursively initializes the weights of the model\n",
    "    \"\"\"\n",
    "    if isinstance(m, nn.Linear):\n",
    "        nn.init.kaiming_uniform_(m.weight, nonlinearity='relu')\n",
    "    # for older versions of PYG which had a weight parameter directly within the MessagePassing class\n",
    "    elif isinstance(m, pyg_nn.MessagePassing) and hasattr(m, 'weight'):\n",
    "        nn.init.xavier_uniform_(m.weight)\n",
    "    # some modules may not have a bias or they may use the name with a bool value to trigger other behavior\n",
    "    if hasattr(m, 'bias') and isinstance(m.bias, torch.Tensor):\n",
    "        m.bias.data.fill_(0.01)\n",
    "\n",
    "# whether to instantiate a new model (will be done automatically if 'model' not in globals)\n",
    "change_model = bool(1) or 'model' not in globals()\n",
    "# torch.manual_seed for instatiating parameters (only relevant if change_model!)\n",
    "torch_seed = 13\n",
    "# whether to load ckp parameters of the model or not\n",
    "load = 0\n",
    "# k-hops infection neighborhood to dynamically store as feature for each node\n",
    "k_hops = 2\n",
    "# static features to calculate for each node\n",
    "static_measures = ('degree', 'eigenvector', 'rand:3')\n",
    "# global learning rate to use (0 is disabled) - this can be overwritten if change_model and NO loading of parameters from ckp\n",
    "lr = 0\n",
    "# multiprocessing type\n",
    "multip = 0\n",
    "# init weights override\n",
    "is_init_weights = 1\n",
    "\n",
    "        \n",
    "if change_model:\n",
    "    try:\n",
    "        model = model.model\n",
    "    except (NameError, AttributeError):\n",
    "        print('Instantiating new model.', end=' ')\n",
    "        input_features = 4 + k_hops\n",
    "        for measure in static_measures:\n",
    "            try:\n",
    "                input_features += int(measure.split(':')[1])\n",
    "            except IndexError:\n",
    "                input_features += 1\n",
    "        rel(rank)\n",
    "        model = rank.RankingModel(input_features, 1,\n",
    "                                  layer_name='GINE',\n",
    "                                  # layer_kwargs=dict(num_layers=5),\n",
    "                                  num_layers=4,\n",
    "                                  norm_layer='LayerNorm',\n",
    "                                  use_edge_attr=1, # whether to use edge_attr or not in InfoModel\n",
    "                                  edge_dim=2, # edge_attr has 2 dims that need to be linearly transformed\n",
    "                                  edge_attr_scaling=True, # needed for many GNN models with edge_attr\n",
    "                                  last_fully_adjacent=1,\n",
    "                                  add_self_loops=0,\n",
    "                                  diff_layer_name='GAT2',\n",
    "                                  diff_layer_kwargs=dict(edge_dim=2, add_self_loops=1, heads=1, concat=False),\n",
    "                                  diff_use_edge_attr=1, # whether to use the edge_weights or not (i.e. edge_attr at index 0)\n",
    "                                  nonlin='ReLU',\n",
    "                                  agg='cat',\n",
    "                                  reduce_h='mean-std',\n",
    "                                  dropout=0,\n",
    "                                  dropout_head=0,\n",
    "                                  layers_head=1,\n",
    "                                  linear_head=1,\n",
    "                                  nonlin_head='ReLU',\n",
    "                                  state_score_method='max',\n",
    "                                  last_incl_gnn_outs=0,\n",
    "                                  torch_seed=torch_seed,\n",
    "                                  reset_h_seed=-1,\n",
    "                                  deterministic=0\n",
    "                                 )\n",
    "        if load:\n",
    "            print('Loading from pretrain...', end=' ')\n",
    "            model.load_state_dict(torch.load('saved/ranking_0.pt'))\n",
    "        else:\n",
    "            if is_init_weights:\n",
    "                print('Manually init weights...', end=' ')\n",
    "                model.apply(init_weights)\n",
    "            lr = 1e-3\n",
    "        \n",
    "    if multip:\n",
    "        model.share_memory()\n",
    "\n",
    "\n",
    "print(f'{lr=}')\n",
    "optimizer = torch.optim.Adam(model.parameters(), weight_decay=.1)\n",
    "online = 1\n",
    "ag = dict(\n",
    "    typ='sl',\n",
    "    rl_sampler='softmax',\n",
    "    # gamma, lambda, reward_scale, clip_ratio, value_coeff, entropy_coeff, ce_coeff, eligibility, target_update\n",
    "    rl_args=(.99, .97, 1, -0.2, 0.5, 0.01, 0, 1, 5),\n",
    "    ranking_model=model,\n",
    "    target_model=copy.deepcopy(model) if online else None,\n",
    "    debug_print=-1,\n",
    "    index_weight=-1,\n",
    "    pos_weight=False,\n",
    "    mark_delay_same_edges=False,\n",
    "    gpu=1,\n",
    "    lr=lr,\n",
    "    online=online,\n",
    "    batch_size=5,\n",
    "    grad_clip=.5,\n",
    "    optimizer=optimizer,\n",
    "    optimizer_kwargs=dict(weight_decay=.1),\n",
    "    scheduler=torch.optim.lr_scheduler.StepLR(optimizer, 100, 0.1),\n",
    "    measure='degree',\n",
    "    record_edges=True,\n",
    "    static_measures=static_measures, \n",
    "    n_test=2,\n",
    "    n_trace=0,\n",
    "    tester=True,\n",
    "    tracer=False,\n",
    "    k_hops=k_hops,\n",
    "    seed=12,\n",
    ")\n",
    "\n",
    "\n",
    "n_episodes = 50\n",
    "eps_start = .5\n",
    "eps_decay = .99\n",
    "eps = [round(eps_start * eps_decay**i, 5) for i in range(n_episodes)]\n",
    "error_del_model = 1\n",
    "\n",
    "torch.autograd.set_detect_anomaly(False)\n",
    "st = extra = False\n",
    "try:\n",
    "    st, extra = run.run_mock(agent=ag, control_after=5, control_after_inf=.05, control_initial_known=.25,\n",
    "                                first_inf=5, presample=10000, pa=.2, taut=eps,\n",
    "                                nettype='barabasi:5:1', netsize=1000, k=2.8, p=.1, rem_orphans=False, use_weights=True, dual=0,\n",
    "                                seed=21, netseed=25, infseed=-1, model='seir', spontan=False, sampling_type='min', update_after=1, reindex=False,\n",
    "                                multip=0, nnets=1, niters=1, nevents=0, noncomp=0, noncomp_after=10000,\n",
    "                                draw=0, draw_iter=0, draw_fullname=True, draw_layout='graphviz',\n",
    "                                summary_print=0, summary_splits=20, avg_without_earlystop=True)\n",
    "    # here the key for inspecting results is either 'res' (For one episode) or the latest epsilon (For multiple episodes)\n",
    "    key = 'res' if 'res' in st else eps[-1]\n",
    "    print('Total infected: ', st[key]['average-overall-infected']['mean'])\n",
    "    print('Max infected: ', st[key]['average-max-infected']['mean'])\n",
    "    print('%healthy: ', st[key]['average-%healthy']['mean'], '±', st[key]['average-%healthy']['std'])\n",
    "except (Exception, BaseException) as e:\n",
    "    if error_del_model:\n",
    "        del model, ag, st, extra\n",
    "        torch.cuda.empty_cache()\n",
    "        !nvidia-smi\n",
    "    raise e"
   ]
  },
  {
   "cell_type": "code",
   "execution_count": null,
   "id": "15b75d36-f9ce-4307-a36a-b9882cb5c0ec",
   "metadata": {},
   "outputs": [],
   "source": [
    "import copy\n",
    "import torch\n",
    "import torch.nn as nn\n",
    "import torch_geometric.nn as pyg_nn\n",
    "\n",
    "import lib.run_tracing as run\n",
    "import lib.tracing.multirun_engine as eng\n",
    "import lib.tracing.utils as utils\n",
    "import lib.tracing.network as network\n",
    "import lib.tracing.stats as stat\n",
    "import lib.tracing.simulation as sim\n",
    "from lib.tracing.utils import rel\n",
    "import lib.agent as agent\n",
    "import lib.rank_model as rank\n",
    "rel(utils, stat, sim, network, agent, eng, run)\n",
    "\n",
    "def init_weights(m):\n",
    "    \"\"\"\n",
    "    recursively initializes the weights of the model\n",
    "    \"\"\"\n",
    "    if isinstance(m, nn.Linear):\n",
    "        nn.init.kaiming_uniform_(m.weight, nonlinearity='relu')\n",
    "    # for older versions of PYG which had a weight parameter directly within the MessagePassing class\n",
    "    elif isinstance(m, pyg_nn.MessagePassing) and hasattr(m, 'weight'):\n",
    "        nn.init.xavier_uniform_(m.weight)\n",
    "    # some modules may not have a bias or they may use the name with a bool value to trigger other behavior\n",
    "    if hasattr(m, 'bias') and isinstance(m.bias, torch.Tensor):\n",
    "        m.bias.data.fill_(0.01)\n",
    "\n",
    "# whether to instantiate a new model (will be done automatically if 'model' not in globals)\n",
    "change_model = bool(1) or 'model' not in globals()\n",
    "# torch.manual_seed for instatiating parameters (only relevant if change_model!)\n",
    "torch_seed = 13\n",
    "# whether to load ckp parameters of the model or not\n",
    "load = 0\n",
    "# k-hops infection neighborhood to dynamically store as feature for each node\n",
    "k_hops = 2\n",
    "# static features to calculate for each node\n",
    "static_measures = ('degree', 'eigenvector', 'rand:3')\n",
    "# global learning rate to use (0 is disabled) - this can be overwritten if change_model and NO loading of parameters from ckp\n",
    "lr = 0\n",
    "# multiprocessing type\n",
    "multip = 0\n",
    "# init weights override\n",
    "is_init_weights = 1\n",
    "\n",
    "        \n",
    "if change_model:\n",
    "    try:\n",
    "        model = model.model\n",
    "    except (NameError, AttributeError):\n",
    "        print('Instantiating new model.', end=' ')\n",
    "        input_features = 4 + k_hops\n",
    "        for measure in static_measures:\n",
    "            try:\n",
    "                input_features += int(measure.split(':')[1])\n",
    "            except IndexError:\n",
    "                input_features += 1\n",
    "        rel(rank)\n",
    "        model = rank.RankingModel(input_features, 1,\n",
    "                                  layer_name='GINE',\n",
    "                                  # layer_kwargs=dict(num_layers=5),\n",
    "                                  num_layers=4,\n",
    "                                  norm_layer='LayerNorm',\n",
    "                                  use_edge_attr=1, # whether to use edge_attr or not in InfoModel\n",
    "                                  edge_dim=2, # edge_attr has 2 dims that need to be linearly transformed\n",
    "                                  edge_attr_scaling=True, # needed for many GNN models with edge_attr\n",
    "                                  last_fully_adjacent=1,\n",
    "                                  add_self_loops=0,\n",
    "                                  diff_layer_name='GAT2',\n",
    "                                  diff_layer_kwargs=dict(edge_dim=2, add_self_loops=1, heads=1, concat=False),\n",
    "                                  diff_use_edge_attr=1, # whether to use the edge_weights or not (i.e. edge_attr at index 0)\n",
    "                                  nonlin='ReLU',\n",
    "                                  agg='cat',\n",
    "                                  reduce_h='mean-std',\n",
    "                                  dropout=0,\n",
    "                                  dropout_head=0,\n",
    "                                  layers_head=1,\n",
    "                                  linear_head=1,\n",
    "                                  nonlin_head='ReLU',\n",
    "                                  state_score_method='max',\n",
    "                                  last_incl_gnn_outs=0,\n",
    "                                  torch_seed=torch_seed,\n",
    "                                  reset_h_seed=-1,\n",
    "                                  deterministic=0\n",
    "                                 )\n",
    "        if load:\n",
    "            print('Loading from pretrain...', end=' ')\n",
    "            model.load_state_dict(torch.load('saved/ranking_0.pt'))\n",
    "        else:\n",
    "            if is_init_weights:\n",
    "                print('Manually init weights...', end=' ')\n",
    "                model.apply(init_weights)\n",
    "            lr = 1e-3\n",
    "        \n",
    "    if multip:\n",
    "        model.share_memory()\n",
    "\n",
    "\n",
    "print(f'{lr=}')\n",
    "optimizer = torch.optim.Adam(model.parameters(), weight_decay=.1)\n",
    "online = 1\n",
    "ag = dict(\n",
    "    typ='sl',\n",
    "    rl_sampler='softmax',\n",
    "    # gamma, lambda, reward_scale, clip_ratio, value_coeff, entropy_coeff, ce_coeff, eligibility, target_update\n",
    "    rl_args=(.99, .97, 1, -0.2, 0.5, 0.01, 0, 1, 5),\n",
    "    ranking_model=model,\n",
    "    target_model=copy.deepcopy(model) if online else None,\n",
    "    debug_print=-1,\n",
    "    index_weight=-1,\n",
    "    pos_weight=False,\n",
    "    mark_delay_same_edges=False,\n",
    "    gpu=1,\n",
    "    lr=lr,\n",
    "    online=online,\n",
    "    batch_size=5,\n",
    "    grad_clip=.5,\n",
    "    optimizer=optimizer,\n",
    "    optimizer_kwargs=dict(weight_decay=.1),\n",
    "    scheduler=torch.optim.lr_scheduler.StepLR(optimizer, 100, 0.1),\n",
    "    measure='degree',\n",
    "    record_edges=True,\n",
    "    static_measures=static_measures, \n",
    "    n_test=2,\n",
    "    n_trace=0,\n",
    "    tester=True,\n",
    "    tracer=False,\n",
    "    k_hops=k_hops,\n",
    "    seed=12,\n",
    ")\n",
    "\n",
    "\n",
    "n_episodes = 50\n",
    "eps_start = .5\n",
    "eps_decay = .99\n",
    "eps = [round(eps_start * eps_decay**i, 5) for i in range(n_episodes)]\n",
    "error_del_model = 1\n",
    "\n",
    "torch.autograd.set_detect_anomaly(False)\n",
    "st = extra = False\n",
    "try:\n",
    "    st, extra = run.run_mock(agent=ag, control_after=5, control_after_inf=.05, control_initial_known=.25,\n",
    "                                first_inf=5, presample=10000, pa=.2, taut=eps,\n",
    "                                nettype='barabasi:5:1', netsize=1000, k=2.8, p=.1, rem_orphans=False, use_weights=True, dual=0,\n",
    "                                seed=21, netseed=25, infseed=-1, model='seir', spontan=False, sampling_type='min', update_after=1, reindex=False,\n",
    "                                multip=0, nnets=1, niters=1, nevents=0, noncomp=0, noncomp_after=10000,\n",
    "                                draw=0, draw_iter=0, draw_fullname=True, draw_layout='graphviz',\n",
    "                                summary_print=0, summary_splits=20, avg_without_earlystop=True)\n",
    "    # here the key for inspecting results is either 'res' (For one episode) or the latest epsilon (For multiple episodes)\n",
    "    key = 'res' if 'res' in st else eps[-1]\n",
    "    print('Total infected: ', st[key]['average-overall-infected']['mean'])\n",
    "    print('Max infected: ', st[key]['average-max-infected']['mean'])\n",
    "    print('%healthy: ', st[key]['average-%healthy']['mean'], '±', st[key]['average-%healthy']['std'])\n",
    "except (Exception, BaseException) as e:\n",
    "    if error_del_model:\n",
    "        del model, ag, st, extra\n",
    "        torch.cuda.empty_cache()\n",
    "        !nvidia-smi\n",
    "    raise e"
   ]
  },
  {
   "cell_type": "code",
   "execution_count": null,
   "id": "6241a662-3fc4-44d5-8354-229049547005",
   "metadata": {},
   "outputs": [],
   "source": []
  },
  {
   "cell_type": "code",
   "execution_count": null,
   "id": "9e699b3d-89d7-4b54-bb7a-8c7ce5017c44",
   "metadata": {},
   "outputs": [],
   "source": []
  },
  {
   "cell_type": "code",
   "execution_count": null,
   "id": "67e65a6f-5d23-46b4-8fd9-78c5f7b608f4",
   "metadata": {},
   "outputs": [],
   "source": []
  },
  {
   "cell_type": "code",
   "execution_count": 42,
   "id": "20c5069d-9dad-4cd7-acbb-6e752316656c",
   "metadata": {},
   "outputs": [
    {
     "data": {
      "image/png": "[encoded data removed]",
      "text/plain": [
       "<Figure size 432x288 with 1 Axes>"
      ]
     },
     "metadata": {
      "needs_background": "light"
     },
     "output_type": "display_data"
    }
   ],
   "source": [
    "import numpy as np\n",
    "import matplotlib.pyplot as plt\n",
    "res = np.array([st[k]['average-overall-infected']['mean'] for k in eps])\n",
    "\n",
    "plt.title('Agents over multiple episodes with same seed')\n",
    "plt.xlabel('episode')\n",
    "plt.ylabel('total infected')\n",
    "plt.plot(range(len(eps)), res, label='RL')\n",
    "plt.plot(range(len(eps)), [816] * len(eps), label='Random')\n",
    "plt.plot(range(len(eps)), [503] * len(eps), label='Degree')\n",
    "plt.plot(range(len(eps)), [568] * len(eps), label='Closeness')\n",
    "plt.plot(range(len(eps)), [505] * len(eps), label='Betweenness')\n",
    "plt.plot(range(len(eps)), [635] * len(eps), label='Eigenvector')\n",
    "plt.legend()\n",
    "plt.savefig('fig/rl_over_eps.pdf', format='pdf', bbox_inches='tight')"
   ]
  },
  {
   "cell_type": "code",
   "execution_count": 129,
   "id": "9ec8308f-8848-4a98-9417-024c99832e75",
   "metadata": {},
   "outputs": [],
   "source": []
  },
  {
   "cell_type": "code",
   "execution_count": 38,
   "id": "f9e646a6-4f98-4cd8-9159-ef4400d75e39",
   "metadata": {},
   "outputs": [],
   "source": [
    "entries = []"
   ]
  },
  {
   "cell_type": "code",
   "execution_count": null,
   "id": "b80478a5-3118-45d4-bd3e-7a14c7e8ec60",
   "metadata": {},
   "outputs": [],
   "source": [
    "for i, entry in enumerate(entries):\n",
    "    if entry['label'] == 'degree':\n",
    "        entry.remove(i)"
   ]
  },
  {
   "cell_type": "code",
   "execution_count": 130,
   "id": "fae976c3-8a79-4b69-99e5-ba764838e523",
   "metadata": {},
   "outputs": [
    {
     "data": {
      "image/png": "[encoded data removed]",
      "text/plain": [
       "<Figure size 720x576 with 1 Axes>"
      ]
     },
     "metadata": {
      "needs_background": "light"
     },
     "output_type": "display_data"
    }
   ],
   "source": [
    "from lib.tracing.utils import pkl, get_pkl\n",
    "import matplotlib.pyplot as plt\n",
    "\n",
    "# res_dict = st['res']['average-%healthy']\n",
    "# res_dict['label'] = 'sl-degree'\n",
    "# entries.append(res_dict)\n",
    "pkl(entries)\n",
    "\n",
    "fig, ax = plt.subplots(figsize=(10,8))\n",
    "plt.title('Evaluation seeds')\n",
    "ax.set_ylabel('%healthy')\n",
    "f = ax.bxp(entries, showfliers=False, showmeans=True)\n",
    "plt.savefig('fig/evaluation.pdf', format='pdf', bbox_inches='tight')"
   ]
  },
  {
   "cell_type": "code",
   "execution_count": null,
   "id": "92faf417-2371-44bb-b35c-728dd1f1f02d",
   "metadata": {},
   "outputs": [],
   "source": []
  },
  {
   "cell_type": "code",
   "execution_count": null,
   "id": "c334681b-573c-4e98-aa06-efd16f69dc04",
   "metadata": {},
   "outputs": [],
   "source": []
  },
  {
   "cell_type": "code",
   "execution_count": null,
   "id": "a6812ca8-5a75-43d4-9370-cdce872e2411",
   "metadata": {},
   "outputs": [],
   "source": []
  },
  {
   "cell_type": "code",
   "execution_count": null,
   "id": "2ddd2dd0-5b3e-45cd-b64c-7bbf1dc09fbc",
   "metadata": {},
   "outputs": [],
   "source": []
  },
  {
   "cell_type": "code",
   "execution_count": null,
   "id": "4aa3cc87-b0dd-48e5-959d-b16574b3675c",
   "metadata": {},
   "outputs": [],
   "source": []
  },
  {
   "cell_type": "code",
   "execution_count": null,
   "id": "703bb08b-ab05-447d-aea6-059b4b0dc851",
   "metadata": {},
   "outputs": [],
   "source": []
  },
  {
   "cell_type": "code",
   "execution_count": null,
   "id": "a65add6c-684a-4b0c-ab67-fd94768f56b7",
   "metadata": {},
   "outputs": [],
   "source": []
  },
  {
   "cell_type": "markdown",
   "id": "536416eb",
   "metadata": {},
   "source": [
    "<h2> SL"
   ]
  },
  {
   "cell_type": "code",
   "execution_count": 50,
   "id": "d66cab5f",
   "metadata": {},
   "outputs": [
    {
     "name": "stdout",
     "output_type": "stream",
     "text": [
      "%healthy:  0.37 ± 0.03\n"
     ]
    }
   ],
   "source": [
    "print('%healthy: ', st['res']['average-%healthy']['mean'], '±', st['res']['average-%healthy']['std']) # sl + gnn (ranking)"
   ]
  },
  {
   "cell_type": "code",
   "execution_count": 31,
   "id": "4558805b",
   "metadata": {},
   "outputs": [
    {
     "name": "stdout",
     "output_type": "stream",
     "text": [
      "%healthy:  0.37 ± 0.04\n"
     ]
    }
   ],
   "source": [
    "print('%healthy: ', st['res']['average-%healthy']['mean'], '±', st['res']['average-%healthy']['std']) # sl + gnn + degree (ranking)"
   ]
  },
  {
   "cell_type": "code",
   "execution_count": 17,
   "id": "92b5781e",
   "metadata": {},
   "outputs": [
    {
     "name": "stdout",
     "output_type": "stream",
     "text": [
      "%healthy:  0.34 ± 0.04\n"
     ]
    }
   ],
   "source": [
    "print('%healthy: ', st['res']['average-%healthy']['mean'], '±', st['res']['average-%healthy']['std']) # sl + gnn (just info)"
   ]
  },
  {
   "cell_type": "code",
   "execution_count": null,
   "id": "7ea8f22a",
   "metadata": {},
   "outputs": [],
   "source": []
  },
  {
   "cell_type": "markdown",
   "id": "deda718a",
   "metadata": {},
   "source": [
    "<h2> Random"
   ]
  },
  {
   "cell_type": "code",
   "execution_count": 38,
   "id": "5d5c3a26",
   "metadata": {},
   "outputs": [
    {
     "name": "stdout",
     "output_type": "stream",
     "text": [
      "%healthy:  0.09 ± 0.02\n"
     ]
    }
   ],
   "source": [
    "print('%healthy: ', st['res']['average-%healthy']['mean'], '±', st['res']['average-%healthy']['std']) # random"
   ]
  },
  {
   "cell_type": "code",
   "execution_count": null,
   "id": "c55d176f",
   "metadata": {},
   "outputs": [],
   "source": []
  },
  {
   "cell_type": "markdown",
   "id": "0483668d",
   "metadata": {},
   "source": [
    "<h2> Neighbors/Counter"
   ]
  },
  {
   "cell_type": "code",
   "execution_count": 6,
   "id": "4ce51fe6",
   "metadata": {},
   "outputs": [
    {
     "name": "stdout",
     "output_type": "stream",
     "text": [
      "%healthy:  0.28 ± 0.04\n"
     ]
    }
   ],
   "source": [
    "print('%healthy: ', st['res']['average-%healthy']['mean'], '±', st['res']['average-%healthy']['std']) # neighbors"
   ]
  },
  {
   "cell_type": "code",
   "execution_count": null,
   "id": "22791afc",
   "metadata": {},
   "outputs": [],
   "source": []
  },
  {
   "cell_type": "markdown",
   "id": "0514ed61",
   "metadata": {},
   "source": [
    "<h2> Centralities or other static measurements"
   ]
  },
  {
   "cell_type": "code",
   "execution_count": 36,
   "id": "80312692",
   "metadata": {},
   "outputs": [
    {
     "name": "stdout",
     "output_type": "stream",
     "text": [
      "%healthy:  0.11 ± 0.02\n"
     ]
    }
   ],
   "source": [
    "print('%healthy: ', st['res']['average-%healthy']['mean'], '±', st['res']['average-%healthy']['std']) # clustering coefficient"
   ]
  },
  {
   "cell_type": "code",
   "execution_count": 8,
   "id": "4467dbf2",
   "metadata": {},
   "outputs": [
    {
     "name": "stdout",
     "output_type": "stream",
     "text": [
      "%healthy:  0.4 ± 0.03\n"
     ]
    }
   ],
   "source": [
    "print('%healthy: ', st['res']['average-%healthy']['mean'], '±', st['res']['average-%healthy']['std']) # degree"
   ]
  },
  {
   "cell_type": "code",
   "execution_count": 10,
   "id": "c9105ccc",
   "metadata": {},
   "outputs": [
    {
     "name": "stdout",
     "output_type": "stream",
     "text": [
      "%healthy:  0.29 ± 0.03\n"
     ]
    }
   ],
   "source": [
    "print('%healthy: ', st['res']['average-%healthy']['mean'], '±', st['res']['average-%healthy']['std']) # eigenvector"
   ]
  },
  {
   "cell_type": "code",
   "execution_count": 43,
   "id": "b23b8861",
   "metadata": {},
   "outputs": [
    {
     "name": "stdout",
     "output_type": "stream",
     "text": [
      "%healthy:  0.39 ± 0.03\n"
     ]
    }
   ],
   "source": [
    "print('%healthy: ', st['res']['average-%healthy']['mean'], '±', st['res']['average-%healthy']['std']) # betweenness centrality"
   ]
  },
  {
   "cell_type": "code",
   "execution_count": 12,
   "id": "a94288b4",
   "metadata": {},
   "outputs": [
    {
     "name": "stdout",
     "output_type": "stream",
     "text": [
      "%healthy:  0.4 ± 0.03\n"
     ]
    }
   ],
   "source": [
    "print('%healthy: ', st['res']['average-%healthy']['mean'], '±', st['res']['average-%healthy']['std']) # pagerank"
   ]
  },
  {
   "cell_type": "code",
   "execution_count": null,
   "id": "c82a3ffc",
   "metadata": {},
   "outputs": [],
   "source": []
  },
  {
   "cell_type": "code",
   "execution_count": null,
   "id": "16c2808a",
   "metadata": {},
   "outputs": [],
   "source": []
  },
  {
   "cell_type": "code",
   "execution_count": null,
   "id": "fe3a4a9d",
   "metadata": {},
   "outputs": [],
   "source": []
  },
  {
   "cell_type": "code",
   "execution_count": null,
   "id": "8c320eca",
   "metadata": {},
   "outputs": [],
   "source": []
  },
  {
   "cell_type": "code",
   "execution_count": null,
   "id": "404a3dac",
   "metadata": {},
   "outputs": [],
   "source": []
  },
  {
   "cell_type": "code",
   "execution_count": null,
   "id": "a2268f83",
   "metadata": {},
   "outputs": [],
   "source": []
  },
  {
   "cell_type": "code",
   "execution_count": null,
   "id": "327a82a3",
   "metadata": {},
   "outputs": [],
   "source": []
  },
  {
   "cell_type": "code",
   "execution_count": null,
   "id": "d8f61df0",
   "metadata": {},
   "outputs": [],
   "source": []
  },
  {
   "cell_type": "code",
   "execution_count": 236,
   "id": "6eb2ba89",
   "metadata": {},
   "outputs": [
    {
     "name": "stdout",
     "output_type": "stream",
     "text": [
      "=========================================================\n",
      "Running simulation with parameters:\n",
      "netsize = 1000, k = 10, dual = 0, model = seir\n",
      "overlap = 0.8, uptake = 0.5, maintain_overlap = False\n",
      "taut = 0, taur = 0, noncomp = 0, noncomp_dependtime = True\n",
      "=========================================================\n",
      "\n",
      "----- Simulating network no. 0 -----\n",
      "Running iteration 0:                                                                                                   \n",
      "---> Result:973 total infected persons over time.                                                                      \n",
      "Iterations simulation progress: 100%|████████████████████████████████████████████████████| 1/1 [00:08<00:00,  8.36s/it]\n"
     ]
    }
   ],
   "source": [
    "import lib.tracing.simulation as sim\n",
    "rel(utils, sim, stat, network, agent, eng, run)\n",
    "st = run.run_mock(agent=ag, control_after=0, nettype='barabasi', netsize=1000, k=10, isolate_s=False, first_inf=.1, presample=10000, pa=.2, \\\n",
    "                            p=.1, seed=11, trace_h=False, rem_orphans=True, taut=0, taut_two=-1, delay_two=4, model='seir', netseed=4, \\\n",
    "                            multip=multip, nnets=1, niters=1, dual=0, taur=0, noncomp=0, overlap_two=.7, noncomp_after=10000, \n",
    "                            uptake=.5, maintain_overlap=False, separate_traced=True, efforts=False, draw_fullname=True, \n",
    "                            draw=0, draw_iter=0, draw_layout='spring', sampling_type='min', nevents=0, trace_after=15,\n",
    "                            summary_print=-1, summary_splits=100, r_window=7, avg_without_earlystop=True, spontan=False)"
   ]
  },
  {
   "cell_type": "code",
   "execution_count": 237,
   "id": "0094b1a6",
   "metadata": {},
   "outputs": [
    {
     "data": {
      "text/plain": [
       "True"
      ]
     },
     "execution_count": 237,
     "metadata": {},
     "output_type": "execute_result"
    }
   ],
   "source": [
    "lst = [entry.time for entry in st[0][0][0][0]]\n",
    "sorted(lst) == lst"
   ]
  },
  {
   "cell_type": "code",
   "execution_count": null,
   "id": "7dcde8b5",
   "metadata": {},
   "outputs": [],
   "source": []
  },
  {
   "cell_type": "code",
   "execution_count": 67,
   "id": "36e8fbdc",
   "metadata": {},
   "outputs": [],
   "source": [
    "def predict(model, net, nodes=None):\n",
    "    x = torch.tensor(agent_inst.get_features(net, net_changed=True))\n",
    "    edge_index = torch.tensor(list(net.to_directed().edges)).t().contiguous()\n",
    "    try:\n",
    "        model_predict = model.model\n",
    "    except:\n",
    "        model_predict = model\n",
    "    model_predict.eval()\n",
    "    with torch.no_grad():\n",
    "        preds = model_predict(x, edge_index)\n",
    "    return preds[0].detach().cpu().numpy()"
   ]
  },
  {
   "cell_type": "code",
   "execution_count": null,
   "id": "10c76884",
   "metadata": {},
   "outputs": [],
   "source": [
    "from pprint import pprint\n",
    "import networkx as nx\n",
    "true = extra[1]\n",
    "true.init_states('S')\n",
    "nid = list(range(10, 100, 10))\n",
    "true.change_state(nid, 'I')\n",
    "pprint(f'Degree centralities: {nx.degree_centrality(true)}')\n",
    "print(f'Neighbors of infected node {nid}:')\n",
    "# print(list(true.neighbors(nid)))\n",
    "print()\n",
    "res = predict(model, true, range(len(true) - 1))\n",
    "pprint({nid: (true.node_infected[nid], res[nid].item()) for nid in true})"
   ]
  },
  {
   "cell_type": "code",
   "execution_count": null,
   "id": "46be0ce6",
   "metadata": {},
   "outputs": [],
   "source": []
  },
  {
   "cell_type": "code",
   "execution_count": null,
   "id": "e899134a",
   "metadata": {},
   "outputs": [],
   "source": []
  },
  {
   "cell_type": "code",
   "execution_count": null,
   "id": "aaa54a76",
   "metadata": {},
   "outputs": [],
   "source": []
  },
  {
   "cell_type": "code",
   "execution_count": null,
   "id": "2edab350",
   "metadata": {},
   "outputs": [],
   "source": []
  },
  {
   "cell_type": "code",
   "execution_count": null,
   "id": "33c92aee-2b2b-4f3e-80ce-c0c62163c06b",
   "metadata": {},
   "outputs": [],
   "source": []
  },
  {
   "cell_type": "code",
   "execution_count": null,
   "id": "19beeae9-c763-412c-98ce-3a366fa98edc",
   "metadata": {},
   "outputs": [],
   "source": []
  },
  {
   "cell_type": "code",
   "execution_count": null,
   "id": "2aeaafdb-76f2-46ed-807d-b6ec356d5fe3",
   "metadata": {},
   "outputs": [],
   "source": []
  },
  {
   "cell_type": "code",
   "execution_count": null,
   "id": "9502b986-e522-4208-abd7-34bb311cff56",
   "metadata": {},
   "outputs": [],
   "source": []
  }
 ],
 "metadata": {
  "kernelspec": {
   "display_name": "Python 3 (ipykernel)",
   "language": "python",
   "name": "python3"
  },
  "language_info": {
   "codemirror_mode": {
    "name": "ipython",
    "version": 3
   },
   "file_extension": ".py",
   "mimetype": "text/x-python",
   "name": "python",
   "nbconvert_exporter": "python",
   "pygments_lexer": "ipython3",
   "version": "3.9.10"
  }
 },
 "nbformat": 4,
 "nbformat_minor": 5
}
