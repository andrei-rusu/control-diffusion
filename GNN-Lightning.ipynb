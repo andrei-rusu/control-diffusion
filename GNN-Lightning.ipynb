{
 "cells": [
  {
   "cell_type": "code",
   "execution_count": 1,
   "id": "e7ff566f",
   "metadata": {},
   "outputs": [],
   "source": [
    "from datetime import datetime\n",
    "\n",
    "import matplotlib.pyplot as plt\n",
    "import networkx as nx\n",
    "import numpy as np\n",
    "import pytorch_lightning as pl\n",
    "import torch\n",
    "import torch.nn as nn\n",
    "import torch.optim as optim\n",
    "import torch_geometric.nn as pyg_nn\n",
    "import torch_geometric.transforms as T\n",
    "import torch_geometric.utils as pyg_utils\n",
    "from pytorch_lightning.callbacks import LearningRateMonitor, ModelCheckpoint\n",
    "from torchmetrics.functional import accuracy\n",
    "from sklearn.manifold import TSNE\n",
    "from neptune.new.integrations.pytorch_lightning import NeptuneLogger\n",
    "\n",
    "\n",
    "import lib.data as data\n",
    "import lib.model as models\n",
    "from lib.tracing.utils import rel\n",
    "train_classifier = models.train_classifier\n",
    "train_regressor = models.train_regressor\n",
    "print_results = models.print_results\n",
    "\n",
    "import warnings\n",
    "# warnings.filterwarnings(\"ignore\", category=UserWarning)\n",
    "\n",
    "%load_ext autoreload\n",
    "%autoreload 2"
   ]
  },
  {
   "cell_type": "code",
   "execution_count": null,
   "id": "3b23fb4e",
   "metadata": {},
   "outputs": [],
   "source": []
  },
  {
   "cell_type": "code",
   "execution_count": null,
   "id": "5959b1ed",
   "metadata": {},
   "outputs": [],
   "source": []
  },
  {
   "cell_type": "markdown",
   "id": "bf1979c6",
   "metadata": {},
   "source": [
    "<h1> Experiments for paper"
   ]
  },
  {
   "cell_type": "code",
   "execution_count": 2,
   "id": "d945541a",
   "metadata": {},
   "outputs": [],
   "source": [
    "def optimizer(self):\n",
    "    opt = optim.AdamW(self.parameters(), lr=self.lr, weight_decay=self.hparams.weight_decay)\n",
    "#     opt = optim.SGD(self.parameters(), lr=1e-3, momentum=0.9, weight_decay=2e-3)\n",
    "    sched = {\n",
    "#         \"scheduler\": optim.lr_scheduler.ReduceLROnPlateau(opt, patience=5),\n",
    "        \"scheduler\": optim.lr_scheduler.CosineAnnealingWarmRestarts(opt, T_0=100, T_mult=2),\n",
    "        \"monitor\": \"train_loss\",\n",
    "        \"interval\": \"epoch\",\n",
    "    }\n",
    "    return [opt], [sched]\n",
    "\n",
    "args = {\n",
    "    'seed': 100,\n",
    "    \"model_name\": \"GNN\",\n",
    "    \"layer_name\": \"GCN\",\n",
    "    \"layer_kwargs\": {},\n",
    "    \"task\": \"node\",\n",
    "    \"exp_id\": \"cora\",\n",
    "    \"test_splits\": [.2, .2],\n",
    "    \"hidden_dim\": 512,\n",
    "    \"num_layers\": 3,\n",
    "    \"optim_func\": optimizer,\n",
    "    \"epochs\": 200,\n",
    "    'dropout': 0.6,\n",
    "    'eval_mode': True,\n",
    "    'ckp_monitor': 'val_acc',\n",
    "    'ckp_best_k': 1,\n",
    "    'ckp_patience': 30,\n",
    "    'gpus': 1,\n",
    "    'lr': 0.0029,\n",
    "    'restart': True,\n",
    "    'draw_node_size': None,\n",
    "    'precision': 32,\n",
    "    'nonlin': 'ReLU',\n",
    "    'weight_decay': 5e0,\n",
    "    'l1_reg': 1e-4,\n",
    "    'skip_connect': False,\n",
    "    'last_fully_adjacent': True,\n",
    "#     'last_layer_kwargs': dict(train_eps=True),\n",
    "    'early_stop': True\n",
    "}\n",
    "\n",
    "run = trainer_ckp = None\n",
    "if not args['restart']:\n",
    "    try:\n",
    "        trainer_ckp = gnn_trainer.checkpoint_callback.best_model_path\n",
    "        args['epochs'] *= 2\n",
    "        run = neptune_logger.run._short_id\n",
    "    except:\n",
    "        pass\n",
    "    \n",
    "from pytorch_lightning.loggers import CSVLogger\n",
    "csv_logger = CSVLogger('logs', name='csv_logs')\n",
    "args['logger'] = csv_logger #True\n",
    "\n",
    "dataset = data.get_dataset(args['exp_id'])"
   ]
  },
  {
   "cell_type": "code",
   "execution_count": null,
   "id": "b56f4d55",
   "metadata": {},
   "outputs": [],
   "source": [
    "# from pytorch_lightning.loggers import NeptuneLogger\n",
    "from neptune.new.integrations.pytorch_lightning import NeptuneLogger\n",
    "neptune_logger = NeptuneLogger(\n",
    "    project='rosso/GNN-Lightning',\n",
    "    name='-'.join((args['exp_id'], args['model_name'], args['task'])),\n",
    "    tags=['pytorch-lightning', args['model_name']],\n",
    "    close_after_fit=False,\n",
    "    fail_on_exception=True,\n",
    "    run=run\n",
    ")\n",
    "neptune_logger.log_hyperparams(args)"
   ]
  },
  {
   "cell_type": "code",
   "execution_count": null,
   "id": "de4c7e1e",
   "metadata": {},
   "outputs": [],
   "source": []
  },
  {
   "cell_type": "code",
   "execution_count": 3,
   "id": "421be16c",
   "metadata": {},
   "outputs": [
    {
     "name": "stderr",
     "output_type": "stream",
     "text": [
      "Global seed set to 100\n",
      "GPU available: True, used: True\n",
      "TPU available: False, using: 0 TPU cores\n",
      "IPU available: False, using: 0 IPUs\n",
      "LOCAL_RANK: 0 - CUDA_VISIBLE_DEVICES: [0]\n"
     ]
    },
    {
     "name": "stdout",
     "output_type": "stream",
     "text": [
      "No pretrained found, training...\n"
     ]
    },
    {
     "name": "stderr",
     "output_type": "stream",
     "text": [
      "\n",
      "  | Name        | Type             | Params\n",
      "-------------------------------------------------\n",
      "0 | model       | GNNModel         | 1.5 M \n",
      "1 | loss_module | CrossEntropyLoss | 0     \n",
      "-------------------------------------------------\n",
      "1.5 M     Trainable params\n",
      "0         Non-trainable params\n",
      "1.5 M     Total params\n",
      "6.115     Total estimated model params size (MB)\n"
     ]
    },
    {
     "data": {
      "application/vnd.jupyter.widget-view+json": {
       "model_id": "",
       "version_major": 2,
       "version_minor": 0
      },
      "text/plain": [
       "HBox(children=(FloatProgress(value=1.0, bar_style='info', description='Validation sanity check', layout=Layout…"
      ]
     },
     "metadata": {},
     "output_type": "display_data"
    },
    {
     "name": "stderr",
     "output_type": "stream",
     "text": [
      "E:\\Anaconda\\envs\\graph\\lib\\site-packages\\pytorch_lightning\\trainer\\data_loading.py:105: UserWarning: The dataloader, val dataloader 0, does not have many workers which may be a bottleneck. Consider increasing the value of the `num_workers` argument` (try 8 which is the number of cpus on this machine) in the `DataLoader` init to improve performance.\n",
      "  rank_zero_warn(\n",
      "Global seed set to 100\n",
      "E:\\Anaconda\\envs\\graph\\lib\\site-packages\\pytorch_lightning\\trainer\\data_loading.py:105: UserWarning: The dataloader, train dataloader, does not have many workers which may be a bottleneck. Consider increasing the value of the `num_workers` argument` (try 8 which is the number of cpus on this machine) in the `DataLoader` init to improve performance.\n",
      "  rank_zero_warn(\n",
      "E:\\Anaconda\\envs\\graph\\lib\\site-packages\\pytorch_lightning\\trainer\\data_loading.py:322: UserWarning: The number of training samples (1) is smaller than the logging interval Trainer(log_every_n_steps=50). Set a lower value for log_every_n_steps if you want to see logs for the training epoch.\n",
      "  rank_zero_warn(\n"
     ]
    },
    {
     "data": {
      "application/vnd.jupyter.widget-view+json": {
       "model_id": "1824244d87974fe99d0fe46621e39319",
       "version_major": 2,
       "version_minor": 0
      },
      "text/plain": [
       "HBox(children=(FloatProgress(value=1.0, bar_style='info', description='Training', layout=Layout(flex='2'), max…"
      ]
     },
     "metadata": {},
     "output_type": "display_data"
    },
    {
     "name": "stderr",
     "output_type": "stream",
     "text": [
      "E:\\Anaconda\\envs\\graph\\lib\\site-packages\\pytorch_lightning\\trainer\\trainer.py:1047: UserWarning: Detected KeyboardInterrupt, attempting graceful shutdown...\n",
      "  rank_zero_warn(\"Detected KeyboardInterrupt, attempting graceful shutdown...\")\n",
      "LOCAL_RANK: 0 - CUDA_VISIBLE_DEVICES: [0]\n",
      "LOCAL_RANK: 0 - CUDA_VISIBLE_DEVICES: [0]\n",
      "E:\\Anaconda\\envs\\graph\\lib\\site-packages\\pytorch_lightning\\trainer\\data_loading.py:105: UserWarning: The dataloader, test dataloader 0, does not have many workers which may be a bottleneck. Consider increasing the value of the `num_workers` argument` (try 8 which is the number of cpus on this machine) in the `DataLoader` init to improve performance.\n",
      "  rank_zero_warn(\n"
     ]
    },
    {
     "data": {
      "application/vnd.jupyter.widget-view+json": {
       "model_id": "3d5b83fdba3b419e8449c05d55b5a547",
       "version_major": 2,
       "version_minor": 0
      },
      "text/plain": [
       "HBox(children=(FloatProgress(value=1.0, bar_style='info', description='Testing', layout=Layout(flex='2'), max=…"
      ]
     },
     "metadata": {},
     "output_type": "display_data"
    },
    {
     "name": "stdout",
     "output_type": "stream",
     "text": [
      "\n",
      "Train accuracy: 95.00%\n",
      "Val accuracy:   81.20%\n",
      "Test accuracy:  81.30%\n"
     ]
    }
   ],
   "source": [
    "try:\n",
    "    gnn_model, gnn_result, gnn_trainer = train_classifier(dataset, trainer_ckp=trainer_ckp, **args)\n",
    "    print_results(gnn_result)\n",
    "except Exception as e:\n",
    "    if 'gnn_trainer' in globals() and isinstance(gnn_trainer.logger, NeptuneLogger):\n",
    "        gnn_trainer.logger.experiment['sys/failed'] = True\n",
    "    raise e\n",
    "# Stop logging\n",
    "finally:\n",
    "    if 'gnn_trainer' in globals() and hasattr(gnn_trainer.logger.experiment, 'stop'):\n",
    "        gnn_trainer.logger.experiment.stop()"
   ]
  },
  {
   "cell_type": "code",
   "execution_count": null,
   "id": "069747f3",
   "metadata": {},
   "outputs": [],
   "source": []
  },
  {
   "cell_type": "code",
   "execution_count": 41,
   "id": "c4cbdcbb",
   "metadata": {},
   "outputs": [
    {
     "name": "stderr",
     "output_type": "stream",
     "text": [
      "Global seed set to 100\n",
      "GPU available: True, used: True\n",
      "TPU available: False, using: 0 TPU cores\n",
      "IPU available: False, using: 0 IPUs\n"
     ]
    },
    {
     "name": "stdout",
     "output_type": "stream",
     "text": [
      "\n",
      "\n",
      "=== ITERATION NUMBER: 0 ===\n",
      "\n",
      "\n",
      "No pretrained found, training...\n"
     ]
    },
    {
     "name": "stderr",
     "output_type": "stream",
     "text": [
      "LOCAL_RANK: 0 - CUDA_VISIBLE_DEVICES: [0]\n",
      "\n",
      "  | Name        | Type             | Params\n",
      "-------------------------------------------------\n",
      "0 | model       | GNNModel         | 1.0 M \n",
      "1 | loss_module | CrossEntropyLoss | 0     \n",
      "-------------------------------------------------\n",
      "1.0 M     Trainable params\n",
      "0         Non-trainable params\n",
      "1.0 M     Total params\n",
      "4.196     Total estimated model params size (MB)\n"
     ]
    },
    {
     "data": {
      "application/vnd.jupyter.widget-view+json": {
       "model_id": "",
       "version_major": 2,
       "version_minor": 0
      },
      "text/plain": [
       "HBox(children=(FloatProgress(value=1.0, bar_style='info', description='Validation sanity check', layout=Layout…"
      ]
     },
     "metadata": {},
     "output_type": "display_data"
    },
    {
     "name": "stderr",
     "output_type": "stream",
     "text": [
      "Global seed set to 100\n"
     ]
    },
    {
     "data": {
      "application/vnd.jupyter.widget-view+json": {
       "model_id": "0b6ada5898cb4d299cb3dac0720f857d",
       "version_major": 2,
       "version_minor": 0
      },
      "text/plain": [
       "HBox(children=(FloatProgress(value=1.0, bar_style='info', description='Training', layout=Layout(flex='2'), max…"
      ]
     },
     "metadata": {},
     "output_type": "display_data"
    },
    {
     "name": "stderr",
     "output_type": "stream",
     "text": [
      "LOCAL_RANK: 0 - CUDA_VISIBLE_DEVICES: [0]\n"
     ]
    },
    {
     "name": "stdout",
     "output_type": "stream",
     "text": [
      "\n"
     ]
    },
    {
     "name": "stderr",
     "output_type": "stream",
     "text": [
      "LOCAL_RANK: 0 - CUDA_VISIBLE_DEVICES: [0]\n"
     ]
    },
    {
     "data": {
      "application/vnd.jupyter.widget-view+json": {
       "model_id": "992a5eed0ab64467b8b4423756a461eb",
       "version_major": 2,
       "version_minor": 0
      },
      "text/plain": [
       "HBox(children=(FloatProgress(value=1.0, bar_style='info', description='Testing', layout=Layout(flex='2'), max=…"
      ]
     },
     "metadata": {},
     "output_type": "display_data"
    },
    {
     "name": "stderr",
     "output_type": "stream",
     "text": [
      "Global seed set to 96\n",
      "GPU available: True, used: True\n",
      "TPU available: False, using: 0 TPU cores\n",
      "IPU available: False, using: 0 IPUs\n",
      "LOCAL_RANK: 0 - CUDA_VISIBLE_DEVICES: [0]\n",
      "\n",
      "  | Name        | Type             | Params\n",
      "-------------------------------------------------\n",
      "0 | model       | GNNModel         | 1.0 M \n",
      "1 | loss_module | CrossEntropyLoss | 0     \n",
      "-------------------------------------------------\n",
      "1.0 M     Trainable params\n",
      "0         Non-trainable params\n",
      "1.0 M     Total params\n",
      "4.196     Total estimated model params size (MB)\n"
     ]
    },
    {
     "name": "stdout",
     "output_type": "stream",
     "text": [
      "\n",
      "Train accuracy: 100.00%\n",
      "Val accuracy:   79.80%\n",
      "Test accuracy:  78.00%\n",
      "\n",
      "\n",
      "=== ITERATION NUMBER: 1 ===\n",
      "\n",
      "\n",
      "No pretrained found, training...\n"
     ]
    },
    {
     "data": {
      "application/vnd.jupyter.widget-view+json": {
       "model_id": "",
       "version_major": 2,
       "version_minor": 0
      },
      "text/plain": [
       "HBox(children=(FloatProgress(value=1.0, bar_style='info', description='Validation sanity check', layout=Layout…"
      ]
     },
     "metadata": {},
     "output_type": "display_data"
    },
    {
     "name": "stderr",
     "output_type": "stream",
     "text": [
      "Global seed set to 96\n"
     ]
    },
    {
     "data": {
      "application/vnd.jupyter.widget-view+json": {
       "model_id": "ff5099ecfa344d44b86a96067e037e93",
       "version_major": 2,
       "version_minor": 0
      },
      "text/plain": [
       "HBox(children=(FloatProgress(value=1.0, bar_style='info', description='Training', layout=Layout(flex='2'), max…"
      ]
     },
     "metadata": {},
     "output_type": "display_data"
    },
    {
     "name": "stderr",
     "output_type": "stream",
     "text": [
      "LOCAL_RANK: 0 - CUDA_VISIBLE_DEVICES: [0]\n"
     ]
    },
    {
     "name": "stdout",
     "output_type": "stream",
     "text": [
      "\n"
     ]
    },
    {
     "name": "stderr",
     "output_type": "stream",
     "text": [
      "LOCAL_RANK: 0 - CUDA_VISIBLE_DEVICES: [0]\n"
     ]
    },
    {
     "data": {
      "application/vnd.jupyter.widget-view+json": {
       "model_id": "d440690118304a47956488e1caa4b7e2",
       "version_major": 2,
       "version_minor": 0
      },
      "text/plain": [
       "HBox(children=(FloatProgress(value=1.0, bar_style='info', description='Testing', layout=Layout(flex='2'), max=…"
      ]
     },
     "metadata": {},
     "output_type": "display_data"
    },
    {
     "name": "stderr",
     "output_type": "stream",
     "text": [
      "Global seed set to 92\n",
      "GPU available: True, used: True\n",
      "TPU available: False, using: 0 TPU cores\n",
      "IPU available: False, using: 0 IPUs\n",
      "LOCAL_RANK: 0 - CUDA_VISIBLE_DEVICES: [0]\n"
     ]
    },
    {
     "name": "stdout",
     "output_type": "stream",
     "text": [
      "\n",
      "Train accuracy: 100.00%\n",
      "Val accuracy:   79.80%\n",
      "Test accuracy:  78.40%\n",
      "\n",
      "\n",
      "=== ITERATION NUMBER: 2 ===\n",
      "\n",
      "\n",
      "No pretrained found, training...\n"
     ]
    },
    {
     "name": "stderr",
     "output_type": "stream",
     "text": [
      "\n",
      "  | Name        | Type             | Params\n",
      "-------------------------------------------------\n",
      "0 | model       | GNNModel         | 1.0 M \n",
      "1 | loss_module | CrossEntropyLoss | 0     \n",
      "-------------------------------------------------\n",
      "1.0 M     Trainable params\n",
      "0         Non-trainable params\n",
      "1.0 M     Total params\n",
      "4.196     Total estimated model params size (MB)\n"
     ]
    },
    {
     "data": {
      "application/vnd.jupyter.widget-view+json": {
       "model_id": "",
       "version_major": 2,
       "version_minor": 0
      },
      "text/plain": [
       "HBox(children=(FloatProgress(value=1.0, bar_style='info', description='Validation sanity check', layout=Layout…"
      ]
     },
     "metadata": {},
     "output_type": "display_data"
    },
    {
     "name": "stderr",
     "output_type": "stream",
     "text": [
      "Global seed set to 92\n"
     ]
    },
    {
     "data": {
      "application/vnd.jupyter.widget-view+json": {
       "model_id": "a669bbeec0f54f4c83cb964a3ae19557",
       "version_major": 2,
       "version_minor": 0
      },
      "text/plain": [
       "HBox(children=(FloatProgress(value=1.0, bar_style='info', description='Training', layout=Layout(flex='2'), max…"
      ]
     },
     "metadata": {},
     "output_type": "display_data"
    },
    {
     "name": "stdout",
     "output_type": "stream",
     "text": [
      "\n"
     ]
    },
    {
     "name": "stderr",
     "output_type": "stream",
     "text": [
      "LOCAL_RANK: 0 - CUDA_VISIBLE_DEVICES: [0]\n",
      "LOCAL_RANK: 0 - CUDA_VISIBLE_DEVICES: [0]\n"
     ]
    },
    {
     "data": {
      "application/vnd.jupyter.widget-view+json": {
       "model_id": "1d00dc98dbc84defa05a3bc742754976",
       "version_major": 2,
       "version_minor": 0
      },
      "text/plain": [
       "HBox(children=(FloatProgress(value=1.0, bar_style='info', description='Testing', layout=Layout(flex='2'), max=…"
      ]
     },
     "metadata": {},
     "output_type": "display_data"
    },
    {
     "name": "stderr",
     "output_type": "stream",
     "text": [
      "Global seed set to 88\n",
      "GPU available: True, used: True\n",
      "TPU available: False, using: 0 TPU cores\n",
      "IPU available: False, using: 0 IPUs\n"
     ]
    },
    {
     "name": "stdout",
     "output_type": "stream",
     "text": [
      "\n",
      "Train accuracy: 100.00%\n",
      "Val accuracy:   79.40%\n",
      "Test accuracy:  77.60%\n",
      "\n",
      "\n",
      "=== ITERATION NUMBER: 3 ===\n",
      "\n",
      "\n",
      "No pretrained found, training...\n"
     ]
    },
    {
     "name": "stderr",
     "output_type": "stream",
     "text": [
      "LOCAL_RANK: 0 - CUDA_VISIBLE_DEVICES: [0]\n",
      "\n",
      "  | Name        | Type             | Params\n",
      "-------------------------------------------------\n",
      "0 | model       | GNNModel         | 1.0 M \n",
      "1 | loss_module | CrossEntropyLoss | 0     \n",
      "-------------------------------------------------\n",
      "1.0 M     Trainable params\n",
      "0         Non-trainable params\n",
      "1.0 M     Total params\n",
      "4.196     Total estimated model params size (MB)\n"
     ]
    },
    {
     "data": {
      "application/vnd.jupyter.widget-view+json": {
       "model_id": "",
       "version_major": 2,
       "version_minor": 0
      },
      "text/plain": [
       "HBox(children=(FloatProgress(value=1.0, bar_style='info', description='Validation sanity check', layout=Layout…"
      ]
     },
     "metadata": {},
     "output_type": "display_data"
    },
    {
     "name": "stderr",
     "output_type": "stream",
     "text": [
      "Global seed set to 88\n"
     ]
    },
    {
     "data": {
      "application/vnd.jupyter.widget-view+json": {
       "model_id": "300c91b288c64084b3f594b23870f59d",
       "version_major": 2,
       "version_minor": 0
      },
      "text/plain": [
       "HBox(children=(FloatProgress(value=1.0, bar_style='info', description='Training', layout=Layout(flex='2'), max…"
      ]
     },
     "metadata": {},
     "output_type": "display_data"
    },
    {
     "name": "stdout",
     "output_type": "stream",
     "text": [
      "\n"
     ]
    },
    {
     "name": "stderr",
     "output_type": "stream",
     "text": [
      "LOCAL_RANK: 0 - CUDA_VISIBLE_DEVICES: [0]\n",
      "LOCAL_RANK: 0 - CUDA_VISIBLE_DEVICES: [0]\n"
     ]
    },
    {
     "data": {
      "application/vnd.jupyter.widget-view+json": {
       "model_id": "a44a98dcd3414dacb4f8b0a3ac221f06",
       "version_major": 2,
       "version_minor": 0
      },
      "text/plain": [
       "HBox(children=(FloatProgress(value=1.0, bar_style='info', description='Testing', layout=Layout(flex='2'), max=…"
      ]
     },
     "metadata": {},
     "output_type": "display_data"
    },
    {
     "name": "stderr",
     "output_type": "stream",
     "text": [
      "Global seed set to 84\n",
      "GPU available: True, used: True\n",
      "TPU available: False, using: 0 TPU cores\n",
      "IPU available: False, using: 0 IPUs\n"
     ]
    },
    {
     "name": "stdout",
     "output_type": "stream",
     "text": [
      "\n",
      "Train accuracy: 100.00%\n",
      "Val accuracy:   80.00%\n",
      "Test accuracy:  78.80%\n",
      "\n",
      "\n",
      "=== ITERATION NUMBER: 4 ===\n",
      "\n",
      "\n",
      "No pretrained found, training...\n"
     ]
    },
    {
     "name": "stderr",
     "output_type": "stream",
     "text": [
      "LOCAL_RANK: 0 - CUDA_VISIBLE_DEVICES: [0]\n",
      "\n",
      "  | Name        | Type             | Params\n",
      "-------------------------------------------------\n",
      "0 | model       | GNNModel         | 1.0 M \n",
      "1 | loss_module | CrossEntropyLoss | 0     \n",
      "-------------------------------------------------\n",
      "1.0 M     Trainable params\n",
      "0         Non-trainable params\n",
      "1.0 M     Total params\n",
      "4.196     Total estimated model params size (MB)\n"
     ]
    },
    {
     "data": {
      "application/vnd.jupyter.widget-view+json": {
       "model_id": "",
       "version_major": 2,
       "version_minor": 0
      },
      "text/plain": [
       "HBox(children=(FloatProgress(value=1.0, bar_style='info', description='Validation sanity check', layout=Layout…"
      ]
     },
     "metadata": {},
     "output_type": "display_data"
    },
    {
     "name": "stderr",
     "output_type": "stream",
     "text": [
      "Global seed set to 84\n"
     ]
    },
    {
     "data": {
      "application/vnd.jupyter.widget-view+json": {
       "model_id": "02a45d50ba7f412a94178a1c193ece37",
       "version_major": 2,
       "version_minor": 0
      },
      "text/plain": [
       "HBox(children=(FloatProgress(value=1.0, bar_style='info', description='Training', layout=Layout(flex='2'), max…"
      ]
     },
     "metadata": {},
     "output_type": "display_data"
    },
    {
     "name": "stderr",
     "output_type": "stream",
     "text": [
      "LOCAL_RANK: 0 - CUDA_VISIBLE_DEVICES: [0]\n"
     ]
    },
    {
     "name": "stdout",
     "output_type": "stream",
     "text": [
      "\n"
     ]
    },
    {
     "name": "stderr",
     "output_type": "stream",
     "text": [
      "LOCAL_RANK: 0 - CUDA_VISIBLE_DEVICES: [0]\n"
     ]
    },
    {
     "data": {
      "application/vnd.jupyter.widget-view+json": {
       "model_id": "eca41da41c874ab4b08fb80795305f19",
       "version_major": 2,
       "version_minor": 0
      },
      "text/plain": [
       "HBox(children=(FloatProgress(value=1.0, bar_style='info', description='Testing', layout=Layout(flex='2'), max=…"
      ]
     },
     "metadata": {},
     "output_type": "display_data"
    },
    {
     "name": "stderr",
     "output_type": "stream",
     "text": [
      "Global seed set to 80\n",
      "GPU available: True, used: True\n",
      "TPU available: False, using: 0 TPU cores\n",
      "IPU available: False, using: 0 IPUs\n"
     ]
    },
    {
     "name": "stdout",
     "output_type": "stream",
     "text": [
      "\n",
      "Train accuracy: 100.00%\n",
      "Val accuracy:   79.00%\n",
      "Test accuracy:  78.00%\n",
      "\n",
      "\n",
      "=== ITERATION NUMBER: 5 ===\n",
      "\n",
      "\n",
      "No pretrained found, training...\n"
     ]
    },
    {
     "name": "stderr",
     "output_type": "stream",
     "text": [
      "LOCAL_RANK: 0 - CUDA_VISIBLE_DEVICES: [0]\n",
      "\n",
      "  | Name        | Type             | Params\n",
      "-------------------------------------------------\n",
      "0 | model       | GNNModel         | 1.0 M \n",
      "1 | loss_module | CrossEntropyLoss | 0     \n",
      "-------------------------------------------------\n",
      "1.0 M     Trainable params\n",
      "0         Non-trainable params\n",
      "1.0 M     Total params\n",
      "4.196     Total estimated model params size (MB)\n"
     ]
    },
    {
     "data": {
      "application/vnd.jupyter.widget-view+json": {
       "model_id": "",
       "version_major": 2,
       "version_minor": 0
      },
      "text/plain": [
       "HBox(children=(FloatProgress(value=1.0, bar_style='info', description='Validation sanity check', layout=Layout…"
      ]
     },
     "metadata": {},
     "output_type": "display_data"
    },
    {
     "name": "stderr",
     "output_type": "stream",
     "text": [
      "Global seed set to 80\n"
     ]
    },
    {
     "data": {
      "application/vnd.jupyter.widget-view+json": {
       "model_id": "b25644698cc240ccaa413325cea5aa66",
       "version_major": 2,
       "version_minor": 0
      },
      "text/plain": [
       "HBox(children=(FloatProgress(value=1.0, bar_style='info', description='Training', layout=Layout(flex='2'), max…"
      ]
     },
     "metadata": {},
     "output_type": "display_data"
    },
    {
     "name": "stdout",
     "output_type": "stream",
     "text": [
      "\n"
     ]
    },
    {
     "name": "stderr",
     "output_type": "stream",
     "text": [
      "LOCAL_RANK: 0 - CUDA_VISIBLE_DEVICES: [0]\n",
      "LOCAL_RANK: 0 - CUDA_VISIBLE_DEVICES: [0]\n"
     ]
    },
    {
     "data": {
      "application/vnd.jupyter.widget-view+json": {
       "model_id": "cd54b834813e444b9096d8caedb3aad2",
       "version_major": 2,
       "version_minor": 0
      },
      "text/plain": [
       "HBox(children=(FloatProgress(value=1.0, bar_style='info', description='Testing', layout=Layout(flex='2'), max=…"
      ]
     },
     "metadata": {},
     "output_type": "display_data"
    },
    {
     "name": "stderr",
     "output_type": "stream",
     "text": [
      "Global seed set to 76\n",
      "GPU available: True, used: True\n",
      "TPU available: False, using: 0 TPU cores\n",
      "IPU available: False, using: 0 IPUs\n"
     ]
    },
    {
     "name": "stdout",
     "output_type": "stream",
     "text": [
      "\n",
      "Train accuracy: 100.00%\n",
      "Val accuracy:   80.40%\n",
      "Test accuracy:  77.80%\n",
      "\n",
      "\n",
      "=== ITERATION NUMBER: 6 ===\n",
      "\n",
      "\n",
      "No pretrained found, training...\n"
     ]
    },
    {
     "name": "stderr",
     "output_type": "stream",
     "text": [
      "LOCAL_RANK: 0 - CUDA_VISIBLE_DEVICES: [0]\n",
      "\n",
      "  | Name        | Type             | Params\n",
      "-------------------------------------------------\n",
      "0 | model       | GNNModel         | 1.0 M \n",
      "1 | loss_module | CrossEntropyLoss | 0     \n",
      "-------------------------------------------------\n",
      "1.0 M     Trainable params\n",
      "0         Non-trainable params\n",
      "1.0 M     Total params\n",
      "4.196     Total estimated model params size (MB)\n"
     ]
    },
    {
     "data": {
      "application/vnd.jupyter.widget-view+json": {
       "model_id": "",
       "version_major": 2,
       "version_minor": 0
      },
      "text/plain": [
       "HBox(children=(FloatProgress(value=1.0, bar_style='info', description='Validation sanity check', layout=Layout…"
      ]
     },
     "metadata": {},
     "output_type": "display_data"
    },
    {
     "name": "stderr",
     "output_type": "stream",
     "text": [
      "Global seed set to 76\n"
     ]
    },
    {
     "data": {
      "application/vnd.jupyter.widget-view+json": {
       "model_id": "8de1137350664dbb8ba6f6d1dcab3cef",
       "version_major": 2,
       "version_minor": 0
      },
      "text/plain": [
       "HBox(children=(FloatProgress(value=1.0, bar_style='info', description='Training', layout=Layout(flex='2'), max…"
      ]
     },
     "metadata": {},
     "output_type": "display_data"
    },
    {
     "name": "stderr",
     "output_type": "stream",
     "text": [
      "LOCAL_RANK: 0 - CUDA_VISIBLE_DEVICES: [0]\n"
     ]
    },
    {
     "name": "stdout",
     "output_type": "stream",
     "text": [
      "\n"
     ]
    },
    {
     "name": "stderr",
     "output_type": "stream",
     "text": [
      "LOCAL_RANK: 0 - CUDA_VISIBLE_DEVICES: [0]\n"
     ]
    },
    {
     "data": {
      "application/vnd.jupyter.widget-view+json": {
       "model_id": "15cc187a6d1d45fbb238675010745523",
       "version_major": 2,
       "version_minor": 0
      },
      "text/plain": [
       "HBox(children=(FloatProgress(value=1.0, bar_style='info', description='Testing', layout=Layout(flex='2'), max=…"
      ]
     },
     "metadata": {},
     "output_type": "display_data"
    },
    {
     "name": "stderr",
     "output_type": "stream",
     "text": [
      "Global seed set to 72\n",
      "GPU available: True, used: True\n",
      "TPU available: False, using: 0 TPU cores\n",
      "IPU available: False, using: 0 IPUs\n",
      "LOCAL_RANK: 0 - CUDA_VISIBLE_DEVICES: [0]\n"
     ]
    },
    {
     "name": "stdout",
     "output_type": "stream",
     "text": [
      "\n",
      "Train accuracy: 98.33%\n",
      "Val accuracy:   79.20%\n",
      "Test accuracy:  77.50%\n",
      "\n",
      "\n",
      "=== ITERATION NUMBER: 7 ===\n",
      "\n",
      "\n",
      "No pretrained found, training...\n"
     ]
    },
    {
     "name": "stderr",
     "output_type": "stream",
     "text": [
      "\n",
      "  | Name        | Type             | Params\n",
      "-------------------------------------------------\n",
      "0 | model       | GNNModel         | 1.0 M \n",
      "1 | loss_module | CrossEntropyLoss | 0     \n",
      "-------------------------------------------------\n",
      "1.0 M     Trainable params\n",
      "0         Non-trainable params\n",
      "1.0 M     Total params\n",
      "4.196     Total estimated model params size (MB)\n"
     ]
    },
    {
     "data": {
      "application/vnd.jupyter.widget-view+json": {
       "model_id": "",
       "version_major": 2,
       "version_minor": 0
      },
      "text/plain": [
       "HBox(children=(FloatProgress(value=1.0, bar_style='info', description='Validation sanity check', layout=Layout…"
      ]
     },
     "metadata": {},
     "output_type": "display_data"
    },
    {
     "name": "stderr",
     "output_type": "stream",
     "text": [
      "Global seed set to 72\n"
     ]
    },
    {
     "data": {
      "application/vnd.jupyter.widget-view+json": {
       "model_id": "1ccdbca878804f4985c9ca794ab22107",
       "version_major": 2,
       "version_minor": 0
      },
      "text/plain": [
       "HBox(children=(FloatProgress(value=1.0, bar_style='info', description='Training', layout=Layout(flex='2'), max…"
      ]
     },
     "metadata": {},
     "output_type": "display_data"
    },
    {
     "name": "stderr",
     "output_type": "stream",
     "text": [
      "LOCAL_RANK: 0 - CUDA_VISIBLE_DEVICES: [0]\n"
     ]
    },
    {
     "name": "stdout",
     "output_type": "stream",
     "text": [
      "\n"
     ]
    },
    {
     "name": "stderr",
     "output_type": "stream",
     "text": [
      "LOCAL_RANK: 0 - CUDA_VISIBLE_DEVICES: [0]\n"
     ]
    },
    {
     "data": {
      "application/vnd.jupyter.widget-view+json": {
       "model_id": "2fa9119d67d2467cbcf3298f5a4edc09",
       "version_major": 2,
       "version_minor": 0
      },
      "text/plain": [
       "HBox(children=(FloatProgress(value=1.0, bar_style='info', description='Testing', layout=Layout(flex='2'), max=…"
      ]
     },
     "metadata": {},
     "output_type": "display_data"
    },
    {
     "name": "stderr",
     "output_type": "stream",
     "text": [
      "Global seed set to 68\n",
      "GPU available: True, used: True\n",
      "TPU available: False, using: 0 TPU cores\n",
      "IPU available: False, using: 0 IPUs\n"
     ]
    },
    {
     "name": "stdout",
     "output_type": "stream",
     "text": [
      "\n",
      "Train accuracy: 100.00%\n",
      "Val accuracy:   79.60%\n",
      "Test accuracy:  76.90%\n",
      "\n",
      "\n",
      "=== ITERATION NUMBER: 8 ===\n",
      "\n",
      "\n",
      "No pretrained found, training...\n"
     ]
    },
    {
     "name": "stderr",
     "output_type": "stream",
     "text": [
      "LOCAL_RANK: 0 - CUDA_VISIBLE_DEVICES: [0]\n",
      "\n",
      "  | Name        | Type             | Params\n",
      "-------------------------------------------------\n",
      "0 | model       | GNNModel         | 1.0 M \n",
      "1 | loss_module | CrossEntropyLoss | 0     \n",
      "-------------------------------------------------\n",
      "1.0 M     Trainable params\n",
      "0         Non-trainable params\n",
      "1.0 M     Total params\n",
      "4.196     Total estimated model params size (MB)\n"
     ]
    },
    {
     "data": {
      "application/vnd.jupyter.widget-view+json": {
       "model_id": "",
       "version_major": 2,
       "version_minor": 0
      },
      "text/plain": [
       "HBox(children=(FloatProgress(value=1.0, bar_style='info', description='Validation sanity check', layout=Layout…"
      ]
     },
     "metadata": {},
     "output_type": "display_data"
    },
    {
     "name": "stderr",
     "output_type": "stream",
     "text": [
      "Global seed set to 68\n"
     ]
    },
    {
     "data": {
      "application/vnd.jupyter.widget-view+json": {
       "model_id": "2c192e1431a54c8cb41eb5cc87c844f7",
       "version_major": 2,
       "version_minor": 0
      },
      "text/plain": [
       "HBox(children=(FloatProgress(value=1.0, bar_style='info', description='Training', layout=Layout(flex='2'), max…"
      ]
     },
     "metadata": {},
     "output_type": "display_data"
    },
    {
     "name": "stderr",
     "output_type": "stream",
     "text": [
      "LOCAL_RANK: 0 - CUDA_VISIBLE_DEVICES: [0]\n"
     ]
    },
    {
     "name": "stdout",
     "output_type": "stream",
     "text": [
      "\n"
     ]
    },
    {
     "name": "stderr",
     "output_type": "stream",
     "text": [
      "LOCAL_RANK: 0 - CUDA_VISIBLE_DEVICES: [0]\n"
     ]
    },
    {
     "data": {
      "application/vnd.jupyter.widget-view+json": {
       "model_id": "8048d3d98bc24f0a977aaddc5207c3fa",
       "version_major": 2,
       "version_minor": 0
      },
      "text/plain": [
       "HBox(children=(FloatProgress(value=1.0, bar_style='info', description='Testing', layout=Layout(flex='2'), max=…"
      ]
     },
     "metadata": {},
     "output_type": "display_data"
    },
    {
     "name": "stderr",
     "output_type": "stream",
     "text": [
      "Global seed set to 64\n",
      "GPU available: True, used: True\n",
      "TPU available: False, using: 0 TPU cores\n",
      "IPU available: False, using: 0 IPUs\n",
      "LOCAL_RANK: 0 - CUDA_VISIBLE_DEVICES: [0]\n"
     ]
    },
    {
     "name": "stdout",
     "output_type": "stream",
     "text": [
      "\n",
      "Train accuracy: 100.00%\n",
      "Val accuracy:   79.80%\n",
      "Test accuracy:  78.40%\n",
      "\n",
      "\n",
      "=== ITERATION NUMBER: 9 ===\n",
      "\n",
      "\n",
      "No pretrained found, training...\n"
     ]
    },
    {
     "name": "stderr",
     "output_type": "stream",
     "text": [
      "\n",
      "  | Name        | Type             | Params\n",
      "-------------------------------------------------\n",
      "0 | model       | GNNModel         | 1.0 M \n",
      "1 | loss_module | CrossEntropyLoss | 0     \n",
      "-------------------------------------------------\n",
      "1.0 M     Trainable params\n",
      "0         Non-trainable params\n",
      "1.0 M     Total params\n",
      "4.196     Total estimated model params size (MB)\n"
     ]
    },
    {
     "data": {
      "application/vnd.jupyter.widget-view+json": {
       "model_id": "",
       "version_major": 2,
       "version_minor": 0
      },
      "text/plain": [
       "HBox(children=(FloatProgress(value=1.0, bar_style='info', description='Validation sanity check', layout=Layout…"
      ]
     },
     "metadata": {},
     "output_type": "display_data"
    },
    {
     "name": "stderr",
     "output_type": "stream",
     "text": [
      "Global seed set to 64\n"
     ]
    },
    {
     "data": {
      "application/vnd.jupyter.widget-view+json": {
       "model_id": "731538ca43654352aa1cf76a676ece06",
       "version_major": 2,
       "version_minor": 0
      },
      "text/plain": [
       "HBox(children=(FloatProgress(value=1.0, bar_style='info', description='Training', layout=Layout(flex='2'), max…"
      ]
     },
     "metadata": {},
     "output_type": "display_data"
    },
    {
     "name": "stdout",
     "output_type": "stream",
     "text": [
      "\n"
     ]
    },
    {
     "name": "stderr",
     "output_type": "stream",
     "text": [
      "LOCAL_RANK: 0 - CUDA_VISIBLE_DEVICES: [0]\n",
      "LOCAL_RANK: 0 - CUDA_VISIBLE_DEVICES: [0]\n"
     ]
    },
    {
     "data": {
      "application/vnd.jupyter.widget-view+json": {
       "model_id": "b3205adf490b4457b5d4d26885853729",
       "version_major": 2,
       "version_minor": 0
      },
      "text/plain": [
       "HBox(children=(FloatProgress(value=1.0, bar_style='info', description='Testing', layout=Layout(flex='2'), max=…"
      ]
     },
     "metadata": {},
     "output_type": "display_data"
    },
    {
     "name": "stdout",
     "output_type": "stream",
     "text": [
      "\n",
      "Train accuracy: 100.00%\n",
      "Val accuracy:   79.40%\n",
      "Test accuracy:  77.60%\n"
     ]
    }
   ],
   "source": [
    "scores = []\n",
    "for i in range(10):\n",
    "    print(f'\\n\\n=== ITERATION NUMBER: {i} ===\\n\\n')\n",
    "    args['seed'] = 100 - i * 4\n",
    "    try:\n",
    "        gnn_model, gnn_result, gnn_trainer = train_classifier(dataset, trainer_ckp=trainer_ckp, **args)\n",
    "        print_results(gnn_result)\n",
    "        scores.append(gnn_result['test'])\n",
    "    except Exception as e:\n",
    "        if isinstance(gnn_trainer.logger, NeptuneLogger):\n",
    "            gnn_trainer.logger.experiment['sys/failed'] = True\n",
    "        raise e\n",
    "    # Stop logging\n",
    "    finally:\n",
    "        if hasattr(gnn_trainer.logger.experiment, 'stop'):\n",
    "            gnn_trainer.logger.experiment.stop()"
   ]
  },
  {
   "cell_type": "code",
   "execution_count": 14,
   "id": "8b3f1cdb",
   "metadata": {},
   "outputs": [],
   "source": [
    "dct = {}"
   ]
  },
  {
   "cell_type": "code",
   "execution_count": 47,
   "id": "bdfd505e",
   "metadata": {},
   "outputs": [
    {
     "name": "stdout",
     "output_type": "stream",
     "text": [
      "mean=0.779300032567978, std=0.004900123423172958, stderr=0.001549555083316765\n"
     ]
    },
    {
     "data": {
      "text/plain": [
       "{'pubmed-GIN': 'mean=0.7742000122070312, std=0.01151955206279137, stderr=0.005151700296549886',\n",
       " 'pubmed-SAGE': 'mean=0.7702000319957734, std=0.005116425351794559, stderr=0.0016179557589899073',\n",
       " 'pubmed-GAT': 'mean=0.7767000336647033, std=0.0040838537780277994, stderr=0.0012914279569651544',\n",
       " 'pubmed-GCN': 'mean=0.779300032567978, std=0.004900123423172958, stderr=0.001549555083316765'}"
      ]
     },
     "execution_count": 47,
     "metadata": {},
     "output_type": "execute_result"
    }
   ],
   "source": [
    "import scipy\n",
    "import numpy as np\n",
    "mean = np.mean(scores)\n",
    "std = np.std(scores, ddof=1)\n",
    "stderr = scipy.stats.sem(scores, ddof=1)\n",
    "result = f'{mean=}, {std=}, {stderr=}'\n",
    "dct[args['exp_id'] + '-' + 'GCN'] = result\n",
    "print(result)\n",
    "dct"
   ]
  },
  {
   "cell_type": "code",
   "execution_count": null,
   "id": "68c5c921",
   "metadata": {},
   "outputs": [],
   "source": []
  },
  {
   "cell_type": "markdown",
   "id": "15824ec4",
   "metadata": {},
   "source": [
    "<h2> Heat diffusion kernel SVM"
   ]
  },
  {
   "cell_type": "code",
   "execution_count": 216,
   "id": "26e5e26c",
   "metadata": {},
   "outputs": [
    {
     "data": {
      "text/plain": [
       "tensor([ 1.,  1.,  1.,  ..., -1., -1., -1.])"
      ]
     },
     "execution_count": 216,
     "metadata": {},
     "output_type": "execute_result"
    }
   ],
   "source": [
    "beta = 1\n",
    "lapl_edges, lapl_vals = pyg_utils.get_laplacian(dataset[0].edge_index)\n",
    "lapl_vals *= -beta\n",
    "lapl_vals"
   ]
  },
  {
   "cell_type": "code",
   "execution_count": null,
   "id": "5fcfa14f",
   "metadata": {},
   "outputs": [],
   "source": [
    "num_nodes = dataset[0].num_nodes\n",
    "size = torch.Size([num_nodes, num_nodes])\n",
    "adj = torch.sparse_coo_tensor(lapl_edges, lapl_vals, size).to_dense().numpy()\n",
    "expk = scipy.linalg.expm(adj)\n",
    "from sklearn.metrics.pairwise import rbf_kernel, cosine_similarity, linear_kernel\n",
    "expk_rbf = expk + linear_kernel(dataset[0].x)"
   ]
  },
  {
   "cell_type": "code",
   "execution_count": 210,
   "id": "910b14fd",
   "metadata": {},
   "outputs": [],
   "source": [
    "expk_rbf = expk + rbf_kernel(dataset[0].x)"
   ]
  },
  {
   "cell_type": "code",
   "execution_count": 133,
   "id": "b06bbfc6",
   "metadata": {},
   "outputs": [],
   "source": [
    "y = dataset[0].y\n",
    "train_expk = expk_rbf[dataset[0].train_mask, :][:, dataset[0].train_mask]\n",
    "test_expk = expk_rbf[dataset[0].test_mask, :][:, dataset[0].train_mask]\n",
    "y_train = y[dataset[0].train_mask]\n",
    "y_test = y[dataset[0].test_mask]"
   ]
  },
  {
   "cell_type": "code",
   "execution_count": 214,
   "id": "51a3c2c5",
   "metadata": {},
   "outputs": [
    {
     "data": {
      "text/plain": [
       "0.5"
      ]
     },
     "execution_count": 214,
     "metadata": {},
     "output_type": "execute_result"
    }
   ],
   "source": [
    "from sklearn.svm import SVC\n",
    "from sklearn.metrics import accuracy_score\n",
    "svc = SVC(kernel='precomputed', C=42)\n",
    "svc.fit(train_expk, y_train)\n",
    "y_pred = svc.predict(test_expk)\n",
    "y_true = y_test.numpy()\n",
    "accuracy_score(y_true, y_pred)"
   ]
  },
  {
   "cell_type": "code",
   "execution_count": 11,
   "id": "d177ebe5",
   "metadata": {},
   "outputs": [],
   "source": []
  },
  {
   "cell_type": "code",
   "execution_count": 12,
   "id": "0ae5f63e",
   "metadata": {},
   "outputs": [
    {
     "name": "stdout",
     "output_type": "stream",
     "text": [
      "mean=0.8077000319957733, std=0.01011105416016347, stderr=0.0031973960691437497\n"
     ]
    }
   ],
   "source": [
    "import scipy\n",
    "import numpy as np\n",
    "mean = np.mean(scores)\n",
    "std = np.std(scores, ddof=1)\n",
    "stderr = scipy.stats.sem(scores, ddof=1)\n",
    "result = f'{mean=}, {std=}, {stderr=}'\n",
    "dct[args['exp_id'] + '-' + args['layer_name']] = result\n",
    "print(result)"
   ]
  },
  {
   "cell_type": "code",
   "execution_count": 13,
   "id": "b33f7349",
   "metadata": {},
   "outputs": [],
   "source": [
    "mean = 0.81200\n",
    "std = 0.01200\n",
    "stderr = 0.00379\n",
    "dct['cora-GCN'] = f'{mean=}, {std=}, {stderr=}'"
   ]
  },
  {
   "cell_type": "code",
   "execution_count": 14,
   "id": "5a1c62fc",
   "metadata": {},
   "outputs": [
    {
     "data": {
      "text/plain": [
       "{'cora-GIN': 'mean=0.8077000319957733, std=0.01011105416016347, stderr=0.0031973960691437497',\n",
       " 'cora-GCN': 'mean=0.812, std=0.012, stderr=0.00379'}"
      ]
     },
     "execution_count": 14,
     "metadata": {},
     "output_type": "execute_result"
    }
   ],
   "source": [
    "dct"
   ]
  },
  {
   "cell_type": "code",
   "execution_count": null,
   "id": "61d8a424",
   "metadata": {},
   "outputs": [],
   "source": []
  },
  {
   "cell_type": "code",
   "execution_count": null,
   "id": "adbb5653",
   "metadata": {},
   "outputs": [],
   "source": []
  },
  {
   "cell_type": "code",
   "execution_count": null,
   "id": "fa3345b9",
   "metadata": {},
   "outputs": [],
   "source": []
  },
  {
   "cell_type": "markdown",
   "id": "0fc6b969",
   "metadata": {},
   "source": [
    "<h1> Random experiments"
   ]
  },
  {
   "cell_type": "code",
   "execution_count": 3,
   "id": "43428d0a",
   "metadata": {},
   "outputs": [
    {
     "name": "stdout",
     "output_type": "stream",
     "text": [
      "7 2\n"
     ]
    },
    {
     "data": {
      "text/plain": [
       "Data(edge_attr=[38, 4], edge_index=[2, 38], x=[17, 7], y=[1])"
      ]
     },
     "execution_count": 3,
     "metadata": {},
     "output_type": "execute_result"
    }
   ],
   "source": [
    "import lib.data as data\n",
    "dataset_f = data.get_dataset('MUTAG', largest_component=False, use_gdc=-1)\n",
    "print(dataset_f.num_node_features, dataset_f.num_classes)\n",
    "point_f = dataset_f[0]\n",
    "point_f"
   ]
  },
  {
   "cell_type": "code",
   "execution_count": 4,
   "id": "5dea94bf",
   "metadata": {},
   "outputs": [
    {
     "data": {
      "text/plain": [
       "Data(edge_attr=[28, 4], edge_index=[2, 28], x=[13, 7], y=[1])"
      ]
     },
     "execution_count": 4,
     "metadata": {},
     "output_type": "execute_result"
    }
   ],
   "source": [
    "dataset_f[1]"
   ]
  },
  {
   "cell_type": "code",
   "execution_count": 14,
   "id": "ce621033",
   "metadata": {},
   "outputs": [
    {
     "data": {
      "text/plain": [
       "'MUTAG'"
      ]
     },
     "execution_count": 14,
     "metadata": {},
     "output_type": "execute_result"
    }
   ],
   "source": [
    "dataset_f.name"
   ]
  },
  {
   "cell_type": "code",
   "execution_count": 15,
   "id": "752defe4",
   "metadata": {},
   "outputs": [
    {
     "name": "stdout",
     "output_type": "stream",
     "text": [
      "[]\n"
     ]
    }
   ],
   "source": [
    "l = []\n",
    "try:\n",
    "    l.name\n",
    "except AttributeError:\n",
    "    print(l)"
   ]
  },
  {
   "cell_type": "code",
   "execution_count": null,
   "id": "a9d8eff3",
   "metadata": {},
   "outputs": [],
   "source": []
  },
  {
   "cell_type": "code",
   "execution_count": 86,
   "id": "034a3b8d",
   "metadata": {},
   "outputs": [
    {
     "data": {
      "text/plain": [
       "tensor([1, 1, 1, 1, 1, 8, 4, 1, 1, 1])"
      ]
     },
     "execution_count": 86,
     "metadata": {},
     "output_type": "execute_result"
    }
   ],
   "source": [
    "from torch_geometric.nn import MessagePassing\n",
    "class ConnectedComponents(MessagePassing):\n",
    "    def __init__(self):\n",
    "        super(ConnectedComponents, self).__init__(aggr=\"max\")\n",
    "    def forward(self, data):\n",
    "        x = torch.arange(data.num_nodes).view(-1, 1)\n",
    "        last_x = torch.zeros_like(x)\n",
    "        while not x.equal(last_x):\n",
    "            last_x = x.clone()\n",
    "            x = self.propagate(data.edge_index, x=x)\n",
    "            x = torch.max(x, last_x)\n",
    "        unique, perm = torch.unique(x, return_inverse=True)\n",
    "        perm = perm.view(-1)\n",
    "        if \"batch\" not in data:\n",
    "            return unique.size(0), perm\n",
    "        cc_batch = unique.scatter(dim=-1, index=perm, src=data.batch)\n",
    "        return cc_batch.bincount(minlength=data.num_graphs), perm\n",
    "    def message(self, x_j):\n",
    "        return x_j\n",
    "    def update(self, aggr_out):\n",
    "        return aggr_out\n",
    "    \n",
    "from torch_geometric.data import Batch\n",
    "from torch_geometric.datasets import TUDataset\n",
    "ds = TUDataset(root='./data/', name='PROTEINS')\n",
    "data = Batch.from_data_list(ds[:10])\n",
    "cc = ConnectedComponents()\n",
    "count, perm = cc(data)\n",
    "count"
   ]
  },
  {
   "cell_type": "code",
   "execution_count": 20,
   "id": "adfb7185",
   "metadata": {},
   "outputs": [
    {
     "data": {
      "image/png": "[encoded data removed]",
      "text/plain": [
       "<Figure size 432x288 with 1 Axes>"
      ]
     },
     "metadata": {},
     "output_type": "display_data"
    }
   ],
   "source": [
    "G = pyg_utils.to_networkx(ds[6])\n",
    "nx.draw(G, node_size=50)"
   ]
  },
  {
   "cell_type": "code",
   "execution_count": null,
   "id": "f767dd72",
   "metadata": {},
   "outputs": [],
   "source": []
  },
  {
   "cell_type": "code",
   "execution_count": null,
   "id": "11ea21f3",
   "metadata": {},
   "outputs": [],
   "source": []
  },
  {
   "cell_type": "code",
   "execution_count": null,
   "id": "5888273c",
   "metadata": {},
   "outputs": [],
   "source": []
  },
  {
   "cell_type": "code",
   "execution_count": 19,
   "id": "3cd59eec",
   "metadata": {},
   "outputs": [
    {
     "name": "stderr",
     "output_type": "stream",
     "text": [
      "Compute GraphSAINT normalization: : 332972it [00:02, 119927.51it/s]                                                    \n"
     ]
    },
    {
     "name": "stdout",
     "output_type": "stream",
     "text": [
      "Data(edge_index=[2, 50], edge_norm=[50], node_norm=[29], test_mask=[29], train_mask=[29], val_mask=[29], x=[29, 3703], y=[29])\n",
      "Data(edge_index=[2, 50], edge_norm=[50], node_norm=[32], test_mask=[32], train_mask=[32], val_mask=[32], x=[32, 3703], y=[32])\n",
      "Data(edge_index=[2, 44], edge_norm=[44], node_norm=[30], test_mask=[30], train_mask=[30], val_mask=[30], x=[30, 3703], y=[30])\n",
      "Data(edge_index=[2, 44], edge_norm=[44], node_norm=[30], test_mask=[30], train_mask=[30], val_mask=[30], x=[30, 3703], y=[30])\n",
      "Data(edge_index=[2, 46], edge_norm=[46], node_norm=[33], test_mask=[33], train_mask=[33], val_mask=[33], x=[33, 3703], y=[33])\n",
      "Data(edge_index=[2, 64], edge_norm=[64], node_norm=[34], test_mask=[34], train_mask=[34], val_mask=[34], x=[34, 3703], y=[34])\n",
      "Data(edge_index=[2, 40], edge_norm=[40], node_norm=[29], test_mask=[29], train_mask=[29], val_mask=[29], x=[29, 3703], y=[29])\n",
      "Data(edge_index=[2, 52], edge_norm=[52], node_norm=[33], test_mask=[33], train_mask=[33], val_mask=[33], x=[33, 3703], y=[33])\n",
      "Data(edge_index=[2, 54], edge_norm=[54], node_norm=[31], test_mask=[31], train_mask=[31], val_mask=[31], x=[31, 3703], y=[31])\n",
      "Data(edge_index=[2, 40], edge_norm=[40], node_norm=[28], test_mask=[28], train_mask=[28], val_mask=[28], x=[28, 3703], y=[28])\n"
     ]
    }
   ],
   "source": [
    "from torch_geometric.data import DataLoader, GraphSAINTRandomWalkSampler\n",
    "loader = GraphSAINTRandomWalkSampler(dataset[0], batch_size = 10, num_steps=10, sample_coverage=100, walk_length = 3)\n",
    "for dat in loader:\n",
    "    print(dat)"
   ]
  },
  {
   "cell_type": "code",
   "execution_count": null,
   "id": "72bd0830",
   "metadata": {},
   "outputs": [],
   "source": []
  },
  {
   "cell_type": "code",
   "execution_count": 16,
   "id": "9cbc992c",
   "metadata": {},
   "outputs": [
    {
     "name": "stderr",
     "output_type": "stream",
     "text": [
      "Global seed set to 53\n",
      "GPU available: True, used: True\n",
      "TPU available: False, using: 0 TPU cores\n",
      "IPU available: False, using: 0 IPUs\n"
     ]
    },
    {
     "name": "stdout",
     "output_type": "stream",
     "text": [
      "No pretrained found, training...\n"
     ]
    },
    {
     "name": "stderr",
     "output_type": "stream",
     "text": [
      "LOCAL_RANK: 0 - CUDA_VISIBLE_DEVICES: [0]\n",
      "Missing logger folder: saved\\MUTAG-GNNClassifier-GCN-graphLevel\\lightning_logs\n",
      "\n",
      "  | Name        | Type              | Params\n",
      "--------------------------------------------------\n",
      "0 | model       | GNNModel          | 34.7 K\n",
      "1 | loss_module | BCEWithLogitsLoss | 0     \n",
      "--------------------------------------------------\n",
      "34.7 K    Trainable params\n",
      "0         Non-trainable params\n",
      "34.7 K    Total params\n",
      "0.139     Total estimated model params size (MB)\n"
     ]
    },
    {
     "data": {
      "application/vnd.jupyter.widget-view+json": {
       "model_id": "",
       "version_major": 2,
       "version_minor": 0
      },
      "text/plain": [
       "HBox(children=(FloatProgress(value=1.0, bar_style='info', description='Validation sanity check', layout=Layout…"
      ]
     },
     "metadata": {},
     "output_type": "display_data"
    },
    {
     "name": "stderr",
     "output_type": "stream",
     "text": [
      "E:\\Anaconda\\envs\\graph\\lib\\site-packages\\pytorch_lightning\\trainer\\data_loading.py:105: UserWarning: The dataloader, val dataloader 0, does not have many workers which may be a bottleneck. Consider increasing the value of the `num_workers` argument` (try 8 which is the number of cpus on this machine) in the `DataLoader` init to improve performance.\n",
      "  rank_zero_warn(\n",
      "Global seed set to 53\n",
      "E:\\Anaconda\\envs\\graph\\lib\\site-packages\\pytorch_lightning\\trainer\\data_loading.py:105: UserWarning: The dataloader, train dataloader, does not have many workers which may be a bottleneck. Consider increasing the value of the `num_workers` argument` (try 8 which is the number of cpus on this machine) in the `DataLoader` init to improve performance.\n",
      "  rank_zero_warn(\n",
      "E:\\Anaconda\\envs\\graph\\lib\\site-packages\\pytorch_lightning\\trainer\\data_loading.py:322: UserWarning: The number of training samples (3) is smaller than the logging interval Trainer(log_every_n_steps=50). Set a lower value for log_every_n_steps if you want to see logs for the training epoch.\n",
      "  rank_zero_warn(\n"
     ]
    },
    {
     "data": {
      "application/vnd.jupyter.widget-view+json": {
       "model_id": "5a76c15cc44640f29f9cae58c51e4461",
       "version_major": 2,
       "version_minor": 0
      },
      "text/plain": [
       "HBox(children=(FloatProgress(value=1.0, bar_style='info', description='Training', layout=Layout(flex='2'), max…"
      ]
     },
     "metadata": {},
     "output_type": "display_data"
    },
    {
     "name": "stderr",
     "output_type": "stream",
     "text": [
      "E:\\Anaconda\\envs\\graph\\lib\\site-packages\\pytorch_lightning\\trainer\\trainer.py:1047: UserWarning: Detected KeyboardInterrupt, attempting graceful shutdown...\n",
      "  rank_zero_warn(\"Detected KeyboardInterrupt, attempting graceful shutdown...\")\n",
      "LOCAL_RANK: 0 - CUDA_VISIBLE_DEVICES: [0]\n",
      "LOCAL_RANK: 0 - CUDA_VISIBLE_DEVICES: [0]\n",
      "E:\\Anaconda\\envs\\graph\\lib\\site-packages\\pytorch_lightning\\trainer\\data_loading.py:105: UserWarning: The dataloader, test dataloader 0, does not have many workers which may be a bottleneck. Consider increasing the value of the `num_workers` argument` (try 8 which is the number of cpus on this machine) in the `DataLoader` init to improve performance.\n",
      "  rank_zero_warn(\n"
     ]
    },
    {
     "data": {
      "application/vnd.jupyter.widget-view+json": {
       "model_id": "a4244b17d33742d7ab09c60d49640796",
       "version_major": 2,
       "version_minor": 0
      },
      "text/plain": [
       "HBox(children=(FloatProgress(value=1.0, bar_style='info', description='Testing', layout=Layout(flex='2'), max=…"
      ]
     },
     "metadata": {},
     "output_type": "display_data"
    },
    {
     "name": "stdout",
     "output_type": "stream",
     "text": [
      "\n",
      "Train accuracy: 68.04%\n",
      "Val accuracy:   78.95%\n",
      "Test accuracy:  57.89%\n"
     ]
    }
   ],
   "source": [
    "from lib.model import train_classifier, print_results\n",
    "import lib.model as mod\n",
    "from lib.tracing.utils import rel\n",
    "rel(mod)\n",
    "import torch.optim as optim\n",
    "def optimizer(self):\n",
    "    opt = optim.AdamW(self.parameters(), lr=self.lr, weight_decay=1e-2)\n",
    "#     opt = optim.SGD(self.parameters(), lr=1e-3, momentum=0.9, weight_decay=2e-3)\n",
    "    sched = {\n",
    "        \"scheduler\": optim.lr_scheduler.StepLR(opt, step_size=30, gamma=0.1),\n",
    "        \"interval\": \"step\",\n",
    "    }  # called after each training step\n",
    "    return [opt], [sched]\n",
    "args = {\n",
    "    'seed': 53,\n",
    "    \"model_name\": \"GNN\",\n",
    "    \"layer_name\": 'GCN',\n",
    "#     \"layer_dict\": dict(eps=2, normalize=False),\n",
    "    'num_layers': 2,\n",
    "    \"task\": \"graph\",\n",
    "    \"test_splits\": [.1, .1],\n",
    "    \"hidden_dim\": 128,\n",
    "    \"optim_func\": optimizer,\n",
    "    \"epochs\": 200,\n",
    "    \"dropout\": 0.4,\n",
    "    'gpus': 1,\n",
    "    'lr': 1e-3,\n",
    "    'use_edge_attr': False,\n",
    "    'transform_pre_mp': False,\n",
    "    \"nonlin\": \"ELU\",\n",
    "    \"norm_layer\": \"LayerNorm\",\n",
    "    'last_fully_adjacent': False\n",
    "}\n",
    "\n",
    "model, result, trainer = train_classifier(dataset_f, **args)\n",
    "print_results(result)"
   ]
  },
  {
   "cell_type": "code",
   "execution_count": null,
   "id": "2e481ccd",
   "metadata": {},
   "outputs": [],
   "source": []
  },
  {
   "cell_type": "code",
   "execution_count": null,
   "id": "80fd9ae7",
   "metadata": {},
   "outputs": [],
   "source": []
  },
  {
   "cell_type": "code",
   "execution_count": 7,
   "id": "e99530fe",
   "metadata": {},
   "outputs": [],
   "source": [
    "rel(data)\n",
    "n=30\n",
    "y = np.random.randint(low=0, high=7, size=n)\n",
    "labels_name = [f'tim-{i}' for i in range(7)]"
   ]
  },
  {
   "cell_type": "code",
   "execution_count": null,
   "id": "2f177b86",
   "metadata": {},
   "outputs": [],
   "source": [
    "dataset = data.get_random_dataset(n=n, p=.08, y=y, largest_component=False, use_gdc=0, seed=32)\n",
    "c = dataset[0]\n",
    "c"
   ]
  },
  {
   "cell_type": "code",
   "execution_count": null,
   "id": "059c3773",
   "metadata": {},
   "outputs": [],
   "source": [
    "c.edge_index"
   ]
  },
  {
   "cell_type": "code",
   "execution_count": 161,
   "id": "2f1a2321",
   "metadata": {},
   "outputs": [
    {
     "data": {
      "text/plain": [
       "tensor([[ 0,  0,  0,  0,  0,  1,  1,  1,  1,  1,  2,  2,  2,  2,  2,  3,  3,  4,\n",
       "          4,  5,  5,  5,  6,  7,  7,  7,  8,  8,  8,  9,  9,  9, 11, 12, 12, 13,\n",
       "         14, 14, 14, 14, 14, 14, 14, 15, 16, 16, 16, 17, 17, 17, 18, 18, 19, 19,\n",
       "         20, 20, 21, 21, 21, 21, 22, 23, 23, 23, 24, 24, 24, 25, 25, 26, 26, 26,\n",
       "         26, 27, 27, 27, 27, 27, 28, 28, 28, 28, 28, 28, 28, 29, 29, 29],\n",
       "        [ 1, 14, 17, 28, 29,  0,  2, 20, 26, 28,  1,  5,  6, 27, 28, 25, 28, 17,\n",
       "         28,  2,  8, 20,  2, 11, 21, 27,  5, 24, 27, 16, 24, 29,  7, 19, 25, 28,\n",
       "          0, 16, 21, 22, 24, 26, 28, 23,  9, 14, 26,  0,  4, 23, 21, 26, 12, 27,\n",
       "          1,  5,  7, 14, 18, 23, 14, 15, 17, 21,  8,  9, 14,  3, 12,  1, 14, 16,\n",
       "         18,  2,  7,  8, 19, 29,  0,  1,  2,  3,  4, 13, 14,  0,  9, 27]])"
      ]
     },
     "execution_count": 161,
     "metadata": {},
     "output_type": "execute_result"
    }
   ],
   "source": [
    "c.edge_index"
   ]
  },
  {
   "cell_type": "code",
   "execution_count": 8,
   "id": "5eb0c1f9",
   "metadata": {},
   "outputs": [
    {
     "data": {
      "text/plain": [
       "torch.Size([30, 2])"
      ]
     },
     "execution_count": 8,
     "metadata": {},
     "output_type": "execute_result"
    }
   ],
   "source": [
    "c.x.shape"
   ]
  },
  {
   "cell_type": "code",
   "execution_count": 4,
   "id": "e334b916",
   "metadata": {},
   "outputs": [],
   "source": [
    "c.edge_attr = torch.ones(c.edge_index.shape[1]) * 2"
   ]
  },
  {
   "cell_type": "code",
   "execution_count": 80,
   "id": "259e9f7c",
   "metadata": {},
   "outputs": [
    {
     "data": {
      "application/vnd.plotly.v1+json": {
       "config": {
        "plotlyServerURL": "https://plot.ly"
       },
       "data": [
        {
         "hoverinfo": "none",
         "line": {
          "color": "#888",
          "width": 0.5
         },
         "mode": "lines",
         "name": "Edges",
         "type": "scatter",
         "x": [
          -0.028030301466223498,
          -0.08548511477456865,
          null,
          -0.028030301466223498,
          -0.051574712777852014,
          null,
          -0.12024692698644203,
          -0.08548511477456865,
          null,
          -0.2587172849965427,
          -0.15808852699686454,
          null,
          -0.12475995979895196,
          -0.07536939034003445,
          null,
          -0.12475995979895196,
          -0.1959862043644841,
          null,
          -0.12475995979895196,
          -0.10585322074927714,
          null,
          -0.07536939034003445,
          -0.12475995979895196,
          null,
          -0.07536939034003445,
          -0.10329059796190483,
          null,
          -0.4902553447450115,
          -0.44991194276294166,
          null,
          -0.4902553447450115,
          -0.38231707375421814,
          null,
          -0.08548511477456865,
          -0.028030301466223498,
          null,
          -0.08548511477456865,
          -0.12024692698644203,
          null,
          -0.08548511477456865,
          -0.051574712777852014,
          null,
          -0.08548511477456865,
          -0.054870235757170406,
          null,
          -0.1959862043644841,
          -0.12475995979895196,
          null,
          -0.1959862043644841,
          -0.1664062926216766,
          null,
          -0.1959862043644841,
          -0.33997543530211327,
          null,
          0.008083246048447477,
          -0.10329059796190483,
          null,
          -0.1664062926216766,
          -0.1959862043644841,
          null,
          -0.1664062926216766,
          -0.15808852699686454,
          null,
          -0.1664062926216766,
          -0.10329059796190483,
          null,
          0.8541002658193775,
          0.7633513119635206,
          null,
          0.7633513119635206,
          0.8541002658193775,
          null,
          0.3149651150993467,
          0.21725841718667635,
          null,
          -0.2494997633499582,
          -0.10329059796190483,
          null,
          -0.2494997633499582,
          -0.38231707375421814,
          null,
          -0.15808852699686454,
          -0.2587172849965427,
          null,
          -0.15808852699686454,
          -0.1664062926216766,
          null,
          -0.15808852699686454,
          -0.054870235757170406,
          null,
          -0.44991194276294166,
          -0.4902553447450115,
          null,
          -0.44991194276294166,
          -0.40760257383733495,
          null,
          -0.44991194276294166,
          -0.33997543530211327,
          null,
          -0.051574712777852014,
          -0.028030301466223498,
          null,
          -0.051574712777852014,
          -0.08548511477456865,
          null,
          -0.051574712777852014,
          -0.058353345758217885,
          null,
          -0.054870235757170406,
          -0.08548511477456865,
          null,
          -0.054870235757170406,
          -0.15808852699686454,
          null,
          -0.054870235757170406,
          0.09195245131202005,
          null,
          -0.058353345758217885,
          -0.051574712777852014,
          null,
          -0.058353345758217885,
          -0.10329059796190483,
          null,
          -0.10585322074927714,
          -0.12475995979895196,
          null,
          -0.40760257383733495,
          -0.44991194276294166,
          null,
          -0.10329059796190483,
          -0.07536939034003445,
          null,
          -0.10329059796190483,
          0.008083246048447477,
          null,
          -0.10329059796190483,
          -0.1664062926216766,
          null,
          -0.10329059796190483,
          -0.2494997633499582,
          null,
          -0.10329059796190483,
          -0.058353345758217885,
          null,
          0.09195245131202005,
          -0.054870235757170406,
          null,
          0.09195245131202005,
          0.21725841718667635,
          null,
          -0.38231707375421814,
          -0.4902553447450115,
          null,
          -0.38231707375421814,
          -0.2494997633499582,
          null,
          -0.33997543530211327,
          -0.1959862043644841,
          null,
          -0.33997543530211327,
          -0.44991194276294166,
          null,
          0.21725841718667635,
          0.3149651150993467,
          null,
          0.21725841718667635,
          0.09195245131202005,
          null
         ],
         "y": [
          0.36993012480793425,
          0.3957237783726798,
          null,
          0.36993012480793425,
          0.2534974829283856,
          null,
          0.5196332915025988,
          0.3957237783726798,
          null,
          0.22182663948193884,
          0.16283120331233902,
          null,
          -0.3323749727979295,
          -0.24145115088203722,
          null,
          -0.3323749727979295,
          -0.19376931634018177,
          null,
          -0.3323749727979295,
          -0.45684765902156665,
          null,
          -0.24145115088203722,
          -0.3323749727979295,
          null,
          -0.24145115088203722,
          -0.1052320492811434,
          null,
          -0.26190614491757663,
          -0.16206519748669798,
          null,
          -0.26190614491757663,
          -0.27859598842560296,
          null,
          0.3957237783726798,
          0.36993012480793425,
          null,
          0.3957237783726798,
          0.5196332915025988,
          null,
          0.3957237783726798,
          0.2534974829283856,
          null,
          0.3957237783726798,
          0.3087075962028109,
          null,
          -0.19376931634018177,
          -0.3323749727979295,
          null,
          -0.19376931634018177,
          -0.024015151917604866,
          null,
          -0.19376931634018177,
          -0.19437739019982045,
          null,
          -0.13802414429536505,
          -0.1052320492811434,
          null,
          -0.024015151917604866,
          -0.19376931634018177,
          null,
          -0.024015151917604866,
          0.16283120331233902,
          null,
          -0.024015151917604866,
          -0.1052320492811434,
          null,
          0.020417317525327352,
          0.003872054368743697,
          null,
          0.003872054368743697,
          0.020417317525327352,
          null,
          0.4770053826288604,
          0.4357054312832256,
          null,
          -0.20463538085489527,
          -0.1052320492811434,
          null,
          -0.20463538085489527,
          -0.27859598842560296,
          null,
          0.16283120331233902,
          0.22182663948193884,
          null,
          0.16283120331233902,
          -0.024015151917604866,
          null,
          0.16283120331233902,
          0.3087075962028109,
          null,
          -0.16206519748669798,
          -0.26190614491757663,
          null,
          -0.16206519748669798,
          -0.04731456351074054,
          null,
          -0.16206519748669798,
          -0.19437739019982045,
          null,
          0.2534974829283856,
          0.36993012480793425,
          null,
          0.2534974829283856,
          0.3957237783726798,
          null,
          0.2534974829283856,
          0.07481332001599744,
          null,
          0.3087075962028109,
          0.3957237783726798,
          null,
          0.3087075962028109,
          0.16283120331233902,
          null,
          0.3087075962028109,
          0.386476478789348,
          null,
          0.07481332001599744,
          0.2534974829283856,
          null,
          0.07481332001599744,
          -0.1052320492811434,
          null,
          -0.45684765902156665,
          -0.3323749727979295,
          null,
          -0.04731456351074054,
          -0.16206519748669798,
          null,
          -0.1052320492811434,
          -0.24145115088203722,
          null,
          -0.1052320492811434,
          -0.13802414429536505,
          null,
          -0.1052320492811434,
          -0.024015151917604866,
          null,
          -0.1052320492811434,
          -0.20463538085489527,
          null,
          -0.1052320492811434,
          0.07481332001599744,
          null,
          0.386476478789348,
          0.3087075962028109,
          null,
          0.386476478789348,
          0.4357054312832256,
          null,
          -0.27859598842560296,
          -0.26190614491757663,
          null,
          -0.27859598842560296,
          -0.20463538085489527,
          null,
          -0.19437739019982045,
          -0.19376931634018177,
          null,
          -0.19437739019982045,
          -0.16206519748669798,
          null,
          0.4357054312832256,
          0.4770053826288604,
          null,
          0.4357054312832256,
          0.386476478789348,
          null
         ]
        },
        {
         "hoverinfo": "text",
         "marker": {
          "color": "rgb(102,194,165)",
          "line": {
           "width": 2
          },
          "size": 20
         },
         "mode": "markers",
         "name": "tim-0",
         "text": [
          "Node: 13<br />Class: tim-0<br />Connections: 0",
          "Node: 16<br />Class: tim-0<br />Connections: 6",
          "Node: 18<br />Class: tim-0<br />Connections: 6",
          "Node: 25<br />Class: tim-0<br />Connections: 4",
          "Node: 29<br />Class: tim-0<br />Connections: 0"
         ],
         "type": "scatter",
         "visible": true,
         "x": [
          0.9115785900954341,
          -0.44991194276294166,
          -0.054870235757170406,
          0.09195245131202005,
          -0.7315446969504635
         ],
         "y": [
          -0.6690696960508995,
          -0.16206519748669798,
          0.3087075962028109,
          0.386476478789348,
          0.8148442064764445
         ]
        },
        {
         "hoverinfo": "text",
         "marker": {
          "color": "rgb(252,141,98)",
          "line": {
           "width": 2
          },
          "size": 20
         },
         "mode": "markers",
         "name": "tim-1",
         "text": [
          "Node: 10<br />Class: tim-1<br />Connections: 2",
          "Node: 20<br />Class: tim-1<br />Connections: 4"
         ],
         "type": "scatter",
         "x": [
          0.8541002658193775,
          -0.058353345758217885
         ],
         "y": [
          0.020417317525327352,
          0.07481332001599744
         ]
        },
        {
         "hoverinfo": "text",
         "marker": {
          "color": "rgb(141,160,203)",
          "line": {
           "width": 2
          },
          "size": 20
         },
         "mode": "markers",
         "name": "tim-2",
         "text": [
          "Node: 5<br />Class: tim-2<br />Connections: 4",
          "Node: 8<br />Class: tim-2<br />Connections: 2",
          "Node: 11<br />Class: tim-2<br />Connections: 2",
          "Node: 14<br />Class: tim-2<br />Connections: 4",
          "Node: 19<br />Class: tim-2<br />Connections: 0"
         ],
         "type": "scatter",
         "x": [
          -0.4902553447450115,
          0.008083246048447477,
          0.7633513119635206,
          -0.2494997633499582,
          1
         ],
         "y": [
          -0.26190614491757663,
          -0.13802414429536505,
          0.003872054368743697,
          -0.20463538085489527,
          -0.1871538771520697
         ]
        },
        {
         "hoverinfo": "text",
         "marker": {
          "color": "rgb(231,138,195)",
          "line": {
           "width": 2
          },
          "size": 20
         },
         "mode": "markers",
         "name": "tim-3",
         "text": [
          "Node: 4<br />Class: tim-3<br />Connections: 4",
          "Node: 9<br />Class: tim-3<br />Connections: 6",
          "Node: 23<br />Class: tim-3<br />Connections: 0",
          "Node: 28<br />Class: tim-3<br />Connections: 4"
         ],
         "type": "scatter",
         "x": [
          -0.07536939034003445,
          -0.1664062926216766,
          0.47684954852742956,
          0.21725841718667635
         ],
         "y": [
          -0.24145115088203722,
          -0.024015151917604866,
          -0.9484516245625043,
          0.4357054312832256
         ]
        },
        {
         "hoverinfo": "text",
         "marker": {
          "color": "rgb(166,216,84)",
          "line": {
           "width": 2
          },
          "size": 20
         },
         "mode": "markers",
         "name": "tim-4",
         "text": [
          "Node: 0<br />Class: tim-4<br />Connections: 4",
          "Node: 12<br />Class: tim-4<br />Connections: 2",
          "Node: 17<br />Class: tim-4<br />Connections: 6",
          "Node: 22<br />Class: tim-4<br />Connections: 2",
          "Node: 26<br />Class: tim-4<br />Connections: 4"
         ],
         "type": "scatter",
         "x": [
          -0.028030301466223498,
          0.3149651150993467,
          -0.051574712777852014,
          -0.40760257383733495,
          -0.38231707375421814
         ],
         "y": [
          0.36993012480793425,
          0.4770053826288604,
          0.2534974829283856,
          -0.04731456351074054,
          -0.27859598842560296
         ]
        },
        {
         "hoverinfo": "text",
         "marker": {
          "color": "rgb(255,217,47)",
          "line": {
           "width": 2
          },
          "size": 20
         },
         "mode": "markers",
         "name": "tim-5",
         "text": [
          "Node: 7<br />Class: tim-5<br />Connections: 6",
          "Node: 21<br />Class: tim-5<br />Connections: 2",
          "Node: 27<br />Class: tim-5<br />Connections: 4"
         ],
         "type": "scatter",
         "x": [
          -0.1959862043644841,
          -0.10585322074927714,
          -0.33997543530211327
         ],
         "y": [
          -0.19376931634018177,
          -0.45684765902156665,
          -0.19437739019982045
         ]
        },
        {
         "hoverinfo": "text",
         "marker": {
          "color": "rgb(229,196,148)",
          "line": {
           "width": 2
          },
          "size": 20
         },
         "mode": "markers",
         "name": "tim-6",
         "text": [
          "Node: 1<br />Class: tim-6<br />Connections: 2",
          "Node: 2<br />Class: tim-6<br />Connections: 2",
          "Node: 3<br />Class: tim-6<br />Connections: 6",
          "Node: 6<br />Class: tim-6<br />Connections: 8",
          "Node: 15<br />Class: tim-6<br />Connections: 6",
          "Node: 24<br />Class: tim-6<br />Connections: 10"
         ],
         "type": "scatter",
         "x": [
          -0.12024692698644203,
          -0.2587172849965427,
          -0.12475995979895196,
          -0.08548511477456865,
          -0.15808852699686454,
          -0.10329059796190483
         ],
         "y": [
          0.5196332915025988,
          0.22182663948193884,
          -0.3323749727979295,
          0.3957237783726798,
          0.16283120331233902,
          -0.1052320492811434
         ]
        }
       ],
       "layout": {
        "annotations": [
         {
          "align": "center",
          "font": {
           "color": "black",
           "family": "Arial",
           "size": 10
          },
          "opacity": 1,
          "showarrow": false,
          "text": "<b>0</b>",
          "x": -0.028030301466223498,
          "xanchor": "center",
          "xref": "x",
          "y": 0.36993012480793425,
          "yanchor": "middle",
          "yref": "y"
         },
         {
          "align": "center",
          "font": {
           "color": "black",
           "family": "Arial",
           "size": 10
          },
          "opacity": 1,
          "showarrow": false,
          "text": "<b>1</b>",
          "x": -0.12024692698644203,
          "xanchor": "center",
          "xref": "x",
          "y": 0.5196332915025988,
          "yanchor": "middle",
          "yref": "y"
         },
         {
          "align": "center",
          "font": {
           "color": "black",
           "family": "Arial",
           "size": 10
          },
          "opacity": 1,
          "showarrow": false,
          "text": "<b>2</b>",
          "x": -0.2587172849965427,
          "xanchor": "center",
          "xref": "x",
          "y": 0.22182663948193884,
          "yanchor": "middle",
          "yref": "y"
         },
         {
          "align": "center",
          "font": {
           "color": "black",
           "family": "Arial",
           "size": 10
          },
          "opacity": 1,
          "showarrow": false,
          "text": "<b>3</b>",
          "x": -0.12475995979895196,
          "xanchor": "center",
          "xref": "x",
          "y": -0.3323749727979295,
          "yanchor": "middle",
          "yref": "y"
         },
         {
          "align": "center",
          "font": {
           "color": "black",
           "family": "Arial",
           "size": 10
          },
          "opacity": 1,
          "showarrow": false,
          "text": "<b>4</b>",
          "x": -0.07536939034003445,
          "xanchor": "center",
          "xref": "x",
          "y": -0.24145115088203722,
          "yanchor": "middle",
          "yref": "y"
         },
         {
          "align": "center",
          "font": {
           "color": "black",
           "family": "Arial",
           "size": 10
          },
          "opacity": 1,
          "showarrow": false,
          "text": "<b>5</b>",
          "x": -0.4902553447450115,
          "xanchor": "center",
          "xref": "x",
          "y": -0.26190614491757663,
          "yanchor": "middle",
          "yref": "y"
         },
         {
          "align": "center",
          "font": {
           "color": "black",
           "family": "Arial",
           "size": 10
          },
          "opacity": 1,
          "showarrow": false,
          "text": "<b>6</b>",
          "x": -0.08548511477456865,
          "xanchor": "center",
          "xref": "x",
          "y": 0.3957237783726798,
          "yanchor": "middle",
          "yref": "y"
         },
         {
          "align": "center",
          "font": {
           "color": "black",
           "family": "Arial",
           "size": 10
          },
          "opacity": 1,
          "showarrow": false,
          "text": "<b>7</b>",
          "x": -0.1959862043644841,
          "xanchor": "center",
          "xref": "x",
          "y": -0.19376931634018177,
          "yanchor": "middle",
          "yref": "y"
         },
         {
          "align": "center",
          "font": {
           "color": "black",
           "family": "Arial",
           "size": 10
          },
          "opacity": 1,
          "showarrow": false,
          "text": "<b>8</b>",
          "x": 0.008083246048447477,
          "xanchor": "center",
          "xref": "x",
          "y": -0.13802414429536505,
          "yanchor": "middle",
          "yref": "y"
         },
         {
          "align": "center",
          "font": {
           "color": "black",
           "family": "Arial",
           "size": 10
          },
          "opacity": 1,
          "showarrow": false,
          "text": "<b>9</b>",
          "x": -0.1664062926216766,
          "xanchor": "center",
          "xref": "x",
          "y": -0.024015151917604866,
          "yanchor": "middle",
          "yref": "y"
         },
         {
          "align": "center",
          "font": {
           "color": "black",
           "family": "Arial",
           "size": 10
          },
          "opacity": 1,
          "showarrow": false,
          "text": "<b>10</b>",
          "x": 0.8541002658193775,
          "xanchor": "center",
          "xref": "x",
          "y": 0.020417317525327352,
          "yanchor": "middle",
          "yref": "y"
         },
         {
          "align": "center",
          "font": {
           "color": "black",
           "family": "Arial",
           "size": 10
          },
          "opacity": 1,
          "showarrow": false,
          "text": "<b>11</b>",
          "x": 0.7633513119635206,
          "xanchor": "center",
          "xref": "x",
          "y": 0.003872054368743697,
          "yanchor": "middle",
          "yref": "y"
         },
         {
          "align": "center",
          "font": {
           "color": "black",
           "family": "Arial",
           "size": 10
          },
          "opacity": 1,
          "showarrow": false,
          "text": "<b>12</b>",
          "x": 0.3149651150993467,
          "xanchor": "center",
          "xref": "x",
          "y": 0.4770053826288604,
          "yanchor": "middle",
          "yref": "y"
         },
         {
          "align": "center",
          "font": {
           "color": "black",
           "family": "Arial",
           "size": 10
          },
          "opacity": 1,
          "showarrow": false,
          "text": "<b>13</b>",
          "x": 0.9115785900954341,
          "xanchor": "center",
          "xref": "x",
          "y": -0.6690696960508995,
          "yanchor": "middle",
          "yref": "y"
         },
         {
          "align": "center",
          "font": {
           "color": "black",
           "family": "Arial",
           "size": 10
          },
          "opacity": 1,
          "showarrow": false,
          "text": "<b>14</b>",
          "x": -0.2494997633499582,
          "xanchor": "center",
          "xref": "x",
          "y": -0.20463538085489527,
          "yanchor": "middle",
          "yref": "y"
         },
         {
          "align": "center",
          "font": {
           "color": "black",
           "family": "Arial",
           "size": 10
          },
          "opacity": 1,
          "showarrow": false,
          "text": "<b>15</b>",
          "x": -0.15808852699686454,
          "xanchor": "center",
          "xref": "x",
          "y": 0.16283120331233902,
          "yanchor": "middle",
          "yref": "y"
         },
         {
          "align": "center",
          "font": {
           "color": "black",
           "family": "Arial",
           "size": 10
          },
          "opacity": 1,
          "showarrow": false,
          "text": "<b>16</b>",
          "x": -0.44991194276294166,
          "xanchor": "center",
          "xref": "x",
          "y": -0.16206519748669798,
          "yanchor": "middle",
          "yref": "y"
         },
         {
          "align": "center",
          "font": {
           "color": "black",
           "family": "Arial",
           "size": 10
          },
          "opacity": 1,
          "showarrow": false,
          "text": "<b>17</b>",
          "x": -0.051574712777852014,
          "xanchor": "center",
          "xref": "x",
          "y": 0.2534974829283856,
          "yanchor": "middle",
          "yref": "y"
         },
         {
          "align": "center",
          "font": {
           "color": "black",
           "family": "Arial",
           "size": 10
          },
          "opacity": 1,
          "showarrow": false,
          "text": "<b>18</b>",
          "x": -0.054870235757170406,
          "xanchor": "center",
          "xref": "x",
          "y": 0.3087075962028109,
          "yanchor": "middle",
          "yref": "y"
         },
         {
          "align": "center",
          "font": {
           "color": "black",
           "family": "Arial",
           "size": 10
          },
          "opacity": 1,
          "showarrow": false,
          "text": "<b>19</b>",
          "x": 1,
          "xanchor": "center",
          "xref": "x",
          "y": -0.1871538771520697,
          "yanchor": "middle",
          "yref": "y"
         },
         {
          "align": "center",
          "font": {
           "color": "black",
           "family": "Arial",
           "size": 10
          },
          "opacity": 1,
          "showarrow": false,
          "text": "<b>20</b>",
          "x": -0.058353345758217885,
          "xanchor": "center",
          "xref": "x",
          "y": 0.07481332001599744,
          "yanchor": "middle",
          "yref": "y"
         },
         {
          "align": "center",
          "font": {
           "color": "black",
           "family": "Arial",
           "size": 10
          },
          "opacity": 1,
          "showarrow": false,
          "text": "<b>21</b>",
          "x": -0.10585322074927714,
          "xanchor": "center",
          "xref": "x",
          "y": -0.45684765902156665,
          "yanchor": "middle",
          "yref": "y"
         },
         {
          "align": "center",
          "font": {
           "color": "black",
           "family": "Arial",
           "size": 10
          },
          "opacity": 1,
          "showarrow": false,
          "text": "<b>22</b>",
          "x": -0.40760257383733495,
          "xanchor": "center",
          "xref": "x",
          "y": -0.04731456351074054,
          "yanchor": "middle",
          "yref": "y"
         },
         {
          "align": "center",
          "font": {
           "color": "black",
           "family": "Arial",
           "size": 10
          },
          "opacity": 1,
          "showarrow": false,
          "text": "<b>23</b>",
          "x": 0.47684954852742956,
          "xanchor": "center",
          "xref": "x",
          "y": -0.9484516245625043,
          "yanchor": "middle",
          "yref": "y"
         },
         {
          "align": "center",
          "font": {
           "color": "black",
           "family": "Arial",
           "size": 10
          },
          "opacity": 1,
          "showarrow": false,
          "text": "<b>24</b>",
          "x": -0.10329059796190483,
          "xanchor": "center",
          "xref": "x",
          "y": -0.1052320492811434,
          "yanchor": "middle",
          "yref": "y"
         },
         {
          "align": "center",
          "font": {
           "color": "black",
           "family": "Arial",
           "size": 10
          },
          "opacity": 1,
          "showarrow": false,
          "text": "<b>25</b>",
          "x": 0.09195245131202005,
          "xanchor": "center",
          "xref": "x",
          "y": 0.386476478789348,
          "yanchor": "middle",
          "yref": "y"
         },
         {
          "align": "center",
          "font": {
           "color": "black",
           "family": "Arial",
           "size": 10
          },
          "opacity": 1,
          "showarrow": false,
          "text": "<b>26</b>",
          "x": -0.38231707375421814,
          "xanchor": "center",
          "xref": "x",
          "y": -0.27859598842560296,
          "yanchor": "middle",
          "yref": "y"
         },
         {
          "align": "center",
          "font": {
           "color": "black",
           "family": "Arial",
           "size": 10
          },
          "opacity": 1,
          "showarrow": false,
          "text": "<b>27</b>",
          "x": -0.33997543530211327,
          "xanchor": "center",
          "xref": "x",
          "y": -0.19437739019982045,
          "yanchor": "middle",
          "yref": "y"
         },
         {
          "align": "center",
          "font": {
           "color": "black",
           "family": "Arial",
           "size": 10
          },
          "opacity": 1,
          "showarrow": false,
          "text": "<b>28</b>",
          "x": 0.21725841718667635,
          "xanchor": "center",
          "xref": "x",
          "y": 0.4357054312832256,
          "yanchor": "middle",
          "yref": "y"
         },
         {
          "align": "center",
          "font": {
           "color": "black",
           "family": "Arial",
           "size": 10
          },
          "opacity": 1,
          "showarrow": false,
          "text": "<b>29</b>",
          "x": -0.7315446969504635,
          "xanchor": "center",
          "xref": "x",
          "y": 0.8148442064764445,
          "yanchor": "middle",
          "yref": "y"
         }
        ],
        "autosize": false,
        "dragmode": "zoom",
        "height": 504,
        "hovermode": "closest",
        "legend": {
         "x": 0.01,
         "xanchor": "left",
         "y": 0.99,
         "yanchor": "top"
        },
        "margin": {
         "b": 10,
         "l": 5,
         "r": 5,
         "t": 10
        },
        "showlegend": true,
        "template": {
         "data": {
          "bar": [
           {
            "error_x": {
             "color": "#2a3f5f"
            },
            "error_y": {
             "color": "#2a3f5f"
            },
            "marker": {
             "line": {
              "color": "#E5ECF6",
              "width": 0.5
             },
             "pattern": {
              "fillmode": "overlay",
              "size": 10,
              "solidity": 0.2
             }
            },
            "type": "bar"
           }
          ],
          "barpolar": [
           {
            "marker": {
             "line": {
              "color": "#E5ECF6",
              "width": 0.5
             },
             "pattern": {
              "fillmode": "overlay",
              "size": 10,
              "solidity": 0.2
             }
            },
            "type": "barpolar"
           }
          ],
          "carpet": [
           {
            "aaxis": {
             "endlinecolor": "#2a3f5f",
             "gridcolor": "white",
             "linecolor": "white",
             "minorgridcolor": "white",
             "startlinecolor": "#2a3f5f"
            },
            "baxis": {
             "endlinecolor": "#2a3f5f",
             "gridcolor": "white",
             "linecolor": "white",
             "minorgridcolor": "white",
             "startlinecolor": "#2a3f5f"
            },
            "type": "carpet"
           }
          ],
          "choropleth": [
           {
            "colorbar": {
             "outlinewidth": 0,
             "ticks": ""
            },
            "type": "choropleth"
           }
          ],
          "contour": [
           {
            "colorbar": {
             "outlinewidth": 0,
             "ticks": ""
            },
            "colorscale": [
             [
              0,
              "#0d0887"
             ],
             [
              0.1111111111111111,
              "#46039f"
             ],
             [
              0.2222222222222222,
              "#7201a8"
             ],
             [
              0.3333333333333333,
              "#9c179e"
             ],
             [
              0.4444444444444444,
              "#bd3786"
             ],
             [
              0.5555555555555556,
              "#d8576b"
             ],
             [
              0.6666666666666666,
              "#ed7953"
             ],
             [
              0.7777777777777778,
              "#fb9f3a"
             ],
             [
              0.8888888888888888,
              "#fdca26"
             ],
             [
              1,
              "#f0f921"
             ]
            ],
            "type": "contour"
           }
          ],
          "contourcarpet": [
           {
            "colorbar": {
             "outlinewidth": 0,
             "ticks": ""
            },
            "type": "contourcarpet"
           }
          ],
          "heatmap": [
           {
            "colorbar": {
             "outlinewidth": 0,
             "ticks": ""
            },
            "colorscale": [
             [
              0,
              "#0d0887"
             ],
             [
              0.1111111111111111,
              "#46039f"
             ],
             [
              0.2222222222222222,
              "#7201a8"
             ],
             [
              0.3333333333333333,
              "#9c179e"
             ],
             [
              0.4444444444444444,
              "#bd3786"
             ],
             [
              0.5555555555555556,
              "#d8576b"
             ],
             [
              0.6666666666666666,
              "#ed7953"
             ],
             [
              0.7777777777777778,
              "#fb9f3a"
             ],
             [
              0.8888888888888888,
              "#fdca26"
             ],
             [
              1,
              "#f0f921"
             ]
            ],
            "type": "heatmap"
           }
          ],
          "heatmapgl": [
           {
            "colorbar": {
             "outlinewidth": 0,
             "ticks": ""
            },
            "colorscale": [
             [
              0,
              "#0d0887"
             ],
             [
              0.1111111111111111,
              "#46039f"
             ],
             [
              0.2222222222222222,
              "#7201a8"
             ],
             [
              0.3333333333333333,
              "#9c179e"
             ],
             [
              0.4444444444444444,
              "#bd3786"
             ],
             [
              0.5555555555555556,
              "#d8576b"
             ],
             [
              0.6666666666666666,
              "#ed7953"
             ],
             [
              0.7777777777777778,
              "#fb9f3a"
             ],
             [
              0.8888888888888888,
              "#fdca26"
             ],
             [
              1,
              "#f0f921"
             ]
            ],
            "type": "heatmapgl"
           }
          ],
          "histogram": [
           {
            "marker": {
             "pattern": {
              "fillmode": "overlay",
              "size": 10,
              "solidity": 0.2
             }
            },
            "type": "histogram"
           }
          ],
          "histogram2d": [
           {
            "colorbar": {
             "outlinewidth": 0,
             "ticks": ""
            },
            "colorscale": [
             [
              0,
              "#0d0887"
             ],
             [
              0.1111111111111111,
              "#46039f"
             ],
             [
              0.2222222222222222,
              "#7201a8"
             ],
             [
              0.3333333333333333,
              "#9c179e"
             ],
             [
              0.4444444444444444,
              "#bd3786"
             ],
             [
              0.5555555555555556,
              "#d8576b"
             ],
             [
              0.6666666666666666,
              "#ed7953"
             ],
             [
              0.7777777777777778,
              "#fb9f3a"
             ],
             [
              0.8888888888888888,
              "#fdca26"
             ],
             [
              1,
              "#f0f921"
             ]
            ],
            "type": "histogram2d"
           }
          ],
          "histogram2dcontour": [
           {
            "colorbar": {
             "outlinewidth": 0,
             "ticks": ""
            },
            "colorscale": [
             [
              0,
              "#0d0887"
             ],
             [
              0.1111111111111111,
              "#46039f"
             ],
             [
              0.2222222222222222,
              "#7201a8"
             ],
             [
              0.3333333333333333,
              "#9c179e"
             ],
             [
              0.4444444444444444,
              "#bd3786"
             ],
             [
              0.5555555555555556,
              "#d8576b"
             ],
             [
              0.6666666666666666,
              "#ed7953"
             ],
             [
              0.7777777777777778,
              "#fb9f3a"
             ],
             [
              0.8888888888888888,
              "#fdca26"
             ],
             [
              1,
              "#f0f921"
             ]
            ],
            "type": "histogram2dcontour"
           }
          ],
          "mesh3d": [
           {
            "colorbar": {
             "outlinewidth": 0,
             "ticks": ""
            },
            "type": "mesh3d"
           }
          ],
          "parcoords": [
           {
            "line": {
             "colorbar": {
              "outlinewidth": 0,
              "ticks": ""
             }
            },
            "type": "parcoords"
           }
          ],
          "pie": [
           {
            "automargin": true,
            "type": "pie"
           }
          ],
          "scatter": [
           {
            "marker": {
             "colorbar": {
              "outlinewidth": 0,
              "ticks": ""
             }
            },
            "type": "scatter"
           }
          ],
          "scatter3d": [
           {
            "line": {
             "colorbar": {
              "outlinewidth": 0,
              "ticks": ""
             }
            },
            "marker": {
             "colorbar": {
              "outlinewidth": 0,
              "ticks": ""
             }
            },
            "type": "scatter3d"
           }
          ],
          "scattercarpet": [
           {
            "marker": {
             "colorbar": {
              "outlinewidth": 0,
              "ticks": ""
             }
            },
            "type": "scattercarpet"
           }
          ],
          "scattergeo": [
           {
            "marker": {
             "colorbar": {
              "outlinewidth": 0,
              "ticks": ""
             }
            },
            "type": "scattergeo"
           }
          ],
          "scattergl": [
           {
            "marker": {
             "colorbar": {
              "outlinewidth": 0,
              "ticks": ""
             }
            },
            "type": "scattergl"
           }
          ],
          "scattermapbox": [
           {
            "marker": {
             "colorbar": {
              "outlinewidth": 0,
              "ticks": ""
             }
            },
            "type": "scattermapbox"
           }
          ],
          "scatterpolar": [
           {
            "marker": {
             "colorbar": {
              "outlinewidth": 0,
              "ticks": ""
             }
            },
            "type": "scatterpolar"
           }
          ],
          "scatterpolargl": [
           {
            "marker": {
             "colorbar": {
              "outlinewidth": 0,
              "ticks": ""
             }
            },
            "type": "scatterpolargl"
           }
          ],
          "scatterternary": [
           {
            "marker": {
             "colorbar": {
              "outlinewidth": 0,
              "ticks": ""
             }
            },
            "type": "scatterternary"
           }
          ],
          "surface": [
           {
            "colorbar": {
             "outlinewidth": 0,
             "ticks": ""
            },
            "colorscale": [
             [
              0,
              "#0d0887"
             ],
             [
              0.1111111111111111,
              "#46039f"
             ],
             [
              0.2222222222222222,
              "#7201a8"
             ],
             [
              0.3333333333333333,
              "#9c179e"
             ],
             [
              0.4444444444444444,
              "#bd3786"
             ],
             [
              0.5555555555555556,
              "#d8576b"
             ],
             [
              0.6666666666666666,
              "#ed7953"
             ],
             [
              0.7777777777777778,
              "#fb9f3a"
             ],
             [
              0.8888888888888888,
              "#fdca26"
             ],
             [
              1,
              "#f0f921"
             ]
            ],
            "type": "surface"
           }
          ],
          "table": [
           {
            "cells": {
             "fill": {
              "color": "#EBF0F8"
             },
             "line": {
              "color": "white"
             }
            },
            "header": {
             "fill": {
              "color": "#C8D4E3"
             },
             "line": {
              "color": "white"
             }
            },
            "type": "table"
           }
          ]
         },
         "layout": {
          "annotationdefaults": {
           "arrowcolor": "#2a3f5f",
           "arrowhead": 0,
           "arrowwidth": 1
          },
          "autotypenumbers": "strict",
          "coloraxis": {
           "colorbar": {
            "outlinewidth": 0,
            "ticks": ""
           }
          },
          "colorscale": {
           "diverging": [
            [
             0,
             "#8e0152"
            ],
            [
             0.1,
             "#c51b7d"
            ],
            [
             0.2,
             "#de77ae"
            ],
            [
             0.3,
             "#f1b6da"
            ],
            [
             0.4,
             "#fde0ef"
            ],
            [
             0.5,
             "#f7f7f7"
            ],
            [
             0.6,
             "#e6f5d0"
            ],
            [
             0.7,
             "#b8e186"
            ],
            [
             0.8,
             "#7fbc41"
            ],
            [
             0.9,
             "#4d9221"
            ],
            [
             1,
             "#276419"
            ]
           ],
           "sequential": [
            [
             0,
             "#0d0887"
            ],
            [
             0.1111111111111111,
             "#46039f"
            ],
            [
             0.2222222222222222,
             "#7201a8"
            ],
            [
             0.3333333333333333,
             "#9c179e"
            ],
            [
             0.4444444444444444,
             "#bd3786"
            ],
            [
             0.5555555555555556,
             "#d8576b"
            ],
            [
             0.6666666666666666,
             "#ed7953"
            ],
            [
             0.7777777777777778,
             "#fb9f3a"
            ],
            [
             0.8888888888888888,
             "#fdca26"
            ],
            [
             1,
             "#f0f921"
            ]
           ],
           "sequentialminus": [
            [
             0,
             "#0d0887"
            ],
            [
             0.1111111111111111,
             "#46039f"
            ],
            [
             0.2222222222222222,
             "#7201a8"
            ],
            [
             0.3333333333333333,
             "#9c179e"
            ],
            [
             0.4444444444444444,
             "#bd3786"
            ],
            [
             0.5555555555555556,
             "#d8576b"
            ],
            [
             0.6666666666666666,
             "#ed7953"
            ],
            [
             0.7777777777777778,
             "#fb9f3a"
            ],
            [
             0.8888888888888888,
             "#fdca26"
            ],
            [
             1,
             "#f0f921"
            ]
           ]
          },
          "colorway": [
           "#636efa",
           "#EF553B",
           "#00cc96",
           "#ab63fa",
           "#FFA15A",
           "#19d3f3",
           "#FF6692",
           "#B6E880",
           "#FF97FF",
           "#FECB52"
          ],
          "font": {
           "color": "#2a3f5f"
          },
          "geo": {
           "bgcolor": "white",
           "lakecolor": "white",
           "landcolor": "#E5ECF6",
           "showlakes": true,
           "showland": true,
           "subunitcolor": "white"
          },
          "hoverlabel": {
           "align": "left"
          },
          "hovermode": "closest",
          "mapbox": {
           "style": "light"
          },
          "paper_bgcolor": "white",
          "plot_bgcolor": "#E5ECF6",
          "polar": {
           "angularaxis": {
            "gridcolor": "white",
            "linecolor": "white",
            "ticks": ""
           },
           "bgcolor": "#E5ECF6",
           "radialaxis": {
            "gridcolor": "white",
            "linecolor": "white",
            "ticks": ""
           }
          },
          "scene": {
           "xaxis": {
            "backgroundcolor": "#E5ECF6",
            "gridcolor": "white",
            "gridwidth": 2,
            "linecolor": "white",
            "showbackground": true,
            "ticks": "",
            "zerolinecolor": "white"
           },
           "yaxis": {
            "backgroundcolor": "#E5ECF6",
            "gridcolor": "white",
            "gridwidth": 2,
            "linecolor": "white",
            "showbackground": true,
            "ticks": "",
            "zerolinecolor": "white"
           },
           "zaxis": {
            "backgroundcolor": "#E5ECF6",
            "gridcolor": "white",
            "gridwidth": 2,
            "linecolor": "white",
            "showbackground": true,
            "ticks": "",
            "zerolinecolor": "white"
           }
          },
          "shapedefaults": {
           "line": {
            "color": "#2a3f5f"
           }
          },
          "ternary": {
           "aaxis": {
            "gridcolor": "white",
            "linecolor": "white",
            "ticks": ""
           },
           "baxis": {
            "gridcolor": "white",
            "linecolor": "white",
            "ticks": ""
           },
           "bgcolor": "#E5ECF6",
           "caxis": {
            "gridcolor": "white",
            "linecolor": "white",
            "ticks": ""
           }
          },
          "title": {
           "x": 0.05
          },
          "xaxis": {
           "automargin": true,
           "gridcolor": "white",
           "linecolor": "white",
           "ticks": "",
           "title": {
            "standoff": 15
           },
           "zerolinecolor": "white",
           "zerolinewidth": 2
          },
          "yaxis": {
           "automargin": true,
           "gridcolor": "white",
           "linecolor": "white",
           "ticks": "",
           "title": {
            "standoff": 15
           },
           "zerolinecolor": "white",
           "zerolinewidth": 2
          }
         }
        },
        "width": 504,
        "xaxis": {
         "autorange": true,
         "range": [
          -0.8850562859079403,
          1.1535115889574767
         ],
         "showgrid": false,
         "showspikes": false,
         "showticklabels": false,
         "type": "linear",
         "zeroline": false
        },
        "yaxis": {
         "autorange": true,
         "range": [
          -1.106057462358728,
          0.9724500442726681
         ],
         "showgrid": false,
         "showspikes": false,
         "showticklabels": false,
         "type": "linear",
         "zeroline": false
        }
       }
      },
      "image/png": "[encoded data removed]",
      "text/html": [
       "<div>                            <div id=\"e99445f0-2e8a-4c74-a430-4c404bd2f557\" class=\"plotly-graph-div\" style=\"height:504.0px; width:504.0px;\"></div>            <script type=\"text/javascript\">                require([\"plotly\"], function(Plotly) {                    window.PLOTLYENV=window.PLOTLYENV || {};                                    if (document.getElementById(\"e99445f0-2e8a-4c74-a430-4c404bd2f557\")) {                    Plotly.newPlot(                        \"e99445f0-2e8a-4c74-a430-4c404bd2f557\",                        [{\"hoverinfo\":\"none\",\"line\":{\"color\":\"#888\",\"width\":0.5},\"mode\":\"lines\",\"name\":\"Edges\",\"type\":\"scatter\",\"x\":[-0.028030301466223498,-0.08548511477456865,null,-0.028030301466223498,-0.051574712777852014,null,-0.12024692698644203,-0.08548511477456865,null,-0.2587172849965427,-0.15808852699686454,null,-0.12475995979895196,-0.07536939034003445,null,-0.12475995979895196,-0.1959862043644841,null,-0.12475995979895196,-0.10585322074927714,null,-0.07536939034003445,-0.12475995979895196,null,-0.07536939034003445,-0.10329059796190483,null,-0.4902553447450115,-0.44991194276294166,null,-0.4902553447450115,-0.38231707375421814,null,-0.08548511477456865,-0.028030301466223498,null,-0.08548511477456865,-0.12024692698644203,null,-0.08548511477456865,-0.051574712777852014,null,-0.08548511477456865,-0.054870235757170406,null,-0.1959862043644841,-0.12475995979895196,null,-0.1959862043644841,-0.1664062926216766,null,-0.1959862043644841,-0.33997543530211327,null,0.008083246048447477,-0.10329059796190483,null,-0.1664062926216766,-0.1959862043644841,null,-0.1664062926216766,-0.15808852699686454,null,-0.1664062926216766,-0.10329059796190483,null,0.8541002658193775,0.7633513119635206,null,0.7633513119635206,0.8541002658193775,null,0.3149651150993467,0.21725841718667635,null,-0.2494997633499582,-0.10329059796190483,null,-0.2494997633499582,-0.38231707375421814,null,-0.15808852699686454,-0.2587172849965427,null,-0.15808852699686454,-0.1664062926216766,null,-0.15808852699686454,-0.054870235757170406,null,-0.44991194276294166,-0.4902553447450115,null,-0.44991194276294166,-0.40760257383733495,null,-0.44991194276294166,-0.33997543530211327,null,-0.051574712777852014,-0.028030301466223498,null,-0.051574712777852014,-0.08548511477456865,null,-0.051574712777852014,-0.058353345758217885,null,-0.054870235757170406,-0.08548511477456865,null,-0.054870235757170406,-0.15808852699686454,null,-0.054870235757170406,0.09195245131202005,null,-0.058353345758217885,-0.051574712777852014,null,-0.058353345758217885,-0.10329059796190483,null,-0.10585322074927714,-0.12475995979895196,null,-0.40760257383733495,-0.44991194276294166,null,-0.10329059796190483,-0.07536939034003445,null,-0.10329059796190483,0.008083246048447477,null,-0.10329059796190483,-0.1664062926216766,null,-0.10329059796190483,-0.2494997633499582,null,-0.10329059796190483,-0.058353345758217885,null,0.09195245131202005,-0.054870235757170406,null,0.09195245131202005,0.21725841718667635,null,-0.38231707375421814,-0.4902553447450115,null,-0.38231707375421814,-0.2494997633499582,null,-0.33997543530211327,-0.1959862043644841,null,-0.33997543530211327,-0.44991194276294166,null,0.21725841718667635,0.3149651150993467,null,0.21725841718667635,0.09195245131202005,null],\"y\":[0.36993012480793425,0.3957237783726798,null,0.36993012480793425,0.2534974829283856,null,0.5196332915025988,0.3957237783726798,null,0.22182663948193884,0.16283120331233902,null,-0.3323749727979295,-0.24145115088203722,null,-0.3323749727979295,-0.19376931634018177,null,-0.3323749727979295,-0.45684765902156665,null,-0.24145115088203722,-0.3323749727979295,null,-0.24145115088203722,-0.1052320492811434,null,-0.26190614491757663,-0.16206519748669798,null,-0.26190614491757663,-0.27859598842560296,null,0.3957237783726798,0.36993012480793425,null,0.3957237783726798,0.5196332915025988,null,0.3957237783726798,0.2534974829283856,null,0.3957237783726798,0.3087075962028109,null,-0.19376931634018177,-0.3323749727979295,null,-0.19376931634018177,-0.024015151917604866,null,-0.19376931634018177,-0.19437739019982045,null,-0.13802414429536505,-0.1052320492811434,null,-0.024015151917604866,-0.19376931634018177,null,-0.024015151917604866,0.16283120331233902,null,-0.024015151917604866,-0.1052320492811434,null,0.020417317525327352,0.003872054368743697,null,0.003872054368743697,0.020417317525327352,null,0.4770053826288604,0.4357054312832256,null,-0.20463538085489527,-0.1052320492811434,null,-0.20463538085489527,-0.27859598842560296,null,0.16283120331233902,0.22182663948193884,null,0.16283120331233902,-0.024015151917604866,null,0.16283120331233902,0.3087075962028109,null,-0.16206519748669798,-0.26190614491757663,null,-0.16206519748669798,-0.04731456351074054,null,-0.16206519748669798,-0.19437739019982045,null,0.2534974829283856,0.36993012480793425,null,0.2534974829283856,0.3957237783726798,null,0.2534974829283856,0.07481332001599744,null,0.3087075962028109,0.3957237783726798,null,0.3087075962028109,0.16283120331233902,null,0.3087075962028109,0.386476478789348,null,0.07481332001599744,0.2534974829283856,null,0.07481332001599744,-0.1052320492811434,null,-0.45684765902156665,-0.3323749727979295,null,-0.04731456351074054,-0.16206519748669798,null,-0.1052320492811434,-0.24145115088203722,null,-0.1052320492811434,-0.13802414429536505,null,-0.1052320492811434,-0.024015151917604866,null,-0.1052320492811434,-0.20463538085489527,null,-0.1052320492811434,0.07481332001599744,null,0.386476478789348,0.3087075962028109,null,0.386476478789348,0.4357054312832256,null,-0.27859598842560296,-0.26190614491757663,null,-0.27859598842560296,-0.20463538085489527,null,-0.19437739019982045,-0.19376931634018177,null,-0.19437739019982045,-0.16206519748669798,null,0.4357054312832256,0.4770053826288604,null,0.4357054312832256,0.386476478789348,null]},{\"hoverinfo\":\"text\",\"marker\":{\"color\":\"rgb(102,194,165)\",\"line\":{\"width\":2},\"size\":20},\"mode\":\"markers\",\"name\":\"tim-0\",\"text\":[\"Node: 13<br />Class: tim-0<br />Connections: 0\",\"Node: 16<br />Class: tim-0<br />Connections: 6\",\"Node: 18<br />Class: tim-0<br />Connections: 6\",\"Node: 25<br />Class: tim-0<br />Connections: 4\",\"Node: 29<br />Class: tim-0<br />Connections: 0\"],\"type\":\"scatter\",\"x\":[0.9115785900954341,-0.44991194276294166,-0.054870235757170406,0.09195245131202005,-0.7315446969504635],\"y\":[-0.6690696960508995,-0.16206519748669798,0.3087075962028109,0.386476478789348,0.8148442064764445]},{\"hoverinfo\":\"text\",\"marker\":{\"color\":\"rgb(252,141,98)\",\"line\":{\"width\":2},\"size\":20},\"mode\":\"markers\",\"name\":\"tim-1\",\"text\":[\"Node: 10<br />Class: tim-1<br />Connections: 2\",\"Node: 20<br />Class: tim-1<br />Connections: 4\"],\"type\":\"scatter\",\"x\":[0.8541002658193775,-0.058353345758217885],\"y\":[0.020417317525327352,0.07481332001599744]},{\"hoverinfo\":\"text\",\"marker\":{\"color\":\"rgb(141,160,203)\",\"line\":{\"width\":2},\"size\":20},\"mode\":\"markers\",\"name\":\"tim-2\",\"text\":[\"Node: 5<br />Class: tim-2<br />Connections: 4\",\"Node: 8<br />Class: tim-2<br />Connections: 2\",\"Node: 11<br />Class: tim-2<br />Connections: 2\",\"Node: 14<br />Class: tim-2<br />Connections: 4\",\"Node: 19<br />Class: tim-2<br />Connections: 0\"],\"type\":\"scatter\",\"x\":[-0.4902553447450115,0.008083246048447477,0.7633513119635206,-0.2494997633499582,1.0],\"y\":[-0.26190614491757663,-0.13802414429536505,0.003872054368743697,-0.20463538085489527,-0.1871538771520697]},{\"hoverinfo\":\"text\",\"marker\":{\"color\":\"rgb(231,138,195)\",\"line\":{\"width\":2},\"size\":20},\"mode\":\"markers\",\"name\":\"tim-3\",\"text\":[\"Node: 4<br />Class: tim-3<br />Connections: 4\",\"Node: 9<br />Class: tim-3<br />Connections: 6\",\"Node: 23<br />Class: tim-3<br />Connections: 0\",\"Node: 28<br />Class: tim-3<br />Connections: 4\"],\"type\":\"scatter\",\"x\":[-0.07536939034003445,-0.1664062926216766,0.47684954852742956,0.21725841718667635],\"y\":[-0.24145115088203722,-0.024015151917604866,-0.9484516245625043,0.4357054312832256]},{\"hoverinfo\":\"text\",\"marker\":{\"color\":\"rgb(166,216,84)\",\"line\":{\"width\":2},\"size\":20},\"mode\":\"markers\",\"name\":\"tim-4\",\"text\":[\"Node: 0<br />Class: tim-4<br />Connections: 4\",\"Node: 12<br />Class: tim-4<br />Connections: 2\",\"Node: 17<br />Class: tim-4<br />Connections: 6\",\"Node: 22<br />Class: tim-4<br />Connections: 2\",\"Node: 26<br />Class: tim-4<br />Connections: 4\"],\"type\":\"scatter\",\"x\":[-0.028030301466223498,0.3149651150993467,-0.051574712777852014,-0.40760257383733495,-0.38231707375421814],\"y\":[0.36993012480793425,0.4770053826288604,0.2534974829283856,-0.04731456351074054,-0.27859598842560296]},{\"hoverinfo\":\"text\",\"marker\":{\"color\":\"rgb(255,217,47)\",\"line\":{\"width\":2},\"size\":20},\"mode\":\"markers\",\"name\":\"tim-5\",\"text\":[\"Node: 7<br />Class: tim-5<br />Connections: 6\",\"Node: 21<br />Class: tim-5<br />Connections: 2\",\"Node: 27<br />Class: tim-5<br />Connections: 4\"],\"type\":\"scatter\",\"x\":[-0.1959862043644841,-0.10585322074927714,-0.33997543530211327],\"y\":[-0.19376931634018177,-0.45684765902156665,-0.19437739019982045]},{\"hoverinfo\":\"text\",\"marker\":{\"color\":\"rgb(229,196,148)\",\"line\":{\"width\":2},\"size\":20},\"mode\":\"markers\",\"name\":\"tim-6\",\"text\":[\"Node: 1<br />Class: tim-6<br />Connections: 2\",\"Node: 2<br />Class: tim-6<br />Connections: 2\",\"Node: 3<br />Class: tim-6<br />Connections: 6\",\"Node: 6<br />Class: tim-6<br />Connections: 8\",\"Node: 15<br />Class: tim-6<br />Connections: 6\",\"Node: 24<br />Class: tim-6<br />Connections: 10\"],\"type\":\"scatter\",\"x\":[-0.12024692698644203,-0.2587172849965427,-0.12475995979895196,-0.08548511477456865,-0.15808852699686454,-0.10329059796190483],\"y\":[0.5196332915025988,0.22182663948193884,-0.3323749727979295,0.3957237783726798,0.16283120331233902,-0.1052320492811434]}],                        {\"annotations\":[{\"align\":\"center\",\"font\":{\"color\":\"black\",\"family\":\"Arial\",\"size\":10.0},\"opacity\":1,\"showarrow\":false,\"text\":\"<b>0</b>\",\"x\":-0.028030301466223498,\"xanchor\":\"center\",\"xref\":\"x\",\"y\":0.36993012480793425,\"yanchor\":\"middle\",\"yref\":\"y\"},{\"align\":\"center\",\"font\":{\"color\":\"black\",\"family\":\"Arial\",\"size\":10.0},\"opacity\":1,\"showarrow\":false,\"text\":\"<b>1</b>\",\"x\":-0.12024692698644203,\"xanchor\":\"center\",\"xref\":\"x\",\"y\":0.5196332915025988,\"yanchor\":\"middle\",\"yref\":\"y\"},{\"align\":\"center\",\"font\":{\"color\":\"black\",\"family\":\"Arial\",\"size\":10.0},\"opacity\":1,\"showarrow\":false,\"text\":\"<b>2</b>\",\"x\":-0.2587172849965427,\"xanchor\":\"center\",\"xref\":\"x\",\"y\":0.22182663948193884,\"yanchor\":\"middle\",\"yref\":\"y\"},{\"align\":\"center\",\"font\":{\"color\":\"black\",\"family\":\"Arial\",\"size\":10.0},\"opacity\":1,\"showarrow\":false,\"text\":\"<b>3</b>\",\"x\":-0.12475995979895196,\"xanchor\":\"center\",\"xref\":\"x\",\"y\":-0.3323749727979295,\"yanchor\":\"middle\",\"yref\":\"y\"},{\"align\":\"center\",\"font\":{\"color\":\"black\",\"family\":\"Arial\",\"size\":10.0},\"opacity\":1,\"showarrow\":false,\"text\":\"<b>4</b>\",\"x\":-0.07536939034003445,\"xanchor\":\"center\",\"xref\":\"x\",\"y\":-0.24145115088203722,\"yanchor\":\"middle\",\"yref\":\"y\"},{\"align\":\"center\",\"font\":{\"color\":\"black\",\"family\":\"Arial\",\"size\":10.0},\"opacity\":1,\"showarrow\":false,\"text\":\"<b>5</b>\",\"x\":-0.4902553447450115,\"xanchor\":\"center\",\"xref\":\"x\",\"y\":-0.26190614491757663,\"yanchor\":\"middle\",\"yref\":\"y\"},{\"align\":\"center\",\"font\":{\"color\":\"black\",\"family\":\"Arial\",\"size\":10.0},\"opacity\":1,\"showarrow\":false,\"text\":\"<b>6</b>\",\"x\":-0.08548511477456865,\"xanchor\":\"center\",\"xref\":\"x\",\"y\":0.3957237783726798,\"yanchor\":\"middle\",\"yref\":\"y\"},{\"align\":\"center\",\"font\":{\"color\":\"black\",\"family\":\"Arial\",\"size\":10.0},\"opacity\":1,\"showarrow\":false,\"text\":\"<b>7</b>\",\"x\":-0.1959862043644841,\"xanchor\":\"center\",\"xref\":\"x\",\"y\":-0.19376931634018177,\"yanchor\":\"middle\",\"yref\":\"y\"},{\"align\":\"center\",\"font\":{\"color\":\"black\",\"family\":\"Arial\",\"size\":10.0},\"opacity\":1,\"showarrow\":false,\"text\":\"<b>8</b>\",\"x\":0.008083246048447477,\"xanchor\":\"center\",\"xref\":\"x\",\"y\":-0.13802414429536505,\"yanchor\":\"middle\",\"yref\":\"y\"},{\"align\":\"center\",\"font\":{\"color\":\"black\",\"family\":\"Arial\",\"size\":10.0},\"opacity\":1,\"showarrow\":false,\"text\":\"<b>9</b>\",\"x\":-0.1664062926216766,\"xanchor\":\"center\",\"xref\":\"x\",\"y\":-0.024015151917604866,\"yanchor\":\"middle\",\"yref\":\"y\"},{\"align\":\"center\",\"font\":{\"color\":\"black\",\"family\":\"Arial\",\"size\":10.0},\"opacity\":1,\"showarrow\":false,\"text\":\"<b>10</b>\",\"x\":0.8541002658193775,\"xanchor\":\"center\",\"xref\":\"x\",\"y\":0.020417317525327352,\"yanchor\":\"middle\",\"yref\":\"y\"},{\"align\":\"center\",\"font\":{\"color\":\"black\",\"family\":\"Arial\",\"size\":10.0},\"opacity\":1,\"showarrow\":false,\"text\":\"<b>11</b>\",\"x\":0.7633513119635206,\"xanchor\":\"center\",\"xref\":\"x\",\"y\":0.003872054368743697,\"yanchor\":\"middle\",\"yref\":\"y\"},{\"align\":\"center\",\"font\":{\"color\":\"black\",\"family\":\"Arial\",\"size\":10.0},\"opacity\":1,\"showarrow\":false,\"text\":\"<b>12</b>\",\"x\":0.3149651150993467,\"xanchor\":\"center\",\"xref\":\"x\",\"y\":0.4770053826288604,\"yanchor\":\"middle\",\"yref\":\"y\"},{\"align\":\"center\",\"font\":{\"color\":\"black\",\"family\":\"Arial\",\"size\":10.0},\"opacity\":1,\"showarrow\":false,\"text\":\"<b>13</b>\",\"x\":0.9115785900954341,\"xanchor\":\"center\",\"xref\":\"x\",\"y\":-0.6690696960508995,\"yanchor\":\"middle\",\"yref\":\"y\"},{\"align\":\"center\",\"font\":{\"color\":\"black\",\"family\":\"Arial\",\"size\":10.0},\"opacity\":1,\"showarrow\":false,\"text\":\"<b>14</b>\",\"x\":-0.2494997633499582,\"xanchor\":\"center\",\"xref\":\"x\",\"y\":-0.20463538085489527,\"yanchor\":\"middle\",\"yref\":\"y\"},{\"align\":\"center\",\"font\":{\"color\":\"black\",\"family\":\"Arial\",\"size\":10.0},\"opacity\":1,\"showarrow\":false,\"text\":\"<b>15</b>\",\"x\":-0.15808852699686454,\"xanchor\":\"center\",\"xref\":\"x\",\"y\":0.16283120331233902,\"yanchor\":\"middle\",\"yref\":\"y\"},{\"align\":\"center\",\"font\":{\"color\":\"black\",\"family\":\"Arial\",\"size\":10.0},\"opacity\":1,\"showarrow\":false,\"text\":\"<b>16</b>\",\"x\":-0.44991194276294166,\"xanchor\":\"center\",\"xref\":\"x\",\"y\":-0.16206519748669798,\"yanchor\":\"middle\",\"yref\":\"y\"},{\"align\":\"center\",\"font\":{\"color\":\"black\",\"family\":\"Arial\",\"size\":10.0},\"opacity\":1,\"showarrow\":false,\"text\":\"<b>17</b>\",\"x\":-0.051574712777852014,\"xanchor\":\"center\",\"xref\":\"x\",\"y\":0.2534974829283856,\"yanchor\":\"middle\",\"yref\":\"y\"},{\"align\":\"center\",\"font\":{\"color\":\"black\",\"family\":\"Arial\",\"size\":10.0},\"opacity\":1,\"showarrow\":false,\"text\":\"<b>18</b>\",\"x\":-0.054870235757170406,\"xanchor\":\"center\",\"xref\":\"x\",\"y\":0.3087075962028109,\"yanchor\":\"middle\",\"yref\":\"y\"},{\"align\":\"center\",\"font\":{\"color\":\"black\",\"family\":\"Arial\",\"size\":10.0},\"opacity\":1,\"showarrow\":false,\"text\":\"<b>19</b>\",\"x\":1.0,\"xanchor\":\"center\",\"xref\":\"x\",\"y\":-0.1871538771520697,\"yanchor\":\"middle\",\"yref\":\"y\"},{\"align\":\"center\",\"font\":{\"color\":\"black\",\"family\":\"Arial\",\"size\":10.0},\"opacity\":1,\"showarrow\":false,\"text\":\"<b>20</b>\",\"x\":-0.058353345758217885,\"xanchor\":\"center\",\"xref\":\"x\",\"y\":0.07481332001599744,\"yanchor\":\"middle\",\"yref\":\"y\"},{\"align\":\"center\",\"font\":{\"color\":\"black\",\"family\":\"Arial\",\"size\":10.0},\"opacity\":1,\"showarrow\":false,\"text\":\"<b>21</b>\",\"x\":-0.10585322074927714,\"xanchor\":\"center\",\"xref\":\"x\",\"y\":-0.45684765902156665,\"yanchor\":\"middle\",\"yref\":\"y\"},{\"align\":\"center\",\"font\":{\"color\":\"black\",\"family\":\"Arial\",\"size\":10.0},\"opacity\":1,\"showarrow\":false,\"text\":\"<b>22</b>\",\"x\":-0.40760257383733495,\"xanchor\":\"center\",\"xref\":\"x\",\"y\":-0.04731456351074054,\"yanchor\":\"middle\",\"yref\":\"y\"},{\"align\":\"center\",\"font\":{\"color\":\"black\",\"family\":\"Arial\",\"size\":10.0},\"opacity\":1,\"showarrow\":false,\"text\":\"<b>23</b>\",\"x\":0.47684954852742956,\"xanchor\":\"center\",\"xref\":\"x\",\"y\":-0.9484516245625043,\"yanchor\":\"middle\",\"yref\":\"y\"},{\"align\":\"center\",\"font\":{\"color\":\"black\",\"family\":\"Arial\",\"size\":10.0},\"opacity\":1,\"showarrow\":false,\"text\":\"<b>24</b>\",\"x\":-0.10329059796190483,\"xanchor\":\"center\",\"xref\":\"x\",\"y\":-0.1052320492811434,\"yanchor\":\"middle\",\"yref\":\"y\"},{\"align\":\"center\",\"font\":{\"color\":\"black\",\"family\":\"Arial\",\"size\":10.0},\"opacity\":1,\"showarrow\":false,\"text\":\"<b>25</b>\",\"x\":0.09195245131202005,\"xanchor\":\"center\",\"xref\":\"x\",\"y\":0.386476478789348,\"yanchor\":\"middle\",\"yref\":\"y\"},{\"align\":\"center\",\"font\":{\"color\":\"black\",\"family\":\"Arial\",\"size\":10.0},\"opacity\":1,\"showarrow\":false,\"text\":\"<b>26</b>\",\"x\":-0.38231707375421814,\"xanchor\":\"center\",\"xref\":\"x\",\"y\":-0.27859598842560296,\"yanchor\":\"middle\",\"yref\":\"y\"},{\"align\":\"center\",\"font\":{\"color\":\"black\",\"family\":\"Arial\",\"size\":10.0},\"opacity\":1,\"showarrow\":false,\"text\":\"<b>27</b>\",\"x\":-0.33997543530211327,\"xanchor\":\"center\",\"xref\":\"x\",\"y\":-0.19437739019982045,\"yanchor\":\"middle\",\"yref\":\"y\"},{\"align\":\"center\",\"font\":{\"color\":\"black\",\"family\":\"Arial\",\"size\":10.0},\"opacity\":1,\"showarrow\":false,\"text\":\"<b>28</b>\",\"x\":0.21725841718667635,\"xanchor\":\"center\",\"xref\":\"x\",\"y\":0.4357054312832256,\"yanchor\":\"middle\",\"yref\":\"y\"},{\"align\":\"center\",\"font\":{\"color\":\"black\",\"family\":\"Arial\",\"size\":10.0},\"opacity\":1,\"showarrow\":false,\"text\":\"<b>29</b>\",\"x\":-0.7315446969504635,\"xanchor\":\"center\",\"xref\":\"x\",\"y\":0.8148442064764445,\"yanchor\":\"middle\",\"yref\":\"y\"}],\"autosize\":false,\"height\":504.0,\"hovermode\":\"closest\",\"legend\":{\"x\":0.01,\"xanchor\":\"left\",\"y\":0.99,\"yanchor\":\"top\"},\"margin\":{\"b\":10,\"l\":5,\"r\":5,\"t\":10},\"showlegend\":true,\"template\":{\"data\":{\"bar\":[{\"error_x\":{\"color\":\"#2a3f5f\"},\"error_y\":{\"color\":\"#2a3f5f\"},\"marker\":{\"line\":{\"color\":\"#E5ECF6\",\"width\":0.5},\"pattern\":{\"fillmode\":\"overlay\",\"size\":10,\"solidity\":0.2}},\"type\":\"bar\"}],\"barpolar\":[{\"marker\":{\"line\":{\"color\":\"#E5ECF6\",\"width\":0.5},\"pattern\":{\"fillmode\":\"overlay\",\"size\":10,\"solidity\":0.2}},\"type\":\"barpolar\"}],\"carpet\":[{\"aaxis\":{\"endlinecolor\":\"#2a3f5f\",\"gridcolor\":\"white\",\"linecolor\":\"white\",\"minorgridcolor\":\"white\",\"startlinecolor\":\"#2a3f5f\"},\"baxis\":{\"endlinecolor\":\"#2a3f5f\",\"gridcolor\":\"white\",\"linecolor\":\"white\",\"minorgridcolor\":\"white\",\"startlinecolor\":\"#2a3f5f\"},\"type\":\"carpet\"}],\"choropleth\":[{\"colorbar\":{\"outlinewidth\":0,\"ticks\":\"\"},\"type\":\"choropleth\"}],\"contour\":[{\"colorbar\":{\"outlinewidth\":0,\"ticks\":\"\"},\"colorscale\":[[0.0,\"#0d0887\"],[0.1111111111111111,\"#46039f\"],[0.2222222222222222,\"#7201a8\"],[0.3333333333333333,\"#9c179e\"],[0.4444444444444444,\"#bd3786\"],[0.5555555555555556,\"#d8576b\"],[0.6666666666666666,\"#ed7953\"],[0.7777777777777778,\"#fb9f3a\"],[0.8888888888888888,\"#fdca26\"],[1.0,\"#f0f921\"]],\"type\":\"contour\"}],\"contourcarpet\":[{\"colorbar\":{\"outlinewidth\":0,\"ticks\":\"\"},\"type\":\"contourcarpet\"}],\"heatmap\":[{\"colorbar\":{\"outlinewidth\":0,\"ticks\":\"\"},\"colorscale\":[[0.0,\"#0d0887\"],[0.1111111111111111,\"#46039f\"],[0.2222222222222222,\"#7201a8\"],[0.3333333333333333,\"#9c179e\"],[0.4444444444444444,\"#bd3786\"],[0.5555555555555556,\"#d8576b\"],[0.6666666666666666,\"#ed7953\"],[0.7777777777777778,\"#fb9f3a\"],[0.8888888888888888,\"#fdca26\"],[1.0,\"#f0f921\"]],\"type\":\"heatmap\"}],\"heatmapgl\":[{\"colorbar\":{\"outlinewidth\":0,\"ticks\":\"\"},\"colorscale\":[[0.0,\"#0d0887\"],[0.1111111111111111,\"#46039f\"],[0.2222222222222222,\"#7201a8\"],[0.3333333333333333,\"#9c179e\"],[0.4444444444444444,\"#bd3786\"],[0.5555555555555556,\"#d8576b\"],[0.6666666666666666,\"#ed7953\"],[0.7777777777777778,\"#fb9f3a\"],[0.8888888888888888,\"#fdca26\"],[1.0,\"#f0f921\"]],\"type\":\"heatmapgl\"}],\"histogram\":[{\"marker\":{\"pattern\":{\"fillmode\":\"overlay\",\"size\":10,\"solidity\":0.2}},\"type\":\"histogram\"}],\"histogram2d\":[{\"colorbar\":{\"outlinewidth\":0,\"ticks\":\"\"},\"colorscale\":[[0.0,\"#0d0887\"],[0.1111111111111111,\"#46039f\"],[0.2222222222222222,\"#7201a8\"],[0.3333333333333333,\"#9c179e\"],[0.4444444444444444,\"#bd3786\"],[0.5555555555555556,\"#d8576b\"],[0.6666666666666666,\"#ed7953\"],[0.7777777777777778,\"#fb9f3a\"],[0.8888888888888888,\"#fdca26\"],[1.0,\"#f0f921\"]],\"type\":\"histogram2d\"}],\"histogram2dcontour\":[{\"colorbar\":{\"outlinewidth\":0,\"ticks\":\"\"},\"colorscale\":[[0.0,\"#0d0887\"],[0.1111111111111111,\"#46039f\"],[0.2222222222222222,\"#7201a8\"],[0.3333333333333333,\"#9c179e\"],[0.4444444444444444,\"#bd3786\"],[0.5555555555555556,\"#d8576b\"],[0.6666666666666666,\"#ed7953\"],[0.7777777777777778,\"#fb9f3a\"],[0.8888888888888888,\"#fdca26\"],[1.0,\"#f0f921\"]],\"type\":\"histogram2dcontour\"}],\"mesh3d\":[{\"colorbar\":{\"outlinewidth\":0,\"ticks\":\"\"},\"type\":\"mesh3d\"}],\"parcoords\":[{\"line\":{\"colorbar\":{\"outlinewidth\":0,\"ticks\":\"\"}},\"type\":\"parcoords\"}],\"pie\":[{\"automargin\":true,\"type\":\"pie\"}],\"scatter\":[{\"marker\":{\"colorbar\":{\"outlinewidth\":0,\"ticks\":\"\"}},\"type\":\"scatter\"}],\"scatter3d\":[{\"line\":{\"colorbar\":{\"outlinewidth\":0,\"ticks\":\"\"}},\"marker\":{\"colorbar\":{\"outlinewidth\":0,\"ticks\":\"\"}},\"type\":\"scatter3d\"}],\"scattercarpet\":[{\"marker\":{\"colorbar\":{\"outlinewidth\":0,\"ticks\":\"\"}},\"type\":\"scattercarpet\"}],\"scattergeo\":[{\"marker\":{\"colorbar\":{\"outlinewidth\":0,\"ticks\":\"\"}},\"type\":\"scattergeo\"}],\"scattergl\":[{\"marker\":{\"colorbar\":{\"outlinewidth\":0,\"ticks\":\"\"}},\"type\":\"scattergl\"}],\"scattermapbox\":[{\"marker\":{\"colorbar\":{\"outlinewidth\":0,\"ticks\":\"\"}},\"type\":\"scattermapbox\"}],\"scatterpolar\":[{\"marker\":{\"colorbar\":{\"outlinewidth\":0,\"ticks\":\"\"}},\"type\":\"scatterpolar\"}],\"scatterpolargl\":[{\"marker\":{\"colorbar\":{\"outlinewidth\":0,\"ticks\":\"\"}},\"type\":\"scatterpolargl\"}],\"scatterternary\":[{\"marker\":{\"colorbar\":{\"outlinewidth\":0,\"ticks\":\"\"}},\"type\":\"scatterternary\"}],\"surface\":[{\"colorbar\":{\"outlinewidth\":0,\"ticks\":\"\"},\"colorscale\":[[0.0,\"#0d0887\"],[0.1111111111111111,\"#46039f\"],[0.2222222222222222,\"#7201a8\"],[0.3333333333333333,\"#9c179e\"],[0.4444444444444444,\"#bd3786\"],[0.5555555555555556,\"#d8576b\"],[0.6666666666666666,\"#ed7953\"],[0.7777777777777778,\"#fb9f3a\"],[0.8888888888888888,\"#fdca26\"],[1.0,\"#f0f921\"]],\"type\":\"surface\"}],\"table\":[{\"cells\":{\"fill\":{\"color\":\"#EBF0F8\"},\"line\":{\"color\":\"white\"}},\"header\":{\"fill\":{\"color\":\"#C8D4E3\"},\"line\":{\"color\":\"white\"}},\"type\":\"table\"}]},\"layout\":{\"annotationdefaults\":{\"arrowcolor\":\"#2a3f5f\",\"arrowhead\":0,\"arrowwidth\":1},\"autotypenumbers\":\"strict\",\"coloraxis\":{\"colorbar\":{\"outlinewidth\":0,\"ticks\":\"\"}},\"colorscale\":{\"diverging\":[[0,\"#8e0152\"],[0.1,\"#c51b7d\"],[0.2,\"#de77ae\"],[0.3,\"#f1b6da\"],[0.4,\"#fde0ef\"],[0.5,\"#f7f7f7\"],[0.6,\"#e6f5d0\"],[0.7,\"#b8e186\"],[0.8,\"#7fbc41\"],[0.9,\"#4d9221\"],[1,\"#276419\"]],\"sequential\":[[0.0,\"#0d0887\"],[0.1111111111111111,\"#46039f\"],[0.2222222222222222,\"#7201a8\"],[0.3333333333333333,\"#9c179e\"],[0.4444444444444444,\"#bd3786\"],[0.5555555555555556,\"#d8576b\"],[0.6666666666666666,\"#ed7953\"],[0.7777777777777778,\"#fb9f3a\"],[0.8888888888888888,\"#fdca26\"],[1.0,\"#f0f921\"]],\"sequentialminus\":[[0.0,\"#0d0887\"],[0.1111111111111111,\"#46039f\"],[0.2222222222222222,\"#7201a8\"],[0.3333333333333333,\"#9c179e\"],[0.4444444444444444,\"#bd3786\"],[0.5555555555555556,\"#d8576b\"],[0.6666666666666666,\"#ed7953\"],[0.7777777777777778,\"#fb9f3a\"],[0.8888888888888888,\"#fdca26\"],[1.0,\"#f0f921\"]]},\"colorway\":[\"#636efa\",\"#EF553B\",\"#00cc96\",\"#ab63fa\",\"#FFA15A\",\"#19d3f3\",\"#FF6692\",\"#B6E880\",\"#FF97FF\",\"#FECB52\"],\"font\":{\"color\":\"#2a3f5f\"},\"geo\":{\"bgcolor\":\"white\",\"lakecolor\":\"white\",\"landcolor\":\"#E5ECF6\",\"showlakes\":true,\"showland\":true,\"subunitcolor\":\"white\"},\"hoverlabel\":{\"align\":\"left\"},\"hovermode\":\"closest\",\"mapbox\":{\"style\":\"light\"},\"paper_bgcolor\":\"white\",\"plot_bgcolor\":\"#E5ECF6\",\"polar\":{\"angularaxis\":{\"gridcolor\":\"white\",\"linecolor\":\"white\",\"ticks\":\"\"},\"bgcolor\":\"#E5ECF6\",\"radialaxis\":{\"gridcolor\":\"white\",\"linecolor\":\"white\",\"ticks\":\"\"}},\"scene\":{\"xaxis\":{\"backgroundcolor\":\"#E5ECF6\",\"gridcolor\":\"white\",\"gridwidth\":2,\"linecolor\":\"white\",\"showbackground\":true,\"ticks\":\"\",\"zerolinecolor\":\"white\"},\"yaxis\":{\"backgroundcolor\":\"#E5ECF6\",\"gridcolor\":\"white\",\"gridwidth\":2,\"linecolor\":\"white\",\"showbackground\":true,\"ticks\":\"\",\"zerolinecolor\":\"white\"},\"zaxis\":{\"backgroundcolor\":\"#E5ECF6\",\"gridcolor\":\"white\",\"gridwidth\":2,\"linecolor\":\"white\",\"showbackground\":true,\"ticks\":\"\",\"zerolinecolor\":\"white\"}},\"shapedefaults\":{\"line\":{\"color\":\"#2a3f5f\"}},\"ternary\":{\"aaxis\":{\"gridcolor\":\"white\",\"linecolor\":\"white\",\"ticks\":\"\"},\"baxis\":{\"gridcolor\":\"white\",\"linecolor\":\"white\",\"ticks\":\"\"},\"bgcolor\":\"#E5ECF6\",\"caxis\":{\"gridcolor\":\"white\",\"linecolor\":\"white\",\"ticks\":\"\"}},\"title\":{\"x\":0.05},\"xaxis\":{\"automargin\":true,\"gridcolor\":\"white\",\"linecolor\":\"white\",\"ticks\":\"\",\"title\":{\"standoff\":15},\"zerolinecolor\":\"white\",\"zerolinewidth\":2},\"yaxis\":{\"automargin\":true,\"gridcolor\":\"white\",\"linecolor\":\"white\",\"ticks\":\"\",\"title\":{\"standoff\":15},\"zerolinecolor\":\"white\",\"zerolinewidth\":2}}},\"width\":504.0,\"xaxis\":{\"showgrid\":false,\"showticklabels\":false,\"zeroline\":false},\"yaxis\":{\"showgrid\":false,\"showticklabels\":false,\"zeroline\":false}},                        {\"responsive\": true}                    ).then(function(){\n",
       "                            \n",
       "var gd = document.getElementById('e99445f0-2e8a-4c74-a430-4c404bd2f557');\n",
       "var x = new MutationObserver(function (mutations, observer) {{\n",
       "        var display = window.getComputedStyle(gd).display;\n",
       "        if (!display || display === 'none') {{\n",
       "            console.log([gd, 'removed!']);\n",
       "            Plotly.purge(gd);\n",
       "            observer.disconnect();\n",
       "        }}\n",
       "}});\n",
       "\n",
       "// Listen for the removal of the full notebook cells\n",
       "var notebookContainer = gd.closest('#notebook-container');\n",
       "if (notebookContainer) {{\n",
       "    x.observe(notebookContainer, {childList: true});\n",
       "}}\n",
       "\n",
       "// Listen for the clearing of the current output cell\n",
       "var outputEl = gd.closest('.output');\n",
       "if (outputEl) {{\n",
       "    x.observe(outputEl, {childList: true});\n",
       "}}\n",
       "\n",
       "                        })                };                });            </script>        </div>"
      ]
     },
     "metadata": {},
     "output_type": "display_data"
    },
    {
     "data": {
      "text/plain": [
       "<Figure size 432x288 with 0 Axes>"
      ]
     },
     "metadata": {},
     "output_type": "display_data"
    }
   ],
   "source": [
    "import networkx as nx\n",
    "import plotly.tools as tls\n",
    "from torch_geometric.utils import to_networkx, from_networkx\n",
    "\n",
    "fig = data.draw(c, plotly=True, labels=True, labels_name=labels_name, degree_size=False, node_size=20,\n",
    "          figsize=(7,7), with_ids=True, layout_type='spring', seed=34, show=True, legend=True)\n",
    "fig"
   ]
  },
  {
   "cell_type": "code",
   "execution_count": null,
   "id": "13f2c090",
   "metadata": {},
   "outputs": [],
   "source": []
  },
  {
   "cell_type": "code",
   "execution_count": 210,
   "id": "034cc9cf",
   "metadata": {},
   "outputs": [
    {
     "name": "stderr",
     "output_type": "stream",
     "text": [
      "Global seed set to 31\n",
      "GPU available: True, used: False\n",
      "TPU available: False, using: 0 TPU cores\n",
      "IPU available: False, using: 0 IPUs\n",
      "\n",
      "  | Name        | Type     | Params\n",
      "-----------------------------------------\n",
      "0 | model       | GNNModel | 1.5 K \n",
      "1 | loss_module | MSELoss  | 0     \n",
      "-----------------------------------------\n",
      "1.5 K     Trainable params\n",
      "0         Non-trainable params\n",
      "1.5 K     Total params\n",
      "0.006     Total estimated model params size (MB)\n"
     ]
    },
    {
     "name": "stdout",
     "output_type": "stream",
     "text": [
      "No pretrained found, training...\n"
     ]
    },
    {
     "data": {
      "application/vnd.jupyter.widget-view+json": {
       "model_id": "",
       "version_major": 2,
       "version_minor": 0
      },
      "text/plain": [
       "HBox(children=(FloatProgress(value=1.0, bar_style='info', description='Validation sanity check', layout=Layout…"
      ]
     },
     "metadata": {},
     "output_type": "display_data"
    },
    {
     "name": "stderr",
     "output_type": "stream",
     "text": [
      "Global seed set to 31\n"
     ]
    },
    {
     "data": {
      "application/vnd.jupyter.widget-view+json": {
       "model_id": "ac88ac81292149f1a8cc2bbdc3b2feee",
       "version_major": 2,
       "version_minor": 0
      },
      "text/plain": [
       "HBox(children=(FloatProgress(value=1.0, bar_style='info', description='Training', layout=Layout(flex='2'), max…"
      ]
     },
     "metadata": {},
     "output_type": "display_data"
    },
    {
     "name": "stdout",
     "output_type": "stream",
     "text": [
      "\n"
     ]
    },
    {
     "data": {
      "application/vnd.jupyter.widget-view+json": {
       "model_id": "fab7ef3e3fab4bf0a66bf87cdc327c6f",
       "version_major": 2,
       "version_minor": 0
      },
      "text/plain": [
       "HBox(children=(FloatProgress(value=1.0, bar_style='info', description='Testing', layout=Layout(flex='2'), max=…"
      ]
     },
     "metadata": {},
     "output_type": "display_data"
    },
    {
     "name": "stdout",
     "output_type": "stream",
     "text": [
      "\n",
      "Train accuracy: -176.62%\n",
      "Val accuracy:   -72.31%\n",
      "Test accuracy:  -95.15%\n"
     ]
    }
   ],
   "source": [
    "def optimizer(self):\n",
    "    opt = optim.AdamW(self.parameters(), lr=1e-3)\n",
    "#     opt = optim.SGD(self.parameters(), lr=1e-3, momentum=0.9, weight_decay=2e-3)\n",
    "    sched = {\n",
    "        \"scheduler\": optim.lr_scheduler.CosineAnnealingWarmRestarts(opt, T_0=20, T_mult=3),\n",
    "        \"interval\": \"step\",\n",
    "    }  # called after each training step\n",
    "    return [opt], [sched]\n",
    "args = {\n",
    "    'seed': 31,\n",
    "    \"model_name\": \"GNN\",\n",
    "    \"layer_name\": 'FAConv',\n",
    "    \"layer_dict\": dict(eps=2, normalize=False),\n",
    "    \"task\": \"node\",\n",
    "    \"exp_id\": 'ER',\n",
    "    \"test_splits\": [.1, .1],\n",
    "    \"hidden_dim\": 32,\n",
    "    \"optim_func\": optimizer,\n",
    "    \"epochs\": 10,\n",
    "    'gpus': 0,\n",
    "    'lr': 1e-3,\n",
    "    'use_edge_attr': True,\n",
    "    'transform_pre_mp': True,\n",
    "}\n",
    "\n",
    "model, result, trainer = train_regressor(dataset, **args)\n",
    "print_results(result)"
   ]
  },
  {
   "cell_type": "code",
   "execution_count": null,
   "id": "aae5f661",
   "metadata": {},
   "outputs": [],
   "source": []
  },
  {
   "cell_type": "code",
   "execution_count": null,
   "id": "35e31435",
   "metadata": {},
   "outputs": [],
   "source": []
  },
  {
   "cell_type": "code",
   "execution_count": null,
   "id": "10a9a34f",
   "metadata": {},
   "outputs": [],
   "source": []
  },
  {
   "cell_type": "code",
   "execution_count": null,
   "id": "72541070",
   "metadata": {},
   "outputs": [],
   "source": []
  },
  {
   "cell_type": "code",
   "execution_count": null,
   "id": "2b602ab3",
   "metadata": {},
   "outputs": [],
   "source": []
  },
  {
   "cell_type": "code",
   "execution_count": null,
   "id": "313f4e2c",
   "metadata": {},
   "outputs": [],
   "source": []
  },
  {
   "cell_type": "code",
   "execution_count": null,
   "id": "803b3f77",
   "metadata": {},
   "outputs": [],
   "source": []
  },
  {
   "cell_type": "markdown",
   "id": "b86c15a3",
   "metadata": {},
   "source": [
    "<h1> Graph level"
   ]
  },
  {
   "cell_type": "code",
   "execution_count": 7,
   "id": "fdefdfa0",
   "metadata": {},
   "outputs": [],
   "source": [
    "tu_dataset = data.get_dataset(\"MUTAG\")\n",
    "tu_data = tu_dataset.data"
   ]
  },
  {
   "cell_type": "code",
   "execution_count": 8,
   "id": "3d46678f",
   "metadata": {},
   "outputs": [
    {
     "name": "stdout",
     "output_type": "stream",
     "text": [
      "Data object: Data(edge_attr=[7442, 4], edge_index=[2, 7442], x=[3371, 7], y=[188])\n",
      "Length: 188\n",
      "Average label: 0.66\n",
      "2\n"
     ]
    }
   ],
   "source": [
    "print(\"Data object:\", tu_dataset.data)\n",
    "print(\"Length:\", len(tu_dataset))\n",
    "print(\"Average label: %4.2f\" % (tu_dataset.data.y.float().mean().item()))\n",
    "print(tu_dataset.num_classes)"
   ]
  },
  {
   "cell_type": "code",
   "execution_count": 26,
   "id": "515234cb",
   "metadata": {},
   "outputs": [
    {
     "data": {
      "text/plain": [
       "tensor([[0., 0., 0., 1.],\n",
       "        [0., 0., 1., 0.],\n",
       "        [0., 1., 0., 0.],\n",
       "        [1., 0., 0., 0.]])"
      ]
     },
     "execution_count": 26,
     "metadata": {},
     "output_type": "execute_result"
    }
   ],
   "source": [
    "torch.unique(tu_data.edge_attr, dim=0)"
   ]
  },
  {
   "cell_type": "code",
   "execution_count": 11,
   "id": "a85c5224",
   "metadata": {},
   "outputs": [
    {
     "data": {
      "text/plain": [
       "Data(edge_attr=[38, 4], edge_index=[2, 38], x=[17, 7], y=[1])"
      ]
     },
     "execution_count": 11,
     "metadata": {},
     "output_type": "execute_result"
    }
   ],
   "source": [
    "tu_dataset[0]"
   ]
  },
  {
   "cell_type": "code",
   "execution_count": null,
   "id": "b77d264d",
   "metadata": {},
   "outputs": [],
   "source": []
  },
  {
   "cell_type": "code",
   "execution_count": null,
   "id": "a1c83970",
   "metadata": {},
   "outputs": [],
   "source": []
  },
  {
   "cell_type": "code",
   "execution_count": 42,
   "id": "e92d2a56",
   "metadata": {},
   "outputs": [],
   "source": [
    "optimizer = (lambda self: optim.AdamW(self.parameters(), lr=1e-2))\n",
    "args = {\n",
    "    'seed': 42,\n",
    "    \"exp_id\": \"MUTAG\",\n",
    "    \"model_name\": \"GNN\",\n",
    "    \"layer_name\": 'GCN',\n",
    "#     \"layer_args\": (2,),\n",
    "#     \"layer_kwargs\": dict(aggr='mean'),\n",
    "    \"task\": \"graph\",\n",
    "    \"test_splits\": [150, 150],\n",
    "    \"hidden_dim\": 64,\n",
    "    'num_layers': 4,\n",
    "#     \"optim_func\": optimizer,\n",
    "    \"epochs\": 10,\n",
    "    'dropout': .1,\n",
    "    'dropout_head': .4,\n",
    "    'lr': 1e-4,\n",
    "    \"gpus\": 0,\n",
    "    'use_edge_attr': False,\n",
    "    'num_edge_features': tu_dataset.data.edge_attr.shape[-1],\n",
    "    'edge_attr_scaling': False,\n",
    "    'last_fully_adjacent': False\n",
    "}\n",
    "from pytorch_lightning.loggers import CSVLogger\n",
    "csv_logger = CSVLogger(\"logs\", name='-'.join((args['exp_id'], args['model_name'], args['task'])))\n",
    "args['logger'] = csv_logger"
   ]
  },
  {
   "cell_type": "code",
   "execution_count": 45,
   "id": "8c5ce445",
   "metadata": {},
   "outputs": [
    {
     "name": "stderr",
     "output_type": "stream",
     "text": [
      "Global seed set to 42\n",
      "GPU available: True, used: False\n",
      "TPU available: False, using: 0 TPU cores\n",
      "\n",
      "  | Name        | Type              | Params\n",
      "--------------------------------------------------\n",
      "0 | model       | GNNModel          | 17.7 K\n",
      "1 | loss_module | BCEWithLogitsLoss | 0     \n",
      "--------------------------------------------------\n",
      "17.7 K    Trainable params\n",
      "0         Non-trainable params\n",
      "17.7 K    Total params\n",
      "0.071     Total estimated model params size (MB)\n"
     ]
    },
    {
     "name": "stdout",
     "output_type": "stream",
     "text": [
      "No pretrained found, training...\n"
     ]
    },
    {
     "data": {
      "application/vnd.jupyter.widget-view+json": {
       "model_id": "",
       "version_major": 2,
       "version_minor": 0
      },
      "text/plain": [
       "HBox(children=(FloatProgress(value=1.0, bar_style='info', description='Validation sanity check', layout=Layout…"
      ]
     },
     "metadata": {},
     "output_type": "display_data"
    },
    {
     "name": "stderr",
     "output_type": "stream",
     "text": [
      "Global seed set to 42\n"
     ]
    },
    {
     "data": {
      "application/vnd.jupyter.widget-view+json": {
       "model_id": "646c6249d9be4c749553d3d1ce2b56ff",
       "version_major": 2,
       "version_minor": 0
      },
      "text/plain": [
       "HBox(children=(FloatProgress(value=1.0, bar_style='info', description='Training', layout=Layout(flex='2'), max…"
      ]
     },
     "metadata": {},
     "output_type": "display_data"
    },
    {
     "name": "stdout",
     "output_type": "stream",
     "text": [
      "\n"
     ]
    },
    {
     "data": {
      "application/vnd.jupyter.widget-view+json": {
       "model_id": "849f8266ca3f48739f3c4bdbc504ff29",
       "version_major": 2,
       "version_minor": 0
      },
      "text/plain": [
       "HBox(children=(FloatProgress(value=1.0, bar_style='info', description='Testing', layout=Layout(flex='2'), max=…"
      ]
     },
     "metadata": {},
     "output_type": "display_data"
    },
    {
     "name": "stdout",
     "output_type": "stream",
     "text": [
      "\n",
      "Train accuracy: 70.08%\n",
      "Val accuracy:   71.05%\n",
      "Test accuracy:  71.05%\n"
     ]
    }
   ],
   "source": [
    "rel(models)\n",
    "model, result, trainer = models.train_classifier(tu_dataset, **args)\n",
    "print_results(result)"
   ]
  },
  {
   "cell_type": "code",
   "execution_count": null,
   "id": "8fc2cc46",
   "metadata": {},
   "outputs": [],
   "source": [
    "trainer.logger.experiment.metrics"
   ]
  },
  {
   "cell_type": "code",
   "execution_count": null,
   "id": "430bf91e",
   "metadata": {},
   "outputs": [],
   "source": []
  },
  {
   "cell_type": "code",
   "execution_count": 16,
   "id": "c3c23d06",
   "metadata": {},
   "outputs": [
    {
     "data": {
      "text/plain": [
       "tensor([[   0,    0,    0,  ..., 3370, 3370, 3370],\n",
       "        [   0,    1,    2,  ..., 3368, 3369, 3370]])"
      ]
     },
     "execution_count": 16,
     "metadata": {},
     "output_type": "execute_result"
    }
   ],
   "source": [
    "x = tu_data.x\n",
    "pyg_utils.dense_to_sparse(torch.ones(x.shape[0], x.shape[0]))[0]"
   ]
  },
  {
   "cell_type": "code",
   "execution_count": 10,
   "id": "f1ebb724",
   "metadata": {},
   "outputs": [
    {
     "data": {
      "text/plain": [
       "tensor([[1., 1.],\n",
       "        [1., 1.]])"
      ]
     },
     "execution_count": 10,
     "metadata": {},
     "output_type": "execute_result"
    }
   ],
   "source": [
    "torch.ones(2,2)"
   ]
  },
  {
   "cell_type": "markdown",
   "id": "220d4c06",
   "metadata": {},
   "source": [
    "<h1> Load Reality Mining"
   ]
  },
  {
   "cell_type": "code",
   "execution_count": 126,
   "id": "54dc74b4",
   "metadata": {},
   "outputs": [],
   "source": [
    "import scipy.io\n",
    "reality = scipy.io.loadmat(\"data/RealityMining/realitymining.mat\", struct_as_record=False, squeeze_me=True)"
   ]
  },
  {
   "cell_type": "code",
   "execution_count": 39,
   "id": "d0d28f68",
   "metadata": {},
   "outputs": [
    {
     "data": {
      "text/plain": [
       "dict_keys(['__header__', '__version__', '__globals__', 'network', 's'])"
      ]
     },
     "execution_count": 39,
     "metadata": {},
     "output_type": "execute_result"
    }
   ],
   "source": [
    "reality.keys()"
   ]
  },
  {
   "cell_type": "code",
   "execution_count": 127,
   "id": "1c7155ed",
   "metadata": {},
   "outputs": [
    {
     "name": "stdout",
     "output_type": "stream",
     "text": [
      "[  3   4   5   6   7   8   9  10  11  12  13  14  15  16  17  19  20  21\n",
      "  22  23  25  26  27  28  29  30  31  32  33  35  36  37  38  40  41  42\n",
      "  43  44  46  48  49  50  52  53  54  55  56  57  58  60  61  62  63  65\n",
      "  66  67  68  69  70  71  72  73  74  75  76  77  78  79  80  81  82  83\n",
      "  84  86  87  88  89  90  91  92  93  94  95  96  97  98  99 100 101 102\n",
      " 103 104 106 107]\n",
      "[  2   3   4   5   6   7   8   9  10  11  12  13  14  15  16  18  19  20\n",
      "  21  22  24  25  26  27  28  29  30  31  32  34  35  36  37  39  40  41\n",
      "  42  43  45  47  48  49  51  52  53  54  55  56  57  59  60  61  62  64\n",
      "  65  66  67  68  69  70  71  72  73  74  75  76  77  78  79  80  81  82\n",
      "  83  85  86  87  88  89  90  91  92  93  94  95  96  97  98  99 100 101\n",
      " 102 103 105 106]\n"
     ]
    }
   ],
   "source": [
    "import numpy as np\n",
    "net_data = reality['network']\n",
    "s = reality['s']\n",
    "# adjancency matrices\n",
    "friends = np.nan_to_num(net_data.friends)\n",
    "in_lab = np.nan_to_num(net_data.lab)\n",
    "out_lab = np.nan_to_num(net_data.outlab)\n",
    "# map network elements to survey elements - 1-indexed\n",
    "net_to_s = net_data.sub_sort\n",
    "# original mapping is 1-indexed, so we turn it to 0-indexed\n",
    "net_to_s_0_index = net_to_s - 1\n",
    "print(net_to_s, net_to_s_0_index, sep='\\n')"
   ]
  },
  {
   "cell_type": "code",
   "execution_count": 16,
   "id": "34f09946",
   "metadata": {},
   "outputs": [
    {
     "name": "stdout",
     "output_type": "stream",
     "text": [
      "94 97\n"
     ]
    },
    {
     "data": {
      "text/plain": [
       "EdgeDataView([(1, 4, {'weight': 1.0}), (1, 5, {'weight': 1.0}), (1, 9, {'weight': 1.0}), (1, 10, {'weight': 1.0}), (1, 19, {'weight': 1.0}), (1, 76, {'weight': 1.0}), (1, 91, {'weight': 1.0}), (2, 19, {'weight': 1.0}), (2, 83, {'weight': 1.0}), (3, 7, {'weight': 1.0}), (3, 12, {'weight': 1.0}), (3, 18, {'weight': 1.0}), (3, 78, {'weight': 1.0}), (4, 4, {'weight': 1.0}), (4, 59, {'weight': 1.0}), (4, 76, {'weight': 1.0}), (5, 19, {'weight': 1.0}), (5, 76, {'weight': 1.0}), (7, 12, {'weight': 1.0}), (7, 22, {'weight': 1.0}), (7, 9, {'weight': 1.0}), (7, 59, {'weight': 1.0}), (9, 9, {'weight': 1.0}), (9, 78, {'weight': 1.0}), (9, 91, {'weight': 1.0}), (11, 50, {'weight': 1.0}), (11, 37, {'weight': 1.0}), (12, 22, {'weight': 1.0}), (14, 56, {'weight': 1.0}), (17, 17, {'weight': 1.0}), (18, 30, {'weight': 1.0}), (19, 19, {'weight': 1.0}), (19, 49, {'weight': 1.0}), (20, 52, {'weight': 1.0}), (20, 83, {'weight': 1.0}), (20, 84, {'weight': 1.0}), (24, 55, {'weight': 1.0}), (24, 59, {'weight': 1.0}), (25, 55, {'weight': 1.0}), (26, 93, {'weight': 1.0}), (27, 87, {'weight': 1.0}), (28, 28, {'weight': 1.0}), (30, 59, {'weight': 1.0}), (31, 56, {'weight': 1.0}), (32, 33, {'weight': 1.0}), (35, 37, {'weight': 1.0}), (35, 58, {'weight': 1.0}), (35, 84, {'weight': 1.0}), (35, 85, {'weight': 1.0}), (36, 59, {'weight': 1.0}), (37, 50, {'weight': 1.0}), (37, 58, {'weight': 1.0}), (37, 84, {'weight': 1.0}), (37, 85, {'weight': 1.0}), (38, 38, {'weight': 1.0}), (39, 62, {'weight': 1.0}), (39, 72, {'weight': 1.0}), (39, 82, {'weight': 1.0}), (40, 47, {'weight': 1.0}), (40, 60, {'weight': 1.0}), (40, 68, {'weight': 1.0}), (40, 72, {'weight': 1.0}), (42, 58, {'weight': 1.0}), (42, 68, {'weight': 1.0}), (42, 69, {'weight': 1.0}), (45, 54, {'weight': 1.0}), (45, 84, {'weight': 1.0}), (48, 63, {'weight': 1.0}), (52, 83, {'weight': 1.0}), (54, 72, {'weight': 1.0}), (58, 84, {'weight': 1.0}), (58, 85, {'weight': 1.0}), (59, 71, {'weight': 1.0}), (59, 79, {'weight': 1.0}), (59, 83, {'weight': 1.0}), (60, 64, {'weight': 1.0}), (62, 62, {'weight': 1.0}), (62, 64, {'weight': 1.0}), (62, 69, {'weight': 1.0}), (62, 80, {'weight': 1.0}), (63, 63, {'weight': 1.0}), (64, 68, {'weight': 1.0}), (64, 69, {'weight': 1.0}), (65, 80, {'weight': 1.0}), (66, 66, {'weight': 1.0}), (68, 72, {'weight': 1.0}), (69, 69, {'weight': 1.0}), (72, 82, {'weight': 1.0}), (75, 75, {'weight': 1.0}), (77, 77, {'weight': 1.0}), (77, 88, {'weight': 1.0}), (78, 88, {'weight': 1.0}), (80, 80, {'weight': 1.0}), (84, 84, {'weight': 1.0}), (84, 85, {'weight': 1.0}), (89, 90, {'weight': 1.0}), (91, 91, {'weight': 1.0})])"
      ]
     },
     "execution_count": 16,
     "metadata": {},
     "output_type": "execute_result"
    }
   ],
   "source": [
    "import networkx as nx\n",
    "frg = nx.convert_matrix.from_numpy_matrix(friends)\n",
    "print(len(frg.nodes), len(frg.edges))\n",
    "frg.edges(data=True)"
   ]
  },
  {
   "cell_type": "code",
   "execution_count": null,
   "id": "a9a52d54",
   "metadata": {},
   "outputs": [],
   "source": []
  },
  {
   "cell_type": "code",
   "execution_count": 129,
   "id": "77dbfe99",
   "metadata": {},
   "outputs": [
    {
     "name": "stdout",
     "output_type": "stream",
     "text": [
      "{'znan': 3, 'very': 1, 'somewhat': 2, 'not at all': 3}\n",
      "{3: 'not at all', 1: 'very', 2: 'somewhat'}\n",
      "[3 3 1 1 2 1 2 1 1 1 3 1 2 3 2 2 1 3 1 2 2 2 1 3 2 1 1 3 2 1 3 2 3 3 1 3 1\n",
      " 2 3 2 2 3 1 3 3 3 3 3 1 1 3 2 3 2 3 3 3 2 3 1 2 1 3 3 1 1 3 2 3 3 3 3 3 3\n",
      " 1 3 1 2 3 3 2 2 3 3 3 2 3 1 1 1 3 3 2 3 3 3 1 2 2 3 3 2 2 1 3 1]\n",
      "[1 1 2 1 2 1 1 1 3 1 2 3 2 2 1 1 2 2 2 1 2 1 1 3 2 1 3 2 3 1 3 1 2 2 2 3 1\n",
      " 3 3 3 1 1 2 3 2 3 3 3 2 1 2 1 3 1 1 3 2 3 3 3 3 3 3 1 3 1 2 3 3 2 2 3 3 2\n",
      " 3 1 1 1 3 3 2 3 3 3 1 2 2 3 3 2 2 1 1 3]\n"
     ]
    }
   ],
   "source": [
    "# FOR NAMED COLUMNS DATA\n",
    "column = 'my_predictable'\n",
    "no_answer_to_no_class = True\n",
    "\n",
    "import pandas as pd\n",
    "\n",
    "y_raw = [getattr(s[i], column) for i in range(len(s))]\n",
    "y_raw = list(map(lambda x: (x.lower() if len(x) else 'znan'), y_raw))\n",
    "\n",
    "class_to_index = dict(zip(sorted(set(y_raw), reverse=True), range(len(set(y_raw)) + 1)))\n",
    "if no_answer_to_no_class:\n",
    "    class_to_index['znan'] = max(class_to_index.values())\n",
    "nan_class = class_to_index['znan']\n",
    "index_to_class = dict(zip(class_to_index.values(), sorted(class_to_index.keys(), reverse=True)))\n",
    "print(class_to_index, index_to_class, sep='\\n')\n",
    "\n",
    "\n",
    "## Get classes for all elements in the survey data\n",
    "y_s = pd.Series(y_raw).map(class_to_index)\n",
    "print(y_s.values)\n",
    "\n",
    "## Get classes for the nodes in the network\n",
    "# the map_to_s contains an erroreneus mapping sub_sort(94)=107, since there are only 106 survey participants\n",
    "# therefore, only loop within range(len() - 1)\n",
    "y_net = [y_s[net_to_s_0_index[i]] for i in range(len(net_to_s_0_index) - 1)]\n",
    "# append 0-class to mark for the 94th element that does not have a correct mapping\n",
    "y_net.append(nan_class)\n",
    "y_net = pd.Series(y_net)\n",
    "print(y_net.values)"
   ]
  },
  {
   "cell_type": "code",
   "execution_count": 419,
   "id": "639eea96",
   "metadata": {},
   "outputs": [
    {
     "name": "stdout",
     "output_type": "stream",
     "text": [
      "[1 1 1 1 1 1 1 1 1 1 1 1 1 1 1 1 1 1 1 1 1 1 1 1 1 1 1 1 1 1 1 1 1 1 1 1 1\n",
      " 1 1 1 1 1 1 1 1 1 1 1 1 1 1 1 1 1 1 1 1 1 1 1 1 1 1 1 1 1 1 1 1 1 1 1 1 1\n",
      " 1 1 1 1 1 1 1 1 1 1 1 1 1 1 1 1 1 1 1 1 1 1 1 1 1 1 1 1 1 1 1 1]\n",
      "[1 1 1 1 1 1 1 1 1 1 1 1 1 1 1 1 1 1 1 1 1 1 1 1 1 1 1 1 1 1 1 1 1 1 1 1 1\n",
      " 1 1 1 1 1 1 1 1 1 1 1 1 1 1 1 1 1 1 1 1 1 1 1 1 1 1 1 1 1 1 1 1 1 1 1 1 1\n",
      " 1 1 1 1 1 1 1 1 1 1 1 1 1 1 1 1 1 1 1 1]\n"
     ]
    }
   ],
   "source": [
    "# FOR SURVEY DATA -> No class-index mapping inside the data, but available in the documentation\n",
    "survey_q = 10\n",
    "no_answer_to_no_class = True\n",
    "\n",
    "import pandas as pd\n",
    "\n",
    "q_index = survey_q - 1\n",
    "# get classes for all nodes in s\n",
    "y_s = pd.Series([srv_dat[q_index].astype(np.uint8) \\\n",
    "                   if (len(srv_dat := s[i].surveydata) and not np.isnan(srv_dat[q_index])) \\\n",
    "                   else -10 \\\n",
    "                   for i in range(len(s))])\n",
    "y_s[y_s == -10] = nan_class = max(y_s) if no_answer_to_no_class else 0\n",
    "\n",
    "print(y_s.values)\n",
    "\n",
    "index_to_class = {i:i for i in range(10)}\n",
    "\n",
    "## Get classes for the nodes in the network\n",
    "# the map_to_s contains an erroreneus mapping sub_sort(94)=107, since there are only 106 survey participants\n",
    "# therefore, only loop within range(len() - 1)\n",
    "y_net = [y_s[net_to_s_0_index[i]] for i in range(len(map_to_s) - 1)]\n",
    "# append 0-class to mark for the 94th element that does not have a correct mapping\n",
    "y_net.append(nan_class)\n",
    "y_net = pd.Series(y_net)\n",
    "print(y_net.values)"
   ]
  },
  {
   "cell_type": "code",
   "execution_count": null,
   "id": "880199bc",
   "metadata": {},
   "outputs": [],
   "source": []
  },
  {
   "cell_type": "code",
   "execution_count": 397,
   "id": "a330eb32",
   "metadata": {},
   "outputs": [
    {
     "data": {
      "text/plain": [
       "'very'"
      ]
     },
     "execution_count": 397,
     "metadata": {},
     "output_type": "execute_result"
    }
   ],
   "source": [
    "y_raw[net_to_s_0_index[92]]"
   ]
  },
  {
   "cell_type": "code",
   "execution_count": 396,
   "id": "301c2126",
   "metadata": {},
   "outputs": [
    {
     "data": {
      "text/plain": [
       "'very'"
      ]
     },
     "execution_count": 396,
     "metadata": {},
     "output_type": "execute_result"
    }
   ],
   "source": [
    "index_to_class[y_s[net_to_s_0_index[92]]]"
   ]
  },
  {
   "cell_type": "code",
   "execution_count": 398,
   "id": "bdd8e42d",
   "metadata": {},
   "outputs": [
    {
     "data": {
      "text/plain": [
       "'very'"
      ]
     },
     "execution_count": 398,
     "metadata": {},
     "output_type": "execute_result"
    }
   ],
   "source": [
    "index_to_class[y_net[92]]"
   ]
  },
  {
   "cell_type": "code",
   "execution_count": 130,
   "id": "871f723a",
   "metadata": {},
   "outputs": [
    {
     "name": "stdout",
     "output_type": "stream",
     "text": [
      "dataset=[Data(edge_index=[2, 179], weight=[179], x=[94, 1], y=[94])],\n",
      "dataset[0].y=tensor([1, 1, 2, 1, 2, 1, 1, 1, 3, 1, 2, 3, 2, 2, 1, 1, 2, 2, 2, 1, 2, 1, 1, 3,\n",
      "        2, 1, 3, 2, 3, 1, 3, 1, 2, 2, 2, 3, 1, 3, 3, 3, 1, 1, 2, 3, 2, 3, 3, 3,\n",
      "        2, 1, 2, 1, 3, 1, 1, 3, 2, 3, 3, 3, 3, 3, 3, 1, 3, 1, 2, 3, 3, 2, 2, 3,\n",
      "        3, 2, 3, 1, 1, 1, 3, 3, 2, 3, 3, 3, 1, 2, 2, 3, 3, 2, 2, 1, 1, 3])\n",
      "dataset.num_classes=94, dataset.num_node_features=1\n"
     ]
    },
    {
     "data": {
      "application/vnd.plotly.v1+json": {
       "config": {
        "plotlyServerURL": "https://plot.ly"
       },
       "data": [
        {
         "marker": {
          "color": [
           "rgba(252,141,98,1.0)",
           "rgba(252,141,98,1.0)",
           "rgba(141,160,203,1.0)",
           "rgba(252,141,98,1.0)",
           "rgba(141,160,203,1.0)",
           "rgba(252,141,98,1.0)",
           "rgba(252,141,98,1.0)",
           "rgba(252,141,98,1.0)",
           "rgba(231,138,195,1.0)",
           "rgba(252,141,98,1.0)",
           "rgba(141,160,203,1.0)",
           "rgba(231,138,195,1.0)",
           "rgba(141,160,203,1.0)",
           "rgba(141,160,203,1.0)",
           "rgba(252,141,98,1.0)",
           "rgba(252,141,98,1.0)",
           "rgba(141,160,203,1.0)",
           "rgba(141,160,203,1.0)",
           "rgba(141,160,203,1.0)",
           "rgba(252,141,98,1.0)",
           "rgba(141,160,203,1.0)",
           "rgba(252,141,98,1.0)",
           "rgba(252,141,98,1.0)",
           "rgba(231,138,195,1.0)",
           "rgba(141,160,203,1.0)",
           "rgba(252,141,98,1.0)",
           "rgba(231,138,195,1.0)",
           "rgba(141,160,203,1.0)",
           "rgba(231,138,195,1.0)",
           "rgba(252,141,98,1.0)",
           "rgba(231,138,195,1.0)",
           "rgba(252,141,98,1.0)",
           "rgba(141,160,203,1.0)",
           "rgba(141,160,203,1.0)",
           "rgba(141,160,203,1.0)",
           "rgba(231,138,195,1.0)",
           "rgba(252,141,98,1.0)",
           "rgba(231,138,195,1.0)",
           "rgba(231,138,195,1.0)",
           "rgba(231,138,195,1.0)",
           "rgba(252,141,98,1.0)",
           "rgba(252,141,98,1.0)",
           "rgba(141,160,203,1.0)",
           "rgba(231,138,195,1.0)",
           "rgba(141,160,203,1.0)",
           "rgba(231,138,195,1.0)",
           "rgba(231,138,195,1.0)",
           "rgba(231,138,195,1.0)",
           "rgba(141,160,203,1.0)",
           "rgba(252,141,98,1.0)",
           "rgba(141,160,203,1.0)",
           "rgba(252,141,98,1.0)",
           "rgba(231,138,195,1.0)",
           "rgba(252,141,98,1.0)",
           "rgba(252,141,98,1.0)",
           "rgba(231,138,195,1.0)",
           "rgba(141,160,203,1.0)",
           "rgba(231,138,195,1.0)",
           "rgba(231,138,195,1.0)",
           "rgba(231,138,195,1.0)",
           "rgba(231,138,195,1.0)",
           "rgba(231,138,195,1.0)",
           "rgba(231,138,195,1.0)",
           "rgba(252,141,98,1.0)",
           "rgba(231,138,195,1.0)",
           "rgba(252,141,98,1.0)",
           "rgba(141,160,203,1.0)",
           "rgba(231,138,195,1.0)",
           "rgba(231,138,195,1.0)",
           "rgba(141,160,203,1.0)",
           "rgba(141,160,203,1.0)",
           "rgba(231,138,195,1.0)",
           "rgba(231,138,195,1.0)",
           "rgba(141,160,203,1.0)",
           "rgba(231,138,195,1.0)",
           "rgba(252,141,98,1.0)",
           "rgba(252,141,98,1.0)",
           "rgba(252,141,98,1.0)",
           "rgba(231,138,195,1.0)",
           "rgba(231,138,195,1.0)",
           "rgba(141,160,203,1.0)",
           "rgba(231,138,195,1.0)",
           "rgba(231,138,195,1.0)",
           "rgba(231,138,195,1.0)",
           "rgba(252,141,98,1.0)",
           "rgba(141,160,203,1.0)",
           "rgba(141,160,203,1.0)",
           "rgba(231,138,195,1.0)",
           "rgba(231,138,195,1.0)",
           "rgba(141,160,203,1.0)",
           "rgba(141,160,203,1.0)",
           "rgba(252,141,98,1.0)",
           "rgba(252,141,98,1.0)",
           "rgba(231,138,195,1.0)"
          ],
          "line": {
           "color": "rgba(0, 0, 0, 1)",
           "width": 1
          },
          "size": 20,
          "symbol": "circle"
         },
         "mode": "markers",
         "name": "Nodes",
         "type": "scatter",
         "visible": true,
         "x": [
          0.11184255250826651,
          -0.039186341112431744,
          -0.00875482695855019,
          0.20932795478274688,
          0.010499430534250561,
          -0.09298597140562904,
          0.5119833632274019,
          0.14455572345426426,
          -0.968831271602492,
          0.062269055112464645,
          -0.11781347320743238,
          -0.09297855294632547,
          0.19967523032413864,
          -0.5186763331072736,
          -0.8311018460604646,
          0.9691119312197313,
          0.6735548681503039,
          -0.14328241085450427,
          0.23973657606158053,
          -0.0766313250947936,
          0.0065412106723328825,
          -0.7654807276453393,
          0.18452329921302246,
          0.3004753870861677,
          0.057666891894689244,
          -0.016386730974340756,
          -0.34506527464943754,
          0.10719211823001766,
          0.5073593340199738,
          0.6549106603114618,
          0.19002062507874093,
          -0.8748477744582044,
          -0.8919766794666291,
          -0.9502187898965254,
          0.9219353329852941,
          -0.09091204792780473,
          0.1670571735804188,
          -0.10163397365702019,
          -0.8626334637281057,
          -0.19298078127744905,
          -0.23995056582710195,
          -0.532879622565993,
          -0.18619763949439744,
          0.6361766807153616,
          0.8251872395849116,
          -0.07553527813004195,
          0.8574541307583321,
          -0.29117902240882154,
          0.8664334879764105,
          -0.1300390614841882,
          -0.12231233496527902,
          0.32632500728945724,
          0.05979039024866343,
          -1,
          -0.10973382490380247,
          0.01287871997452726,
          -0.8205364970737995,
          -0.791839026229745,
          -0.12333592349064591,
          0.10426209434543872,
          -0.30168107481717993,
          0.6605868493424856,
          -0.25904303849681454,
          0.9190294146059346,
          -0.26387010525581506,
          -0.3427987524403842,
          -0.04143931556464372,
          -0.9044895153594267,
          -0.207696408328426,
          -0.23954730238856134,
          0.8410416814212276,
          0.14617419547779986,
          -0.16794970562073,
          0.7592697352929323,
          0.45290783118339606,
          -0.6458180666662212,
          -0.0531443262898228,
          0.27460349877402135,
          0.16099008859072292,
          0.11226870515617399,
          -0.307481256279262,
          0.8749598838571426,
          -0.15141020038112693,
          0.042982540528231784,
          -0.06099615700903297,
          -0.11341526614211653,
          -0.9356070893079974,
          0.11082425866601008,
          0.2237994117422273,
          0.9236702384592935,
          0.9579441882233244,
          -0.004237352595826743,
          0.3905707489608442,
          -0.36382741407418234
         ],
         "xaxis": "x",
         "y": [
          0.9243864934203061,
          -0.11972368528975251,
          -0.17111814955896298,
          -0.0453791884826219,
          -0.15871948909244704,
          -0.16369509794878534,
          -0.7753547930392474,
          -0.08528157985944956,
          0.3401840597060076,
          -0.04977569511051911,
          -0.11528884416851085,
          0.0355816397520577,
          -0.06500212138759126,
          -0.8090215006965826,
          0.26597273882206857,
          0.31459960368884315,
          0.7850528799334799,
          -0.9756251692062234,
          -0.113408626130564,
          -0.19641298307934893,
          0.023771627073276853,
          -0.57849004298971,
          -0.036097635777289645,
          -0.865718884734929,
          -0.2955876196292928,
          -0.4432405149399174,
          -0.9062712884224359,
          -0.8762171834784038,
          0.8223102477832533,
          0.6791741256253792,
          -0.16633337081137406,
          0.2221623223686954,
          -0.22842204801683985,
          -0.24458098378165924,
          -0.4439119440193785,
          0.1534169962078626,
          -0.23100542435014695,
          0.10406507781359893,
          -0.5715771346756279,
          0.4740255738235645,
          0.42955913785275207,
          0.9117053778717253,
          0.2932615049827205,
          -0.6961390539935399,
          0.6301499915755803,
          0.24818288961176535,
          0.4952981278104606,
          0.4856361930406782,
          -0.2220249190959516,
          -0.2518042322735406,
          0.03760489682318179,
          0.9913137861232508,
          -0.02216309971743641,
          0.08742573043119183,
          0.3422758491242301,
          -0.379690014622785,
          0.22417275255431687,
          0.7154308617371621,
          0.18634560614368642,
          -0.18905463877834067,
          0.4240374823643645,
          -0.5209578537514105,
          0.4640684786863864,
          -0.23238490098108408,
          0.40370644431968367,
          0.6151548218312699,
          0.9777267947052012,
          -0.4103779230818424,
          0.3735414052077241,
          0.3724394929559936,
          -0.5069960345482136,
          -0.2566265513416203,
          0.41948948168232625,
          -0.5328478758736778,
          -0.8719158970854585,
          -0.6376240079668073,
          -0.16246363400058156,
          0.1565849829867221,
          0.021811141508543207,
          -0.25834144479544663,
          0.5516510699354568,
          0.19504625620148633,
          0.4840149483863909,
          -0.0941970817200259,
          0.13939916503291497,
          0.14518408972080474,
          -0.060057167051561014,
          -0.9309289188906331,
          0.1038140588821208,
          0.001479140254759766,
          0.010812015302283644,
          -0.06942113347479935,
          0.9093120286472576,
          -0.9550620085904159
         ],
         "yaxis": "y"
        },
        {
         "hoverinfo": "none",
         "line": {
          "color": "#888",
          "width": 0.5
         },
         "mode": "lines",
         "name": "Edges",
         "type": "scatter",
         "visible": true,
         "x": [
          -0.039186341112431744,
          0.010499430534250561,
          null,
          -0.039186341112431744,
          -0.09298597140562904,
          null,
          -0.039186341112431744,
          0.062269055112464645,
          null,
          -0.039186341112431744,
          -0.11781347320743238,
          null,
          -0.039186341112431744,
          -0.0766313250947936,
          null,
          -0.039186341112431744,
          -0.0531443262898228,
          null,
          -0.039186341112431744,
          -0.004237352595826743,
          null,
          -0.00875482695855019,
          -0.0766313250947936,
          null,
          -0.00875482695855019,
          0.042982540528231784,
          null,
          0.20932795478274688,
          0.14455572345426426,
          null,
          0.20932795478274688,
          0.19967523032413864,
          null,
          0.20932795478274688,
          0.23973657606158053,
          null,
          0.20932795478274688,
          0.16099008859072292,
          null,
          0.010499430534250561,
          0.010499430534250561,
          null,
          0.010499430534250561,
          0.10426209434543872,
          null,
          0.010499430534250561,
          -0.0531443262898228,
          null,
          -0.09298597140562904,
          -0.0766313250947936,
          null,
          -0.09298597140562904,
          -0.0531443262898228,
          null,
          0.14455572345426426,
          0.062269055112464645,
          null,
          0.14455572345426426,
          0.19967523032413864,
          null,
          0.14455572345426426,
          0.18452329921302246,
          null,
          0.14455572345426426,
          0.10426209434543872,
          null,
          0.062269055112464645,
          0.062269055112464645,
          null,
          0.062269055112464645,
          0.16099008859072292,
          null,
          0.062269055112464645,
          -0.004237352595826743,
          null,
          -0.09297855294632547,
          -0.10163397365702019,
          null,
          -0.09297855294632547,
          -0.12231233496527902,
          null,
          0.19967523032413864,
          0.18452329921302246,
          null,
          -0.8311018460604646,
          -0.8205364970737995,
          null,
          -0.14328241085450427,
          -0.14328241085450427,
          null,
          0.23973657606158053,
          0.19002062507874093,
          null,
          -0.0766313250947936,
          -0.0766313250947936,
          null,
          -0.0766313250947936,
          -0.1300390614841882,
          null,
          0.0065412106723328825,
          0.05979039024866343,
          null,
          0.0065412106723328825,
          0.042982540528231784,
          null,
          0.0065412106723328825,
          -0.06099615700903297,
          null,
          0.057666891894689244,
          0.01287871997452726,
          null,
          0.057666891894689244,
          0.10426209434543872,
          null,
          -0.016386730974340756,
          0.01287871997452726,
          null,
          -0.34506527464943754,
          -0.36382741407418234,
          null,
          0.10719211823001766,
          0.11082425866601008,
          null,
          0.5073593340199738,
          0.5073593340199738,
          null,
          0.19002062507874093,
          0.10426209434543872,
          null,
          -0.8748477744582044,
          -0.8205364970737995,
          null,
          -0.8919766794666291,
          -0.9502187898965254,
          null,
          -0.09091204792780473,
          -0.10163397365702019,
          null,
          -0.09091204792780473,
          -0.12333592349064591,
          null,
          -0.09091204792780473,
          -0.06099615700903297,
          null,
          -0.09091204792780473,
          -0.11341526614211653,
          null,
          0.1670571735804188,
          0.10426209434543872,
          null,
          -0.10163397365702019,
          -0.12231233496527902,
          null,
          -0.10163397365702019,
          -0.12333592349064591,
          null,
          -0.10163397365702019,
          -0.06099615700903297,
          null,
          -0.10163397365702019,
          -0.11341526614211653,
          null,
          -0.8626334637281057,
          -0.8626334637281057,
          null,
          -0.19298078127744905,
          -0.25904303849681454,
          null,
          -0.19298078127744905,
          -0.16794970562073,
          null,
          -0.19298078127744905,
          -0.15141020038112693,
          null,
          -0.23995056582710195,
          -0.29117902240882154,
          null,
          -0.23995056582710195,
          -0.30168107481717993,
          null,
          -0.23995056582710195,
          -0.207696408328426,
          null,
          -0.23995056582710195,
          -0.16794970562073,
          null,
          -0.18619763949439744,
          -0.12333592349064591,
          null,
          -0.18619763949439744,
          -0.207696408328426,
          null,
          -0.18619763949439744,
          -0.23954730238856134,
          null,
          -0.07553527813004195,
          -0.10973382490380247,
          null,
          -0.07553527813004195,
          -0.06099615700903297,
          null,
          0.8664334879764105,
          0.9190294146059346,
          null,
          0.05979039024866343,
          0.042982540528231784,
          null,
          -0.10973382490380247,
          -0.16794970562073,
          null,
          -0.12333592349064591,
          -0.06099615700903297,
          null,
          -0.12333592349064591,
          -0.11341526614211653,
          null,
          0.10426209434543872,
          0.14617419547779986,
          null,
          0.10426209434543872,
          0.11226870515617399,
          null,
          0.10426209434543872,
          0.042982540528231784,
          null,
          -0.30168107481717993,
          -0.26387010525581506,
          null,
          -0.25904303849681454,
          -0.25904303849681454,
          null,
          -0.25904303849681454,
          -0.26387010525581506,
          null,
          -0.25904303849681454,
          -0.23954730238856134,
          null,
          -0.25904303849681454,
          -0.307481256279262,
          null,
          0.9190294146059346,
          0.9190294146059346,
          null,
          -0.26387010525581506,
          -0.207696408328426,
          null,
          -0.26387010525581506,
          -0.23954730238856134,
          null,
          -0.3427987524403842,
          -0.307481256279262,
          null,
          -0.04143931556464372,
          -0.04143931556464372,
          null,
          -0.207696408328426,
          -0.16794970562073,
          null,
          -0.23954730238856134,
          -0.23954730238856134,
          null,
          -0.16794970562073,
          -0.15141020038112693,
          null,
          -0.6458180666662212,
          -0.6458180666662212,
          null,
          0.27460349877402135,
          0.27460349877402135,
          null,
          0.27460349877402135,
          0.2237994117422273,
          null,
          0.16099008859072292,
          0.2237994117422273,
          null,
          -0.307481256279262,
          -0.307481256279262,
          null,
          -0.06099615700903297,
          -0.06099615700903297,
          null,
          -0.06099615700903297,
          -0.11341526614211653,
          null,
          0.9236702384592935,
          0.9579441882233244,
          null,
          -0.004237352595826743,
          -0.004237352595826743,
          null
         ],
         "y": [
          -0.11972368528975251,
          -0.15871948909244704,
          null,
          -0.11972368528975251,
          -0.16369509794878534,
          null,
          -0.11972368528975251,
          -0.04977569511051911,
          null,
          -0.11972368528975251,
          -0.11528884416851085,
          null,
          -0.11972368528975251,
          -0.19641298307934893,
          null,
          -0.11972368528975251,
          -0.16246363400058156,
          null,
          -0.11972368528975251,
          -0.06942113347479935,
          null,
          -0.17111814955896298,
          -0.19641298307934893,
          null,
          -0.17111814955896298,
          -0.0941970817200259,
          null,
          -0.0453791884826219,
          -0.08528157985944956,
          null,
          -0.0453791884826219,
          -0.06500212138759126,
          null,
          -0.0453791884826219,
          -0.113408626130564,
          null,
          -0.0453791884826219,
          0.021811141508543207,
          null,
          -0.15871948909244704,
          -0.15871948909244704,
          null,
          -0.15871948909244704,
          -0.18905463877834067,
          null,
          -0.15871948909244704,
          -0.16246363400058156,
          null,
          -0.16369509794878534,
          -0.19641298307934893,
          null,
          -0.16369509794878534,
          -0.16246363400058156,
          null,
          -0.08528157985944956,
          -0.04977569511051911,
          null,
          -0.08528157985944956,
          -0.06500212138759126,
          null,
          -0.08528157985944956,
          -0.036097635777289645,
          null,
          -0.08528157985944956,
          -0.18905463877834067,
          null,
          -0.04977569511051911,
          -0.04977569511051911,
          null,
          -0.04977569511051911,
          0.021811141508543207,
          null,
          -0.04977569511051911,
          -0.06942113347479935,
          null,
          0.0355816397520577,
          0.10406507781359893,
          null,
          0.0355816397520577,
          0.03760489682318179,
          null,
          -0.06500212138759126,
          -0.036097635777289645,
          null,
          0.26597273882206857,
          0.22417275255431687,
          null,
          -0.9756251692062234,
          -0.9756251692062234,
          null,
          -0.113408626130564,
          -0.16633337081137406,
          null,
          -0.19641298307934893,
          -0.19641298307934893,
          null,
          -0.19641298307934893,
          -0.2518042322735406,
          null,
          0.023771627073276853,
          -0.02216309971743641,
          null,
          0.023771627073276853,
          -0.0941970817200259,
          null,
          0.023771627073276853,
          0.13939916503291497,
          null,
          -0.2955876196292928,
          -0.379690014622785,
          null,
          -0.2955876196292928,
          -0.18905463877834067,
          null,
          -0.4432405149399174,
          -0.379690014622785,
          null,
          -0.9062712884224359,
          -0.9550620085904159,
          null,
          -0.8762171834784038,
          -0.9309289188906331,
          null,
          0.8223102477832533,
          0.8223102477832533,
          null,
          -0.16633337081137406,
          -0.18905463877834067,
          null,
          0.2221623223686954,
          0.22417275255431687,
          null,
          -0.22842204801683985,
          -0.24458098378165924,
          null,
          0.1534169962078626,
          0.10406507781359893,
          null,
          0.1534169962078626,
          0.18634560614368642,
          null,
          0.1534169962078626,
          0.13939916503291497,
          null,
          0.1534169962078626,
          0.14518408972080474,
          null,
          -0.23100542435014695,
          -0.18905463877834067,
          null,
          0.10406507781359893,
          0.03760489682318179,
          null,
          0.10406507781359893,
          0.18634560614368642,
          null,
          0.10406507781359893,
          0.13939916503291497,
          null,
          0.10406507781359893,
          0.14518408972080474,
          null,
          -0.5715771346756279,
          -0.5715771346756279,
          null,
          0.4740255738235645,
          0.4640684786863864,
          null,
          0.4740255738235645,
          0.41948948168232625,
          null,
          0.4740255738235645,
          0.4840149483863909,
          null,
          0.42955913785275207,
          0.4856361930406782,
          null,
          0.42955913785275207,
          0.4240374823643645,
          null,
          0.42955913785275207,
          0.3735414052077241,
          null,
          0.42955913785275207,
          0.41948948168232625,
          null,
          0.2932615049827205,
          0.18634560614368642,
          null,
          0.2932615049827205,
          0.3735414052077241,
          null,
          0.2932615049827205,
          0.3724394929559936,
          null,
          0.24818288961176535,
          0.3422758491242301,
          null,
          0.24818288961176535,
          0.13939916503291497,
          null,
          -0.2220249190959516,
          -0.23238490098108408,
          null,
          -0.02216309971743641,
          -0.0941970817200259,
          null,
          0.3422758491242301,
          0.41948948168232625,
          null,
          0.18634560614368642,
          0.13939916503291497,
          null,
          0.18634560614368642,
          0.14518408972080474,
          null,
          -0.18905463877834067,
          -0.2566265513416203,
          null,
          -0.18905463877834067,
          -0.25834144479544663,
          null,
          -0.18905463877834067,
          -0.0941970817200259,
          null,
          0.4240374823643645,
          0.40370644431968367,
          null,
          0.4640684786863864,
          0.4640684786863864,
          null,
          0.4640684786863864,
          0.40370644431968367,
          null,
          0.4640684786863864,
          0.3724394929559936,
          null,
          0.4640684786863864,
          0.5516510699354568,
          null,
          -0.23238490098108408,
          -0.23238490098108408,
          null,
          0.40370644431968367,
          0.3735414052077241,
          null,
          0.40370644431968367,
          0.3724394929559936,
          null,
          0.6151548218312699,
          0.5516510699354568,
          null,
          0.9777267947052012,
          0.9777267947052012,
          null,
          0.3735414052077241,
          0.41948948168232625,
          null,
          0.3724394929559936,
          0.3724394929559936,
          null,
          0.41948948168232625,
          0.4840149483863909,
          null,
          -0.6376240079668073,
          -0.6376240079668073,
          null,
          0.1565849829867221,
          0.1565849829867221,
          null,
          0.1565849829867221,
          0.1038140588821208,
          null,
          0.021811141508543207,
          0.1038140588821208,
          null,
          0.5516510699354568,
          0.5516510699354568,
          null,
          0.13939916503291497,
          0.13939916503291497,
          null,
          0.13939916503291497,
          0.14518408972080474,
          null,
          0.001479140254759766,
          0.010812015302283644,
          null,
          -0.06942113347479935,
          -0.06942113347479935,
          null
         ]
        },
        {
         "marker": {
          "color": "rgb(252,141,98)",
          "size": 30
         },
         "mode": "markers",
         "name": "very",
         "type": "scatter",
         "visible": "legendonly",
         "x": [
          0
         ],
         "y": [
          0
         ]
        },
        {
         "marker": {
          "color": "rgb(141,160,203)",
          "size": 30
         },
         "mode": "markers",
         "name": "somewhat",
         "type": "scatter",
         "visible": "legendonly",
         "x": [
          0
         ],
         "y": [
          0
         ]
        },
        {
         "marker": {
          "color": "rgb(231,138,195)",
          "size": 30
         },
         "mode": "markers",
         "name": "not at all",
         "type": "scatter",
         "visible": "legendonly",
         "x": [
          0
         ],
         "y": [
          0
         ]
        }
       ],
       "layout": {
        "annotations": [
         {
          "align": "center",
          "font": {
           "color": "#000000",
           "size": 12
          },
          "opacity": 1,
          "showarrow": false,
          "text": "0",
          "x": 0.11184255250826651,
          "xanchor": "center",
          "xref": "x",
          "y": 0.9243864934203061,
          "yanchor": "middle",
          "yref": "y"
         },
         {
          "align": "center",
          "font": {
           "color": "#000000",
           "size": 12
          },
          "opacity": 1,
          "showarrow": false,
          "text": "1",
          "x": -0.039186341112431744,
          "xanchor": "center",
          "xref": "x",
          "y": -0.11972368528975251,
          "yanchor": "middle",
          "yref": "y"
         },
         {
          "align": "center",
          "font": {
           "color": "#000000",
           "size": 12
          },
          "opacity": 1,
          "showarrow": false,
          "text": "2",
          "x": -0.00875482695855019,
          "xanchor": "center",
          "xref": "x",
          "y": -0.17111814955896298,
          "yanchor": "middle",
          "yref": "y"
         },
         {
          "align": "center",
          "font": {
           "color": "#000000",
           "size": 12
          },
          "opacity": 1,
          "showarrow": false,
          "text": "3",
          "x": 0.20932795478274688,
          "xanchor": "center",
          "xref": "x",
          "y": -0.0453791884826219,
          "yanchor": "middle",
          "yref": "y"
         },
         {
          "align": "center",
          "font": {
           "color": "#000000",
           "size": 12
          },
          "opacity": 1,
          "showarrow": false,
          "text": "4",
          "x": 0.010499430534250561,
          "xanchor": "center",
          "xref": "x",
          "y": -0.15871948909244704,
          "yanchor": "middle",
          "yref": "y"
         },
         {
          "align": "center",
          "font": {
           "color": "#000000",
           "size": 12
          },
          "opacity": 1,
          "showarrow": false,
          "text": "5",
          "x": -0.09298597140562904,
          "xanchor": "center",
          "xref": "x",
          "y": -0.16369509794878534,
          "yanchor": "middle",
          "yref": "y"
         },
         {
          "align": "center",
          "font": {
           "color": "#000000",
           "size": 12
          },
          "opacity": 1,
          "showarrow": false,
          "text": "6",
          "x": 0.5119833632274019,
          "xanchor": "center",
          "xref": "x",
          "y": -0.7753547930392474,
          "yanchor": "middle",
          "yref": "y"
         },
         {
          "align": "center",
          "font": {
           "color": "#000000",
           "size": 12
          },
          "opacity": 1,
          "showarrow": false,
          "text": "7",
          "x": 0.14455572345426426,
          "xanchor": "center",
          "xref": "x",
          "y": -0.08528157985944956,
          "yanchor": "middle",
          "yref": "y"
         },
         {
          "align": "center",
          "font": {
           "color": "#000000",
           "size": 12
          },
          "opacity": 1,
          "showarrow": false,
          "text": "8",
          "x": -0.968831271602492,
          "xanchor": "center",
          "xref": "x",
          "y": 0.3401840597060076,
          "yanchor": "middle",
          "yref": "y"
         },
         {
          "align": "center",
          "font": {
           "color": "#000000",
           "size": 12
          },
          "opacity": 1,
          "showarrow": false,
          "text": "9",
          "x": 0.062269055112464645,
          "xanchor": "center",
          "xref": "x",
          "y": -0.04977569511051911,
          "yanchor": "middle",
          "yref": "y"
         },
         {
          "align": "center",
          "font": {
           "color": "#000000",
           "size": 12
          },
          "opacity": 1,
          "showarrow": false,
          "text": "10",
          "x": -0.11781347320743238,
          "xanchor": "center",
          "xref": "x",
          "y": -0.11528884416851085,
          "yanchor": "middle",
          "yref": "y"
         },
         {
          "align": "center",
          "font": {
           "color": "#000000",
           "size": 12
          },
          "opacity": 1,
          "showarrow": false,
          "text": "11",
          "x": -0.09297855294632547,
          "xanchor": "center",
          "xref": "x",
          "y": 0.0355816397520577,
          "yanchor": "middle",
          "yref": "y"
         },
         {
          "align": "center",
          "font": {
           "color": "#000000",
           "size": 12
          },
          "opacity": 1,
          "showarrow": false,
          "text": "12",
          "x": 0.19967523032413864,
          "xanchor": "center",
          "xref": "x",
          "y": -0.06500212138759126,
          "yanchor": "middle",
          "yref": "y"
         },
         {
          "align": "center",
          "font": {
           "color": "#000000",
           "size": 12
          },
          "opacity": 1,
          "showarrow": false,
          "text": "13",
          "x": -0.5186763331072736,
          "xanchor": "center",
          "xref": "x",
          "y": -0.8090215006965826,
          "yanchor": "middle",
          "yref": "y"
         },
         {
          "align": "center",
          "font": {
           "color": "#000000",
           "size": 12
          },
          "opacity": 1,
          "showarrow": false,
          "text": "14",
          "x": -0.8311018460604646,
          "xanchor": "center",
          "xref": "x",
          "y": 0.26597273882206857,
          "yanchor": "middle",
          "yref": "y"
         },
         {
          "align": "center",
          "font": {
           "color": "#000000",
           "size": 12
          },
          "opacity": 1,
          "showarrow": false,
          "text": "15",
          "x": 0.9691119312197313,
          "xanchor": "center",
          "xref": "x",
          "y": 0.31459960368884315,
          "yanchor": "middle",
          "yref": "y"
         },
         {
          "align": "center",
          "font": {
           "color": "#000000",
           "size": 12
          },
          "opacity": 1,
          "showarrow": false,
          "text": "16",
          "x": 0.6735548681503039,
          "xanchor": "center",
          "xref": "x",
          "y": 0.7850528799334799,
          "yanchor": "middle",
          "yref": "y"
         },
         {
          "align": "center",
          "font": {
           "color": "#000000",
           "size": 12
          },
          "opacity": 1,
          "showarrow": false,
          "text": "17",
          "x": -0.14328241085450427,
          "xanchor": "center",
          "xref": "x",
          "y": -0.9756251692062234,
          "yanchor": "middle",
          "yref": "y"
         },
         {
          "align": "center",
          "font": {
           "color": "#000000",
           "size": 12
          },
          "opacity": 1,
          "showarrow": false,
          "text": "18",
          "x": 0.23973657606158053,
          "xanchor": "center",
          "xref": "x",
          "y": -0.113408626130564,
          "yanchor": "middle",
          "yref": "y"
         },
         {
          "align": "center",
          "font": {
           "color": "#000000",
           "size": 12
          },
          "opacity": 1,
          "showarrow": false,
          "text": "19",
          "x": -0.0766313250947936,
          "xanchor": "center",
          "xref": "x",
          "y": -0.19641298307934893,
          "yanchor": "middle",
          "yref": "y"
         },
         {
          "align": "center",
          "font": {
           "color": "#000000",
           "size": 12
          },
          "opacity": 1,
          "showarrow": false,
          "text": "20",
          "x": 0.0065412106723328825,
          "xanchor": "center",
          "xref": "x",
          "y": 0.023771627073276853,
          "yanchor": "middle",
          "yref": "y"
         },
         {
          "align": "center",
          "font": {
           "color": "#000000",
           "size": 12
          },
          "opacity": 1,
          "showarrow": false,
          "text": "21",
          "x": -0.7654807276453393,
          "xanchor": "center",
          "xref": "x",
          "y": -0.57849004298971,
          "yanchor": "middle",
          "yref": "y"
         },
         {
          "align": "center",
          "font": {
           "color": "#000000",
           "size": 12
          },
          "opacity": 1,
          "showarrow": false,
          "text": "22",
          "x": 0.18452329921302246,
          "xanchor": "center",
          "xref": "x",
          "y": -0.036097635777289645,
          "yanchor": "middle",
          "yref": "y"
         },
         {
          "align": "center",
          "font": {
           "color": "#000000",
           "size": 12
          },
          "opacity": 1,
          "showarrow": false,
          "text": "23",
          "x": 0.3004753870861677,
          "xanchor": "center",
          "xref": "x",
          "y": -0.865718884734929,
          "yanchor": "middle",
          "yref": "y"
         },
         {
          "align": "center",
          "font": {
           "color": "#000000",
           "size": 12
          },
          "opacity": 1,
          "showarrow": false,
          "text": "24",
          "x": 0.057666891894689244,
          "xanchor": "center",
          "xref": "x",
          "y": -0.2955876196292928,
          "yanchor": "middle",
          "yref": "y"
         },
         {
          "align": "center",
          "font": {
           "color": "#000000",
           "size": 12
          },
          "opacity": 1,
          "showarrow": false,
          "text": "25",
          "x": -0.016386730974340756,
          "xanchor": "center",
          "xref": "x",
          "y": -0.4432405149399174,
          "yanchor": "middle",
          "yref": "y"
         },
         {
          "align": "center",
          "font": {
           "color": "#000000",
           "size": 12
          },
          "opacity": 1,
          "showarrow": false,
          "text": "26",
          "x": -0.34506527464943754,
          "xanchor": "center",
          "xref": "x",
          "y": -0.9062712884224359,
          "yanchor": "middle",
          "yref": "y"
         },
         {
          "align": "center",
          "font": {
           "color": "#000000",
           "size": 12
          },
          "opacity": 1,
          "showarrow": false,
          "text": "27",
          "x": 0.10719211823001766,
          "xanchor": "center",
          "xref": "x",
          "y": -0.8762171834784038,
          "yanchor": "middle",
          "yref": "y"
         },
         {
          "align": "center",
          "font": {
           "color": "#000000",
           "size": 12
          },
          "opacity": 1,
          "showarrow": false,
          "text": "28",
          "x": 0.5073593340199738,
          "xanchor": "center",
          "xref": "x",
          "y": 0.8223102477832533,
          "yanchor": "middle",
          "yref": "y"
         },
         {
          "align": "center",
          "font": {
           "color": "#000000",
           "size": 12
          },
          "opacity": 1,
          "showarrow": false,
          "text": "29",
          "x": 0.6549106603114618,
          "xanchor": "center",
          "xref": "x",
          "y": 0.6791741256253792,
          "yanchor": "middle",
          "yref": "y"
         },
         {
          "align": "center",
          "font": {
           "color": "#000000",
           "size": 12
          },
          "opacity": 1,
          "showarrow": false,
          "text": "30",
          "x": 0.19002062507874093,
          "xanchor": "center",
          "xref": "x",
          "y": -0.16633337081137406,
          "yanchor": "middle",
          "yref": "y"
         },
         {
          "align": "center",
          "font": {
           "color": "#000000",
           "size": 12
          },
          "opacity": 1,
          "showarrow": false,
          "text": "31",
          "x": -0.8748477744582044,
          "xanchor": "center",
          "xref": "x",
          "y": 0.2221623223686954,
          "yanchor": "middle",
          "yref": "y"
         },
         {
          "align": "center",
          "font": {
           "color": "#000000",
           "size": 12
          },
          "opacity": 1,
          "showarrow": false,
          "text": "32",
          "x": -0.8919766794666291,
          "xanchor": "center",
          "xref": "x",
          "y": -0.22842204801683985,
          "yanchor": "middle",
          "yref": "y"
         },
         {
          "align": "center",
          "font": {
           "color": "#000000",
           "size": 12
          },
          "opacity": 1,
          "showarrow": false,
          "text": "33",
          "x": -0.9502187898965254,
          "xanchor": "center",
          "xref": "x",
          "y": -0.24458098378165924,
          "yanchor": "middle",
          "yref": "y"
         },
         {
          "align": "center",
          "font": {
           "color": "#000000",
           "size": 12
          },
          "opacity": 1,
          "showarrow": false,
          "text": "34",
          "x": 0.9219353329852941,
          "xanchor": "center",
          "xref": "x",
          "y": -0.4439119440193785,
          "yanchor": "middle",
          "yref": "y"
         },
         {
          "align": "center",
          "font": {
           "color": "#000000",
           "size": 12
          },
          "opacity": 1,
          "showarrow": false,
          "text": "35",
          "x": -0.09091204792780473,
          "xanchor": "center",
          "xref": "x",
          "y": 0.1534169962078626,
          "yanchor": "middle",
          "yref": "y"
         },
         {
          "align": "center",
          "font": {
           "color": "#000000",
           "size": 12
          },
          "opacity": 1,
          "showarrow": false,
          "text": "36",
          "x": 0.1670571735804188,
          "xanchor": "center",
          "xref": "x",
          "y": -0.23100542435014695,
          "yanchor": "middle",
          "yref": "y"
         },
         {
          "align": "center",
          "font": {
           "color": "#000000",
           "size": 12
          },
          "opacity": 1,
          "showarrow": false,
          "text": "37",
          "x": -0.10163397365702019,
          "xanchor": "center",
          "xref": "x",
          "y": 0.10406507781359893,
          "yanchor": "middle",
          "yref": "y"
         },
         {
          "align": "center",
          "font": {
           "color": "#000000",
           "size": 12
          },
          "opacity": 1,
          "showarrow": false,
          "text": "38",
          "x": -0.8626334637281057,
          "xanchor": "center",
          "xref": "x",
          "y": -0.5715771346756279,
          "yanchor": "middle",
          "yref": "y"
         },
         {
          "align": "center",
          "font": {
           "color": "#000000",
           "size": 12
          },
          "opacity": 1,
          "showarrow": false,
          "text": "39",
          "x": -0.19298078127744905,
          "xanchor": "center",
          "xref": "x",
          "y": 0.4740255738235645,
          "yanchor": "middle",
          "yref": "y"
         },
         {
          "align": "center",
          "font": {
           "color": "#000000",
           "size": 12
          },
          "opacity": 1,
          "showarrow": false,
          "text": "40",
          "x": -0.23995056582710195,
          "xanchor": "center",
          "xref": "x",
          "y": 0.42955913785275207,
          "yanchor": "middle",
          "yref": "y"
         },
         {
          "align": "center",
          "font": {
           "color": "#000000",
           "size": 12
          },
          "opacity": 1,
          "showarrow": false,
          "text": "41",
          "x": -0.532879622565993,
          "xanchor": "center",
          "xref": "x",
          "y": 0.9117053778717253,
          "yanchor": "middle",
          "yref": "y"
         },
         {
          "align": "center",
          "font": {
           "color": "#000000",
           "size": 12
          },
          "opacity": 1,
          "showarrow": false,
          "text": "42",
          "x": -0.18619763949439744,
          "xanchor": "center",
          "xref": "x",
          "y": 0.2932615049827205,
          "yanchor": "middle",
          "yref": "y"
         },
         {
          "align": "center",
          "font": {
           "color": "#000000",
           "size": 12
          },
          "opacity": 1,
          "showarrow": false,
          "text": "43",
          "x": 0.6361766807153616,
          "xanchor": "center",
          "xref": "x",
          "y": -0.6961390539935399,
          "yanchor": "middle",
          "yref": "y"
         },
         {
          "align": "center",
          "font": {
           "color": "#000000",
           "size": 12
          },
          "opacity": 1,
          "showarrow": false,
          "text": "44",
          "x": 0.8251872395849116,
          "xanchor": "center",
          "xref": "x",
          "y": 0.6301499915755803,
          "yanchor": "middle",
          "yref": "y"
         },
         {
          "align": "center",
          "font": {
           "color": "#000000",
           "size": 12
          },
          "opacity": 1,
          "showarrow": false,
          "text": "45",
          "x": -0.07553527813004195,
          "xanchor": "center",
          "xref": "x",
          "y": 0.24818288961176535,
          "yanchor": "middle",
          "yref": "y"
         },
         {
          "align": "center",
          "font": {
           "color": "#000000",
           "size": 12
          },
          "opacity": 1,
          "showarrow": false,
          "text": "46",
          "x": 0.8574541307583321,
          "xanchor": "center",
          "xref": "x",
          "y": 0.4952981278104606,
          "yanchor": "middle",
          "yref": "y"
         },
         {
          "align": "center",
          "font": {
           "color": "#000000",
           "size": 12
          },
          "opacity": 1,
          "showarrow": false,
          "text": "47",
          "x": -0.29117902240882154,
          "xanchor": "center",
          "xref": "x",
          "y": 0.4856361930406782,
          "yanchor": "middle",
          "yref": "y"
         },
         {
          "align": "center",
          "font": {
           "color": "#000000",
           "size": 12
          },
          "opacity": 1,
          "showarrow": false,
          "text": "48",
          "x": 0.8664334879764105,
          "xanchor": "center",
          "xref": "x",
          "y": -0.2220249190959516,
          "yanchor": "middle",
          "yref": "y"
         },
         {
          "align": "center",
          "font": {
           "color": "#000000",
           "size": 12
          },
          "opacity": 1,
          "showarrow": false,
          "text": "49",
          "x": -0.1300390614841882,
          "xanchor": "center",
          "xref": "x",
          "y": -0.2518042322735406,
          "yanchor": "middle",
          "yref": "y"
         },
         {
          "align": "center",
          "font": {
           "color": "#000000",
           "size": 12
          },
          "opacity": 1,
          "showarrow": false,
          "text": "50",
          "x": -0.12231233496527902,
          "xanchor": "center",
          "xref": "x",
          "y": 0.03760489682318179,
          "yanchor": "middle",
          "yref": "y"
         },
         {
          "align": "center",
          "font": {
           "color": "#000000",
           "size": 12
          },
          "opacity": 1,
          "showarrow": false,
          "text": "51",
          "x": 0.32632500728945724,
          "xanchor": "center",
          "xref": "x",
          "y": 0.9913137861232508,
          "yanchor": "middle",
          "yref": "y"
         },
         {
          "align": "center",
          "font": {
           "color": "#000000",
           "size": 12
          },
          "opacity": 1,
          "showarrow": false,
          "text": "52",
          "x": 0.05979039024866343,
          "xanchor": "center",
          "xref": "x",
          "y": -0.02216309971743641,
          "yanchor": "middle",
          "yref": "y"
         },
         {
          "align": "center",
          "font": {
           "color": "#000000",
           "size": 12
          },
          "opacity": 1,
          "showarrow": false,
          "text": "53",
          "x": -1,
          "xanchor": "center",
          "xref": "x",
          "y": 0.08742573043119183,
          "yanchor": "middle",
          "yref": "y"
         },
         {
          "align": "center",
          "font": {
           "color": "#000000",
           "size": 12
          },
          "opacity": 1,
          "showarrow": false,
          "text": "54",
          "x": -0.10973382490380247,
          "xanchor": "center",
          "xref": "x",
          "y": 0.3422758491242301,
          "yanchor": "middle",
          "yref": "y"
         },
         {
          "align": "center",
          "font": {
           "color": "#000000",
           "size": 12
          },
          "opacity": 1,
          "showarrow": false,
          "text": "55",
          "x": 0.01287871997452726,
          "xanchor": "center",
          "xref": "x",
          "y": -0.379690014622785,
          "yanchor": "middle",
          "yref": "y"
         },
         {
          "align": "center",
          "font": {
           "color": "#000000",
           "size": 12
          },
          "opacity": 1,
          "showarrow": false,
          "text": "56",
          "x": -0.8205364970737995,
          "xanchor": "center",
          "xref": "x",
          "y": 0.22417275255431687,
          "yanchor": "middle",
          "yref": "y"
         },
         {
          "align": "center",
          "font": {
           "color": "#000000",
           "size": 12
          },
          "opacity": 1,
          "showarrow": false,
          "text": "57",
          "x": -0.791839026229745,
          "xanchor": "center",
          "xref": "x",
          "y": 0.7154308617371621,
          "yanchor": "middle",
          "yref": "y"
         },
         {
          "align": "center",
          "font": {
           "color": "#000000",
           "size": 12
          },
          "opacity": 1,
          "showarrow": false,
          "text": "58",
          "x": -0.12333592349064591,
          "xanchor": "center",
          "xref": "x",
          "y": 0.18634560614368642,
          "yanchor": "middle",
          "yref": "y"
         },
         {
          "align": "center",
          "font": {
           "color": "#000000",
           "size": 12
          },
          "opacity": 1,
          "showarrow": false,
          "text": "59",
          "x": 0.10426209434543872,
          "xanchor": "center",
          "xref": "x",
          "y": -0.18905463877834067,
          "yanchor": "middle",
          "yref": "y"
         },
         {
          "align": "center",
          "font": {
           "color": "#000000",
           "size": 12
          },
          "opacity": 1,
          "showarrow": false,
          "text": "60",
          "x": -0.30168107481717993,
          "xanchor": "center",
          "xref": "x",
          "y": 0.4240374823643645,
          "yanchor": "middle",
          "yref": "y"
         },
         {
          "align": "center",
          "font": {
           "color": "#000000",
           "size": 12
          },
          "opacity": 1,
          "showarrow": false,
          "text": "61",
          "x": 0.6605868493424856,
          "xanchor": "center",
          "xref": "x",
          "y": -0.5209578537514105,
          "yanchor": "middle",
          "yref": "y"
         },
         {
          "align": "center",
          "font": {
           "color": "#000000",
           "size": 12
          },
          "opacity": 1,
          "showarrow": false,
          "text": "62",
          "x": -0.25904303849681454,
          "xanchor": "center",
          "xref": "x",
          "y": 0.4640684786863864,
          "yanchor": "middle",
          "yref": "y"
         },
         {
          "align": "center",
          "font": {
           "color": "#000000",
           "size": 12
          },
          "opacity": 1,
          "showarrow": false,
          "text": "63",
          "x": 0.9190294146059346,
          "xanchor": "center",
          "xref": "x",
          "y": -0.23238490098108408,
          "yanchor": "middle",
          "yref": "y"
         },
         {
          "align": "center",
          "font": {
           "color": "#000000",
           "size": 12
          },
          "opacity": 1,
          "showarrow": false,
          "text": "64",
          "x": -0.26387010525581506,
          "xanchor": "center",
          "xref": "x",
          "y": 0.40370644431968367,
          "yanchor": "middle",
          "yref": "y"
         },
         {
          "align": "center",
          "font": {
           "color": "#000000",
           "size": 12
          },
          "opacity": 1,
          "showarrow": false,
          "text": "65",
          "x": -0.3427987524403842,
          "xanchor": "center",
          "xref": "x",
          "y": 0.6151548218312699,
          "yanchor": "middle",
          "yref": "y"
         },
         {
          "align": "center",
          "font": {
           "color": "#000000",
           "size": 12
          },
          "opacity": 1,
          "showarrow": false,
          "text": "66",
          "x": -0.04143931556464372,
          "xanchor": "center",
          "xref": "x",
          "y": 0.9777267947052012,
          "yanchor": "middle",
          "yref": "y"
         },
         {
          "align": "center",
          "font": {
           "color": "#000000",
           "size": 12
          },
          "opacity": 1,
          "showarrow": false,
          "text": "67",
          "x": -0.9044895153594267,
          "xanchor": "center",
          "xref": "x",
          "y": -0.4103779230818424,
          "yanchor": "middle",
          "yref": "y"
         },
         {
          "align": "center",
          "font": {
           "color": "#000000",
           "size": 12
          },
          "opacity": 1,
          "showarrow": false,
          "text": "68",
          "x": -0.207696408328426,
          "xanchor": "center",
          "xref": "x",
          "y": 0.3735414052077241,
          "yanchor": "middle",
          "yref": "y"
         },
         {
          "align": "center",
          "font": {
           "color": "#000000",
           "size": 12
          },
          "opacity": 1,
          "showarrow": false,
          "text": "69",
          "x": -0.23954730238856134,
          "xanchor": "center",
          "xref": "x",
          "y": 0.3724394929559936,
          "yanchor": "middle",
          "yref": "y"
         },
         {
          "align": "center",
          "font": {
           "color": "#000000",
           "size": 12
          },
          "opacity": 1,
          "showarrow": false,
          "text": "70",
          "x": 0.8410416814212276,
          "xanchor": "center",
          "xref": "x",
          "y": -0.5069960345482136,
          "yanchor": "middle",
          "yref": "y"
         },
         {
          "align": "center",
          "font": {
           "color": "#000000",
           "size": 12
          },
          "opacity": 1,
          "showarrow": false,
          "text": "71",
          "x": 0.14617419547779986,
          "xanchor": "center",
          "xref": "x",
          "y": -0.2566265513416203,
          "yanchor": "middle",
          "yref": "y"
         },
         {
          "align": "center",
          "font": {
           "color": "#000000",
           "size": 12
          },
          "opacity": 1,
          "showarrow": false,
          "text": "72",
          "x": -0.16794970562073,
          "xanchor": "center",
          "xref": "x",
          "y": 0.41948948168232625,
          "yanchor": "middle",
          "yref": "y"
         },
         {
          "align": "center",
          "font": {
           "color": "#000000",
           "size": 12
          },
          "opacity": 1,
          "showarrow": false,
          "text": "73",
          "x": 0.7592697352929323,
          "xanchor": "center",
          "xref": "x",
          "y": -0.5328478758736778,
          "yanchor": "middle",
          "yref": "y"
         },
         {
          "align": "center",
          "font": {
           "color": "#000000",
           "size": 12
          },
          "opacity": 1,
          "showarrow": false,
          "text": "74",
          "x": 0.45290783118339606,
          "xanchor": "center",
          "xref": "x",
          "y": -0.8719158970854585,
          "yanchor": "middle",
          "yref": "y"
         },
         {
          "align": "center",
          "font": {
           "color": "#000000",
           "size": 12
          },
          "opacity": 1,
          "showarrow": false,
          "text": "75",
          "x": -0.6458180666662212,
          "xanchor": "center",
          "xref": "x",
          "y": -0.6376240079668073,
          "yanchor": "middle",
          "yref": "y"
         },
         {
          "align": "center",
          "font": {
           "color": "#000000",
           "size": 12
          },
          "opacity": 1,
          "showarrow": false,
          "text": "76",
          "x": -0.0531443262898228,
          "xanchor": "center",
          "xref": "x",
          "y": -0.16246363400058156,
          "yanchor": "middle",
          "yref": "y"
         },
         {
          "align": "center",
          "font": {
           "color": "#000000",
           "size": 12
          },
          "opacity": 1,
          "showarrow": false,
          "text": "77",
          "x": 0.27460349877402135,
          "xanchor": "center",
          "xref": "x",
          "y": 0.1565849829867221,
          "yanchor": "middle",
          "yref": "y"
         },
         {
          "align": "center",
          "font": {
           "color": "#000000",
           "size": 12
          },
          "opacity": 1,
          "showarrow": false,
          "text": "78",
          "x": 0.16099008859072292,
          "xanchor": "center",
          "xref": "x",
          "y": 0.021811141508543207,
          "yanchor": "middle",
          "yref": "y"
         },
         {
          "align": "center",
          "font": {
           "color": "#000000",
           "size": 12
          },
          "opacity": 1,
          "showarrow": false,
          "text": "79",
          "x": 0.11226870515617399,
          "xanchor": "center",
          "xref": "x",
          "y": -0.25834144479544663,
          "yanchor": "middle",
          "yref": "y"
         },
         {
          "align": "center",
          "font": {
           "color": "#000000",
           "size": 12
          },
          "opacity": 1,
          "showarrow": false,
          "text": "80",
          "x": -0.307481256279262,
          "xanchor": "center",
          "xref": "x",
          "y": 0.5516510699354568,
          "yanchor": "middle",
          "yref": "y"
         },
         {
          "align": "center",
          "font": {
           "color": "#000000",
           "size": 12
          },
          "opacity": 1,
          "showarrow": false,
          "text": "81",
          "x": 0.8749598838571426,
          "xanchor": "center",
          "xref": "x",
          "y": 0.19504625620148633,
          "yanchor": "middle",
          "yref": "y"
         },
         {
          "align": "center",
          "font": {
           "color": "#000000",
           "size": 12
          },
          "opacity": 1,
          "showarrow": false,
          "text": "82",
          "x": -0.15141020038112693,
          "xanchor": "center",
          "xref": "x",
          "y": 0.4840149483863909,
          "yanchor": "middle",
          "yref": "y"
         },
         {
          "align": "center",
          "font": {
           "color": "#000000",
           "size": 12
          },
          "opacity": 1,
          "showarrow": false,
          "text": "83",
          "x": 0.042982540528231784,
          "xanchor": "center",
          "xref": "x",
          "y": -0.0941970817200259,
          "yanchor": "middle",
          "yref": "y"
         },
         {
          "align": "center",
          "font": {
           "color": "#000000",
           "size": 12
          },
          "opacity": 1,
          "showarrow": false,
          "text": "84",
          "x": -0.06099615700903297,
          "xanchor": "center",
          "xref": "x",
          "y": 0.13939916503291497,
          "yanchor": "middle",
          "yref": "y"
         },
         {
          "align": "center",
          "font": {
           "color": "#000000",
           "size": 12
          },
          "opacity": 1,
          "showarrow": false,
          "text": "85",
          "x": -0.11341526614211653,
          "xanchor": "center",
          "xref": "x",
          "y": 0.14518408972080474,
          "yanchor": "middle",
          "yref": "y"
         },
         {
          "align": "center",
          "font": {
           "color": "#000000",
           "size": 12
          },
          "opacity": 1,
          "showarrow": false,
          "text": "86",
          "x": -0.9356070893079974,
          "xanchor": "center",
          "xref": "x",
          "y": -0.060057167051561014,
          "yanchor": "middle",
          "yref": "y"
         },
         {
          "align": "center",
          "font": {
           "color": "#000000",
           "size": 12
          },
          "opacity": 1,
          "showarrow": false,
          "text": "87",
          "x": 0.11082425866601008,
          "xanchor": "center",
          "xref": "x",
          "y": -0.9309289188906331,
          "yanchor": "middle",
          "yref": "y"
         },
         {
          "align": "center",
          "font": {
           "color": "#000000",
           "size": 12
          },
          "opacity": 1,
          "showarrow": false,
          "text": "88",
          "x": 0.2237994117422273,
          "xanchor": "center",
          "xref": "x",
          "y": 0.1038140588821208,
          "yanchor": "middle",
          "yref": "y"
         },
         {
          "align": "center",
          "font": {
           "color": "#000000",
           "size": 12
          },
          "opacity": 1,
          "showarrow": false,
          "text": "89",
          "x": 0.9236702384592935,
          "xanchor": "center",
          "xref": "x",
          "y": 0.001479140254759766,
          "yanchor": "middle",
          "yref": "y"
         },
         {
          "align": "center",
          "font": {
           "color": "#000000",
           "size": 12
          },
          "opacity": 1,
          "showarrow": false,
          "text": "90",
          "x": 0.9579441882233244,
          "xanchor": "center",
          "xref": "x",
          "y": 0.010812015302283644,
          "yanchor": "middle",
          "yref": "y"
         },
         {
          "align": "center",
          "font": {
           "color": "#000000",
           "size": 12
          },
          "opacity": 1,
          "showarrow": false,
          "text": "91",
          "x": -0.004237352595826743,
          "xanchor": "center",
          "xref": "x",
          "y": -0.06942113347479935,
          "yanchor": "middle",
          "yref": "y"
         },
         {
          "align": "center",
          "font": {
           "color": "#000000",
           "size": 12
          },
          "opacity": 1,
          "showarrow": false,
          "text": "92",
          "x": 0.3905707489608442,
          "xanchor": "center",
          "xref": "x",
          "y": 0.9093120286472576,
          "yanchor": "middle",
          "yref": "y"
         },
         {
          "align": "center",
          "font": {
           "color": "#000000",
           "size": 12
          },
          "opacity": 1,
          "showarrow": false,
          "text": "93",
          "x": -0.36382741407418234,
          "xanchor": "center",
          "xref": "x",
          "y": -0.9550620085904159,
          "yanchor": "middle",
          "yref": "y"
         }
        ],
        "autosize": false,
        "height": 864,
        "hovermode": "closest",
        "legend": {
         "x": 0.01,
         "xanchor": "left",
         "y": 0.99,
         "yanchor": "top"
        },
        "margin": {
         "b": 0,
         "l": 0,
         "pad": 0,
         "r": 0,
         "t": 0
        },
        "showlegend": true,
        "template": {
         "data": {
          "bar": [
           {
            "error_x": {
             "color": "#2a3f5f"
            },
            "error_y": {
             "color": "#2a3f5f"
            },
            "marker": {
             "line": {
              "color": "#E5ECF6",
              "width": 0.5
             },
             "pattern": {
              "fillmode": "overlay",
              "size": 10,
              "solidity": 0.2
             }
            },
            "type": "bar"
           }
          ],
          "barpolar": [
           {
            "marker": {
             "line": {
              "color": "#E5ECF6",
              "width": 0.5
             },
             "pattern": {
              "fillmode": "overlay",
              "size": 10,
              "solidity": 0.2
             }
            },
            "type": "barpolar"
           }
          ],
          "carpet": [
           {
            "aaxis": {
             "endlinecolor": "#2a3f5f",
             "gridcolor": "white",
             "linecolor": "white",
             "minorgridcolor": "white",
             "startlinecolor": "#2a3f5f"
            },
            "baxis": {
             "endlinecolor": "#2a3f5f",
             "gridcolor": "white",
             "linecolor": "white",
             "minorgridcolor": "white",
             "startlinecolor": "#2a3f5f"
            },
            "type": "carpet"
           }
          ],
          "choropleth": [
           {
            "colorbar": {
             "outlinewidth": 0,
             "ticks": ""
            },
            "type": "choropleth"
           }
          ],
          "contour": [
           {
            "colorbar": {
             "outlinewidth": 0,
             "ticks": ""
            },
            "colorscale": [
             [
              0,
              "#0d0887"
             ],
             [
              0.1111111111111111,
              "#46039f"
             ],
             [
              0.2222222222222222,
              "#7201a8"
             ],
             [
              0.3333333333333333,
              "#9c179e"
             ],
             [
              0.4444444444444444,
              "#bd3786"
             ],
             [
              0.5555555555555556,
              "#d8576b"
             ],
             [
              0.6666666666666666,
              "#ed7953"
             ],
             [
              0.7777777777777778,
              "#fb9f3a"
             ],
             [
              0.8888888888888888,
              "#fdca26"
             ],
             [
              1,
              "#f0f921"
             ]
            ],
            "type": "contour"
           }
          ],
          "contourcarpet": [
           {
            "colorbar": {
             "outlinewidth": 0,
             "ticks": ""
            },
            "type": "contourcarpet"
           }
          ],
          "heatmap": [
           {
            "colorbar": {
             "outlinewidth": 0,
             "ticks": ""
            },
            "colorscale": [
             [
              0,
              "#0d0887"
             ],
             [
              0.1111111111111111,
              "#46039f"
             ],
             [
              0.2222222222222222,
              "#7201a8"
             ],
             [
              0.3333333333333333,
              "#9c179e"
             ],
             [
              0.4444444444444444,
              "#bd3786"
             ],
             [
              0.5555555555555556,
              "#d8576b"
             ],
             [
              0.6666666666666666,
              "#ed7953"
             ],
             [
              0.7777777777777778,
              "#fb9f3a"
             ],
             [
              0.8888888888888888,
              "#fdca26"
             ],
             [
              1,
              "#f0f921"
             ]
            ],
            "type": "heatmap"
           }
          ],
          "heatmapgl": [
           {
            "colorbar": {
             "outlinewidth": 0,
             "ticks": ""
            },
            "colorscale": [
             [
              0,
              "#0d0887"
             ],
             [
              0.1111111111111111,
              "#46039f"
             ],
             [
              0.2222222222222222,
              "#7201a8"
             ],
             [
              0.3333333333333333,
              "#9c179e"
             ],
             [
              0.4444444444444444,
              "#bd3786"
             ],
             [
              0.5555555555555556,
              "#d8576b"
             ],
             [
              0.6666666666666666,
              "#ed7953"
             ],
             [
              0.7777777777777778,
              "#fb9f3a"
             ],
             [
              0.8888888888888888,
              "#fdca26"
             ],
             [
              1,
              "#f0f921"
             ]
            ],
            "type": "heatmapgl"
           }
          ],
          "histogram": [
           {
            "marker": {
             "pattern": {
              "fillmode": "overlay",
              "size": 10,
              "solidity": 0.2
             }
            },
            "type": "histogram"
           }
          ],
          "histogram2d": [
           {
            "colorbar": {
             "outlinewidth": 0,
             "ticks": ""
            },
            "colorscale": [
             [
              0,
              "#0d0887"
             ],
             [
              0.1111111111111111,
              "#46039f"
             ],
             [
              0.2222222222222222,
              "#7201a8"
             ],
             [
              0.3333333333333333,
              "#9c179e"
             ],
             [
              0.4444444444444444,
              "#bd3786"
             ],
             [
              0.5555555555555556,
              "#d8576b"
             ],
             [
              0.6666666666666666,
              "#ed7953"
             ],
             [
              0.7777777777777778,
              "#fb9f3a"
             ],
             [
              0.8888888888888888,
              "#fdca26"
             ],
             [
              1,
              "#f0f921"
             ]
            ],
            "type": "histogram2d"
           }
          ],
          "histogram2dcontour": [
           {
            "colorbar": {
             "outlinewidth": 0,
             "ticks": ""
            },
            "colorscale": [
             [
              0,
              "#0d0887"
             ],
             [
              0.1111111111111111,
              "#46039f"
             ],
             [
              0.2222222222222222,
              "#7201a8"
             ],
             [
              0.3333333333333333,
              "#9c179e"
             ],
             [
              0.4444444444444444,
              "#bd3786"
             ],
             [
              0.5555555555555556,
              "#d8576b"
             ],
             [
              0.6666666666666666,
              "#ed7953"
             ],
             [
              0.7777777777777778,
              "#fb9f3a"
             ],
             [
              0.8888888888888888,
              "#fdca26"
             ],
             [
              1,
              "#f0f921"
             ]
            ],
            "type": "histogram2dcontour"
           }
          ],
          "mesh3d": [
           {
            "colorbar": {
             "outlinewidth": 0,
             "ticks": ""
            },
            "type": "mesh3d"
           }
          ],
          "parcoords": [
           {
            "line": {
             "colorbar": {
              "outlinewidth": 0,
              "ticks": ""
             }
            },
            "type": "parcoords"
           }
          ],
          "pie": [
           {
            "automargin": true,
            "type": "pie"
           }
          ],
          "scatter": [
           {
            "marker": {
             "colorbar": {
              "outlinewidth": 0,
              "ticks": ""
             }
            },
            "type": "scatter"
           }
          ],
          "scatter3d": [
           {
            "line": {
             "colorbar": {
              "outlinewidth": 0,
              "ticks": ""
             }
            },
            "marker": {
             "colorbar": {
              "outlinewidth": 0,
              "ticks": ""
             }
            },
            "type": "scatter3d"
           }
          ],
          "scattercarpet": [
           {
            "marker": {
             "colorbar": {
              "outlinewidth": 0,
              "ticks": ""
             }
            },
            "type": "scattercarpet"
           }
          ],
          "scattergeo": [
           {
            "marker": {
             "colorbar": {
              "outlinewidth": 0,
              "ticks": ""
             }
            },
            "type": "scattergeo"
           }
          ],
          "scattergl": [
           {
            "marker": {
             "colorbar": {
              "outlinewidth": 0,
              "ticks": ""
             }
            },
            "type": "scattergl"
           }
          ],
          "scattermapbox": [
           {
            "marker": {
             "colorbar": {
              "outlinewidth": 0,
              "ticks": ""
             }
            },
            "type": "scattermapbox"
           }
          ],
          "scatterpolar": [
           {
            "marker": {
             "colorbar": {
              "outlinewidth": 0,
              "ticks": ""
             }
            },
            "type": "scatterpolar"
           }
          ],
          "scatterpolargl": [
           {
            "marker": {
             "colorbar": {
              "outlinewidth": 0,
              "ticks": ""
             }
            },
            "type": "scatterpolargl"
           }
          ],
          "scatterternary": [
           {
            "marker": {
             "colorbar": {
              "outlinewidth": 0,
              "ticks": ""
             }
            },
            "type": "scatterternary"
           }
          ],
          "surface": [
           {
            "colorbar": {
             "outlinewidth": 0,
             "ticks": ""
            },
            "colorscale": [
             [
              0,
              "#0d0887"
             ],
             [
              0.1111111111111111,
              "#46039f"
             ],
             [
              0.2222222222222222,
              "#7201a8"
             ],
             [
              0.3333333333333333,
              "#9c179e"
             ],
             [
              0.4444444444444444,
              "#bd3786"
             ],
             [
              0.5555555555555556,
              "#d8576b"
             ],
             [
              0.6666666666666666,
              "#ed7953"
             ],
             [
              0.7777777777777778,
              "#fb9f3a"
             ],
             [
              0.8888888888888888,
              "#fdca26"
             ],
             [
              1,
              "#f0f921"
             ]
            ],
            "type": "surface"
           }
          ],
          "table": [
           {
            "cells": {
             "fill": {
              "color": "#EBF0F8"
             },
             "line": {
              "color": "white"
             }
            },
            "header": {
             "fill": {
              "color": "#C8D4E3"
             },
             "line": {
              "color": "white"
             }
            },
            "type": "table"
           }
          ]
         },
         "layout": {
          "annotationdefaults": {
           "arrowcolor": "#2a3f5f",
           "arrowhead": 0,
           "arrowwidth": 1
          },
          "autotypenumbers": "strict",
          "coloraxis": {
           "colorbar": {
            "outlinewidth": 0,
            "ticks": ""
           }
          },
          "colorscale": {
           "diverging": [
            [
             0,
             "#8e0152"
            ],
            [
             0.1,
             "#c51b7d"
            ],
            [
             0.2,
             "#de77ae"
            ],
            [
             0.3,
             "#f1b6da"
            ],
            [
             0.4,
             "#fde0ef"
            ],
            [
             0.5,
             "#f7f7f7"
            ],
            [
             0.6,
             "#e6f5d0"
            ],
            [
             0.7,
             "#b8e186"
            ],
            [
             0.8,
             "#7fbc41"
            ],
            [
             0.9,
             "#4d9221"
            ],
            [
             1,
             "#276419"
            ]
           ],
           "sequential": [
            [
             0,
             "#0d0887"
            ],
            [
             0.1111111111111111,
             "#46039f"
            ],
            [
             0.2222222222222222,
             "#7201a8"
            ],
            [
             0.3333333333333333,
             "#9c179e"
            ],
            [
             0.4444444444444444,
             "#bd3786"
            ],
            [
             0.5555555555555556,
             "#d8576b"
            ],
            [
             0.6666666666666666,
             "#ed7953"
            ],
            [
             0.7777777777777778,
             "#fb9f3a"
            ],
            [
             0.8888888888888888,
             "#fdca26"
            ],
            [
             1,
             "#f0f921"
            ]
           ],
           "sequentialminus": [
            [
             0,
             "#0d0887"
            ],
            [
             0.1111111111111111,
             "#46039f"
            ],
            [
             0.2222222222222222,
             "#7201a8"
            ],
            [
             0.3333333333333333,
             "#9c179e"
            ],
            [
             0.4444444444444444,
             "#bd3786"
            ],
            [
             0.5555555555555556,
             "#d8576b"
            ],
            [
             0.6666666666666666,
             "#ed7953"
            ],
            [
             0.7777777777777778,
             "#fb9f3a"
            ],
            [
             0.8888888888888888,
             "#fdca26"
            ],
            [
             1,
             "#f0f921"
            ]
           ]
          },
          "colorway": [
           "#636efa",
           "#EF553B",
           "#00cc96",
           "#ab63fa",
           "#FFA15A",
           "#19d3f3",
           "#FF6692",
           "#B6E880",
           "#FF97FF",
           "#FECB52"
          ],
          "font": {
           "color": "#2a3f5f"
          },
          "geo": {
           "bgcolor": "white",
           "lakecolor": "white",
           "landcolor": "#E5ECF6",
           "showlakes": true,
           "showland": true,
           "subunitcolor": "white"
          },
          "hoverlabel": {
           "align": "left"
          },
          "hovermode": "closest",
          "mapbox": {
           "style": "light"
          },
          "paper_bgcolor": "white",
          "plot_bgcolor": "#E5ECF6",
          "polar": {
           "angularaxis": {
            "gridcolor": "white",
            "linecolor": "white",
            "ticks": ""
           },
           "bgcolor": "#E5ECF6",
           "radialaxis": {
            "gridcolor": "white",
            "linecolor": "white",
            "ticks": ""
           }
          },
          "scene": {
           "xaxis": {
            "backgroundcolor": "#E5ECF6",
            "gridcolor": "white",
            "gridwidth": 2,
            "linecolor": "white",
            "showbackground": true,
            "ticks": "",
            "zerolinecolor": "white"
           },
           "yaxis": {
            "backgroundcolor": "#E5ECF6",
            "gridcolor": "white",
            "gridwidth": 2,
            "linecolor": "white",
            "showbackground": true,
            "ticks": "",
            "zerolinecolor": "white"
           },
           "zaxis": {
            "backgroundcolor": "#E5ECF6",
            "gridcolor": "white",
            "gridwidth": 2,
            "linecolor": "white",
            "showbackground": true,
            "ticks": "",
            "zerolinecolor": "white"
           }
          },
          "shapedefaults": {
           "line": {
            "color": "#2a3f5f"
           }
          },
          "ternary": {
           "aaxis": {
            "gridcolor": "white",
            "linecolor": "white",
            "ticks": ""
           },
           "baxis": {
            "gridcolor": "white",
            "linecolor": "white",
            "ticks": ""
           },
           "bgcolor": "#E5ECF6",
           "caxis": {
            "gridcolor": "white",
            "linecolor": "white",
            "ticks": ""
           }
          },
          "title": {
           "x": 0.05
          },
          "xaxis": {
           "automargin": true,
           "gridcolor": "white",
           "linecolor": "white",
           "ticks": "",
           "title": {
            "standoff": 15
           },
           "zerolinecolor": "white",
           "zerolinewidth": 2
          },
          "yaxis": {
           "automargin": true,
           "gridcolor": "white",
           "linecolor": "white",
           "ticks": "",
           "title": {
            "standoff": 15
           },
           "zerolinecolor": "white",
           "zerolinewidth": 2
          }
         }
        },
        "width": 864,
        "xaxis": {
         "anchor": "y",
         "domain": [
          0,
          1
         ],
         "mirror": "ticks",
         "nticks": 11,
         "range": [
          -1.0984555965609866,
          1.0675675277807177
         ],
         "showgrid": false,
         "showline": true,
         "side": "top",
         "ticks": "inside",
         "type": "linear",
         "visible": false,
         "zeroline": false
        },
        "yaxis": {
         "anchor": "x",
         "domain": [
          0,
          1
         ],
         "mirror": "ticks",
         "nticks": 11,
         "range": [
          -1.0739721169726972,
          1.0896607338897246
         ],
         "showgrid": false,
         "showline": true,
         "side": "right",
         "ticks": "inside",
         "type": "linear",
         "visible": false,
         "zeroline": false
        }
       }
      },
      "image/png": "[encoded data removed]",
      "text/html": [
       "<div>                            <div id=\"287d6e40-f34e-424d-bbd8-b43131d9000d\" class=\"plotly-graph-div\" style=\"height:864px; width:864px;\"></div>            <script type=\"text/javascript\">                require([\"plotly\"], function(Plotly) {                    window.PLOTLYENV=window.PLOTLYENV || {};                                    if (document.getElementById(\"287d6e40-f34e-424d-bbd8-b43131d9000d\")) {                    Plotly.newPlot(                        \"287d6e40-f34e-424d-bbd8-b43131d9000d\",                        [{\"marker\":{\"color\":[\"rgba(252,141,98,1.0)\",\"rgba(252,141,98,1.0)\",\"rgba(141,160,203,1.0)\",\"rgba(252,141,98,1.0)\",\"rgba(141,160,203,1.0)\",\"rgba(252,141,98,1.0)\",\"rgba(252,141,98,1.0)\",\"rgba(252,141,98,1.0)\",\"rgba(231,138,195,1.0)\",\"rgba(252,141,98,1.0)\",\"rgba(141,160,203,1.0)\",\"rgba(231,138,195,1.0)\",\"rgba(141,160,203,1.0)\",\"rgba(141,160,203,1.0)\",\"rgba(252,141,98,1.0)\",\"rgba(252,141,98,1.0)\",\"rgba(141,160,203,1.0)\",\"rgba(141,160,203,1.0)\",\"rgba(141,160,203,1.0)\",\"rgba(252,141,98,1.0)\",\"rgba(141,160,203,1.0)\",\"rgba(252,141,98,1.0)\",\"rgba(252,141,98,1.0)\",\"rgba(231,138,195,1.0)\",\"rgba(141,160,203,1.0)\",\"rgba(252,141,98,1.0)\",\"rgba(231,138,195,1.0)\",\"rgba(141,160,203,1.0)\",\"rgba(231,138,195,1.0)\",\"rgba(252,141,98,1.0)\",\"rgba(231,138,195,1.0)\",\"rgba(252,141,98,1.0)\",\"rgba(141,160,203,1.0)\",\"rgba(141,160,203,1.0)\",\"rgba(141,160,203,1.0)\",\"rgba(231,138,195,1.0)\",\"rgba(252,141,98,1.0)\",\"rgba(231,138,195,1.0)\",\"rgba(231,138,195,1.0)\",\"rgba(231,138,195,1.0)\",\"rgba(252,141,98,1.0)\",\"rgba(252,141,98,1.0)\",\"rgba(141,160,203,1.0)\",\"rgba(231,138,195,1.0)\",\"rgba(141,160,203,1.0)\",\"rgba(231,138,195,1.0)\",\"rgba(231,138,195,1.0)\",\"rgba(231,138,195,1.0)\",\"rgba(141,160,203,1.0)\",\"rgba(252,141,98,1.0)\",\"rgba(141,160,203,1.0)\",\"rgba(252,141,98,1.0)\",\"rgba(231,138,195,1.0)\",\"rgba(252,141,98,1.0)\",\"rgba(252,141,98,1.0)\",\"rgba(231,138,195,1.0)\",\"rgba(141,160,203,1.0)\",\"rgba(231,138,195,1.0)\",\"rgba(231,138,195,1.0)\",\"rgba(231,138,195,1.0)\",\"rgba(231,138,195,1.0)\",\"rgba(231,138,195,1.0)\",\"rgba(231,138,195,1.0)\",\"rgba(252,141,98,1.0)\",\"rgba(231,138,195,1.0)\",\"rgba(252,141,98,1.0)\",\"rgba(141,160,203,1.0)\",\"rgba(231,138,195,1.0)\",\"rgba(231,138,195,1.0)\",\"rgba(141,160,203,1.0)\",\"rgba(141,160,203,1.0)\",\"rgba(231,138,195,1.0)\",\"rgba(231,138,195,1.0)\",\"rgba(141,160,203,1.0)\",\"rgba(231,138,195,1.0)\",\"rgba(252,141,98,1.0)\",\"rgba(252,141,98,1.0)\",\"rgba(252,141,98,1.0)\",\"rgba(231,138,195,1.0)\",\"rgba(231,138,195,1.0)\",\"rgba(141,160,203,1.0)\",\"rgba(231,138,195,1.0)\",\"rgba(231,138,195,1.0)\",\"rgba(231,138,195,1.0)\",\"rgba(252,141,98,1.0)\",\"rgba(141,160,203,1.0)\",\"rgba(141,160,203,1.0)\",\"rgba(231,138,195,1.0)\",\"rgba(231,138,195,1.0)\",\"rgba(141,160,203,1.0)\",\"rgba(141,160,203,1.0)\",\"rgba(252,141,98,1.0)\",\"rgba(252,141,98,1.0)\",\"rgba(231,138,195,1.0)\"],\"line\":{\"color\":\"rgba(0,0,0,1.0)\",\"width\":1.0},\"size\":20.0,\"symbol\":\"circle\"},\"mode\":\"markers\",\"name\":\"Nodes\",\"type\":\"scatter\",\"x\":[0.11184255250826651,-0.039186341112431744,-0.00875482695855019,0.20932795478274688,0.010499430534250561,-0.09298597140562904,0.5119833632274019,0.14455572345426426,-0.968831271602492,0.062269055112464645,-0.11781347320743238,-0.09297855294632547,0.19967523032413864,-0.5186763331072736,-0.8311018460604646,0.9691119312197313,0.6735548681503039,-0.14328241085450427,0.23973657606158053,-0.0766313250947936,0.0065412106723328825,-0.7654807276453393,0.18452329921302246,0.3004753870861677,0.057666891894689244,-0.016386730974340756,-0.34506527464943754,0.10719211823001766,0.5073593340199738,0.6549106603114618,0.19002062507874093,-0.8748477744582044,-0.8919766794666291,-0.9502187898965254,0.9219353329852941,-0.09091204792780473,0.1670571735804188,-0.10163397365702019,-0.8626334637281057,-0.19298078127744905,-0.23995056582710195,-0.532879622565993,-0.18619763949439744,0.6361766807153616,0.8251872395849116,-0.07553527813004195,0.8574541307583321,-0.29117902240882154,0.8664334879764105,-0.1300390614841882,-0.12231233496527902,0.32632500728945724,0.05979039024866343,-1.0,-0.10973382490380247,0.01287871997452726,-0.8205364970737995,-0.791839026229745,-0.12333592349064591,0.10426209434543872,-0.30168107481717993,0.6605868493424856,-0.25904303849681454,0.9190294146059346,-0.26387010525581506,-0.3427987524403842,-0.04143931556464372,-0.9044895153594267,-0.207696408328426,-0.23954730238856134,0.8410416814212276,0.14617419547779986,-0.16794970562073,0.7592697352929323,0.45290783118339606,-0.6458180666662212,-0.0531443262898228,0.27460349877402135,0.16099008859072292,0.11226870515617399,-0.307481256279262,0.8749598838571426,-0.15141020038112693,0.042982540528231784,-0.06099615700903297,-0.11341526614211653,-0.9356070893079974,0.11082425866601008,0.2237994117422273,0.9236702384592935,0.9579441882233244,-0.004237352595826743,0.3905707489608442,-0.36382741407418234],\"xaxis\":\"x\",\"y\":[0.9243864934203061,-0.11972368528975251,-0.17111814955896298,-0.0453791884826219,-0.15871948909244704,-0.16369509794878534,-0.7753547930392474,-0.08528157985944956,0.3401840597060076,-0.04977569511051911,-0.11528884416851085,0.0355816397520577,-0.06500212138759126,-0.8090215006965826,0.26597273882206857,0.31459960368884315,0.7850528799334799,-0.9756251692062234,-0.113408626130564,-0.19641298307934893,0.023771627073276853,-0.57849004298971,-0.036097635777289645,-0.865718884734929,-0.2955876196292928,-0.4432405149399174,-0.9062712884224359,-0.8762171834784038,0.8223102477832533,0.6791741256253792,-0.16633337081137406,0.2221623223686954,-0.22842204801683985,-0.24458098378165924,-0.4439119440193785,0.1534169962078626,-0.23100542435014695,0.10406507781359893,-0.5715771346756279,0.4740255738235645,0.42955913785275207,0.9117053778717253,0.2932615049827205,-0.6961390539935399,0.6301499915755803,0.24818288961176535,0.4952981278104606,0.4856361930406782,-0.2220249190959516,-0.2518042322735406,0.03760489682318179,0.9913137861232508,-0.02216309971743641,0.08742573043119183,0.3422758491242301,-0.379690014622785,0.22417275255431687,0.7154308617371621,0.18634560614368642,-0.18905463877834067,0.4240374823643645,-0.5209578537514105,0.4640684786863864,-0.23238490098108408,0.40370644431968367,0.6151548218312699,0.9777267947052012,-0.4103779230818424,0.3735414052077241,0.3724394929559936,-0.5069960345482136,-0.2566265513416203,0.41948948168232625,-0.5328478758736778,-0.8719158970854585,-0.6376240079668073,-0.16246363400058156,0.1565849829867221,0.021811141508543207,-0.25834144479544663,0.5516510699354568,0.19504625620148633,0.4840149483863909,-0.0941970817200259,0.13939916503291497,0.14518408972080474,-0.060057167051561014,-0.9309289188906331,0.1038140588821208,0.001479140254759766,0.010812015302283644,-0.06942113347479935,0.9093120286472576,-0.9550620085904159],\"yaxis\":\"y\"},{\"hoverinfo\":\"none\",\"line\":{\"color\":\"#888\",\"width\":0.5},\"mode\":\"lines\",\"name\":\"Edges\",\"type\":\"scatter\",\"x\":[-0.039186341112431744,0.010499430534250561,null,-0.039186341112431744,-0.09298597140562904,null,-0.039186341112431744,0.062269055112464645,null,-0.039186341112431744,-0.11781347320743238,null,-0.039186341112431744,-0.0766313250947936,null,-0.039186341112431744,-0.0531443262898228,null,-0.039186341112431744,-0.004237352595826743,null,-0.00875482695855019,-0.0766313250947936,null,-0.00875482695855019,0.042982540528231784,null,0.20932795478274688,0.14455572345426426,null,0.20932795478274688,0.19967523032413864,null,0.20932795478274688,0.23973657606158053,null,0.20932795478274688,0.16099008859072292,null,0.010499430534250561,0.010499430534250561,null,0.010499430534250561,0.10426209434543872,null,0.010499430534250561,-0.0531443262898228,null,-0.09298597140562904,-0.0766313250947936,null,-0.09298597140562904,-0.0531443262898228,null,0.14455572345426426,0.062269055112464645,null,0.14455572345426426,0.19967523032413864,null,0.14455572345426426,0.18452329921302246,null,0.14455572345426426,0.10426209434543872,null,0.062269055112464645,0.062269055112464645,null,0.062269055112464645,0.16099008859072292,null,0.062269055112464645,-0.004237352595826743,null,-0.09297855294632547,-0.10163397365702019,null,-0.09297855294632547,-0.12231233496527902,null,0.19967523032413864,0.18452329921302246,null,-0.8311018460604646,-0.8205364970737995,null,-0.14328241085450427,-0.14328241085450427,null,0.23973657606158053,0.19002062507874093,null,-0.0766313250947936,-0.0766313250947936,null,-0.0766313250947936,-0.1300390614841882,null,0.0065412106723328825,0.05979039024866343,null,0.0065412106723328825,0.042982540528231784,null,0.0065412106723328825,-0.06099615700903297,null,0.057666891894689244,0.01287871997452726,null,0.057666891894689244,0.10426209434543872,null,-0.016386730974340756,0.01287871997452726,null,-0.34506527464943754,-0.36382741407418234,null,0.10719211823001766,0.11082425866601008,null,0.5073593340199738,0.5073593340199738,null,0.19002062507874093,0.10426209434543872,null,-0.8748477744582044,-0.8205364970737995,null,-0.8919766794666291,-0.9502187898965254,null,-0.09091204792780473,-0.10163397365702019,null,-0.09091204792780473,-0.12333592349064591,null,-0.09091204792780473,-0.06099615700903297,null,-0.09091204792780473,-0.11341526614211653,null,0.1670571735804188,0.10426209434543872,null,-0.10163397365702019,-0.12231233496527902,null,-0.10163397365702019,-0.12333592349064591,null,-0.10163397365702019,-0.06099615700903297,null,-0.10163397365702019,-0.11341526614211653,null,-0.8626334637281057,-0.8626334637281057,null,-0.19298078127744905,-0.25904303849681454,null,-0.19298078127744905,-0.16794970562073,null,-0.19298078127744905,-0.15141020038112693,null,-0.23995056582710195,-0.29117902240882154,null,-0.23995056582710195,-0.30168107481717993,null,-0.23995056582710195,-0.207696408328426,null,-0.23995056582710195,-0.16794970562073,null,-0.18619763949439744,-0.12333592349064591,null,-0.18619763949439744,-0.207696408328426,null,-0.18619763949439744,-0.23954730238856134,null,-0.07553527813004195,-0.10973382490380247,null,-0.07553527813004195,-0.06099615700903297,null,0.8664334879764105,0.9190294146059346,null,0.05979039024866343,0.042982540528231784,null,-0.10973382490380247,-0.16794970562073,null,-0.12333592349064591,-0.06099615700903297,null,-0.12333592349064591,-0.11341526614211653,null,0.10426209434543872,0.14617419547779986,null,0.10426209434543872,0.11226870515617399,null,0.10426209434543872,0.042982540528231784,null,-0.30168107481717993,-0.26387010525581506,null,-0.25904303849681454,-0.25904303849681454,null,-0.25904303849681454,-0.26387010525581506,null,-0.25904303849681454,-0.23954730238856134,null,-0.25904303849681454,-0.307481256279262,null,0.9190294146059346,0.9190294146059346,null,-0.26387010525581506,-0.207696408328426,null,-0.26387010525581506,-0.23954730238856134,null,-0.3427987524403842,-0.307481256279262,null,-0.04143931556464372,-0.04143931556464372,null,-0.207696408328426,-0.16794970562073,null,-0.23954730238856134,-0.23954730238856134,null,-0.16794970562073,-0.15141020038112693,null,-0.6458180666662212,-0.6458180666662212,null,0.27460349877402135,0.27460349877402135,null,0.27460349877402135,0.2237994117422273,null,0.16099008859072292,0.2237994117422273,null,-0.307481256279262,-0.307481256279262,null,-0.06099615700903297,-0.06099615700903297,null,-0.06099615700903297,-0.11341526614211653,null,0.9236702384592935,0.9579441882233244,null,-0.004237352595826743,-0.004237352595826743,null],\"y\":[-0.11972368528975251,-0.15871948909244704,null,-0.11972368528975251,-0.16369509794878534,null,-0.11972368528975251,-0.04977569511051911,null,-0.11972368528975251,-0.11528884416851085,null,-0.11972368528975251,-0.19641298307934893,null,-0.11972368528975251,-0.16246363400058156,null,-0.11972368528975251,-0.06942113347479935,null,-0.17111814955896298,-0.19641298307934893,null,-0.17111814955896298,-0.0941970817200259,null,-0.0453791884826219,-0.08528157985944956,null,-0.0453791884826219,-0.06500212138759126,null,-0.0453791884826219,-0.113408626130564,null,-0.0453791884826219,0.021811141508543207,null,-0.15871948909244704,-0.15871948909244704,null,-0.15871948909244704,-0.18905463877834067,null,-0.15871948909244704,-0.16246363400058156,null,-0.16369509794878534,-0.19641298307934893,null,-0.16369509794878534,-0.16246363400058156,null,-0.08528157985944956,-0.04977569511051911,null,-0.08528157985944956,-0.06500212138759126,null,-0.08528157985944956,-0.036097635777289645,null,-0.08528157985944956,-0.18905463877834067,null,-0.04977569511051911,-0.04977569511051911,null,-0.04977569511051911,0.021811141508543207,null,-0.04977569511051911,-0.06942113347479935,null,0.0355816397520577,0.10406507781359893,null,0.0355816397520577,0.03760489682318179,null,-0.06500212138759126,-0.036097635777289645,null,0.26597273882206857,0.22417275255431687,null,-0.9756251692062234,-0.9756251692062234,null,-0.113408626130564,-0.16633337081137406,null,-0.19641298307934893,-0.19641298307934893,null,-0.19641298307934893,-0.2518042322735406,null,0.023771627073276853,-0.02216309971743641,null,0.023771627073276853,-0.0941970817200259,null,0.023771627073276853,0.13939916503291497,null,-0.2955876196292928,-0.379690014622785,null,-0.2955876196292928,-0.18905463877834067,null,-0.4432405149399174,-0.379690014622785,null,-0.9062712884224359,-0.9550620085904159,null,-0.8762171834784038,-0.9309289188906331,null,0.8223102477832533,0.8223102477832533,null,-0.16633337081137406,-0.18905463877834067,null,0.2221623223686954,0.22417275255431687,null,-0.22842204801683985,-0.24458098378165924,null,0.1534169962078626,0.10406507781359893,null,0.1534169962078626,0.18634560614368642,null,0.1534169962078626,0.13939916503291497,null,0.1534169962078626,0.14518408972080474,null,-0.23100542435014695,-0.18905463877834067,null,0.10406507781359893,0.03760489682318179,null,0.10406507781359893,0.18634560614368642,null,0.10406507781359893,0.13939916503291497,null,0.10406507781359893,0.14518408972080474,null,-0.5715771346756279,-0.5715771346756279,null,0.4740255738235645,0.4640684786863864,null,0.4740255738235645,0.41948948168232625,null,0.4740255738235645,0.4840149483863909,null,0.42955913785275207,0.4856361930406782,null,0.42955913785275207,0.4240374823643645,null,0.42955913785275207,0.3735414052077241,null,0.42955913785275207,0.41948948168232625,null,0.2932615049827205,0.18634560614368642,null,0.2932615049827205,0.3735414052077241,null,0.2932615049827205,0.3724394929559936,null,0.24818288961176535,0.3422758491242301,null,0.24818288961176535,0.13939916503291497,null,-0.2220249190959516,-0.23238490098108408,null,-0.02216309971743641,-0.0941970817200259,null,0.3422758491242301,0.41948948168232625,null,0.18634560614368642,0.13939916503291497,null,0.18634560614368642,0.14518408972080474,null,-0.18905463877834067,-0.2566265513416203,null,-0.18905463877834067,-0.25834144479544663,null,-0.18905463877834067,-0.0941970817200259,null,0.4240374823643645,0.40370644431968367,null,0.4640684786863864,0.4640684786863864,null,0.4640684786863864,0.40370644431968367,null,0.4640684786863864,0.3724394929559936,null,0.4640684786863864,0.5516510699354568,null,-0.23238490098108408,-0.23238490098108408,null,0.40370644431968367,0.3735414052077241,null,0.40370644431968367,0.3724394929559936,null,0.6151548218312699,0.5516510699354568,null,0.9777267947052012,0.9777267947052012,null,0.3735414052077241,0.41948948168232625,null,0.3724394929559936,0.3724394929559936,null,0.41948948168232625,0.4840149483863909,null,-0.6376240079668073,-0.6376240079668073,null,0.1565849829867221,0.1565849829867221,null,0.1565849829867221,0.1038140588821208,null,0.021811141508543207,0.1038140588821208,null,0.5516510699354568,0.5516510699354568,null,0.13939916503291497,0.13939916503291497,null,0.13939916503291497,0.14518408972080474,null,0.001479140254759766,0.010812015302283644,null,-0.06942113347479935,-0.06942113347479935,null]},{\"marker\":{\"color\":\"rgb(252,141,98)\",\"size\":30},\"mode\":\"markers\",\"name\":\"very\",\"type\":\"scatter\",\"visible\":\"legendonly\",\"x\":[0],\"y\":[0]},{\"marker\":{\"color\":\"rgb(141,160,203)\",\"size\":30},\"mode\":\"markers\",\"name\":\"somewhat\",\"type\":\"scatter\",\"visible\":\"legendonly\",\"x\":[0],\"y\":[0]},{\"marker\":{\"color\":\"rgb(231,138,195)\",\"size\":30},\"mode\":\"markers\",\"name\":\"not at all\",\"type\":\"scatter\",\"visible\":\"legendonly\",\"x\":[0],\"y\":[0]}],                        {\"annotations\":[{\"align\":\"center\",\"font\":{\"color\":\"#000000\",\"size\":12.0},\"opacity\":1,\"showarrow\":false,\"text\":\"0\",\"x\":0.11184255250826651,\"xanchor\":\"center\",\"xref\":\"x\",\"y\":0.9243864934203061,\"yanchor\":\"middle\",\"yref\":\"y\"},{\"align\":\"center\",\"font\":{\"color\":\"#000000\",\"size\":12.0},\"opacity\":1,\"showarrow\":false,\"text\":\"1\",\"x\":-0.039186341112431744,\"xanchor\":\"center\",\"xref\":\"x\",\"y\":-0.11972368528975251,\"yanchor\":\"middle\",\"yref\":\"y\"},{\"align\":\"center\",\"font\":{\"color\":\"#000000\",\"size\":12.0},\"opacity\":1,\"showarrow\":false,\"text\":\"2\",\"x\":-0.00875482695855019,\"xanchor\":\"center\",\"xref\":\"x\",\"y\":-0.17111814955896298,\"yanchor\":\"middle\",\"yref\":\"y\"},{\"align\":\"center\",\"font\":{\"color\":\"#000000\",\"size\":12.0},\"opacity\":1,\"showarrow\":false,\"text\":\"3\",\"x\":0.20932795478274688,\"xanchor\":\"center\",\"xref\":\"x\",\"y\":-0.0453791884826219,\"yanchor\":\"middle\",\"yref\":\"y\"},{\"align\":\"center\",\"font\":{\"color\":\"#000000\",\"size\":12.0},\"opacity\":1,\"showarrow\":false,\"text\":\"4\",\"x\":0.010499430534250561,\"xanchor\":\"center\",\"xref\":\"x\",\"y\":-0.15871948909244704,\"yanchor\":\"middle\",\"yref\":\"y\"},{\"align\":\"center\",\"font\":{\"color\":\"#000000\",\"size\":12.0},\"opacity\":1,\"showarrow\":false,\"text\":\"5\",\"x\":-0.09298597140562904,\"xanchor\":\"center\",\"xref\":\"x\",\"y\":-0.16369509794878534,\"yanchor\":\"middle\",\"yref\":\"y\"},{\"align\":\"center\",\"font\":{\"color\":\"#000000\",\"size\":12.0},\"opacity\":1,\"showarrow\":false,\"text\":\"6\",\"x\":0.5119833632274019,\"xanchor\":\"center\",\"xref\":\"x\",\"y\":-0.7753547930392474,\"yanchor\":\"middle\",\"yref\":\"y\"},{\"align\":\"center\",\"font\":{\"color\":\"#000000\",\"size\":12.0},\"opacity\":1,\"showarrow\":false,\"text\":\"7\",\"x\":0.14455572345426426,\"xanchor\":\"center\",\"xref\":\"x\",\"y\":-0.08528157985944956,\"yanchor\":\"middle\",\"yref\":\"y\"},{\"align\":\"center\",\"font\":{\"color\":\"#000000\",\"size\":12.0},\"opacity\":1,\"showarrow\":false,\"text\":\"8\",\"x\":-0.968831271602492,\"xanchor\":\"center\",\"xref\":\"x\",\"y\":0.3401840597060076,\"yanchor\":\"middle\",\"yref\":\"y\"},{\"align\":\"center\",\"font\":{\"color\":\"#000000\",\"size\":12.0},\"opacity\":1,\"showarrow\":false,\"text\":\"9\",\"x\":0.062269055112464645,\"xanchor\":\"center\",\"xref\":\"x\",\"y\":-0.04977569511051911,\"yanchor\":\"middle\",\"yref\":\"y\"},{\"align\":\"center\",\"font\":{\"color\":\"#000000\",\"size\":12.0},\"opacity\":1,\"showarrow\":false,\"text\":\"10\",\"x\":-0.11781347320743238,\"xanchor\":\"center\",\"xref\":\"x\",\"y\":-0.11528884416851085,\"yanchor\":\"middle\",\"yref\":\"y\"},{\"align\":\"center\",\"font\":{\"color\":\"#000000\",\"size\":12.0},\"opacity\":1,\"showarrow\":false,\"text\":\"11\",\"x\":-0.09297855294632547,\"xanchor\":\"center\",\"xref\":\"x\",\"y\":0.0355816397520577,\"yanchor\":\"middle\",\"yref\":\"y\"},{\"align\":\"center\",\"font\":{\"color\":\"#000000\",\"size\":12.0},\"opacity\":1,\"showarrow\":false,\"text\":\"12\",\"x\":0.19967523032413864,\"xanchor\":\"center\",\"xref\":\"x\",\"y\":-0.06500212138759126,\"yanchor\":\"middle\",\"yref\":\"y\"},{\"align\":\"center\",\"font\":{\"color\":\"#000000\",\"size\":12.0},\"opacity\":1,\"showarrow\":false,\"text\":\"13\",\"x\":-0.5186763331072736,\"xanchor\":\"center\",\"xref\":\"x\",\"y\":-0.8090215006965826,\"yanchor\":\"middle\",\"yref\":\"y\"},{\"align\":\"center\",\"font\":{\"color\":\"#000000\",\"size\":12.0},\"opacity\":1,\"showarrow\":false,\"text\":\"14\",\"x\":-0.8311018460604646,\"xanchor\":\"center\",\"xref\":\"x\",\"y\":0.26597273882206857,\"yanchor\":\"middle\",\"yref\":\"y\"},{\"align\":\"center\",\"font\":{\"color\":\"#000000\",\"size\":12.0},\"opacity\":1,\"showarrow\":false,\"text\":\"15\",\"x\":0.9691119312197313,\"xanchor\":\"center\",\"xref\":\"x\",\"y\":0.31459960368884315,\"yanchor\":\"middle\",\"yref\":\"y\"},{\"align\":\"center\",\"font\":{\"color\":\"#000000\",\"size\":12.0},\"opacity\":1,\"showarrow\":false,\"text\":\"16\",\"x\":0.6735548681503039,\"xanchor\":\"center\",\"xref\":\"x\",\"y\":0.7850528799334799,\"yanchor\":\"middle\",\"yref\":\"y\"},{\"align\":\"center\",\"font\":{\"color\":\"#000000\",\"size\":12.0},\"opacity\":1,\"showarrow\":false,\"text\":\"17\",\"x\":-0.14328241085450427,\"xanchor\":\"center\",\"xref\":\"x\",\"y\":-0.9756251692062234,\"yanchor\":\"middle\",\"yref\":\"y\"},{\"align\":\"center\",\"font\":{\"color\":\"#000000\",\"size\":12.0},\"opacity\":1,\"showarrow\":false,\"text\":\"18\",\"x\":0.23973657606158053,\"xanchor\":\"center\",\"xref\":\"x\",\"y\":-0.113408626130564,\"yanchor\":\"middle\",\"yref\":\"y\"},{\"align\":\"center\",\"font\":{\"color\":\"#000000\",\"size\":12.0},\"opacity\":1,\"showarrow\":false,\"text\":\"19\",\"x\":-0.0766313250947936,\"xanchor\":\"center\",\"xref\":\"x\",\"y\":-0.19641298307934893,\"yanchor\":\"middle\",\"yref\":\"y\"},{\"align\":\"center\",\"font\":{\"color\":\"#000000\",\"size\":12.0},\"opacity\":1,\"showarrow\":false,\"text\":\"20\",\"x\":0.0065412106723328825,\"xanchor\":\"center\",\"xref\":\"x\",\"y\":0.023771627073276853,\"yanchor\":\"middle\",\"yref\":\"y\"},{\"align\":\"center\",\"font\":{\"color\":\"#000000\",\"size\":12.0},\"opacity\":1,\"showarrow\":false,\"text\":\"21\",\"x\":-0.7654807276453393,\"xanchor\":\"center\",\"xref\":\"x\",\"y\":-0.57849004298971,\"yanchor\":\"middle\",\"yref\":\"y\"},{\"align\":\"center\",\"font\":{\"color\":\"#000000\",\"size\":12.0},\"opacity\":1,\"showarrow\":false,\"text\":\"22\",\"x\":0.18452329921302246,\"xanchor\":\"center\",\"xref\":\"x\",\"y\":-0.036097635777289645,\"yanchor\":\"middle\",\"yref\":\"y\"},{\"align\":\"center\",\"font\":{\"color\":\"#000000\",\"size\":12.0},\"opacity\":1,\"showarrow\":false,\"text\":\"23\",\"x\":0.3004753870861677,\"xanchor\":\"center\",\"xref\":\"x\",\"y\":-0.865718884734929,\"yanchor\":\"middle\",\"yref\":\"y\"},{\"align\":\"center\",\"font\":{\"color\":\"#000000\",\"size\":12.0},\"opacity\":1,\"showarrow\":false,\"text\":\"24\",\"x\":0.057666891894689244,\"xanchor\":\"center\",\"xref\":\"x\",\"y\":-0.2955876196292928,\"yanchor\":\"middle\",\"yref\":\"y\"},{\"align\":\"center\",\"font\":{\"color\":\"#000000\",\"size\":12.0},\"opacity\":1,\"showarrow\":false,\"text\":\"25\",\"x\":-0.016386730974340756,\"xanchor\":\"center\",\"xref\":\"x\",\"y\":-0.4432405149399174,\"yanchor\":\"middle\",\"yref\":\"y\"},{\"align\":\"center\",\"font\":{\"color\":\"#000000\",\"size\":12.0},\"opacity\":1,\"showarrow\":false,\"text\":\"26\",\"x\":-0.34506527464943754,\"xanchor\":\"center\",\"xref\":\"x\",\"y\":-0.9062712884224359,\"yanchor\":\"middle\",\"yref\":\"y\"},{\"align\":\"center\",\"font\":{\"color\":\"#000000\",\"size\":12.0},\"opacity\":1,\"showarrow\":false,\"text\":\"27\",\"x\":0.10719211823001766,\"xanchor\":\"center\",\"xref\":\"x\",\"y\":-0.8762171834784038,\"yanchor\":\"middle\",\"yref\":\"y\"},{\"align\":\"center\",\"font\":{\"color\":\"#000000\",\"size\":12.0},\"opacity\":1,\"showarrow\":false,\"text\":\"28\",\"x\":0.5073593340199738,\"xanchor\":\"center\",\"xref\":\"x\",\"y\":0.8223102477832533,\"yanchor\":\"middle\",\"yref\":\"y\"},{\"align\":\"center\",\"font\":{\"color\":\"#000000\",\"size\":12.0},\"opacity\":1,\"showarrow\":false,\"text\":\"29\",\"x\":0.6549106603114618,\"xanchor\":\"center\",\"xref\":\"x\",\"y\":0.6791741256253792,\"yanchor\":\"middle\",\"yref\":\"y\"},{\"align\":\"center\",\"font\":{\"color\":\"#000000\",\"size\":12.0},\"opacity\":1,\"showarrow\":false,\"text\":\"30\",\"x\":0.19002062507874093,\"xanchor\":\"center\",\"xref\":\"x\",\"y\":-0.16633337081137406,\"yanchor\":\"middle\",\"yref\":\"y\"},{\"align\":\"center\",\"font\":{\"color\":\"#000000\",\"size\":12.0},\"opacity\":1,\"showarrow\":false,\"text\":\"31\",\"x\":-0.8748477744582044,\"xanchor\":\"center\",\"xref\":\"x\",\"y\":0.2221623223686954,\"yanchor\":\"middle\",\"yref\":\"y\"},{\"align\":\"center\",\"font\":{\"color\":\"#000000\",\"size\":12.0},\"opacity\":1,\"showarrow\":false,\"text\":\"32\",\"x\":-0.8919766794666291,\"xanchor\":\"center\",\"xref\":\"x\",\"y\":-0.22842204801683985,\"yanchor\":\"middle\",\"yref\":\"y\"},{\"align\":\"center\",\"font\":{\"color\":\"#000000\",\"size\":12.0},\"opacity\":1,\"showarrow\":false,\"text\":\"33\",\"x\":-0.9502187898965254,\"xanchor\":\"center\",\"xref\":\"x\",\"y\":-0.24458098378165924,\"yanchor\":\"middle\",\"yref\":\"y\"},{\"align\":\"center\",\"font\":{\"color\":\"#000000\",\"size\":12.0},\"opacity\":1,\"showarrow\":false,\"text\":\"34\",\"x\":0.9219353329852941,\"xanchor\":\"center\",\"xref\":\"x\",\"y\":-0.4439119440193785,\"yanchor\":\"middle\",\"yref\":\"y\"},{\"align\":\"center\",\"font\":{\"color\":\"#000000\",\"size\":12.0},\"opacity\":1,\"showarrow\":false,\"text\":\"35\",\"x\":-0.09091204792780473,\"xanchor\":\"center\",\"xref\":\"x\",\"y\":0.1534169962078626,\"yanchor\":\"middle\",\"yref\":\"y\"},{\"align\":\"center\",\"font\":{\"color\":\"#000000\",\"size\":12.0},\"opacity\":1,\"showarrow\":false,\"text\":\"36\",\"x\":0.1670571735804188,\"xanchor\":\"center\",\"xref\":\"x\",\"y\":-0.23100542435014695,\"yanchor\":\"middle\",\"yref\":\"y\"},{\"align\":\"center\",\"font\":{\"color\":\"#000000\",\"size\":12.0},\"opacity\":1,\"showarrow\":false,\"text\":\"37\",\"x\":-0.10163397365702019,\"xanchor\":\"center\",\"xref\":\"x\",\"y\":0.10406507781359893,\"yanchor\":\"middle\",\"yref\":\"y\"},{\"align\":\"center\",\"font\":{\"color\":\"#000000\",\"size\":12.0},\"opacity\":1,\"showarrow\":false,\"text\":\"38\",\"x\":-0.8626334637281057,\"xanchor\":\"center\",\"xref\":\"x\",\"y\":-0.5715771346756279,\"yanchor\":\"middle\",\"yref\":\"y\"},{\"align\":\"center\",\"font\":{\"color\":\"#000000\",\"size\":12.0},\"opacity\":1,\"showarrow\":false,\"text\":\"39\",\"x\":-0.19298078127744905,\"xanchor\":\"center\",\"xref\":\"x\",\"y\":0.4740255738235645,\"yanchor\":\"middle\",\"yref\":\"y\"},{\"align\":\"center\",\"font\":{\"color\":\"#000000\",\"size\":12.0},\"opacity\":1,\"showarrow\":false,\"text\":\"40\",\"x\":-0.23995056582710195,\"xanchor\":\"center\",\"xref\":\"x\",\"y\":0.42955913785275207,\"yanchor\":\"middle\",\"yref\":\"y\"},{\"align\":\"center\",\"font\":{\"color\":\"#000000\",\"size\":12.0},\"opacity\":1,\"showarrow\":false,\"text\":\"41\",\"x\":-0.532879622565993,\"xanchor\":\"center\",\"xref\":\"x\",\"y\":0.9117053778717253,\"yanchor\":\"middle\",\"yref\":\"y\"},{\"align\":\"center\",\"font\":{\"color\":\"#000000\",\"size\":12.0},\"opacity\":1,\"showarrow\":false,\"text\":\"42\",\"x\":-0.18619763949439744,\"xanchor\":\"center\",\"xref\":\"x\",\"y\":0.2932615049827205,\"yanchor\":\"middle\",\"yref\":\"y\"},{\"align\":\"center\",\"font\":{\"color\":\"#000000\",\"size\":12.0},\"opacity\":1,\"showarrow\":false,\"text\":\"43\",\"x\":0.6361766807153616,\"xanchor\":\"center\",\"xref\":\"x\",\"y\":-0.6961390539935399,\"yanchor\":\"middle\",\"yref\":\"y\"},{\"align\":\"center\",\"font\":{\"color\":\"#000000\",\"size\":12.0},\"opacity\":1,\"showarrow\":false,\"text\":\"44\",\"x\":0.8251872395849116,\"xanchor\":\"center\",\"xref\":\"x\",\"y\":0.6301499915755803,\"yanchor\":\"middle\",\"yref\":\"y\"},{\"align\":\"center\",\"font\":{\"color\":\"#000000\",\"size\":12.0},\"opacity\":1,\"showarrow\":false,\"text\":\"45\",\"x\":-0.07553527813004195,\"xanchor\":\"center\",\"xref\":\"x\",\"y\":0.24818288961176535,\"yanchor\":\"middle\",\"yref\":\"y\"},{\"align\":\"center\",\"font\":{\"color\":\"#000000\",\"size\":12.0},\"opacity\":1,\"showarrow\":false,\"text\":\"46\",\"x\":0.8574541307583321,\"xanchor\":\"center\",\"xref\":\"x\",\"y\":0.4952981278104606,\"yanchor\":\"middle\",\"yref\":\"y\"},{\"align\":\"center\",\"font\":{\"color\":\"#000000\",\"size\":12.0},\"opacity\":1,\"showarrow\":false,\"text\":\"47\",\"x\":-0.29117902240882154,\"xanchor\":\"center\",\"xref\":\"x\",\"y\":0.4856361930406782,\"yanchor\":\"middle\",\"yref\":\"y\"},{\"align\":\"center\",\"font\":{\"color\":\"#000000\",\"size\":12.0},\"opacity\":1,\"showarrow\":false,\"text\":\"48\",\"x\":0.8664334879764105,\"xanchor\":\"center\",\"xref\":\"x\",\"y\":-0.2220249190959516,\"yanchor\":\"middle\",\"yref\":\"y\"},{\"align\":\"center\",\"font\":{\"color\":\"#000000\",\"size\":12.0},\"opacity\":1,\"showarrow\":false,\"text\":\"49\",\"x\":-0.1300390614841882,\"xanchor\":\"center\",\"xref\":\"x\",\"y\":-0.2518042322735406,\"yanchor\":\"middle\",\"yref\":\"y\"},{\"align\":\"center\",\"font\":{\"color\":\"#000000\",\"size\":12.0},\"opacity\":1,\"showarrow\":false,\"text\":\"50\",\"x\":-0.12231233496527902,\"xanchor\":\"center\",\"xref\":\"x\",\"y\":0.03760489682318179,\"yanchor\":\"middle\",\"yref\":\"y\"},{\"align\":\"center\",\"font\":{\"color\":\"#000000\",\"size\":12.0},\"opacity\":1,\"showarrow\":false,\"text\":\"51\",\"x\":0.32632500728945724,\"xanchor\":\"center\",\"xref\":\"x\",\"y\":0.9913137861232508,\"yanchor\":\"middle\",\"yref\":\"y\"},{\"align\":\"center\",\"font\":{\"color\":\"#000000\",\"size\":12.0},\"opacity\":1,\"showarrow\":false,\"text\":\"52\",\"x\":0.05979039024866343,\"xanchor\":\"center\",\"xref\":\"x\",\"y\":-0.02216309971743641,\"yanchor\":\"middle\",\"yref\":\"y\"},{\"align\":\"center\",\"font\":{\"color\":\"#000000\",\"size\":12.0},\"opacity\":1,\"showarrow\":false,\"text\":\"53\",\"x\":-1.0,\"xanchor\":\"center\",\"xref\":\"x\",\"y\":0.08742573043119183,\"yanchor\":\"middle\",\"yref\":\"y\"},{\"align\":\"center\",\"font\":{\"color\":\"#000000\",\"size\":12.0},\"opacity\":1,\"showarrow\":false,\"text\":\"54\",\"x\":-0.10973382490380247,\"xanchor\":\"center\",\"xref\":\"x\",\"y\":0.3422758491242301,\"yanchor\":\"middle\",\"yref\":\"y\"},{\"align\":\"center\",\"font\":{\"color\":\"#000000\",\"size\":12.0},\"opacity\":1,\"showarrow\":false,\"text\":\"55\",\"x\":0.01287871997452726,\"xanchor\":\"center\",\"xref\":\"x\",\"y\":-0.379690014622785,\"yanchor\":\"middle\",\"yref\":\"y\"},{\"align\":\"center\",\"font\":{\"color\":\"#000000\",\"size\":12.0},\"opacity\":1,\"showarrow\":false,\"text\":\"56\",\"x\":-0.8205364970737995,\"xanchor\":\"center\",\"xref\":\"x\",\"y\":0.22417275255431687,\"yanchor\":\"middle\",\"yref\":\"y\"},{\"align\":\"center\",\"font\":{\"color\":\"#000000\",\"size\":12.0},\"opacity\":1,\"showarrow\":false,\"text\":\"57\",\"x\":-0.791839026229745,\"xanchor\":\"center\",\"xref\":\"x\",\"y\":0.7154308617371621,\"yanchor\":\"middle\",\"yref\":\"y\"},{\"align\":\"center\",\"font\":{\"color\":\"#000000\",\"size\":12.0},\"opacity\":1,\"showarrow\":false,\"text\":\"58\",\"x\":-0.12333592349064591,\"xanchor\":\"center\",\"xref\":\"x\",\"y\":0.18634560614368642,\"yanchor\":\"middle\",\"yref\":\"y\"},{\"align\":\"center\",\"font\":{\"color\":\"#000000\",\"size\":12.0},\"opacity\":1,\"showarrow\":false,\"text\":\"59\",\"x\":0.10426209434543872,\"xanchor\":\"center\",\"xref\":\"x\",\"y\":-0.18905463877834067,\"yanchor\":\"middle\",\"yref\":\"y\"},{\"align\":\"center\",\"font\":{\"color\":\"#000000\",\"size\":12.0},\"opacity\":1,\"showarrow\":false,\"text\":\"60\",\"x\":-0.30168107481717993,\"xanchor\":\"center\",\"xref\":\"x\",\"y\":0.4240374823643645,\"yanchor\":\"middle\",\"yref\":\"y\"},{\"align\":\"center\",\"font\":{\"color\":\"#000000\",\"size\":12.0},\"opacity\":1,\"showarrow\":false,\"text\":\"61\",\"x\":0.6605868493424856,\"xanchor\":\"center\",\"xref\":\"x\",\"y\":-0.5209578537514105,\"yanchor\":\"middle\",\"yref\":\"y\"},{\"align\":\"center\",\"font\":{\"color\":\"#000000\",\"size\":12.0},\"opacity\":1,\"showarrow\":false,\"text\":\"62\",\"x\":-0.25904303849681454,\"xanchor\":\"center\",\"xref\":\"x\",\"y\":0.4640684786863864,\"yanchor\":\"middle\",\"yref\":\"y\"},{\"align\":\"center\",\"font\":{\"color\":\"#000000\",\"size\":12.0},\"opacity\":1,\"showarrow\":false,\"text\":\"63\",\"x\":0.9190294146059346,\"xanchor\":\"center\",\"xref\":\"x\",\"y\":-0.23238490098108408,\"yanchor\":\"middle\",\"yref\":\"y\"},{\"align\":\"center\",\"font\":{\"color\":\"#000000\",\"size\":12.0},\"opacity\":1,\"showarrow\":false,\"text\":\"64\",\"x\":-0.26387010525581506,\"xanchor\":\"center\",\"xref\":\"x\",\"y\":0.40370644431968367,\"yanchor\":\"middle\",\"yref\":\"y\"},{\"align\":\"center\",\"font\":{\"color\":\"#000000\",\"size\":12.0},\"opacity\":1,\"showarrow\":false,\"text\":\"65\",\"x\":-0.3427987524403842,\"xanchor\":\"center\",\"xref\":\"x\",\"y\":0.6151548218312699,\"yanchor\":\"middle\",\"yref\":\"y\"},{\"align\":\"center\",\"font\":{\"color\":\"#000000\",\"size\":12.0},\"opacity\":1,\"showarrow\":false,\"text\":\"66\",\"x\":-0.04143931556464372,\"xanchor\":\"center\",\"xref\":\"x\",\"y\":0.9777267947052012,\"yanchor\":\"middle\",\"yref\":\"y\"},{\"align\":\"center\",\"font\":{\"color\":\"#000000\",\"size\":12.0},\"opacity\":1,\"showarrow\":false,\"text\":\"67\",\"x\":-0.9044895153594267,\"xanchor\":\"center\",\"xref\":\"x\",\"y\":-0.4103779230818424,\"yanchor\":\"middle\",\"yref\":\"y\"},{\"align\":\"center\",\"font\":{\"color\":\"#000000\",\"size\":12.0},\"opacity\":1,\"showarrow\":false,\"text\":\"68\",\"x\":-0.207696408328426,\"xanchor\":\"center\",\"xref\":\"x\",\"y\":0.3735414052077241,\"yanchor\":\"middle\",\"yref\":\"y\"},{\"align\":\"center\",\"font\":{\"color\":\"#000000\",\"size\":12.0},\"opacity\":1,\"showarrow\":false,\"text\":\"69\",\"x\":-0.23954730238856134,\"xanchor\":\"center\",\"xref\":\"x\",\"y\":0.3724394929559936,\"yanchor\":\"middle\",\"yref\":\"y\"},{\"align\":\"center\",\"font\":{\"color\":\"#000000\",\"size\":12.0},\"opacity\":1,\"showarrow\":false,\"text\":\"70\",\"x\":0.8410416814212276,\"xanchor\":\"center\",\"xref\":\"x\",\"y\":-0.5069960345482136,\"yanchor\":\"middle\",\"yref\":\"y\"},{\"align\":\"center\",\"font\":{\"color\":\"#000000\",\"size\":12.0},\"opacity\":1,\"showarrow\":false,\"text\":\"71\",\"x\":0.14617419547779986,\"xanchor\":\"center\",\"xref\":\"x\",\"y\":-0.2566265513416203,\"yanchor\":\"middle\",\"yref\":\"y\"},{\"align\":\"center\",\"font\":{\"color\":\"#000000\",\"size\":12.0},\"opacity\":1,\"showarrow\":false,\"text\":\"72\",\"x\":-0.16794970562073,\"xanchor\":\"center\",\"xref\":\"x\",\"y\":0.41948948168232625,\"yanchor\":\"middle\",\"yref\":\"y\"},{\"align\":\"center\",\"font\":{\"color\":\"#000000\",\"size\":12.0},\"opacity\":1,\"showarrow\":false,\"text\":\"73\",\"x\":0.7592697352929323,\"xanchor\":\"center\",\"xref\":\"x\",\"y\":-0.5328478758736778,\"yanchor\":\"middle\",\"yref\":\"y\"},{\"align\":\"center\",\"font\":{\"color\":\"#000000\",\"size\":12.0},\"opacity\":1,\"showarrow\":false,\"text\":\"74\",\"x\":0.45290783118339606,\"xanchor\":\"center\",\"xref\":\"x\",\"y\":-0.8719158970854585,\"yanchor\":\"middle\",\"yref\":\"y\"},{\"align\":\"center\",\"font\":{\"color\":\"#000000\",\"size\":12.0},\"opacity\":1,\"showarrow\":false,\"text\":\"75\",\"x\":-0.6458180666662212,\"xanchor\":\"center\",\"xref\":\"x\",\"y\":-0.6376240079668073,\"yanchor\":\"middle\",\"yref\":\"y\"},{\"align\":\"center\",\"font\":{\"color\":\"#000000\",\"size\":12.0},\"opacity\":1,\"showarrow\":false,\"text\":\"76\",\"x\":-0.0531443262898228,\"xanchor\":\"center\",\"xref\":\"x\",\"y\":-0.16246363400058156,\"yanchor\":\"middle\",\"yref\":\"y\"},{\"align\":\"center\",\"font\":{\"color\":\"#000000\",\"size\":12.0},\"opacity\":1,\"showarrow\":false,\"text\":\"77\",\"x\":0.27460349877402135,\"xanchor\":\"center\",\"xref\":\"x\",\"y\":0.1565849829867221,\"yanchor\":\"middle\",\"yref\":\"y\"},{\"align\":\"center\",\"font\":{\"color\":\"#000000\",\"size\":12.0},\"opacity\":1,\"showarrow\":false,\"text\":\"78\",\"x\":0.16099008859072292,\"xanchor\":\"center\",\"xref\":\"x\",\"y\":0.021811141508543207,\"yanchor\":\"middle\",\"yref\":\"y\"},{\"align\":\"center\",\"font\":{\"color\":\"#000000\",\"size\":12.0},\"opacity\":1,\"showarrow\":false,\"text\":\"79\",\"x\":0.11226870515617399,\"xanchor\":\"center\",\"xref\":\"x\",\"y\":-0.25834144479544663,\"yanchor\":\"middle\",\"yref\":\"y\"},{\"align\":\"center\",\"font\":{\"color\":\"#000000\",\"size\":12.0},\"opacity\":1,\"showarrow\":false,\"text\":\"80\",\"x\":-0.307481256279262,\"xanchor\":\"center\",\"xref\":\"x\",\"y\":0.5516510699354568,\"yanchor\":\"middle\",\"yref\":\"y\"},{\"align\":\"center\",\"font\":{\"color\":\"#000000\",\"size\":12.0},\"opacity\":1,\"showarrow\":false,\"text\":\"81\",\"x\":0.8749598838571426,\"xanchor\":\"center\",\"xref\":\"x\",\"y\":0.19504625620148633,\"yanchor\":\"middle\",\"yref\":\"y\"},{\"align\":\"center\",\"font\":{\"color\":\"#000000\",\"size\":12.0},\"opacity\":1,\"showarrow\":false,\"text\":\"82\",\"x\":-0.15141020038112693,\"xanchor\":\"center\",\"xref\":\"x\",\"y\":0.4840149483863909,\"yanchor\":\"middle\",\"yref\":\"y\"},{\"align\":\"center\",\"font\":{\"color\":\"#000000\",\"size\":12.0},\"opacity\":1,\"showarrow\":false,\"text\":\"83\",\"x\":0.042982540528231784,\"xanchor\":\"center\",\"xref\":\"x\",\"y\":-0.0941970817200259,\"yanchor\":\"middle\",\"yref\":\"y\"},{\"align\":\"center\",\"font\":{\"color\":\"#000000\",\"size\":12.0},\"opacity\":1,\"showarrow\":false,\"text\":\"84\",\"x\":-0.06099615700903297,\"xanchor\":\"center\",\"xref\":\"x\",\"y\":0.13939916503291497,\"yanchor\":\"middle\",\"yref\":\"y\"},{\"align\":\"center\",\"font\":{\"color\":\"#000000\",\"size\":12.0},\"opacity\":1,\"showarrow\":false,\"text\":\"85\",\"x\":-0.11341526614211653,\"xanchor\":\"center\",\"xref\":\"x\",\"y\":0.14518408972080474,\"yanchor\":\"middle\",\"yref\":\"y\"},{\"align\":\"center\",\"font\":{\"color\":\"#000000\",\"size\":12.0},\"opacity\":1,\"showarrow\":false,\"text\":\"86\",\"x\":-0.9356070893079974,\"xanchor\":\"center\",\"xref\":\"x\",\"y\":-0.060057167051561014,\"yanchor\":\"middle\",\"yref\":\"y\"},{\"align\":\"center\",\"font\":{\"color\":\"#000000\",\"size\":12.0},\"opacity\":1,\"showarrow\":false,\"text\":\"87\",\"x\":0.11082425866601008,\"xanchor\":\"center\",\"xref\":\"x\",\"y\":-0.9309289188906331,\"yanchor\":\"middle\",\"yref\":\"y\"},{\"align\":\"center\",\"font\":{\"color\":\"#000000\",\"size\":12.0},\"opacity\":1,\"showarrow\":false,\"text\":\"88\",\"x\":0.2237994117422273,\"xanchor\":\"center\",\"xref\":\"x\",\"y\":0.1038140588821208,\"yanchor\":\"middle\",\"yref\":\"y\"},{\"align\":\"center\",\"font\":{\"color\":\"#000000\",\"size\":12.0},\"opacity\":1,\"showarrow\":false,\"text\":\"89\",\"x\":0.9236702384592935,\"xanchor\":\"center\",\"xref\":\"x\",\"y\":0.001479140254759766,\"yanchor\":\"middle\",\"yref\":\"y\"},{\"align\":\"center\",\"font\":{\"color\":\"#000000\",\"size\":12.0},\"opacity\":1,\"showarrow\":false,\"text\":\"90\",\"x\":0.9579441882233244,\"xanchor\":\"center\",\"xref\":\"x\",\"y\":0.010812015302283644,\"yanchor\":\"middle\",\"yref\":\"y\"},{\"align\":\"center\",\"font\":{\"color\":\"#000000\",\"size\":12.0},\"opacity\":1,\"showarrow\":false,\"text\":\"91\",\"x\":-0.004237352595826743,\"xanchor\":\"center\",\"xref\":\"x\",\"y\":-0.06942113347479935,\"yanchor\":\"middle\",\"yref\":\"y\"},{\"align\":\"center\",\"font\":{\"color\":\"#000000\",\"size\":12.0},\"opacity\":1,\"showarrow\":false,\"text\":\"92\",\"x\":0.3905707489608442,\"xanchor\":\"center\",\"xref\":\"x\",\"y\":0.9093120286472576,\"yanchor\":\"middle\",\"yref\":\"y\"},{\"align\":\"center\",\"font\":{\"color\":\"#000000\",\"size\":12.0},\"opacity\":1,\"showarrow\":false,\"text\":\"93\",\"x\":-0.36382741407418234,\"xanchor\":\"center\",\"xref\":\"x\",\"y\":-0.9550620085904159,\"yanchor\":\"middle\",\"yref\":\"y\"}],\"autosize\":false,\"height\":864,\"hovermode\":\"closest\",\"legend\":{\"x\":0.01,\"xanchor\":\"left\",\"y\":0.99,\"yanchor\":\"top\"},\"margin\":{\"b\":0,\"l\":0,\"pad\":0,\"r\":0,\"t\":0},\"showlegend\":true,\"template\":{\"data\":{\"bar\":[{\"error_x\":{\"color\":\"#2a3f5f\"},\"error_y\":{\"color\":\"#2a3f5f\"},\"marker\":{\"line\":{\"color\":\"#E5ECF6\",\"width\":0.5},\"pattern\":{\"fillmode\":\"overlay\",\"size\":10,\"solidity\":0.2}},\"type\":\"bar\"}],\"barpolar\":[{\"marker\":{\"line\":{\"color\":\"#E5ECF6\",\"width\":0.5},\"pattern\":{\"fillmode\":\"overlay\",\"size\":10,\"solidity\":0.2}},\"type\":\"barpolar\"}],\"carpet\":[{\"aaxis\":{\"endlinecolor\":\"#2a3f5f\",\"gridcolor\":\"white\",\"linecolor\":\"white\",\"minorgridcolor\":\"white\",\"startlinecolor\":\"#2a3f5f\"},\"baxis\":{\"endlinecolor\":\"#2a3f5f\",\"gridcolor\":\"white\",\"linecolor\":\"white\",\"minorgridcolor\":\"white\",\"startlinecolor\":\"#2a3f5f\"},\"type\":\"carpet\"}],\"choropleth\":[{\"colorbar\":{\"outlinewidth\":0,\"ticks\":\"\"},\"type\":\"choropleth\"}],\"contour\":[{\"colorbar\":{\"outlinewidth\":0,\"ticks\":\"\"},\"colorscale\":[[0.0,\"#0d0887\"],[0.1111111111111111,\"#46039f\"],[0.2222222222222222,\"#7201a8\"],[0.3333333333333333,\"#9c179e\"],[0.4444444444444444,\"#bd3786\"],[0.5555555555555556,\"#d8576b\"],[0.6666666666666666,\"#ed7953\"],[0.7777777777777778,\"#fb9f3a\"],[0.8888888888888888,\"#fdca26\"],[1.0,\"#f0f921\"]],\"type\":\"contour\"}],\"contourcarpet\":[{\"colorbar\":{\"outlinewidth\":0,\"ticks\":\"\"},\"type\":\"contourcarpet\"}],\"heatmap\":[{\"colorbar\":{\"outlinewidth\":0,\"ticks\":\"\"},\"colorscale\":[[0.0,\"#0d0887\"],[0.1111111111111111,\"#46039f\"],[0.2222222222222222,\"#7201a8\"],[0.3333333333333333,\"#9c179e\"],[0.4444444444444444,\"#bd3786\"],[0.5555555555555556,\"#d8576b\"],[0.6666666666666666,\"#ed7953\"],[0.7777777777777778,\"#fb9f3a\"],[0.8888888888888888,\"#fdca26\"],[1.0,\"#f0f921\"]],\"type\":\"heatmap\"}],\"heatmapgl\":[{\"colorbar\":{\"outlinewidth\":0,\"ticks\":\"\"},\"colorscale\":[[0.0,\"#0d0887\"],[0.1111111111111111,\"#46039f\"],[0.2222222222222222,\"#7201a8\"],[0.3333333333333333,\"#9c179e\"],[0.4444444444444444,\"#bd3786\"],[0.5555555555555556,\"#d8576b\"],[0.6666666666666666,\"#ed7953\"],[0.7777777777777778,\"#fb9f3a\"],[0.8888888888888888,\"#fdca26\"],[1.0,\"#f0f921\"]],\"type\":\"heatmapgl\"}],\"histogram\":[{\"marker\":{\"pattern\":{\"fillmode\":\"overlay\",\"size\":10,\"solidity\":0.2}},\"type\":\"histogram\"}],\"histogram2d\":[{\"colorbar\":{\"outlinewidth\":0,\"ticks\":\"\"},\"colorscale\":[[0.0,\"#0d0887\"],[0.1111111111111111,\"#46039f\"],[0.2222222222222222,\"#7201a8\"],[0.3333333333333333,\"#9c179e\"],[0.4444444444444444,\"#bd3786\"],[0.5555555555555556,\"#d8576b\"],[0.6666666666666666,\"#ed7953\"],[0.7777777777777778,\"#fb9f3a\"],[0.8888888888888888,\"#fdca26\"],[1.0,\"#f0f921\"]],\"type\":\"histogram2d\"}],\"histogram2dcontour\":[{\"colorbar\":{\"outlinewidth\":0,\"ticks\":\"\"},\"colorscale\":[[0.0,\"#0d0887\"],[0.1111111111111111,\"#46039f\"],[0.2222222222222222,\"#7201a8\"],[0.3333333333333333,\"#9c179e\"],[0.4444444444444444,\"#bd3786\"],[0.5555555555555556,\"#d8576b\"],[0.6666666666666666,\"#ed7953\"],[0.7777777777777778,\"#fb9f3a\"],[0.8888888888888888,\"#fdca26\"],[1.0,\"#f0f921\"]],\"type\":\"histogram2dcontour\"}],\"mesh3d\":[{\"colorbar\":{\"outlinewidth\":0,\"ticks\":\"\"},\"type\":\"mesh3d\"}],\"parcoords\":[{\"line\":{\"colorbar\":{\"outlinewidth\":0,\"ticks\":\"\"}},\"type\":\"parcoords\"}],\"pie\":[{\"automargin\":true,\"type\":\"pie\"}],\"scatter\":[{\"marker\":{\"colorbar\":{\"outlinewidth\":0,\"ticks\":\"\"}},\"type\":\"scatter\"}],\"scatter3d\":[{\"line\":{\"colorbar\":{\"outlinewidth\":0,\"ticks\":\"\"}},\"marker\":{\"colorbar\":{\"outlinewidth\":0,\"ticks\":\"\"}},\"type\":\"scatter3d\"}],\"scattercarpet\":[{\"marker\":{\"colorbar\":{\"outlinewidth\":0,\"ticks\":\"\"}},\"type\":\"scattercarpet\"}],\"scattergeo\":[{\"marker\":{\"colorbar\":{\"outlinewidth\":0,\"ticks\":\"\"}},\"type\":\"scattergeo\"}],\"scattergl\":[{\"marker\":{\"colorbar\":{\"outlinewidth\":0,\"ticks\":\"\"}},\"type\":\"scattergl\"}],\"scattermapbox\":[{\"marker\":{\"colorbar\":{\"outlinewidth\":0,\"ticks\":\"\"}},\"type\":\"scattermapbox\"}],\"scatterpolar\":[{\"marker\":{\"colorbar\":{\"outlinewidth\":0,\"ticks\":\"\"}},\"type\":\"scatterpolar\"}],\"scatterpolargl\":[{\"marker\":{\"colorbar\":{\"outlinewidth\":0,\"ticks\":\"\"}},\"type\":\"scatterpolargl\"}],\"scatterternary\":[{\"marker\":{\"colorbar\":{\"outlinewidth\":0,\"ticks\":\"\"}},\"type\":\"scatterternary\"}],\"surface\":[{\"colorbar\":{\"outlinewidth\":0,\"ticks\":\"\"},\"colorscale\":[[0.0,\"#0d0887\"],[0.1111111111111111,\"#46039f\"],[0.2222222222222222,\"#7201a8\"],[0.3333333333333333,\"#9c179e\"],[0.4444444444444444,\"#bd3786\"],[0.5555555555555556,\"#d8576b\"],[0.6666666666666666,\"#ed7953\"],[0.7777777777777778,\"#fb9f3a\"],[0.8888888888888888,\"#fdca26\"],[1.0,\"#f0f921\"]],\"type\":\"surface\"}],\"table\":[{\"cells\":{\"fill\":{\"color\":\"#EBF0F8\"},\"line\":{\"color\":\"white\"}},\"header\":{\"fill\":{\"color\":\"#C8D4E3\"},\"line\":{\"color\":\"white\"}},\"type\":\"table\"}]},\"layout\":{\"annotationdefaults\":{\"arrowcolor\":\"#2a3f5f\",\"arrowhead\":0,\"arrowwidth\":1},\"autotypenumbers\":\"strict\",\"coloraxis\":{\"colorbar\":{\"outlinewidth\":0,\"ticks\":\"\"}},\"colorscale\":{\"diverging\":[[0,\"#8e0152\"],[0.1,\"#c51b7d\"],[0.2,\"#de77ae\"],[0.3,\"#f1b6da\"],[0.4,\"#fde0ef\"],[0.5,\"#f7f7f7\"],[0.6,\"#e6f5d0\"],[0.7,\"#b8e186\"],[0.8,\"#7fbc41\"],[0.9,\"#4d9221\"],[1,\"#276419\"]],\"sequential\":[[0.0,\"#0d0887\"],[0.1111111111111111,\"#46039f\"],[0.2222222222222222,\"#7201a8\"],[0.3333333333333333,\"#9c179e\"],[0.4444444444444444,\"#bd3786\"],[0.5555555555555556,\"#d8576b\"],[0.6666666666666666,\"#ed7953\"],[0.7777777777777778,\"#fb9f3a\"],[0.8888888888888888,\"#fdca26\"],[1.0,\"#f0f921\"]],\"sequentialminus\":[[0.0,\"#0d0887\"],[0.1111111111111111,\"#46039f\"],[0.2222222222222222,\"#7201a8\"],[0.3333333333333333,\"#9c179e\"],[0.4444444444444444,\"#bd3786\"],[0.5555555555555556,\"#d8576b\"],[0.6666666666666666,\"#ed7953\"],[0.7777777777777778,\"#fb9f3a\"],[0.8888888888888888,\"#fdca26\"],[1.0,\"#f0f921\"]]},\"colorway\":[\"#636efa\",\"#EF553B\",\"#00cc96\",\"#ab63fa\",\"#FFA15A\",\"#19d3f3\",\"#FF6692\",\"#B6E880\",\"#FF97FF\",\"#FECB52\"],\"font\":{\"color\":\"#2a3f5f\"},\"geo\":{\"bgcolor\":\"white\",\"lakecolor\":\"white\",\"landcolor\":\"#E5ECF6\",\"showlakes\":true,\"showland\":true,\"subunitcolor\":\"white\"},\"hoverlabel\":{\"align\":\"left\"},\"hovermode\":\"closest\",\"mapbox\":{\"style\":\"light\"},\"paper_bgcolor\":\"white\",\"plot_bgcolor\":\"#E5ECF6\",\"polar\":{\"angularaxis\":{\"gridcolor\":\"white\",\"linecolor\":\"white\",\"ticks\":\"\"},\"bgcolor\":\"#E5ECF6\",\"radialaxis\":{\"gridcolor\":\"white\",\"linecolor\":\"white\",\"ticks\":\"\"}},\"scene\":{\"xaxis\":{\"backgroundcolor\":\"#E5ECF6\",\"gridcolor\":\"white\",\"gridwidth\":2,\"linecolor\":\"white\",\"showbackground\":true,\"ticks\":\"\",\"zerolinecolor\":\"white\"},\"yaxis\":{\"backgroundcolor\":\"#E5ECF6\",\"gridcolor\":\"white\",\"gridwidth\":2,\"linecolor\":\"white\",\"showbackground\":true,\"ticks\":\"\",\"zerolinecolor\":\"white\"},\"zaxis\":{\"backgroundcolor\":\"#E5ECF6\",\"gridcolor\":\"white\",\"gridwidth\":2,\"linecolor\":\"white\",\"showbackground\":true,\"ticks\":\"\",\"zerolinecolor\":\"white\"}},\"shapedefaults\":{\"line\":{\"color\":\"#2a3f5f\"}},\"ternary\":{\"aaxis\":{\"gridcolor\":\"white\",\"linecolor\":\"white\",\"ticks\":\"\"},\"baxis\":{\"gridcolor\":\"white\",\"linecolor\":\"white\",\"ticks\":\"\"},\"bgcolor\":\"#E5ECF6\",\"caxis\":{\"gridcolor\":\"white\",\"linecolor\":\"white\",\"ticks\":\"\"}},\"title\":{\"x\":0.05},\"xaxis\":{\"automargin\":true,\"gridcolor\":\"white\",\"linecolor\":\"white\",\"ticks\":\"\",\"title\":{\"standoff\":15},\"zerolinecolor\":\"white\",\"zerolinewidth\":2},\"yaxis\":{\"automargin\":true,\"gridcolor\":\"white\",\"linecolor\":\"white\",\"ticks\":\"\",\"title\":{\"standoff\":15},\"zerolinecolor\":\"white\",\"zerolinewidth\":2}}},\"width\":864,\"xaxis\":{\"anchor\":\"y\",\"domain\":[0.0,1.0],\"mirror\":\"ticks\",\"nticks\":11,\"range\":[-1.0984555965609866,1.0675675277807177],\"showgrid\":false,\"showline\":true,\"side\":\"top\",\"ticks\":\"inside\",\"type\":\"linear\",\"visible\":false,\"zeroline\":false},\"yaxis\":{\"anchor\":\"x\",\"domain\":[0.0,1.0],\"mirror\":\"ticks\",\"nticks\":11,\"range\":[-1.0739721169726972,1.0896607338897246],\"showgrid\":false,\"showline\":true,\"side\":\"right\",\"ticks\":\"inside\",\"type\":\"linear\",\"visible\":false,\"zeroline\":false}},                        {\"responsive\": true}                    ).then(function(){\n",
       "                            \n",
       "var gd = document.getElementById('287d6e40-f34e-424d-bbd8-b43131d9000d');\n",
       "var x = new MutationObserver(function (mutations, observer) {{\n",
       "        var display = window.getComputedStyle(gd).display;\n",
       "        if (!display || display === 'none') {{\n",
       "            console.log([gd, 'removed!']);\n",
       "            Plotly.purge(gd);\n",
       "            observer.disconnect();\n",
       "        }}\n",
       "}});\n",
       "\n",
       "// Listen for the removal of the full notebook cells\n",
       "var notebookContainer = gd.closest('#notebook-container');\n",
       "if (notebookContainer) {{\n",
       "    x.observe(notebookContainer, {childList: true});\n",
       "}}\n",
       "\n",
       "// Listen for the clearing of the current output cell\n",
       "var outputEl = gd.closest('.output');\n",
       "if (outputEl) {{\n",
       "    x.observe(outputEl, {childList: true});\n",
       "}}\n",
       "\n",
       "                        })                };                });            </script>        </div>"
      ]
     },
     "metadata": {},
     "output_type": "display_data"
    }
   ],
   "source": [
    "import lib.data as data\n",
    "dataset = data.get_dataset_from_adj(net_data.friends, y=y_net)\n",
    "print(f'{dataset=},\\n{dataset[0].y=}')\n",
    "print(f'{dataset.num_classes=}, {dataset.num_node_features=}')\n",
    "data.draw(dataset[0], layout='graphviz', labels_name=index_to_class, plotly=True, figsize=(12, 12), degree_size=False, node_size=400, seed=3)"
   ]
  },
  {
   "cell_type": "code",
   "execution_count": null,
   "id": "71af8e3e",
   "metadata": {},
   "outputs": [],
   "source": []
  },
  {
   "cell_type": "code",
   "execution_count": null,
   "id": "05eda608",
   "metadata": {},
   "outputs": [],
   "source": []
  },
  {
   "cell_type": "code",
   "execution_count": 156,
   "id": "71833eae",
   "metadata": {},
   "outputs": [],
   "source": [
    "def optimizer(self):\n",
    "    opt = optim.AdamW(self.parameters(), lr=1e-3)\n",
    "#     opt = optim.SGD(self.parameters(), lr=1e-3, momentum=0.9, weight_decay=2e-3)\n",
    "    sched = {\n",
    "        \"scheduler\": optim.lr_scheduler.CosineAnnealingWarmRestarts(opt, T_0=20, T_mult=3),\n",
    "        \"interval\": \"step\",\n",
    "    }  # called after each training step\n",
    "    return [opt], [sched]\n",
    "\n",
    "args = {\n",
    "    'seed': -1,\n",
    "    \"model_name\": \"GNN\",\n",
    "    \"layer_name\": \"GCN\",\n",
    "    \"task\": \"node\",\n",
    "    'exp_id': 'reality',\n",
    "    \"test_splits\": [.1, .2],\n",
    "    \"hidden_dim\": 32,\n",
    "    'num_layers': 3,\n",
    "    \"optim_func\": optimizer,\n",
    "    \"epochs\": 150,\n",
    "    'dropout': .1,\n",
    "    'dropout_head': .2,\n",
    "}"
   ]
  },
  {
   "cell_type": "code",
   "execution_count": 157,
   "id": "e6a8e35a",
   "metadata": {},
   "outputs": [
    {
     "name": "stderr",
     "output_type": "stream",
     "text": [
      "Global seed set to 2757085366\n",
      "GPU available: True, used: True\n",
      "TPU available: False, using: 0 TPU cores\n",
      "LOCAL_RANK: 0 - CUDA_VISIBLE_DEVICES: [0]\n",
      "\n",
      "  | Name        | Type             | Params\n",
      "-------------------------------------------------\n",
      "0 | model       | GNNModel         | 2.4 K \n",
      "1 | loss_module | CrossEntropyLoss | 0     \n",
      "-------------------------------------------------\n",
      "2.4 K     Trainable params\n",
      "0         Non-trainable params\n",
      "2.4 K     Total params\n",
      "0.010     Total estimated model params size (MB)\n"
     ]
    },
    {
     "name": "stdout",
     "output_type": "stream",
     "text": [
      "No pretrained found, training...\n"
     ]
    },
    {
     "data": {
      "application/vnd.jupyter.widget-view+json": {
       "model_id": "",
       "version_major": 2,
       "version_minor": 0
      },
      "text/plain": [
       "Validation sanity check: 0it [00:00, ?it/s]"
      ]
     },
     "metadata": {},
     "output_type": "display_data"
    },
    {
     "name": "stderr",
     "output_type": "stream",
     "text": [
      "Global seed set to 2757085366\n"
     ]
    },
    {
     "data": {
      "application/vnd.jupyter.widget-view+json": {
       "model_id": "c58958853eb74ceb8e3c3a5c6f33e91b",
       "version_major": 2,
       "version_minor": 0
      },
      "text/plain": [
       "Training: 0it [00:00, ?it/s]"
      ]
     },
     "metadata": {},
     "output_type": "display_data"
    },
    {
     "name": "stderr",
     "output_type": "stream",
     "text": [
      "LOCAL_RANK: 0 - CUDA_VISIBLE_DEVICES: [0]\n",
      "LOCAL_RANK: 0 - CUDA_VISIBLE_DEVICES: [0]\n"
     ]
    },
    {
     "data": {
      "application/vnd.jupyter.widget-view+json": {
       "model_id": "cc94c79a9e914a409617fbf00ad24bf1",
       "version_major": 2,
       "version_minor": 0
      },
      "text/plain": [
       "Testing: 0it [00:00, ?it/s]"
      ]
     },
     "metadata": {},
     "output_type": "display_data"
    },
    {
     "name": "stdout",
     "output_type": "stream",
     "text": [
      "Train accuracy: 69.70%\n",
      "Val accuracy:   55.56%\n",
      "Test accuracy:  57.89%\n"
     ]
    }
   ],
   "source": [
    "model, result, trainer = train_classifier(dataset, **args)\n",
    "print_results(result)"
   ]
  },
  {
   "cell_type": "code",
   "execution_count": null,
   "id": "960bab7d",
   "metadata": {},
   "outputs": [],
   "source": []
  },
  {
   "cell_type": "code",
   "execution_count": null,
   "id": "8c7a923a",
   "metadata": {},
   "outputs": [],
   "source": []
  },
  {
   "cell_type": "code",
   "execution_count": null,
   "id": "5e07e52b",
   "metadata": {},
   "outputs": [],
   "source": []
  },
  {
   "cell_type": "code",
   "execution_count": null,
   "id": "79923348",
   "metadata": {},
   "outputs": [],
   "source": []
  },
  {
   "cell_type": "code",
   "execution_count": null,
   "id": "f7fa2501",
   "metadata": {},
   "outputs": [],
   "source": []
  }
 ],
 "metadata": {
  "kernelspec": {
   "display_name": "Python 3 (ipykernel)",
   "language": "python",
   "name": "python3"
  },
  "language_info": {
   "codemirror_mode": {
    "name": "ipython",
    "version": 3
   },
   "file_extension": ".py",
   "mimetype": "text/x-python",
   "name": "python",
   "nbconvert_exporter": "python",
   "pygments_lexer": "ipython3",
   "version": "3.9.10"
  }
 },
 "nbformat": 4,
 "nbformat_minor": 5
}
