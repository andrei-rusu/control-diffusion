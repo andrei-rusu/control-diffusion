{
 "cells": [
  {
   "cell_type": "markdown",
   "id": "c7b58e5c",
   "metadata": {},
   "source": [
    "<h2> Load OGB data"
   ]
  },
  {
   "cell_type": "code",
   "execution_count": 2,
   "id": "b0cc6280",
   "metadata": {},
   "outputs": [],
   "source": [
    "from ogb.nodeproppred import PygNodePropPredDataset"
   ]
  },
  {
   "cell_type": "markdown",
   "id": "f15dc023",
   "metadata": {},
   "source": [
    "<h2> Multigraph"
   ]
  },
  {
   "cell_type": "code",
   "execution_count": 323,
   "id": "c1c60641",
   "metadata": {},
   "outputs": [],
   "source": [
    "from lib.tracing.utils import rel\n",
    "import lib.agent as ag\n",
    "from lib.tracing.network import get_random\n",
    "n = 30\n",
    "f1 = get_random(netsize=n, k=5)\n",
    "f2 = get_random(netsize=n, k=5)\n",
    "f3 = get_random(netsize=n, k=5)"
   ]
  },
  {
   "cell_type": "code",
   "execution_count": 327,
   "id": "1ce0b768",
   "metadata": {},
   "outputs": [],
   "source": [
    "rel(ag)\n",
    "agent = ag.RecordAgent(measures=('eigenvector', 'DeepWalk:2', 'triangles'), record_edges=True)\n",
    "f1.change_state(range(7), 'Ia')\n",
    "agent.record_info(f1, net_changed=True)\n",
    "f2.change_state(range(7), 'Ia')\n",
    "agent.record_info(f2, net_changed=False)\n",
    "agent.record_info(f3, net_changed=True)"
   ]
  },
  {
   "cell_type": "code",
   "execution_count": 328,
   "id": "ce3e9ef0",
   "metadata": {},
   "outputs": [
    {
     "name": "stdout",
     "output_type": "stream",
     "text": [
      "darda\n"
     ]
    },
    {
     "data": {
      "text/plain": [
       "[Data(edge_attr=[150, 2], edge_index=[2, 150], x=[30, 8], y=[30]),\n",
       " Data(edge_attr=[150, 2], edge_index=[2, 150], x=[30, 8], y=[30]),\n",
       " Data(edge_attr=[300, 2], edge_index=[2, 300], x=[30, 8], y=[30])]"
      ]
     },
     "execution_count": 328,
     "metadata": {},
     "output_type": "execute_result"
    }
   ],
   "source": [
    "d = agent.get_dataset(mark_delay_same_edges=False)\n",
    "d"
   ]
  },
  {
   "cell_type": "code",
   "execution_count": null,
   "id": "54caf86e",
   "metadata": {},
   "outputs": [],
   "source": []
  },
  {
   "cell_type": "code",
   "execution_count": null,
   "id": "1a35bf62",
   "metadata": {},
   "outputs": [],
   "source": []
  },
  {
   "cell_type": "code",
   "execution_count": 164,
   "id": "c43ec2d4",
   "metadata": {},
   "outputs": [],
   "source": [
    "import torch\n",
    "import torch.multiprocessing as mp\n",
    "import lib.untitled as module\n",
    "from lib.tracing.utils import rel\n",
    "rel(module)\n",
    "\n",
    "def main(data):\n",
    "    eng = module.Engine(data, numpy=False)\n",
    "    num_processes = 2\n",
    "    processes = []\n",
    "    for rank in range(num_processes):\n",
    "        p = mp.Process(target=eng)\n",
    "        p.start()\n",
    "        processes.append(p)\n",
    "    for p in processes:\n",
    "        p.join()\n",
    "        \n",
    "data = torch.zeros(10)\n",
    "main(data)"
   ]
  },
  {
   "cell_type": "code",
   "execution_count": 161,
   "id": "96ad5414",
   "metadata": {},
   "outputs": [
    {
     "data": {
      "text/plain": [
       "tensor([0., 0., 0., 0., 0., 0., 0., 0., 0., 0.])"
      ]
     },
     "execution_count": 161,
     "metadata": {},
     "output_type": "execute_result"
    }
   ],
   "source": [
    "data"
   ]
  },
  {
   "cell_type": "code",
   "execution_count": null,
   "id": "fe7f6364",
   "metadata": {},
   "outputs": [],
   "source": []
  },
  {
   "cell_type": "code",
   "execution_count": null,
   "id": "5f332795",
   "metadata": {},
   "outputs": [],
   "source": []
  },
  {
   "cell_type": "code",
   "execution_count": null,
   "id": "1d0f5931",
   "metadata": {},
   "outputs": [],
   "source": []
  },
  {
   "cell_type": "code",
   "execution_count": 192,
   "id": "3c260c15",
   "metadata": {},
   "outputs": [],
   "source": [
    "from lib.model import GNNModel\n",
    "from torch_geometric.data import DataLoader\n",
    "train_loader = DataLoader(d, batch_size=4, shuffle=True)\n",
    "gnn_model = GNNModel(d.num_node_features, d.num_classes if d.num_classes > 2 else 1)"
   ]
  },
  {
   "cell_type": "code",
   "execution_count": 193,
   "id": "eb34b49b",
   "metadata": {},
   "outputs": [
    {
     "data": {
      "text/plain": [
       "Batch(batch=[90], edge_attr=[900, 2], edge_index=[2, 900], ptr=[4], x=[90, 8], y=[90])"
      ]
     },
     "execution_count": 193,
     "metadata": {},
     "output_type": "execute_result"
    }
   ],
   "source": [
    "item = next(iter(train_loader))\n",
    "item"
   ]
  },
  {
   "cell_type": "code",
   "execution_count": 201,
   "id": "3a361de7",
   "metadata": {},
   "outputs": [
    {
     "name": "stdout",
     "output_type": "stream",
     "text": [
      "mse: tensor(0.1778)\n",
      "bce: tensor(0.7069)\n",
      "acc: tensor(0.8222)\n"
     ]
    }
   ],
   "source": [
    "logits, emb = gnn_model(item.x, item.edge_index, item.batch)\n",
    "# get predictions by thresholding\n",
    "y_pred = (logits.squeeze(dim=-1) > 0).float()\n",
    "# convert y to expected float type by the loss\n",
    "y = item.y.float()\n",
    "print('mse:', torch.mean((y_pred - item.y) ** 2))\n",
    "crit = torch.nn.BCEWithLogitsLoss()\n",
    "print('bce:', crit(y_pred, y))\n",
    "print('acc:', ((y_pred == item.y).sum().float() / item.y.shape[0]))"
   ]
  },
  {
   "cell_type": "code",
   "execution_count": null,
   "id": "75844fba",
   "metadata": {},
   "outputs": [],
   "source": []
  },
  {
   "cell_type": "code",
   "execution_count": 308,
   "id": "52e7c40a",
   "metadata": {},
   "outputs": [],
   "source": [
    "from copy import deepcopy\n",
    "import torch.nn.functional as F\n",
    "import networkx as nx\n",
    "\n",
    "class TemporalMultiGraph():\n",
    "    def __init__(self, agent, compute_target=True, use_dynamic_feat=False, use_inf_neigh=True):\n",
    "        self.agent = agent\n",
    "        self.compute_target = compute_target\n",
    "        self.use_dynamic_feat = use_dynamic_feat\n",
    "        self.use_inf_neigh = use_inf_neigh and agent.known_inf_neigh is not None\n",
    "        self.cumm = None\n",
    "        self.centr = None\n",
    "        \n",
    "    def combine_all(self, list_nx_or_edges):\n",
    "        try:\n",
    "            edges = list(nx_or_edgelist.edges(data=True))\n",
    "        except AttributeError:\n",
    "            edges = nx_or_edgelist\n",
    "    \n",
    "    def cummulative_and_last(self, net):\n",
    "        y = torch.tensor(list(map(lambda x: x.startswith('I'), \n",
    "                                  net.node_states))).long() if self.compute_target else None\n",
    "        last_data = get_dataset_from_network(\n",
    "            net,\n",
    "            x=self.get_features(net), \n",
    "            y=y,\n",
    "            num_classes=2\n",
    "        )\n",
    "        last = last_data[0]\n",
    "        last.edge_attr = F.pad(input=last.weight.reshape(-1,1), pad=(0, 1, 0, 0), mode='constant', value=0)\n",
    "        \n",
    "        if self.cumm is None:\n",
    "            # if self.cumm doesn't exist, just initialize it to the latest network dataset\n",
    "            self.cumm = deepcopy(last_data)\n",
    "        else:\n",
    "            # if this is reached, self.cumm is a GeometricDataset with one entry\n",
    "            cumm = self.cumm[0]\n",
    "            # we update in cumm the last entries for x and y\n",
    "            cumm.x, cumm.y = last.x, last.y\n",
    "            # edge_indexes get concatenated (i.e. multigraph)\n",
    "            cumm.edge_index = torch.cat((cumm.edge_index, last.edge_index), dim=1)\n",
    "            # we increase the edge attribute of time delay of interaction\n",
    "            cumm.edge_attr[:, 1] += 1\n",
    "            cumm.edge_attr = torch.cat((cumm.edge_attr, last.edge_attr), dim=0)\n",
    "        return self.cumm, last_data\n",
    "    \n",
    "    def get_features(self, net, measures={'eigenvector','degree'}):\n",
    "        agent = self.agent\n",
    "        if agent.net_changed or self.centr is None:\n",
    "            self.centr = torch.zeros(len(net), len(measures))\n",
    "            for i, measure in enumerate(measures):\n",
    "                try:\n",
    "                    centr_dict = getattr(nx, measure + '_centrality')(net)\n",
    "                except AttributeError:\n",
    "                    centr_dict = getattr(nx, measure)(net)\n",
    "                self.centr[:, i] = torch.tensor(list(centr_dict.values()))\n",
    "        feats = [self.centr]\n",
    "        if self.use_inf_neigh:\n",
    "            feats.append(torch.tensor(list(agent.known_inf_neigh.values())))\n",
    "        if self.use_dynamic_feat:\n",
    "            feats.append(agent.dynamic_feat)\n",
    "        # final result will be all features concatenated along columns\n",
    "        return torch.cat(feats, dim=1)"
   ]
  },
  {
   "cell_type": "code",
   "execution_count": 309,
   "id": "701b12f8",
   "metadata": {},
   "outputs": [],
   "source": [
    "import lib.agent as ag\n",
    "from lib.tracing.network import get_random\n",
    "n = 30\n",
    "net = get_random(netsize=n, k=5)\n",
    "agent = ag.Agent()\n",
    "agent.known_inf_neigh = {i:(1,0) for i in range(n)}\n",
    "agent.dynamic_feat = torch.zeros(n, 4)\n",
    "graph = TemporalMultiGraph(agent, compute_target=True, use_dynamic_feat=True, use_inf_neigh=True)\n",
    "for i in range(5):\n",
    "    net.node_states[i] = 'Is'\n",
    "    c, l = graph.cummulative_and_last(net)"
   ]
  },
  {
   "cell_type": "code",
   "execution_count": null,
   "id": "af625bda",
   "metadata": {},
   "outputs": [],
   "source": []
  },
  {
   "cell_type": "code",
   "execution_count": null,
   "id": "9970666d",
   "metadata": {},
   "outputs": [],
   "source": []
  },
  {
   "cell_type": "code",
   "execution_count": null,
   "id": "40228aa0",
   "metadata": {},
   "outputs": [],
   "source": []
  },
  {
   "cell_type": "code",
   "execution_count": null,
   "id": "b2f3a03c",
   "metadata": {},
   "outputs": [],
   "source": []
  },
  {
   "cell_type": "code",
   "execution_count": null,
   "id": "e7fcb378",
   "metadata": {},
   "outputs": [],
   "source": []
  },
  {
   "cell_type": "code",
   "execution_count": null,
   "id": "a1f8593e",
   "metadata": {},
   "outputs": [],
   "source": [
    "from timeit import timeit\n",
    "import numpy as np\n",
    "import torch"
   ]
  },
  {
   "cell_type": "code",
   "execution_count": 317,
   "id": "d61d674e",
   "metadata": {},
   "outputs": [],
   "source": [
    "num_nodes = 1000\n",
    "rankers = np.random.randn(num_nodes)\n",
    "verify = 80\n",
    "nodes = np.random.randint(0, num_nodes, size=verify)\n",
    "lst = rankers.tolist()\n",
    "tens = torch.tensor(lst)\n",
    "tens_cuda = tens.cuda()\n",
    "larg_k = 100"
   ]
  },
  {
   "cell_type": "code",
   "execution_count": 71,
   "id": "efd3b3e3",
   "metadata": {},
   "outputs": [
    {
     "data": {
      "text/plain": [
       "array([85, 87, 88, 90, 91, 92, 94, 95, 97, 99], dtype=int64)"
      ]
     },
     "execution_count": 71,
     "metadata": {},
     "output_type": "execute_result"
    }
   ],
   "source": [
    "np.argsort(masked_rankers)[-larg_k:]"
   ]
  },
  {
   "cell_type": "code",
   "execution_count": 72,
   "id": "e88b4e70",
   "metadata": {},
   "outputs": [
    {
     "data": {
      "text/plain": [
       "array([0.98444677, 1.11935035, 1.12123741, 1.14552065, 1.1889801 ,\n",
       "       1.26293688, 1.34861674, 1.35343968, 1.55119591, 1.77637607])"
      ]
     },
     "execution_count": 72,
     "metadata": {},
     "output_type": "execute_result"
    }
   ],
   "source": [
    "np.sort(rankers[nodes])[-larg_k:]"
   ]
  },
  {
   "cell_type": "code",
   "execution_count": 258,
   "id": "63b5f21c",
   "metadata": {},
   "outputs": [
    {
     "data": {
      "text/plain": [
       "[374, 110, 390, 247, 79, 239, 372, 129, 36, 99]"
      ]
     },
     "execution_count": 258,
     "metadata": {},
     "output_type": "execute_result"
    }
   ],
   "source": [
    "myown(nodes, rankers, larg_k)"
   ]
  },
  {
   "cell_type": "code",
   "execution_count": 260,
   "id": "6e754f8a",
   "metadata": {},
   "outputs": [
    {
     "data": {
      "text/plain": [
       "[374, 110, 390, 247, 79, 239, 372, 129, 36, 99]"
      ]
     },
     "execution_count": 260,
     "metadata": {},
     "output_type": "execute_result"
    }
   ],
   "source": [
    "myown(nodes, list(rankers), larg_k)"
   ]
  },
  {
   "cell_type": "code",
   "execution_count": 259,
   "id": "982fc6b5",
   "metadata": {},
   "outputs": [
    {
     "data": {
      "text/plain": [
       "array([374,  79, 239, 110,  36, 247, 129,  99, 372, 390], dtype=int64)"
      ]
     },
     "execution_count": 259,
     "metadata": {},
     "output_type": "execute_result"
    }
   ],
   "source": [
    "npown(nodes, rankers, larg_k)"
   ]
  },
  {
   "cell_type": "code",
   "execution_count": 318,
   "id": "f8ca68c9",
   "metadata": {},
   "outputs": [
    {
     "data": {
      "text/plain": [
       "3.197808700002497"
      ]
     },
     "execution_count": 318,
     "metadata": {},
     "output_type": "execute_result"
    }
   ],
   "source": [
    "timeit(lambda: npown(nodes, tens.numpy(), larg_k), number=100000)"
   ]
  },
  {
   "cell_type": "code",
   "execution_count": 319,
   "id": "22ccde08",
   "metadata": {},
   "outputs": [
    {
     "data": {
      "text/plain": [
       "3.1728049000084866"
      ]
     },
     "execution_count": 319,
     "metadata": {},
     "output_type": "execute_result"
    }
   ],
   "source": [
    "timeit(lambda: npown(nodes, tens.numpy(), larg_k), number=100000)"
   ]
  },
  {
   "cell_type": "code",
   "execution_count": 320,
   "id": "3b998437",
   "metadata": {},
   "outputs": [
    {
     "data": {
      "text/plain": [
       "5.833938100011437"
      ]
     },
     "execution_count": 320,
     "metadata": {},
     "output_type": "execute_result"
    }
   ],
   "source": [
    "timeit(lambda: myown(nodes, tens.numpy(), larg_k), number=100000)"
   ]
  },
  {
   "cell_type": "code",
   "execution_count": 322,
   "id": "cf8eb587",
   "metadata": {},
   "outputs": [
    {
     "data": {
      "text/plain": [
       "6.654083700006595"
      ]
     },
     "execution_count": 322,
     "metadata": {},
     "output_type": "execute_result"
    }
   ],
   "source": [
    "timeit(lambda: myown(nodes, tens.numpy().tolist(), larg_k), number=100000)"
   ]
  },
  {
   "cell_type": "code",
   "execution_count": 321,
   "id": "d3522226",
   "metadata": {},
   "outputs": [
    {
     "data": {
      "text/plain": [
       "6.207265500008361"
      ]
     },
     "execution_count": 321,
     "metadata": {},
     "output_type": "execute_result"
    }
   ],
   "source": [
    "timeit(lambda: myown(nodes, tens.numpy().tolist() if len(tens) < 500 else tens.numpy(), larg_k), number=100000)"
   ]
  },
  {
   "cell_type": "code",
   "execution_count": null,
   "id": "2ce2d422",
   "metadata": {},
   "outputs": [],
   "source": []
  },
  {
   "cell_type": "code",
   "execution_count": null,
   "id": "2d95df79",
   "metadata": {},
   "outputs": [],
   "source": [
    "timeit(lambda: myown(nodes, list(tens), larg_k), number=100000)"
   ]
  },
  {
   "cell_type": "code",
   "execution_count": 266,
   "id": "1e551388",
   "metadata": {},
   "outputs": [
    {
     "data": {
      "text/plain": [
       "5.30234309998923"
      ]
     },
     "execution_count": 266,
     "metadata": {},
     "output_type": "execute_result"
    }
   ],
   "source": [
    "timeit(lambda: myown(nodes, rankers, larg_k), number=100000)"
   ]
  },
  {
   "cell_type": "code",
   "execution_count": 272,
   "id": "12660cb0",
   "metadata": {},
   "outputs": [
    {
     "data": {
      "text/plain": [
       "13.040164400008507"
      ]
     },
     "execution_count": 272,
     "metadata": {},
     "output_type": "execute_result"
    }
   ],
   "source": [
    "timeit(lambda: myown(nodes, rankers.tolist(), larg_k), number=100000)"
   ]
  },
  {
   "cell_type": "code",
   "execution_count": 273,
   "id": "51eea5c5",
   "metadata": {},
   "outputs": [
    {
     "data": {
      "text/plain": [
       "24.407063499995274"
      ]
     },
     "execution_count": 273,
     "metadata": {},
     "output_type": "execute_result"
    }
   ],
   "source": [
    "timeit(lambda: myown(nodes, list(rankers), larg_k), number=100000)"
   ]
  },
  {
   "cell_type": "code",
   "execution_count": null,
   "id": "450cf3e4",
   "metadata": {},
   "outputs": [],
   "source": []
  },
  {
   "cell_type": "code",
   "execution_count": null,
   "id": "15c792ef",
   "metadata": {},
   "outputs": [],
   "source": []
  },
  {
   "cell_type": "code",
   "execution_count": 198,
   "id": "3a9c6c59",
   "metadata": {},
   "outputs": [
    {
     "data": {
      "text/plain": [
       "21.519074900003034"
      ]
     },
     "execution_count": 198,
     "metadata": {},
     "output_type": "execute_result"
    }
   ],
   "source": [
    "timeit(lambda: torchown(nodes, tens, larg_k), number=100000)"
   ]
  },
  {
   "cell_type": "code",
   "execution_count": 177,
   "id": "5b95d710",
   "metadata": {},
   "outputs": [
    {
     "data": {
      "text/plain": [
       "79.17722800000047"
      ]
     },
     "execution_count": 177,
     "metadata": {},
     "output_type": "execute_result"
    }
   ],
   "source": [
    "timeit(lambda: torchown(nodes, tens_cuda, larg_k), number=100000)"
   ]
  },
  {
   "cell_type": "code",
   "execution_count": 166,
   "id": "3ecbcbd3",
   "metadata": {},
   "outputs": [],
   "source": [
    "def myown(nodes, rankers, size):\n",
    "    import heapq\n",
    "    pq = []\n",
    "    for nid in set(nodes):\n",
    "        if len(pq) < size:\n",
    "            heapq.heappush(pq, (rankers[nid], nid))\n",
    "        else:\n",
    "            heapq.heappushpop(pq, (rankers[nid], nid))\n",
    "    return [entry[1] for entry in pq]"
   ]
  },
  {
   "cell_type": "code",
   "execution_count": 220,
   "id": "5d05e56a",
   "metadata": {},
   "outputs": [],
   "source": [
    "def npown(nodes, rankers, size):\n",
    "    masked_rankers = rankers #np.asarray(rankers)\n",
    "    mask = np.ones_like(rankers, dtype=bool)\n",
    "    mask[np.unique(nodes)] = False\n",
    "    masked_rankers[mask] = -1000\n",
    "    return np.argpartition(masked_rankers, -larg_k)[-larg_k:]"
   ]
  },
  {
   "cell_type": "code",
   "execution_count": 176,
   "id": "4e264296",
   "metadata": {},
   "outputs": [],
   "source": [
    "def torchown(nodes, rankers, size):\n",
    "    masked_rankers = rankers #torch.as_tensor(rankers)\n",
    "    mask = torch.ones_like(masked_rankers, dtype=bool)\n",
    "    mask[np.unique(nodes)] = False\n",
    "    masked_rankers[mask] = -1000\n",
    "    return torch.topk(masked_rankers, k=size, sorted=False)[1]"
   ]
  },
  {
   "cell_type": "code",
   "execution_count": null,
   "id": "6c27b781",
   "metadata": {},
   "outputs": [],
   "source": []
  },
  {
   "cell_type": "code",
   "execution_count": null,
   "id": "2127f2e8",
   "metadata": {},
   "outputs": [],
   "source": []
  },
  {
   "cell_type": "code",
   "execution_count": null,
   "id": "a6a20720",
   "metadata": {},
   "outputs": [],
   "source": []
  },
  {
   "cell_type": "code",
   "execution_count": 89,
   "id": "47af65af",
   "metadata": {},
   "outputs": [],
   "source": [
    "import lib.data as dat\n",
    "from lib.tracing.utils import rel\n",
    "rel(dat)\n",
    "datum = dat.get_dataset_from_network(G)"
   ]
  },
  {
   "cell_type": "code",
   "execution_count": 90,
   "id": "14e5b3b9",
   "metadata": {},
   "outputs": [
    {
     "data": {
      "text/plain": [
       "Data(edge_index=[2, 4], route=[6], x=[2, 1])"
      ]
     },
     "execution_count": 90,
     "metadata": {},
     "output_type": "execute_result"
    }
   ],
   "source": [
    "datum[0]"
   ]
  },
  {
   "cell_type": "code",
   "execution_count": 93,
   "id": "6f7198f0",
   "metadata": {},
   "outputs": [
    {
     "data": {
      "text/plain": [
       "tensor([[1, 1, 1, 1],\n",
       "        [0, 2, 0, 2]])"
      ]
     },
     "execution_count": 93,
     "metadata": {},
     "output_type": "execute_result"
    }
   ],
   "source": [
    "datum[0].edge_index"
   ]
  },
  {
   "cell_type": "code",
   "execution_count": 94,
   "id": "43a9a600",
   "metadata": {},
   "outputs": [
    {
     "data": {
      "text/plain": [
       "tensor([28, 37, 26, 28, 37, 26])"
      ]
     },
     "execution_count": 94,
     "metadata": {},
     "output_type": "execute_result"
    }
   ],
   "source": [
    "datum[0].route"
   ]
  },
  {
   "cell_type": "code",
   "execution_count": 96,
   "id": "6c638768",
   "metadata": {},
   "outputs": [],
   "source": [
    "if [1,2,3] is all:\n",
    "    print(2)"
   ]
  },
  {
   "cell_type": "code",
   "execution_count": null,
   "id": "69535413",
   "metadata": {},
   "outputs": [],
   "source": []
  },
  {
   "cell_type": "code",
   "execution_count": 1,
   "id": "87a9b926",
   "metadata": {},
   "outputs": [
    {
     "data": {
      "text/plain": [
       "Data(cash=[4], edge_index=[2, 4], x=[3, 1])"
      ]
     },
     "execution_count": 1,
     "metadata": {},
     "output_type": "execute_result"
    }
   ],
   "source": [
    "import networkx as nx\n",
    "import lib.data as dat\n",
    "F = nx.Graph()\n",
    "F.add_edges_from([(0, 1, {\"cash\": 28}), (0, 2, {\"cash\": 37})])\n",
    "dat1 = dat.get_dataset_from_network(F)\n",
    "dat1[0]"
   ]
  },
  {
   "cell_type": "code",
   "execution_count": 13,
   "id": "f5da9dbd",
   "metadata": {},
   "outputs": [
    {
     "data": {
      "text/plain": [
       "OutEdgeView([(0, 1), (0, 2), (1, 0), (2, 0)])"
      ]
     },
     "execution_count": 13,
     "metadata": {},
     "output_type": "execute_result"
    }
   ],
   "source": [
    "F.to_directed().edges"
   ]
  },
  {
   "cell_type": "code",
   "execution_count": null,
   "id": "be082e6d",
   "metadata": {},
   "outputs": [],
   "source": []
  },
  {
   "cell_type": "code",
   "execution_count": null,
   "id": "3fd956aa",
   "metadata": {},
   "outputs": [],
   "source": []
  },
  {
   "cell_type": "code",
   "execution_count": null,
   "id": "7efc5e4f",
   "metadata": {},
   "outputs": [],
   "source": []
  },
  {
   "cell_type": "code",
   "execution_count": null,
   "id": "8dbf9569",
   "metadata": {},
   "outputs": [],
   "source": []
  },
  {
   "cell_type": "markdown",
   "id": "57090dc4",
   "metadata": {},
   "source": [
    "<h2> Use DNAConv"
   ]
  },
  {
   "cell_type": "code",
   "execution_count": 5,
   "id": "b1049117",
   "metadata": {},
   "outputs": [],
   "source": [
    "import os.path as osp\n",
    "\n",
    "import torch\n",
    "import torch.nn.functional as F\n",
    "from sklearn.model_selection import StratifiedKFold\n",
    "from torch_geometric.datasets import Planetoid\n",
    "from torch_geometric.nn import DNAConv\n",
    "\n",
    "dataset = 'Cora'\n",
    "path = osp.join('data', dataset)\n",
    "dataset = Planetoid(path, dataset)\n",
    "data = dataset[0]\n",
    "data.train_mask = data.val_mask = data.test_mask = None\n",
    "\n",
    "\n",
    "def gen_uniform_20_20_60_split(data):\n",
    "    skf = StratifiedKFold(5, shuffle=True, random_state=55)\n",
    "    idx = [torch.from_numpy(i) for _, i in skf.split(data.y, data.y)]\n",
    "    data.train_idx = idx[0].to(torch.long)\n",
    "    data.val_idx = idx[1].to(torch.long)\n",
    "    data.test_idx = torch.cat(idx[2:], dim=0).to(torch.long)\n",
    "    return data\n",
    "\n",
    "\n",
    "data = gen_uniform_20_20_60_split(data)\n"
   ]
  },
  {
   "cell_type": "code",
   "execution_count": 10,
   "id": "6b78d3a2",
   "metadata": {},
   "outputs": [],
   "source": [
    "class Net(torch.nn.Module):\n",
    "    def __init__(self,\n",
    "                 in_channels,\n",
    "                 hidden_channels,\n",
    "                 out_channels,\n",
    "                 num_layers,\n",
    "                 heads=1,\n",
    "                 groups=1):\n",
    "        super(Net, self).__init__()\n",
    "        self.hidden_channels = hidden_channels\n",
    "        self.lin1 = torch.nn.Linear(in_channels, hidden_channels)\n",
    "        self.convs = torch.nn.ModuleList()\n",
    "        for i in range(num_layers):\n",
    "            self.convs.append(\n",
    "                DNAConv(\n",
    "                    hidden_channels, heads, groups, dropout=0.8, cached=True))\n",
    "        self.lin2 = torch.nn.Linear(hidden_channels, out_channels)\n",
    "\n",
    "    def reset_parameters(self):\n",
    "        self.lin1.reset_parameters()\n",
    "        for conv in self.convs:\n",
    "            conv.reset_parameters()\n",
    "        self.lin2.reset_parameters()\n",
    "\n",
    "    def forward(self, x, edge_index):\n",
    "        x = F.relu(self.lin1(x))\n",
    "        x = F.dropout(x, p=0.5, training=self.training)\n",
    "        x_all = x.view(-1, 1, self.hidden_channels)\n",
    "        for conv in self.convs:\n",
    "            x = F.relu(conv(x_all, edge_index))\n",
    "            x = x.view(-1, 1, self.hidden_channels)\n",
    "            x_all = torch.cat([x_all, x], dim=1)\n",
    "        x = x_all[:, -1]\n",
    "        x = F.dropout(x, p=0.5, training=self.training)\n",
    "        x = self.lin2(x)\n",
    "        return torch.log_softmax(x, dim=1)"
   ]
  },
  {
   "cell_type": "code",
   "execution_count": 11,
   "id": "8209f1c6",
   "metadata": {},
   "outputs": [],
   "source": [
    "device = torch.device('cuda' if torch.cuda.is_available() else 'cpu')\n",
    "model = Net(\n",
    "    in_channels=dataset.num_features,\n",
    "    hidden_channels=128,\n",
    "    out_channels=dataset.num_classes,\n",
    "    num_layers=5,\n",
    "    heads=8,\n",
    "    groups=16)\n",
    "model, data = model.to(device), data.to(device)\n",
    "optimizer = torch.optim.Adam(model.parameters(), lr=0.005, weight_decay=0.0005)\n",
    "\n",
    "\n",
    "def train():\n",
    "    model.train()\n",
    "    optimizer.zero_grad()\n",
    "    out = model(data.x, data.edge_index)\n",
    "    loss = F.nll_loss(out[data.train_idx], data.y[data.train_idx])\n",
    "    loss.backward()\n",
    "    optimizer.step()\n",
    "\n",
    "\n",
    "def test():\n",
    "    model.eval()\n",
    "    logits, accs = model(data.x, data.edge_index), []\n",
    "    for _, idx in data('train_idx', 'val_idx', 'test_idx'):\n",
    "        pred = logits[idx].max(1)[1]\n",
    "        acc = pred.eq(data.y[idx]).sum().item() / idx.numel()\n",
    "        accs.append(acc)\n",
    "    return accs"
   ]
  },
  {
   "cell_type": "code",
   "execution_count": 12,
   "id": "6be5ef65",
   "metadata": {},
   "outputs": [
    {
     "name": "stdout",
     "output_type": "stream",
     "text": [
      "Epoch: 001, Train: 0.3026, Val: 0.3026, Test: 0.3011\n",
      "Epoch: 002, Train: 0.3026, Val: 0.3026, Test: 0.3011\n",
      "Epoch: 003, Train: 0.3026, Val: 0.3026, Test: 0.3011\n",
      "Epoch: 004, Train: 0.3026, Val: 0.3026, Test: 0.3011\n",
      "Epoch: 005, Train: 0.3026, Val: 0.3026, Test: 0.3011\n",
      "Epoch: 006, Train: 0.3026, Val: 0.3026, Test: 0.3011\n",
      "Epoch: 007, Train: 0.3026, Val: 0.3026, Test: 0.3011\n",
      "Epoch: 008, Train: 0.3026, Val: 0.3026, Test: 0.3011\n",
      "Epoch: 009, Train: 0.3026, Val: 0.3026, Test: 0.3011\n",
      "Epoch: 010, Train: 0.3026, Val: 0.3026, Test: 0.3011\n",
      "Epoch: 011, Train: 0.3026, Val: 0.3026, Test: 0.3011\n",
      "Epoch: 012, Train: 0.3026, Val: 0.3026, Test: 0.3011\n",
      "Epoch: 013, Train: 0.3026, Val: 0.3026, Test: 0.3011\n",
      "Epoch: 014, Train: 0.3026, Val: 0.3026, Test: 0.3011\n",
      "Epoch: 015, Train: 0.3026, Val: 0.3026, Test: 0.3011\n",
      "Epoch: 016, Train: 0.3026, Val: 0.3026, Test: 0.3011\n",
      "Epoch: 017, Train: 0.3026, Val: 0.3026, Test: 0.3011\n",
      "Epoch: 018, Train: 0.3026, Val: 0.3026, Test: 0.3011\n",
      "Epoch: 019, Train: 0.3026, Val: 0.3026, Test: 0.3011\n"
     ]
    }
   ],
   "source": [
    "best_val_acc = test_acc = 0\n",
    "for epoch in range(1, 20):\n",
    "    train()\n",
    "    train_acc, val_acc, tmp_test_acc = test()\n",
    "    if val_acc > best_val_acc:\n",
    "        best_val_acc = val_acc\n",
    "        test_acc = tmp_test_acc\n",
    "    log = 'Epoch: {:03d}, Train: {:.4f}, Val: {:.4f}, Test: {:.4f}'\n",
    "    print(log.format(epoch, train_acc, best_val_acc, test_acc))"
   ]
  },
  {
   "cell_type": "code",
   "execution_count": null,
   "id": "aa855a23",
   "metadata": {},
   "outputs": [],
   "source": []
  },
  {
   "cell_type": "code",
   "execution_count": null,
   "id": "12c0af92",
   "metadata": {},
   "outputs": [],
   "source": []
  },
  {
   "cell_type": "markdown",
   "id": "10fb993b",
   "metadata": {},
   "source": [
    "<h2> Experiments with nx"
   ]
  },
  {
   "cell_type": "code",
   "execution_count": 20,
   "id": "c6dceae3",
   "metadata": {},
   "outputs": [],
   "source": [
    "%load_ext autoreload\n",
    "%autoreload 2\n",
    "import networkx as nx\n",
    "from lib.tracing.network import get_random"
   ]
  },
  {
   "cell_type": "code",
   "execution_count": 125,
   "id": "dcc1fb3f",
   "metadata": {},
   "outputs": [
    {
     "name": "stdout",
     "output_type": "stream",
     "text": [
      "Edges:  36\n"
     ]
    },
    {
     "data": {
      "image/png": "[encoded data removed]",
      "text/plain": [
       "<Figure size 432x288 with 1 Axes>"
      ]
     },
     "metadata": {},
     "output_type": "display_data"
    }
   ],
   "source": [
    "g = get_random(netsize=15, k=3, typ='powerlaw-cluster', p=0.2)\n",
    "print('Edges: ', len(g.edges))\n",
    "g.draw()"
   ]
  },
  {
   "cell_type": "code",
   "execution_count": 197,
   "id": "6cb927e4",
   "metadata": {},
   "outputs": [
    {
     "data": {
      "text/plain": [
       "{0: [3, 4, 5, 7, 8], 3: [1, 2, 6, 10, 13, 14], 4: [9, 11, 12]}"
      ]
     },
     "execution_count": 197,
     "metadata": {},
     "output_type": "execute_result"
    }
   ],
   "source": [
    "dict(nx.bfs_successors(g, 0, depth_limit=2))"
   ]
  },
  {
   "cell_type": "code",
   "execution_count": 3,
   "id": "970c16ae",
   "metadata": {},
   "outputs": [
    {
     "data": {
      "image/png": "[encoded data removed]",
      "text/plain": [
       "<Figure size 432x288 with 1 Axes>"
      ]
     },
     "metadata": {},
     "output_type": "display_data"
    }
   ],
   "source": [
    "from networkx.drawing.nx_agraph import graphviz_layout\n",
    "a = nx.bfs_tree(g, source=7, depth_limit=2)\n",
    "pos = graphviz_layout(a, prog=\"dot\")\n",
    "nx.draw(a, pos, with_labels=True)"
   ]
  },
  {
   "cell_type": "code",
   "execution_count": null,
   "id": "af206e1c",
   "metadata": {},
   "outputs": [],
   "source": []
  },
  {
   "cell_type": "code",
   "execution_count": 137,
   "id": "54cc2bc7",
   "metadata": {},
   "outputs": [
    {
     "name": "stdout",
     "output_type": "stream",
     "text": [
      "Edges:  36\n",
      "[(0, 3), (0, 4), (0, 5), (0, 14), (1, 3), (1, 4), (1, 5), (1, 9), (1, 13), (2, 3), (2, 7), (2, 8), (2, 10), (2, 12), (3, 4), (3, 5), (3, 6), (3, 8), (3, 10), (3, 11), (3, 13), (3, 14), (4, 6), (4, 7), (4, 8), (4, 9), (4, 11), (5, 6), (5, 12), (5, 14), (6, 7), (6, 10), (8, 9), (8, 11), (8, 13), (10, 12)]\n"
     ]
    },
    {
     "data": {
      "image/png": "[encoded data removed]",
      "text/plain": [
       "<Figure size 432x288 with 1 Axes>"
      ]
     },
     "metadata": {},
     "output_type": "display_data"
    }
   ],
   "source": [
    "g = get_random(netsize=15, k=3, typ='powerlaw-cluster', p=0.2)\n",
    "print('Edges: ', len(g.edges))\n",
    "print(g.edges)\n",
    "g.draw()"
   ]
  },
  {
   "cell_type": "code",
   "execution_count": 49,
   "id": "a6d2cf7d",
   "metadata": {},
   "outputs": [
    {
     "data": {
      "text/plain": [
       "(15, 5)"
      ]
     },
     "execution_count": 49,
     "metadata": {},
     "output_type": "execute_result"
    }
   ],
   "source": [
    "from pydoc import locate\n",
    "dim=5\n",
    "measure='Node2Vec'\n",
    "embedder = locate(f'karateclub.{measure}')(dimensions=dim)\n",
    "embedder.fit(g)\n",
    "emb = embedder.get_embedding()\n",
    "emb.shape"
   ]
  },
  {
   "cell_type": "code",
   "execution_count": 138,
   "id": "353dc701",
   "metadata": {},
   "outputs": [
    {
     "name": "stdout",
     "output_type": "stream",
     "text": [
      "51\n"
     ]
    },
    {
     "data": {
      "text/plain": [
       "(15, 5)"
      ]
     },
     "execution_count": 138,
     "metadata": {},
     "output_type": "execute_result"
    }
   ],
   "source": [
    "from karateclub import Node2Vec\n",
    "dw = Node2Vec(dimensions=5)\n",
    "dw.fit(g)\n",
    "print(len(g.edges))\n",
    "emb = dw.get_embedding()\n",
    "emb.shape"
   ]
  },
  {
   "cell_type": "code",
   "execution_count": 136,
   "id": "8c5e9416",
   "metadata": {},
   "outputs": [
    {
     "data": {
      "text/plain": [
       "EdgeView([(0, 3), (0, 4), (0, 5), (0, 14), (0, 0), (1, 3), (1, 4), (1, 5), (1, 9), (1, 13), (1, 1), (2, 3), (2, 7), (2, 8), (2, 10), (2, 12), (2, 2), (3, 4), (3, 5), (3, 6), (3, 8), (3, 10), (3, 11), (3, 13), (3, 14), (3, 3), (4, 6), (4, 7), (4, 8), (4, 9), (4, 11), (4, 4), (5, 6), (5, 12), (5, 14), (5, 5), (6, 7), (6, 10), (6, 6), (7, 7), (8, 9), (8, 11), (8, 13), (8, 8), (9, 9), (10, 12), (10, 10), (11, 11), (12, 12), (13, 13), (14, 14)])"
      ]
     },
     "execution_count": 136,
     "metadata": {},
     "output_type": "execute_result"
    }
   ],
   "source": [
    "g.edges"
   ]
  },
  {
   "cell_type": "code",
   "execution_count": null,
   "id": "6e88be9e",
   "metadata": {},
   "outputs": [],
   "source": []
  },
  {
   "cell_type": "code",
   "execution_count": 28,
   "id": "5c9228ec",
   "metadata": {},
   "outputs": [
    {
     "data": {
      "text/plain": [
       "(15, 6)"
      ]
     },
     "execution_count": 28,
     "metadata": {},
     "output_type": "execute_result"
    }
   ],
   "source": [
    "from karateclub import GLEE\n",
    "dw = GLEE(dimensions=5)\n",
    "dw.fit(g)\n",
    "emb = dw.get_embedding()\n",
    "emb.shape"
   ]
  },
  {
   "cell_type": "code",
   "execution_count": 40,
   "id": "83607b31",
   "metadata": {},
   "outputs": [
    {
     "data": {
      "text/plain": [
       "(15, 7)"
      ]
     },
     "execution_count": 40,
     "metadata": {},
     "output_type": "execute_result"
    }
   ],
   "source": [
    "import numpy as np\n",
    "np.concatenate((np.zeros((15,2)), emb), axis=1).shape"
   ]
  },
  {
   "cell_type": "code",
   "execution_count": null,
   "id": "fd13239a",
   "metadata": {},
   "outputs": [],
   "source": []
  },
  {
   "cell_type": "code",
   "execution_count": null,
   "id": "7675ca12",
   "metadata": {},
   "outputs": [],
   "source": []
  },
  {
   "cell_type": "code",
   "execution_count": null,
   "id": "9d936fe1",
   "metadata": {},
   "outputs": [],
   "source": []
  },
  {
   "cell_type": "code",
   "execution_count": null,
   "id": "e9f1daa6",
   "metadata": {},
   "outputs": [],
   "source": []
  },
  {
   "cell_type": "code",
   "execution_count": 72,
   "id": "5ae4db66",
   "metadata": {},
   "outputs": [
    {
     "data": {
      "text/plain": [
       "(0.9358631144334866, 2.966707768941775e-07)"
      ]
     },
     "execution_count": 72,
     "metadata": {},
     "output_type": "execute_result"
    }
   ],
   "source": [
    "import numpy as np\n",
    "import scipy\n",
    "first = 'degree'\n",
    "second = 'eigenvector'\n",
    "scipy.stats.pearsonr(list(getattr(nx, first+'_centrality')(g).values()), list(getattr(nx, second+'_centrality')(g).values()))"
   ]
  },
  {
   "cell_type": "code",
   "execution_count": 98,
   "id": "27daf8d9",
   "metadata": {},
   "outputs": [],
   "source": [
    "centrs = ('degree', 'closeness', 'harmonic', 'betweenness', 'load', 'eigenvector', 'current_flow_closeness', 'current_flow_betweenness', 'subgraph')\n",
    "measures = ['pagerank', 'clustering', 'triangles', 'node_clique_number', 'greedy_color']\n",
    "compare = [c+'_centrality' for c in centrs] + measures\n",
    "\n",
    "# pears = [[scipy.stats.pearsonr(list(getattr(nx, c1)(g).values()), list(getattr(nx, c2)(g).values()))[0] for c1 in compare] for c2 in compare]\n",
    "spear = [[scipy.stats.spearmanr(list(getattr(nx, c1)(g).values()), list(getattr(nx, c2)(g).values()))[0] for c1 in compare] for c2 in compare]"
   ]
  },
  {
   "cell_type": "code",
   "execution_count": null,
   "id": "71fbd259",
   "metadata": {},
   "outputs": [],
   "source": []
  },
  {
   "cell_type": "code",
   "execution_count": 99,
   "id": "77bfe84b",
   "metadata": {},
   "outputs": [
    {
     "data": {
      "image/png": "[encoded data removed]",
      "text/plain": [
       "<Figure size 720x720 with 2 Axes>"
      ]
     },
     "metadata": {
      "needs_background": "light"
     },
     "output_type": "display_data"
    }
   ],
   "source": [
    "import seaborn as sns\n",
    "import matplotlib.pyplot as plt \n",
    "\n",
    "def correlation_heatmap(correlations, labels=None):\n",
    "    fig, ax = plt.subplots(figsize=(10,10))\n",
    "    sns.heatmap(correlations, vmax=1.0, center=0, fmt='.2f', xticklabels=labels, yticklabels=labels,\n",
    "                square=True, linewidths=.5, annot=True, cbar_kws={\"shrink\": .70})\n",
    "    plt.show()\n",
    "    \n",
    "correlation_heatmap(spear, labels=compare)"
   ]
  },
  {
   "cell_type": "code",
   "execution_count": null,
   "id": "1bed5fc3",
   "metadata": {},
   "outputs": [],
   "source": [
    "correlation_heatmap(pears, labels=compare)"
   ]
  },
  {
   "cell_type": "code",
   "execution_count": null,
   "id": "a152e680",
   "metadata": {},
   "outputs": [],
   "source": []
  },
  {
   "cell_type": "markdown",
   "id": "1046fe67",
   "metadata": {},
   "source": [
    "<h1> Tracing"
   ]
  },
  {
   "cell_type": "code",
   "execution_count": 64,
   "id": "50af5077",
   "metadata": {},
   "outputs": [
    {
     "data": {
      "text/plain": [
       "[2, 0, 8]"
      ]
     },
     "execution_count": 64,
     "metadata": {},
     "output_type": "execute_result"
    }
   ],
   "source": [
    "import heapq\n",
    "def control_both(net, nodes, size=3, **kwargs):\n",
    "    # compute centralities\n",
    "    centr = nx.current_flow_betweenness_centrality(net)\n",
    "    # init priority queue (max heap needed, so negate the centrality measure since heapq uses min heap)\n",
    "    pq = []\n",
    "    for nid in nodes:\n",
    "        if len(pq) < size:\n",
    "            heapq.heappush(pq, (centr[nid], nid))\n",
    "        else:\n",
    "            heapq.heappushpop(pq, (centr[nid], nid))\n",
    "\n",
    "    return [entry[1] for entry in pq]\n",
    "\n",
    "control_both(g, (0,1,2,3,4,8))"
   ]
  },
  {
   "cell_type": "code",
   "execution_count": null,
   "id": "35357cac",
   "metadata": {},
   "outputs": [],
   "source": []
  },
  {
   "cell_type": "code",
   "execution_count": 5,
   "id": "b3620ec6",
   "metadata": {},
   "outputs": [],
   "source": [
    "# define network\n",
    "import networkx as nx\n",
    "from lib.tracing.network import get_random\n",
    "seed = 11\n",
    "g = get_random(netsize=500, k=5, typ='barabasi', nseed=0)\n",
    "# g.draw(legend=False)\n",
    "cl = nx.closeness_centrality(g)"
   ]
  },
  {
   "cell_type": "code",
   "execution_count": null,
   "id": "4a73ba07",
   "metadata": {},
   "outputs": [],
   "source": []
  },
  {
   "cell_type": "code",
   "execution_count": 1,
   "id": "a07e6af8",
   "metadata": {},
   "outputs": [
    {
     "data": {
      "text/plain": [
       "8"
      ]
     },
     "execution_count": 1,
     "metadata": {},
     "output_type": "execute_result"
    }
   ],
   "source": [
    "from multiprocessing import cpu_count\n",
    "cpu_count()"
   ]
  },
  {
   "cell_type": "code",
   "execution_count": null,
   "id": "812e55f7",
   "metadata": {},
   "outputs": [],
   "source": []
  },
  {
   "cell_type": "code",
   "execution_count": 1,
   "id": "7ae9e6b5",
   "metadata": {},
   "outputs": [],
   "source": [
    "%load_ext autoreload\n",
    "%autoreload 2"
   ]
  },
  {
   "cell_type": "code",
   "execution_count": null,
   "id": "e2e7ab6a",
   "metadata": {},
   "outputs": [
    {
     "name": "stdout",
     "output_type": "stream",
     "text": [
      "=========================================================\n",
      "Running simulation with parameters:\n",
      "netsize = 500, k = 6, dual = 0, model = covid\n",
      "overlap = 0.8, uptake = 0.5, maintain_overlap = False\n",
      "taut = 0, taur = 0, noncomp = 0, noncomp_dependtime = True\n",
      "=========================================================\n",
      "\n",
      "----- Simulating network no. 0 -----\n",
      "Iterations simulation progress:  50%|██████████████████████████                          | 2/4 [00:07<00:09,  4.73s/it]"
     ]
    }
   ],
   "source": [
    "import lib.run_tracing as run\n",
    "import lib.agent as agent\n",
    "import lib.tracing.multirun_engine as eng\n",
    "from lib.tracing.utils import rel\n",
    "rel(agent, run, eng)\n",
    "ag = agent.CentralityAgent('eigenvector', tester=True, tracer=False, seed=7)\n",
    "st = run.run_mock(agent=ag, nettype='powerlaw-cluster', netsize=500, k=6, isolate_s=False, first_inf=.1, presample=10000, pa=.2, \\\n",
    "                            p=.1, seed=11, rem_orphans=True, taut=0, taut_two=-1, delay_two=4, model='covid', netseed=4, \\\n",
    "                            multip=1, nnets=4, niters=4, dual=0, taur=0, noncomp=0, overlap_two=.7, noncomp_after=10000, \n",
    "                            uptake=.5, maintain_overlap=False, separate_traced=True, efforts=False, draw_fullname=True, \n",
    "                            draw=0, draw_iter=0, draw_layout='spring', sampling_type='min', nevents=0, trace_after=15,\n",
    "                            summary_print=0, summary_splits=100, r_window=7, avg_without_earlystop=True)\n",
    "st['res']['average-overall-infected']['mean']"
   ]
  },
  {
   "cell_type": "code",
   "execution_count": 3,
   "id": "1d88f2d7",
   "metadata": {},
   "outputs": [],
   "source": [
    "import lib.agent as agent\n",
    "ag = agent.Agent.from_dict(**dict(\n",
    "    typ='centrality',\n",
    "    measure='eigenvector', \n",
    "    tester=False, \n",
    "    tracer=False, \n",
    "    k_hops=2, \n",
    "    seed=8))"
   ]
  },
  {
   "cell_type": "code",
   "execution_count": null,
   "id": "cd956229",
   "metadata": {},
   "outputs": [],
   "source": []
  },
  {
   "cell_type": "code",
   "execution_count": null,
   "id": "d070dffb",
   "metadata": {},
   "outputs": [],
   "source": []
  },
  {
   "cell_type": "code",
   "execution_count": null,
   "id": "b5bd7f7c",
   "metadata": {},
   "outputs": [
    {
     "name": "stdout",
     "output_type": "stream",
     "text": [
      "=========================================================\n",
      "Running simulation with parameters:\n",
      "netsize = 50, k = 3, dual = 1, model = covid\n",
      "overlap = 0.8, uptake = 0.5, maintain_overlap = False\n",
      "taut = 0.1, taur = 0, noncomp = 0.02, noncomp_dependtime = True\n",
      "=========================================================\n",
      "\n",
      "Networks simulation progress:  20%|██████████▊                                           | 1/5 [00:05<00:22,  5.64s/it]"
     ]
    }
   ],
   "source": [
    "import lib.run_tracing as run\n",
    "st = run.run_mock(netsize=50, k=3, isolate_s=False, first_inf=.1, presample=10000, nettype='barabasi', pa=.5, \\\n",
    "                            p=.1, seed=2, rem_orphans=True, taut=.1, taut_two=-1, delay_two=4, model='covid', netseed=-1, \\\n",
    "                            multip=1, nnets=4, niters=4, dual=1, taur=0, noncomp=0.02, overlap_two=.7, noncomp_after=1000, \n",
    "                            uptake=.5, maintain_overlap=False, separate_traced=True, efforts=False, draw_fullname=True, \n",
    "                            draw=1, draw_iter=0, draw_layout='spring', sampling_type='min', nevents=0, trace_after=15,\n",
    "                            summary_print=0, summary_splits=100, r_window=7, avg_without_earlystop=True, animate=0)"
   ]
  },
  {
   "cell_type": "code",
   "execution_count": null,
   "id": "7dc07836",
   "metadata": {},
   "outputs": [],
   "source": []
  },
  {
   "cell_type": "code",
   "execution_count": 5,
   "id": "7333a8ff",
   "metadata": {},
   "outputs": [
    {
     "name": "stdout",
     "output_type": "stream",
     "text": [
      "=========================================================\n",
      "Running simulation with parameters:\n",
      "netsize = 800, k = 6, dual = 0, model = covid\n",
      "overlap = 0.8, uptake = 0.5, maintain_overlap = False\n",
      "taut = 0, taur = 0, noncomp = 0, noncomp_dependtime = True\n",
      "=========================================================\n",
      "\n",
      "Networks simulation progress: 100%|██████████████████████████████████████████████████████| 8/8 [00:37<00:00,  4.64s/it]\n"
     ]
    },
    {
     "data": {
      "text/plain": [
       "658.22"
      ]
     },
     "execution_count": 5,
     "metadata": {},
     "output_type": "execute_result"
    }
   ],
   "source": [
    "import lib.run_tracing as run\n",
    "# from lib.tracing.utils import rel\n",
    "import lib.agent as agent\n",
    "# rel(agent)\n",
    "ag = dict(\n",
    "    typ='centrality',\n",
    "    measure='eigenvector', \n",
    "    tester=False, \n",
    "    tracer=False, \n",
    "    k_hops=2, \n",
    "    seed=8)\n",
    "st = run.run_mock(agent=ag, nettype='powerlaw-cluster', netsize=800, k=6, isolate_s=False, first_inf=.1, presample=10000, pa=.2, \\\n",
    "                            p=.1, seed=11, rem_orphans=True, taut=0, taut_two=-1, delay_two=4, model='covid', netseed=4, \\\n",
    "                            multip=1, nnets=8, niters=4, dual=0, taur=0, noncomp=0, overlap_two=.7, noncomp_after=10000, \n",
    "                            uptake=.5, maintain_overlap=False, separate_traced=True, efforts=False, draw_fullname=True, \n",
    "                            draw=0, draw_iter=0, draw_layout='spring', sampling_type='min', nevents=0, trace_after=15,\n",
    "                            summary_print=0, summary_splits=100, r_window=7, avg_without_earlystop=True)\n",
    "st['res']['average-overall-infected']['mean']"
   ]
  },
  {
   "cell_type": "code",
   "execution_count": null,
   "id": "26ac4c5b",
   "metadata": {},
   "outputs": [],
   "source": []
  },
  {
   "cell_type": "code",
   "execution_count": 44,
   "id": "9a952b3a",
   "metadata": {},
   "outputs": [
    {
     "name": "stdout",
     "output_type": "stream",
     "text": [
      "=========================================================\n",
      "Running simulation with parameters:\n",
      "netsize = 500, k = 6, dual = 0, model = covid\n",
      "overlap = 0.8, uptake = 0.5, maintain_overlap = False\n",
      "taut = 0, taur = 0, noncomp = 0, noncomp_dependtime = True\n",
      "=========================================================\n",
      "\n",
      "----- Simulating network no. 0 -----\n",
      "Running iteration 0:                                                                                                   \n",
      "---> Result:309 total infected persons over time.                                                                      \n",
      "Running iteration 1:                                                                                                   \n",
      "---> Result:434 total infected persons over time.                                                                      \n",
      "Running iteration 2:                                                                                                   \n",
      "---> Result:485 total infected persons over time.                                                                      \n",
      "Running iteration 3:                                                                                                   \n",
      "---> Result:475 total infected persons over time.                                                                      \n",
      "Running iteration 4:                                                                                                   \n",
      "---> Result:497 total infected persons over time.                                                                      \n",
      "Running iteration 5:                                                                                                   \n",
      "---> Result:493 total infected persons over time.                                                                      \n",
      "Running iteration 6:                                                                                                   \n",
      "---> Result:495 total infected persons over time.                                                                      \n",
      "Running iteration 7:                                                                                                   \n",
      "---> Result:499 total infected persons over time.                                                                      \n",
      "Running iteration 8:                                                                                                   \n",
      "---> Result:499 total infected persons over time.                                                                      \n",
      "Running iteration 9:                                                                                                   \n",
      "---> Result:499 total infected persons over time.                                                                      \n",
      "Iterations simulation progress: 100%|██████████████████████████████████████████████████| 10/10 [00:10<00:00,  1.06s/it]\n"
     ]
    },
    {
     "data": {
      "text/plain": [
       "467.5"
      ]
     },
     "execution_count": 44,
     "metadata": {},
     "output_type": "execute_result"
    }
   ],
   "source": [
    "import lib.run_tracing as run\n",
    "import lib.agent as agent\n",
    "rel(agent)\n",
    "ag = agent.CentralityAgent(measure='eigenvector', tester=True, tracer=False, k_hops=2, seed=8)\n",
    "st = run.run_mock(agent=ag, nettype='powerlaw-cluster', netsize=500, k=6, isolate_s=False, first_inf=.1, presample=10000, pa=.2, \\\n",
    "                            p=.1, seed=11, rem_orphans=True, taut=0, taut_two=-1, delay_two=4, model='covid', netseed=4, \\\n",
    "                            multip=0, nnets=1, niters=10, dual=0, taur=0, noncomp=0, overlap_two=.7, noncomp_after=10000, \n",
    "                            uptake=.5, maintain_overlap=False, separate_traced=True, efforts=False, draw_fullname=True, \n",
    "                            draw=0, draw_iter=0, draw_layout='spring', sampling_type='min', nevents=0, trace_after=15,\n",
    "                            summary_print=0, summary_splits=100, r_window=7, avg_without_earlystop=True)\n",
    "st['res']['average-overall-infected']['mean']"
   ]
  },
  {
   "cell_type": "code",
   "execution_count": null,
   "id": "919f3bba",
   "metadata": {},
   "outputs": [],
   "source": []
  },
  {
   "cell_type": "code",
   "execution_count": 64,
   "id": "a26ce4a6",
   "metadata": {},
   "outputs": [
    {
     "data": {
      "text/plain": [
       "[(3, 2), (4, 1)]"
      ]
     },
     "execution_count": 64,
     "metadata": {},
     "output_type": "execute_result"
    }
   ],
   "source": [
    "import heapq\n",
    "mes = {1:4, 2:3, 3:2, 4:1}\n",
    "nodes = mes.keys()\n",
    "pq = []\n",
    "size=2\n",
    "for nid in set(nodes):\n",
    "    if len(pq) < size:\n",
    "        heapq.heappush(pq, (mes[nid], nid))\n",
    "    else:\n",
    "        heapq.heappushpop(pq, (mes[nid], nid))\n",
    "pq"
   ]
  },
  {
   "cell_type": "code",
   "execution_count": 65,
   "id": "b8e74580",
   "metadata": {},
   "outputs": [
    {
     "data": {
      "text/plain": [
       "[(4, 3), (1, 2), (2, 1)]"
      ]
     },
     "execution_count": 65,
     "metadata": {},
     "output_type": "execute_result"
    }
   ],
   "source": [
    "a = [1,1,2,3,4,4,4,5]\n",
    "from collections import Counter\n",
    "Counter(a).most_common(3)"
   ]
  },
  {
   "cell_type": "code",
   "execution_count": null,
   "id": "e0946fb0",
   "metadata": {},
   "outputs": [],
   "source": []
  },
  {
   "cell_type": "code",
   "execution_count": 1,
   "id": "ef91b433",
   "metadata": {},
   "outputs": [
    {
     "name": "stdout",
     "output_type": "stream",
     "text": [
      "=========================================================\n",
      "Running simulation with parameters:\n",
      "netsize = 500, k = 6, dual = 0, model = covid\n",
      "overlap = 0.8, uptake = 0.5, maintain_overlap = False\n",
      "taut = 0, taur = 0, noncomp = 0, noncomp_dependtime = True\n",
      "=========================================================\n",
      "\n",
      "----- Simulating network no. 0 -----\n",
      "Iterations simulation progress: 100%|████████████████████████████████████████████████████| 2/2 [00:06<00:00,  3.19s/it]\n"
     ]
    },
    {
     "data": {
      "text/plain": [
       "375.0"
      ]
     },
     "execution_count": 1,
     "metadata": {},
     "output_type": "execute_result"
    }
   ],
   "source": [
    "import lib.run_tracing as run\n",
    "import lib.agent as agent\n",
    "from lib.tracing.utils import rel\n",
    "rel(agent)\n",
    "ag = agent.NeighborsAgent(measure='eigenvector', tester=True, tracer=False, n_test=10, n_trace=0, k_hops=1, seed=11)\n",
    "st = run.run_mock(agent=ag, nettype='powerlaw-cluster', netsize=500, k=6, isolate_s=False, first_inf=.1, presample=10000, pa=.2,\n",
    "                            p=.1, rem_orphans=True, taut=0, taut_two=-1, delay_two=4, model='covid',\n",
    "                            multip=2, nnets=1, niters=2, dual=0, taur=0, noncomp=0, overlap_two=.7, noncomp_after=10000, \n",
    "                            uptake=.5, maintain_overlap=False, separate_traced=True, efforts=False, draw_fullname=True, \n",
    "                            draw=0, draw_iter=0, draw_layout='spring', sampling_type='min', nevents=0, trace_after=15,\n",
    "                            summary_print=0, summary_splits=100, r_window=7, avg_without_earlystop=True,\n",
    "                            seed=11, netseed=4, infseed=1)\n",
    "st['res']['average-overall-infected']['mean']"
   ]
  },
  {
   "cell_type": "code",
   "execution_count": 29,
   "id": "7f97606c",
   "metadata": {},
   "outputs": [
    {
     "name": "stdout",
     "output_type": "stream",
     "text": [
      "=========================================================\n",
      "Running simulation with parameters:\n",
      "netsize = 500, k = 6, dual = 0, model = covid\n",
      "overlap = 0.8, uptake = 0.5, maintain_overlap = False\n",
      "taut = 0, taur = 0, noncomp = 0, noncomp_dependtime = True\n",
      "=========================================================\n",
      "\n",
      "----- Simulating network no. 0 -----\n",
      "Running iteration 0:                                                                                                   \n",
      "---> Result:362 total infected persons over time.                                                                      \n",
      "Running iteration 1:                                                                                                   \n",
      "---> Result:440 total infected persons over time.                                                                      \n",
      "Running iteration 2:                                                                                                   \n",
      "---> Result:432 total infected persons over time.                                                                      \n",
      "Running iteration 3:                                                                                                   \n",
      "---> Result:416 total infected persons over time.                                                                      \n",
      "Running iteration 4:                                                                                                   \n",
      "---> Result:467 total infected persons over time.                                                                      \n",
      "Running iteration 5:                                                                                                   \n",
      "---> Result:440 total infected persons over time.                                                                      \n",
      "Running iteration 6:                                                                                                   \n",
      "---> Result:458 total infected persons over time.                                                                      \n",
      "Running iteration 7:                                                                                                   \n",
      "---> Result:473 total infected persons over time.                                                                      \n",
      "Running iteration 8:                                                                                                   \n",
      "---> Result:459 total infected persons over time.                                                                      \n",
      "Running iteration 9:                                                                                                   \n",
      "---> Result:472 total infected persons over time.                                                                      \n",
      "Iterations simulation progress: 100%|██████████████████████████████████████████████████| 10/10 [00:11<00:00,  1.17s/it]\n"
     ]
    },
    {
     "data": {
      "text/plain": [
       "439.0"
      ]
     },
     "execution_count": 29,
     "metadata": {},
     "output_type": "execute_result"
    }
   ],
   "source": [
    "import lib.run_tracing as run\n",
    "import lib.agent as agent\n",
    "from lib.tracing.utils import rel\n",
    "rel(agent)\n",
    "ag = agent.CentralityAgent(measure='eigenvector', tester=True, tracer=False, n_test=10, n_trace=0, k_hops=2, seed=11)\n",
    "st = run.run_mock(agent=ag, nettype='powerlaw-cluster', netsize=500, k=6, isolate_s=False, first_inf=.1, presample=10000, pa=.2, \\\n",
    "                            p=.1, seed=11, rem_orphans=True, taut=0, taut_two=-1, delay_two=4, model='covid', netseed=4, \\\n",
    "                            multip=0, nnets=1, niters=10, dual=0, taur=0, noncomp=0, overlap_two=.7, noncomp_after=10000, \n",
    "                            uptake=.5, maintain_overlap=False, separate_traced=True, efforts=False, draw_fullname=True, \n",
    "                            draw=0, draw_iter=0, draw_layout='spring', sampling_type='min', nevents=0, trace_after=15,\n",
    "                            summary_print=0, summary_splits=100, r_window=7, avg_without_earlystop=True)\n",
    "st['res']['average-overall-infected']['mean']"
   ]
  },
  {
   "cell_type": "code",
   "execution_count": 27,
   "id": "1212f189",
   "metadata": {},
   "outputs": [
    {
     "name": "stdout",
     "output_type": "stream",
     "text": [
      "=========================================================\n",
      "Running simulation with parameters:\n",
      "netsize = 500, k = 6, dual = 0, model = covid\n",
      "overlap = 0.8, uptake = 0.5, maintain_overlap = False\n",
      "taut = 0, taur = 0, noncomp = 0, noncomp_dependtime = True\n",
      "=========================================================\n",
      "\n",
      "----- Simulating network no. 0 -----\n",
      "Running iteration 0:                                                                                                   \n",
      "---> Result:380 total infected persons over time.                                                                      \n",
      "Running iteration 1:                                                                                                   \n",
      "---> Result:460 total infected persons over time.                                                                      \n",
      "Running iteration 2:                                                                                                   \n",
      "---> Result:500 total infected persons over time.                                                                      \n",
      "Running iteration 3:                                                                                                   \n",
      "---> Result:446 total infected persons over time.                                                                      \n",
      "Running iteration 4:                                                                                                   \n",
      "---> Result:500 total infected persons over time.                                                                      \n",
      "Running iteration 5:                                                                                                   \n",
      "---> Result:458 total infected persons over time.                                                                      \n",
      "Running iteration 6:                                                                                                   \n",
      "---> Result:461 total infected persons over time.                                                                      \n",
      "Running iteration 7:                                                                                                   \n",
      "---> Result:500 total infected persons over time.                                                                      \n",
      "Running iteration 8:                                                                                                   \n",
      "---> Result:476 total infected persons over time.                                                                      \n",
      "Running iteration 9:                                                                                                   \n",
      "---> Result:489 total infected persons over time.                                                                      \n",
      "Iterations simulation progress: 100%|██████████████████████████████████████████████████| 10/10 [00:12<00:00,  1.29s/it]\n"
     ]
    },
    {
     "data": {
      "text/plain": [
       "466.3"
      ]
     },
     "execution_count": 27,
     "metadata": {},
     "output_type": "execute_result"
    }
   ],
   "source": [
    "import lib.run_tracing as run\n",
    "import lib.agent as agent\n",
    "from lib.tracing.utils import rel\n",
    "rel(agent)\n",
    "ag = agent.CentralityAgent(measure='eigenvector', tester=False, tracer=False, n_test=10, n_trace=0, k_hops=2, seed=11)\n",
    "st = run.run_mock(agent=ag, nettype='powerlaw-cluster', netsize=500, k=6, isolate_s=False, first_inf=.1, presample=10000, pa=.2, \\\n",
    "                            p=.1, seed=11, rem_orphans=True, taut=0, taut_two=-1, delay_two=4, model='covid', netseed=4, \\\n",
    "                            multip=0, nnets=1, niters=10, dual=0, taur=0, noncomp=0, overlap_two=.7, noncomp_after=10000, \n",
    "                            uptake=.5, maintain_overlap=False, separate_traced=True, efforts=False, draw_fullname=True, \n",
    "                            draw=0, draw_iter=0, draw_layout='spring', sampling_type='min', nevents=0, trace_after=15,\n",
    "                            summary_print=0, summary_splits=100, r_window=7, avg_without_earlystop=True)\n",
    "st['res']['average-overall-infected']['mean']"
   ]
  },
  {
   "cell_type": "code",
   "execution_count": 154,
   "id": "008ce0cf",
   "metadata": {},
   "outputs": [
    {
     "name": "stdout",
     "output_type": "stream",
     "text": [
      "=========================================================\n",
      "Running simulation with parameters:\n",
      "netsize = 500, k = 6, dual = 0, model = covid\n",
      "overlap = 0.8, uptake = 0.5, maintain_overlap = False\n",
      "taut = 0, taur = 0, noncomp = 0, noncomp_dependtime = True\n",
      "=========================================================\n",
      "\n",
      "----- Simulating network no. 0 -----\n",
      "Running iteration 0:                                                                                                   \n",
      "---> Result:338 total infected persons over time.                                                                      \n",
      "Running iteration 1:                                                                                                   \n",
      "---> Result:403 total infected persons over time.                                                                      \n",
      "Running iteration 2:                                                                                                   \n",
      "---> Result:438 total infected persons over time.                                                                      \n",
      "Running iteration 3:                                                                                                   \n",
      "---> Result:496 total infected persons over time.                                                                      \n",
      "Running iteration 4:                                                                                                   \n",
      "---> Result:496 total infected persons over time.                                                                      \n",
      "Running iteration 5:                                                                                                   \n",
      "---> Result:466 total infected persons over time.                                                                      \n",
      "Running iteration 6:                                                                                                   \n",
      "---> Result:479 total infected persons over time.                                                                      \n",
      "Running iteration 7:                                                                                                   \n",
      "---> Result:499 total infected persons over time.                                                                      \n",
      "Running iteration 8:                                                                                                   \n",
      "---> Result:491 total infected persons over time.                                                                      \n",
      "Running iteration 9:                                                                                                   \n",
      "---> Result:493 total infected persons over time.                                                                      \n",
      "Iterations simulation progress: 100%|██████████████████████████████████████████████████| 10/10 [00:08<00:00,  1.18it/s]\n"
     ]
    },
    {
     "data": {
      "text/plain": [
       "456.5"
      ]
     },
     "execution_count": 154,
     "metadata": {},
     "output_type": "execute_result"
    }
   ],
   "source": [
    "import lib.run_tracing as run\n",
    "import lib.agent as agent\n",
    "rel(agent)\n",
    "ag = agent.MixAgent('centrality', 'frequency', measure='eigenvector', tester=True, tracer=True, seed=7)\n",
    "st = run.run_mock(agent=ag, nettype='powerlaw-cluster', netsize=500, k=6, isolate_s=False, first_inf=.1, presample=10000, pa=.2, \\\n",
    "                            p=.1, seed=11, rem_orphans=True, taut=0, taut_two=-1, delay_two=4, model='covid', netseed=4, \\\n",
    "                            multip=0, nnets=1, niters=10, dual=0, taur=0, noncomp=0, overlap_two=.7, noncomp_after=10000, \n",
    "                            uptake=.5, maintain_overlap=False, separate_traced=True, efforts=False, draw_fullname=True, \n",
    "                            draw=0, draw_iter=0, draw_layout='spring', sampling_type='min', nevents=0, trace_after=15,\n",
    "                            summary_print=0, summary_splits=100, r_window=7, avg_without_earlystop=True)\n",
    "st['res']['average-overall-infected']['mean']"
   ]
  },
  {
   "cell_type": "code",
   "execution_count": null,
   "id": "b696d076",
   "metadata": {},
   "outputs": [],
   "source": []
  },
  {
   "cell_type": "code",
   "execution_count": 38,
   "id": "0e2b1101",
   "metadata": {},
   "outputs": [
    {
     "data": {
      "image/png": "[encoded data removed]",
      "text/plain": [
       "<Figure size 432x288 with 1 Axes>"
      ]
     },
     "metadata": {},
     "output_type": "display_data"
    }
   ],
   "source": [
    "import networkx as nx\n",
    "sizes = [10, 10, 10]\n",
    "probs = [[0.75, 0.01, 0.01], [0.01, 0.65, 0.01], [0.01, 0.01, 0.70]]\n",
    "g = nx.stochastic_block_model(sizes, probs, seed=0)\n",
    "pos = nx.nx_agraph.graphviz_layout(g, prog=\"sfdp\")\n",
    "pos = nx.spring_layout(g)\n",
    "nx.draw(g, pos=pos)"
   ]
  },
  {
   "cell_type": "code",
   "execution_count": null,
   "id": "d9650501",
   "metadata": {},
   "outputs": [],
   "source": []
  },
  {
   "cell_type": "code",
   "execution_count": null,
   "id": "53f3c702",
   "metadata": {},
   "outputs": [],
   "source": []
  },
  {
   "cell_type": "code",
   "execution_count": null,
   "id": "e612a8e7",
   "metadata": {},
   "outputs": [],
   "source": [
    "import lib.run_tracing as run\n",
    "import lib.agent as agent\n",
    "%load_ext autoreload\n",
    "%autoreload 2\n",
    "from lib.tracing.utils import rel\n",
    "import lib.tracing.network as net\n",
    "\n",
    "rel(agent, run, net)\n",
    "ag = agent.CentralityAgent(measure='degree', tester=True, tracer=False, k_hops=4, seed=8)\n",
    "st = run.run_mock(agent=ag, nettype='sbm:2', netsize=30, k=12, isolate_s=False, first_inf=.1, presample=10000, pa=.2, \\\n",
    "                            p=.009, rem_orphans=True, taut=0, taut_two=-1, delay_two=4, model='covid',\n",
    "                            multip=0, nnets=1, niters=10, dual=0, taur=0, noncomp=0, overlap_two=.7, noncomp_after=10000, \n",
    "                            uptake=.5, maintain_overlap=False, separate_traced=True, efforts=False, draw_fullname=True, \n",
    "                            draw=1, draw_iter=0, draw_layout='graphviz:neato', sampling_type='min', nevents=0, trace_after=15,\n",
    "                            alpha_contain=.8, summary_print=0, summary_splits=100, r_window=7, avg_without_earlystop=True,\n",
    "                            seed=14, netseed=13, infseed=4)\n",
    "st['res']['average-overall-infected']['mean']"
   ]
  },
  {
   "cell_type": "code",
   "execution_count": 3,
   "id": "388dc818",
   "metadata": {},
   "outputs": [
    {
     "data": {
      "text/plain": [
       "{'mean': 0.2,\n",
       " 'std': 0.87,\n",
       " 'mean_wo': 0.2,\n",
       " 'std_wo': 0.87,\n",
       " 'whislo': 0.41,\n",
       " 'q1': 0.31,\n",
       " 'med': 0.19,\n",
       " 'q3': 0.1,\n",
       " 'whishi': 0.01,\n",
       " 'whislo_wo': 0.41,\n",
       " 'q1_wo': 0.31,\n",
       " 'med_wo': 0.19,\n",
       " 'q3_wo': 0.1,\n",
       " 'whishi_wo': 0.01}"
      ]
     },
     "execution_count": 3,
     "metadata": {},
     "output_type": "execute_result"
    }
   ],
   "source": [
    "st['res']['average-%healthy']"
   ]
  },
  {
   "cell_type": "code",
   "execution_count": null,
   "id": "8ad990e1",
   "metadata": {},
   "outputs": [],
   "source": []
  },
  {
   "cell_type": "code",
   "execution_count": null,
   "id": "7214396f",
   "metadata": {},
   "outputs": [],
   "source": []
  },
  {
   "cell_type": "code",
   "execution_count": null,
   "id": "12a25fc9",
   "metadata": {},
   "outputs": [],
   "source": []
  }
 ],
 "metadata": {
  "kernelspec": {
   "display_name": "Python 3 (ipykernel)",
   "language": "python",
   "name": "python3"
  },
  "language_info": {
   "codemirror_mode": {
    "name": "ipython",
    "version": 3
   },
   "file_extension": ".py",
   "mimetype": "text/x-python",
   "name": "python",
   "nbconvert_exporter": "python",
   "pygments_lexer": "ipython3",
   "version": "3.8.8"
  }
 },
 "nbformat": 4,
 "nbformat_minor": 5
}
